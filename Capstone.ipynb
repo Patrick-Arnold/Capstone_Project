{
 "cells": [
  {
   "cell_type": "markdown",
   "metadata": {},
   "source": [
    "Stakeholder: PRAMS Pregnancy Monitoring Network\n",
    "\n",
    "Business Problem: APGAR Score is a metric doctors use to measure the overall health of a newborn infant. But what if there were a way to prepare for a low APGAR score before the infant is even born? PRAMS has asked me to use natality data to create a model to alert medical staff if a newborn is likely to need emergency medical intervention."
   ]
  },
  {
   "cell_type": "code",
   "execution_count": 1,
   "metadata": {},
   "outputs": [],
   "source": [
    "import numpy as np\n",
    "import pandas as pd\n",
    "import matplotlib.pyplot as plt\n",
    "import xlrd\n",
    "import os\n",
    "import seaborn as sns\n",
    "import xgboost\n",
    "from sklearn.model_selection import train_test_split, GridSearchCV,\\\n",
    "cross_val_score\n",
    "from sklearn.linear_model import LogisticRegression, LinearRegression\n",
    "from sklearn.neighbors import KNeighborsClassifier\n",
    "from sklearn.tree import DecisionTreeClassifier\n",
    "from sklearn.ensemble import BaggingClassifier, RandomForestClassifier,\\\n",
    "ExtraTreesClassifier, VotingClassifier, StackingRegressor\n",
    "from sklearn.metrics import r2_score, accuracy_score, precision_score\n",
    "from sklearn.preprocessing import OneHotEncoder, MinMaxScaler\n",
    "from sklearn.impute import SimpleImputer\n",
    "from sklearn.pipeline import Pipeline\n",
    "from sklearn.compose import ColumnTransformer\n",
    "from sklearn.dummy import DummyClassifier"
   ]
  },
  {
   "cell_type": "code",
   "execution_count": 2,
   "metadata": {},
   "outputs": [
    {
     "name": "stderr",
     "output_type": "stream",
     "text": [
      "C:\\Users\\Patrick\\anaconda3\\envs\\learn-env\\lib\\site-packages\\IPython\\core\\interactiveshell.py:3145: DtypeWarning: Columns (23) have mixed types.Specify dtype option on import or set low_memory=False.\n",
      "  has_raised = await self.run_ast_nodes(code_ast.body, cell_name,\n"
     ]
    }
   ],
   "source": [
    "# Read in the data sets\n",
    "df_large = pd.read_csv(\"data/nat2019us.csv\")"
   ]
  },
  {
   "cell_type": "code",
   "execution_count": 3,
   "metadata": {},
   "outputs": [],
   "source": [
    "df = df_large.sample(n=200000, random_state=42, axis=0)"
   ]
  },
  {
   "cell_type": "code",
   "execution_count": 4,
   "metadata": {},
   "outputs": [
    {
     "data": {
      "text/plain": [
       "Index(['dob_yy', 'dob_mm', 'dob_tt', 'dob_wk', 'bfacil', 'f_facility',\n",
       "       'bfacil3', 'mage_impflg', 'mage_repflg', 'mager',\n",
       "       ...\n",
       "       'f_ca_cleftlp', 'f_ca_cleft', 'f_ca_downs', 'f_ca_chrom', 'f_ca_hypos',\n",
       "       'no_congen', 'itran', 'ilive', 'bfed', 'f_bfed'],\n",
       "      dtype='object', length=226)"
      ]
     },
     "execution_count": 4,
     "metadata": {},
     "output_type": "execute_result"
    }
   ],
   "source": [
    "df.columns"
   ]
  },
  {
   "cell_type": "code",
   "execution_count": 5,
   "metadata": {},
   "outputs": [
    {
     "data": {
      "text/html": [
       "<div>\n",
       "<style scoped>\n",
       "    .dataframe tbody tr th:only-of-type {\n",
       "        vertical-align: middle;\n",
       "    }\n",
       "\n",
       "    .dataframe tbody tr th {\n",
       "        vertical-align: top;\n",
       "    }\n",
       "\n",
       "    .dataframe thead th {\n",
       "        text-align: right;\n",
       "    }\n",
       "</style>\n",
       "<table border=\"1\" class=\"dataframe\">\n",
       "  <thead>\n",
       "    <tr style=\"text-align: right;\">\n",
       "      <th></th>\n",
       "      <th>dob_yy</th>\n",
       "      <th>dob_mm</th>\n",
       "      <th>dob_tt</th>\n",
       "      <th>dob_wk</th>\n",
       "      <th>bfacil</th>\n",
       "      <th>f_facility</th>\n",
       "      <th>bfacil3</th>\n",
       "      <th>mage_impflg</th>\n",
       "      <th>mage_repflg</th>\n",
       "      <th>mager</th>\n",
       "      <th>...</th>\n",
       "      <th>f_ca_cleftlp</th>\n",
       "      <th>f_ca_cleft</th>\n",
       "      <th>f_ca_downs</th>\n",
       "      <th>f_ca_chrom</th>\n",
       "      <th>f_ca_hypos</th>\n",
       "      <th>no_congen</th>\n",
       "      <th>itran</th>\n",
       "      <th>ilive</th>\n",
       "      <th>bfed</th>\n",
       "      <th>f_bfed</th>\n",
       "    </tr>\n",
       "  </thead>\n",
       "  <tbody>\n",
       "    <tr>\n",
       "      <th>2837169</th>\n",
       "      <td>2019</td>\n",
       "      <td>12</td>\n",
       "      <td>1041</td>\n",
       "      <td>6</td>\n",
       "      <td>1</td>\n",
       "      <td>1</td>\n",
       "      <td>1</td>\n",
       "      <td>NaN</td>\n",
       "      <td>NaN</td>\n",
       "      <td>22</td>\n",
       "      <td>...</td>\n",
       "      <td>1</td>\n",
       "      <td>1</td>\n",
       "      <td>1</td>\n",
       "      <td>1</td>\n",
       "      <td>1</td>\n",
       "      <td>1</td>\n",
       "      <td>N</td>\n",
       "      <td>Y</td>\n",
       "      <td>Y</td>\n",
       "      <td>1</td>\n",
       "    </tr>\n",
       "    <tr>\n",
       "      <th>97459</th>\n",
       "      <td>2019</td>\n",
       "      <td>11</td>\n",
       "      <td>1108</td>\n",
       "      <td>6</td>\n",
       "      <td>1</td>\n",
       "      <td>1</td>\n",
       "      <td>1</td>\n",
       "      <td>NaN</td>\n",
       "      <td>NaN</td>\n",
       "      <td>30</td>\n",
       "      <td>...</td>\n",
       "      <td>1</td>\n",
       "      <td>1</td>\n",
       "      <td>1</td>\n",
       "      <td>1</td>\n",
       "      <td>1</td>\n",
       "      <td>1</td>\n",
       "      <td>N</td>\n",
       "      <td>Y</td>\n",
       "      <td>N</td>\n",
       "      <td>1</td>\n",
       "    </tr>\n",
       "    <tr>\n",
       "      <th>572923</th>\n",
       "      <td>2019</td>\n",
       "      <td>11</td>\n",
       "      <td>1518</td>\n",
       "      <td>5</td>\n",
       "      <td>1</td>\n",
       "      <td>0</td>\n",
       "      <td>1</td>\n",
       "      <td>NaN</td>\n",
       "      <td>NaN</td>\n",
       "      <td>38</td>\n",
       "      <td>...</td>\n",
       "      <td>1</td>\n",
       "      <td>1</td>\n",
       "      <td>1</td>\n",
       "      <td>1</td>\n",
       "      <td>1</td>\n",
       "      <td>1</td>\n",
       "      <td>N</td>\n",
       "      <td>Y</td>\n",
       "      <td>U</td>\n",
       "      <td>0</td>\n",
       "    </tr>\n",
       "    <tr>\n",
       "      <th>1665659</th>\n",
       "      <td>2019</td>\n",
       "      <td>10</td>\n",
       "      <td>942</td>\n",
       "      <td>7</td>\n",
       "      <td>1</td>\n",
       "      <td>1</td>\n",
       "      <td>1</td>\n",
       "      <td>NaN</td>\n",
       "      <td>NaN</td>\n",
       "      <td>35</td>\n",
       "      <td>...</td>\n",
       "      <td>1</td>\n",
       "      <td>1</td>\n",
       "      <td>1</td>\n",
       "      <td>1</td>\n",
       "      <td>1</td>\n",
       "      <td>1</td>\n",
       "      <td>N</td>\n",
       "      <td>Y</td>\n",
       "      <td>Y</td>\n",
       "      <td>1</td>\n",
       "    </tr>\n",
       "    <tr>\n",
       "      <th>2184476</th>\n",
       "      <td>2019</td>\n",
       "      <td>5</td>\n",
       "      <td>950</td>\n",
       "      <td>6</td>\n",
       "      <td>1</td>\n",
       "      <td>1</td>\n",
       "      <td>1</td>\n",
       "      <td>NaN</td>\n",
       "      <td>NaN</td>\n",
       "      <td>38</td>\n",
       "      <td>...</td>\n",
       "      <td>1</td>\n",
       "      <td>1</td>\n",
       "      <td>1</td>\n",
       "      <td>1</td>\n",
       "      <td>1</td>\n",
       "      <td>1</td>\n",
       "      <td>N</td>\n",
       "      <td>N</td>\n",
       "      <td>N</td>\n",
       "      <td>1</td>\n",
       "    </tr>\n",
       "  </tbody>\n",
       "</table>\n",
       "<p>5 rows × 226 columns</p>\n",
       "</div>"
      ],
      "text/plain": [
       "         dob_yy  dob_mm  dob_tt  dob_wk  bfacil  f_facility  bfacil3  \\\n",
       "2837169    2019      12    1041       6       1           1        1   \n",
       "97459      2019      11    1108       6       1           1        1   \n",
       "572923     2019      11    1518       5       1           0        1   \n",
       "1665659    2019      10     942       7       1           1        1   \n",
       "2184476    2019       5     950       6       1           1        1   \n",
       "\n",
       "         mage_impflg  mage_repflg  mager  ...  f_ca_cleftlp  f_ca_cleft  \\\n",
       "2837169          NaN          NaN     22  ...             1           1   \n",
       "97459            NaN          NaN     30  ...             1           1   \n",
       "572923           NaN          NaN     38  ...             1           1   \n",
       "1665659          NaN          NaN     35  ...             1           1   \n",
       "2184476          NaN          NaN     38  ...             1           1   \n",
       "\n",
       "         f_ca_downs  f_ca_chrom  f_ca_hypos  no_congen  itran  ilive  bfed  \\\n",
       "2837169           1           1           1          1      N      Y     Y   \n",
       "97459             1           1           1          1      N      Y     N   \n",
       "572923            1           1           1          1      N      Y     U   \n",
       "1665659           1           1           1          1      N      Y     Y   \n",
       "2184476           1           1           1          1      N      N     N   \n",
       "\n",
       "         f_bfed  \n",
       "2837169       1  \n",
       "97459         1  \n",
       "572923        0  \n",
       "1665659       1  \n",
       "2184476       1  \n",
       "\n",
       "[5 rows x 226 columns]"
      ]
     },
     "execution_count": 5,
     "metadata": {},
     "output_type": "execute_result"
    }
   ],
   "source": [
    "df.head()"
   ]
  },
  {
   "cell_type": "markdown",
   "metadata": {},
   "source": [
    "Columns are removed for the following reasons:\n",
    "- They are storing metadata about the collection of the data minor processing tasks performed\n",
    "- They are pre-binned for a specific purpose outside the scope of this analysis\n",
    "- They are slight variations of existing columns which are more applicable to this analysis\n",
    "- They represent events that happen after birth has already occurred"
   ]
  },
  {
   "cell_type": "code",
   "execution_count": 6,
   "metadata": {},
   "outputs": [],
   "source": [
    "remove = ['dob_yy', 'f_facility', 'bfacil3', 'mage_impflg', 'mage_repflg', 'mager14', 'mager9', 'mrace31', 'mrace6', 'mrace15',\n",
    "           'mraceimp', 'mhispx', 'f_mhisp', 'mracehisp', 'mar_p', 'mar_imp', 'f_mar_p', 'f_meduc', 'fagerpt_flg', 'fagerec11',\n",
    "           'frace31', 'frace15', 'fhispx', 'f_fhisp', 'lbo_rec', 'tbo_rec', 'illb_r', 'illb_r11', 'ilop_r',\n",
    "           'ilop_r11', 'ilp_r11', 'f_mpcb', 'precare5', 'previs_rec', 'f_tpcv', 'f_wic', 'cig0_r', 'cig1_r', 'cig2_r',\n",
    "           'cig3_r', 'f_cigs_0', 'f_cigs_1', 'f_cigs_2', 'f_cigs_3', 'cig_rec', 'f_tobaco', 'f_m_ht', 'bmi_r', 'pwgt_r',\n",
    "           'f_pwgt', 'f_dwgt', 'wtgain_rec', 'f_wtgain', 'f_rf_pdiab', 'f_rf_gdiab', 'f_rf_phyper', 'f_rf_ghyper', \n",
    "           'f_rf_eclamp', 'f_rf_ppb', 'f_rf_inf_drg', 'f_rf_inf_art', 'rf_cesar', 'f_rf_cesar', 'f_rf_ncesar',\n",
    "           'no_risks', 'f_ip_gonor', 'f_ip_syph', 'f_ip_chlam', 'f_ip_hepatb', 'f_ip_hepatc', 'no_infec', 'ob_ecvs', 'ob_ecvf',\n",
    "           'f_ob_succ', 'f_ob_fail', 'ld_indl', 'ld_augm', 'ld_anes', 'f_ld_indl', 'f_ld_augm', 'f_ld_ster', 'f_ld_antb',\n",
    "           'f_ld_chor', 'f_ld_anes', 'no_lbrdlv', 'me_pres', 'me_rout', 'me_trial', 'f_me_pres', 'f_me_rout', 'f_me_trial',\n",
    "           'rdmeth_rec', 'dmeth_rec', 'f_dmeth_rec', 'mm_mtr', 'mm_plac', 'mm_rupt', 'mm_uhyst', 'mm_aicu', 'f_mm_mtr',\n",
    "           'f_mm_rupt', 'f_mm_uhyst', 'f_mm_aicu', 'no_mmorb', 'mtran', 'pay', 'f_pay', 'f_pay_rec', 'apgar5r',\n",
    "           'f_apgar5', 'apgar10', 'apgar10r', 'imp_plur', 'setorder_r', 'imp_sex', 'dlmp_mm', 'dlmp_yy', 'compgst_imp',\n",
    "           'obgest_flg', 'gestrec10', 'gestrec3', 'lmpused', 'oegest_comb', 'oegest_r10', 'dbwt', 'bwtr12', 'bwtr4',\n",
    "           'ab_aven1', 'ab_aven6', 'ab_nicu', 'ab_surf', 'ab_anti', 'ab_seiz', 'f_ab_vent', 'f_ab_vent6',\n",
    "           'f_ab_surfac', 'f_ab_antibio', 'f_ab_seiz', 'no_abnorm', 'ca_anen', 'ca_mnsb', 'ca_cchd', 'ca_cdh', 'ca_omph', \n",
    "           'ca_gast', 'f_ca_anen', 'f_ca_menin', 'f_ca_heart', 'f_ca_hernia', 'f_ca_ompha', 'f_ca_gastro', 'ca_limb',\n",
    "           'ca_cleft', 'ca_clpal', 'ca_disor', 'ca_hypo', 'f_ca_limb', 'f_ca_cleftlp', 'f_ca_cleft', 'f_ca_downs', \n",
    "           'f_ca_chrom', 'f_ca_hypos', 'no_congen', 'itran', 'ilive', 'bfed', 'f_bfed', 'f_mm_', 'f_ab_nicu', 'fracehisp',\n",
    "           'oegest_r3', 'dob_mm', 'dob_tt', 'dob_wk', 'restatus', 'frace6', 'fhisp_r', 'feduc', 'ilp_r', 'attend', 'pay_rec']"
   ]
  },
  {
   "cell_type": "code",
   "execution_count": 7,
   "metadata": {},
   "outputs": [
    {
     "data": {
      "text/plain": [
       "Index(['bfacil', 'mager', 'mbstate_rec', 'mbrace', 'mhisp_r', 'dmar', 'meduc',\n",
       "       'fagecomb', 'priorlive', 'priordead', 'priorterm', 'precare', 'previs',\n",
       "       'wic', 'cig_0', 'cig_1', 'cig_2', 'cig_3', 'm_ht_in', 'bmi', 'dwgt_r',\n",
       "       'wtgain', 'rf_pdiab', 'rf_gdiab', 'rf_phype', 'rf_ghype', 'rf_ehype',\n",
       "       'rf_ppterm', 'rf_inftr', 'rf_fedrg', 'rf_artec', 'rf_cesarn', 'ip_gon',\n",
       "       'ip_syph', 'ip_chlam', 'ip_hepatb', 'ip_hepatc', 'ld_ster', 'ld_antb',\n",
       "       'ld_chor', 'apgar5', 'dplural', 'sex', 'combgest', 'ca_downs'],\n",
       "      dtype='object')"
      ]
     },
     "execution_count": 7,
     "metadata": {},
     "output_type": "execute_result"
    }
   ],
   "source": [
    "df.drop(remove, axis=1, inplace=True)\n",
    "df.columns"
   ]
  },
  {
   "cell_type": "code",
   "execution_count": 8,
   "metadata": {},
   "outputs": [],
   "source": [
    "rename = ['birth_place', 'mother_age', 'mother_native',\n",
    "          'mother_race', 'mother_hispanic', 'marital_status', 'mother_education', 'father_age',\n",
    "          'living_children', 'deceased_children', 'terminations', \n",
    "          'months_prenatal_care', 'prenatal_visits', 'food_assistance', 'prepregnancy_daily_cig',\n",
    "          'first_tri_daily_cig', 'second_tri_daily_cig', 'third_tri_daily_cig', 'height', 'bmi', 'delivery_weight',\n",
    "          'weight_gain', 'diabetes', 'gestational_diabetes', 'hypertension', 'gestational_hypertension', 'eclampsia',\n",
    "          'previous_premature_birth', 'infertility_treatment', 'fertility_drugs', 'assisted_reproduction',\n",
    "          'previous_cesareans', 'gonorrhea', 'syphilis', 'chlamydia', 'hepatitis_b', 'hepatitis_c', 'steroids', 'antibiotics',\n",
    "          'chorioamnionitis', 'apgar_score', 'plural_pregnancy', 'infant_sex', 'weeks_gestation',\n",
    "          'down_syndrome']"
   ]
  },
  {
   "cell_type": "code",
   "execution_count": 9,
   "metadata": {},
   "outputs": [],
   "source": [
    "df.columns = rename"
   ]
  },
  {
   "cell_type": "markdown",
   "metadata": {},
   "source": [
    "## Target Engineering"
   ]
  },
  {
   "cell_type": "code",
   "execution_count": 10,
   "metadata": {},
   "outputs": [
    {
     "data": {
      "text/plain": [
       "9     164788\n",
       "8      21975\n",
       "7       4213\n",
       "10      4096\n",
       "6       1654\n",
       "5        859\n",
       "99       754\n",
       "4        485\n",
       "1        387\n",
       "3        331\n",
       "2        329\n",
       "0        129\n",
       "Name: apgar_score, dtype: int64"
      ]
     },
     "execution_count": 10,
     "metadata": {},
     "output_type": "execute_result"
    }
   ],
   "source": [
    "df['apgar_score'].value_counts()"
   ]
  },
  {
   "cell_type": "code",
   "execution_count": 11,
   "metadata": {},
   "outputs": [],
   "source": [
    "df['apgar_score'].replace(to_replace=list(range(0, 7)), value=0, inplace=True)"
   ]
  },
  {
   "cell_type": "code",
   "execution_count": 12,
   "metadata": {},
   "outputs": [],
   "source": [
    "df['apgar_score'].replace(to_replace=list(range(7, 11)), value=1, inplace=True)"
   ]
  },
  {
   "cell_type": "code",
   "execution_count": 13,
   "metadata": {},
   "outputs": [],
   "source": [
    "df.drop(df.loc[df['apgar_score']==99].index, inplace=True)"
   ]
  },
  {
   "cell_type": "code",
   "execution_count": 14,
   "metadata": {},
   "outputs": [
    {
     "data": {
      "text/plain": [
       "1    195072\n",
       "0      4174\n",
       "Name: apgar_score, dtype: int64"
      ]
     },
     "execution_count": 14,
     "metadata": {},
     "output_type": "execute_result"
    }
   ],
   "source": [
    "df['apgar_score'].value_counts()"
   ]
  },
  {
   "cell_type": "markdown",
   "metadata": {},
   "source": [
    "## Feature Processing"
   ]
  },
  {
   "cell_type": "code",
   "execution_count": 15,
   "metadata": {},
   "outputs": [
    {
     "data": {
      "text/plain": [
       "Index(['birth_place', 'mother_age', 'mother_native', 'mother_race',\n",
       "       'mother_hispanic', 'marital_status', 'mother_education', 'father_age',\n",
       "       'living_children', 'deceased_children', 'terminations',\n",
       "       'months_prenatal_care', 'prenatal_visits', 'food_assistance',\n",
       "       'prepregnancy_daily_cig', 'first_tri_daily_cig', 'second_tri_daily_cig',\n",
       "       'third_tri_daily_cig', 'height', 'bmi', 'delivery_weight',\n",
       "       'weight_gain', 'diabetes', 'gestational_diabetes', 'hypertension',\n",
       "       'gestational_hypertension', 'eclampsia', 'previous_premature_birth',\n",
       "       'infertility_treatment', 'fertility_drugs', 'assisted_reproduction',\n",
       "       'previous_cesareans', 'gonorrhea', 'syphilis', 'chlamydia',\n",
       "       'hepatitis_b', 'hepatitis_c', 'steroids', 'antibiotics',\n",
       "       'chorioamnionitis', 'apgar_score', 'plural_pregnancy', 'infant_sex',\n",
       "       'weeks_gestation', 'down_syndrome'],\n",
       "      dtype='object')"
      ]
     },
     "execution_count": 15,
     "metadata": {},
     "output_type": "execute_result"
    }
   ],
   "source": [
    "df.columns"
   ]
  },
  {
   "cell_type": "code",
   "execution_count": 16,
   "metadata": {},
   "outputs": [
    {
     "data": {
      "text/plain": [
       "1    196385\n",
       "3      1411\n",
       "2      1032\n",
       "4       141\n",
       "5       128\n",
       "7       109\n",
       "6        34\n",
       "9         6\n",
       "Name: birth_place, dtype: int64"
      ]
     },
     "execution_count": 16,
     "metadata": {},
     "output_type": "execute_result"
    }
   ],
   "source": [
    "df['birth_place'].value_counts()"
   ]
  },
  {
   "cell_type": "code",
   "execution_count": 17,
   "metadata": {},
   "outputs": [],
   "source": [
    "df['birth_place'].replace(to_replace=list(range(2, 8)), value=\"other\", inplace=True)\n",
    "df['birth_place'].replace(to_replace=1, value=\"hospital\", inplace=True)\n",
    "df['birth_place'].replace(to_replace=9, value=np.nan, inplace=True)"
   ]
  },
  {
   "cell_type": "code",
   "execution_count": 18,
   "metadata": {},
   "outputs": [
    {
     "data": {
      "text/plain": [
       "1    153733\n",
       "2     45101\n",
       "3       412\n",
       "Name: mother_native, dtype: int64"
      ]
     },
     "execution_count": 18,
     "metadata": {},
     "output_type": "execute_result"
    }
   ],
   "source": [
    "df['mother_native'].value_counts()"
   ]
  },
  {
   "cell_type": "code",
   "execution_count": 19,
   "metadata": {},
   "outputs": [],
   "source": [
    "df['mother_native'].replace(to_replace=2, value=0, inplace=True)\n",
    "df['mother_native'].replace(to_replace=3, value=np.nan, inplace=True)"
   ]
  },
  {
   "cell_type": "code",
   "execution_count": 20,
   "metadata": {},
   "outputs": [
    {
     "data": {
      "text/plain": [
       "1    148807\n",
       "2     33377\n",
       "4     14876\n",
       "3      2186\n",
       "Name: mother_race, dtype: int64"
      ]
     },
     "execution_count": 20,
     "metadata": {},
     "output_type": "execute_result"
    }
   ],
   "source": [
    "df['mother_race'].value_counts()"
   ]
  },
  {
   "cell_type": "code",
   "execution_count": 21,
   "metadata": {},
   "outputs": [],
   "source": [
    "df['mother_race'].replace({1: 'white', 2: 'black', 3: 'native_american', 4: 'asian/pi'}, inplace=True)"
   ]
  },
  {
   "cell_type": "code",
   "execution_count": 22,
   "metadata": {},
   "outputs": [],
   "source": [
    "# Place of birth\n",
    "counts = (df[['mother_race', 'apgar_score']]\n",
    "              .groupby(['mother_race', 'apgar_score'])\n",
    "              .size()\n",
    "              .unstack('apgar_score')\n",
    "         )"
   ]
  },
  {
   "cell_type": "code",
   "execution_count": 23,
   "metadata": {},
   "outputs": [],
   "source": [
    "counts['percent_low_apgar'] = (counts[0]/counts[1])*100"
   ]
  },
  {
   "cell_type": "code",
   "execution_count": 24,
   "metadata": {},
   "outputs": [
    {
     "data": {
      "text/plain": [
       "mother_race\n",
       "asian/pi           1.618963\n",
       "black              3.238478\n",
       "native_american    2.292934\n",
       "white              1.946344\n",
       "Name: percent_low_apgar, dtype: float64"
      ]
     },
     "execution_count": 24,
     "metadata": {},
     "output_type": "execute_result"
    }
   ],
   "source": [
    "counts['percent_low_apgar']"
   ]
  },
  {
   "cell_type": "code",
   "execution_count": 25,
   "metadata": {},
   "outputs": [
    {
     "data": {
      "text/plain": [
       "<matplotlib.legend.Legend at 0x207b2763370>"
      ]
     },
     "execution_count": 25,
     "metadata": {},
     "output_type": "execute_result"
    },
    {
     "data": {
      "image/png": "[encoded data removed]",
      "text/plain": [
       "<Figure size 432x288 with 1 Axes>"
      ]
     },
     "metadata": {
      "needs_background": "light"
     },
     "output_type": "display_data"
    }
   ],
   "source": [
    "ax = counts['percent_low_apgar'].plot.barh()\n",
    "ax.invert_yaxis()\n",
    "ax.legend(\n",
    "    loc='center right', \n",
    "    bbox_to_anchor=(1.5, 0.5), \n",
    "    title='Mother Race'\n",
    ")"
   ]
  },
  {
   "cell_type": "code",
   "execution_count": 26,
   "metadata": {},
   "outputs": [
    {
     "data": {
      "text/plain": [
       "0    149933\n",
       "1     26752\n",
       "4      8818\n",
       "5      6930\n",
       "2      3718\n",
       "9      1842\n",
       "3      1253\n",
       "Name: mother_hispanic, dtype: int64"
      ]
     },
     "execution_count": 26,
     "metadata": {},
     "output_type": "execute_result"
    }
   ],
   "source": [
    "df['mother_hispanic'].value_counts()"
   ]
  },
  {
   "cell_type": "code",
   "execution_count": 27,
   "metadata": {},
   "outputs": [],
   "source": [
    "df['mother_hispanic'].replace(to_replace=list(range(1, 6)), value=1, inplace=True)\n",
    "df['mother_hispanic'].replace(to_replace=9, value=np.nan, inplace=True)"
   ]
  },
  {
   "cell_type": "code",
   "execution_count": 28,
   "metadata": {},
   "outputs": [
    {
     "data": {
      "text/plain": [
       "1.0    105025\n",
       "2.0     70611\n",
       "Name: marital_status, dtype: int64"
      ]
     },
     "execution_count": 28,
     "metadata": {},
     "output_type": "execute_result"
    }
   ],
   "source": [
    "df['marital_status'].value_counts()"
   ]
  },
  {
   "cell_type": "code",
   "execution_count": 29,
   "metadata": {},
   "outputs": [],
   "source": [
    "df['marital_status'].replace({1: 'married', 2: 'unmarried'}, inplace=True)"
   ]
  },
  {
   "cell_type": "code",
   "execution_count": 30,
   "metadata": {},
   "outputs": [
    {
     "data": {
      "text/plain": [
       "<matplotlib.legend.Legend at 0x207b27638b0>"
      ]
     },
     "execution_count": 30,
     "metadata": {},
     "output_type": "execute_result"
    },
    {
     "data": {
      "image/png": "[encoded data removed]",
      "text/plain": [
       "<Figure size 432x288 with 1 Axes>"
      ]
     },
     "metadata": {
      "needs_background": "light"
     },
     "output_type": "display_data"
    }
   ],
   "source": [
    "counts = (df[['marital_status', 'apgar_score']]\n",
    "              .groupby(['marital_status', 'apgar_score'])\n",
    "              .size()\n",
    "              .unstack('apgar_score')\n",
    "         )\n",
    "\n",
    "counts['percent_low_apgar'] = (counts[0]/counts[1])*100\n",
    "\n",
    "ax = counts['percent_low_apgar'].plot.barh()\n",
    "ax.invert_yaxis()\n",
    "ax.legend(\n",
    "    loc='center right', \n",
    "    bbox_to_anchor=(1.5, 0.5), \n",
    "    title='Marital Status'\n",
    ")"
   ]
  },
  {
   "cell_type": "code",
   "execution_count": 31,
   "metadata": {},
   "outputs": [
    {
     "data": {
      "text/plain": [
       "3    51297\n",
       "6    41128\n",
       "4    38571\n",
       "7    19291\n",
       "2    17847\n",
       "5    16520\n",
       "1     6164\n",
       "8     5620\n",
       "9     2808\n",
       "Name: mother_education, dtype: int64"
      ]
     },
     "execution_count": 31,
     "metadata": {},
     "output_type": "execute_result"
    }
   ],
   "source": [
    "df['mother_education'].value_counts()"
   ]
  },
  {
   "cell_type": "code",
   "execution_count": 32,
   "metadata": {},
   "outputs": [
    {
     "data": {
      "text/plain": [
       "<matplotlib.legend.Legend at 0x207a19ba0d0>"
      ]
     },
     "execution_count": 32,
     "metadata": {},
     "output_type": "execute_result"
    },
    {
     "data": {
      "image/png": "[encoded data removed]",
      "text/plain": [
       "<Figure size 432x288 with 1 Axes>"
      ]
     },
     "metadata": {
      "needs_background": "light"
     },
     "output_type": "display_data"
    }
   ],
   "source": [
    "counts = (df[['mother_education', 'apgar_score']]\n",
    "              .groupby(['mother_education', 'apgar_score'])\n",
    "              .size()\n",
    "              .unstack('apgar_score')\n",
    "         )\n",
    "\n",
    "counts['percent_low_apgar'] = (counts[0]/counts[1])*100\n",
    "\n",
    "ax = counts['percent_low_apgar'].plot.barh()\n",
    "ax.invert_yaxis()\n",
    "ax.legend(\n",
    "    loc='center right', \n",
    "    bbox_to_anchor=(1.5, 0.5), \n",
    "    title='Education'\n",
    ")"
   ]
  },
  {
   "cell_type": "code",
   "execution_count": 33,
   "metadata": {},
   "outputs": [],
   "source": [
    "df['mother_education'].replace(to_replace=list(range(1, 6)), value=\"hs_or_lower\", inplace=True)\n",
    "df['mother_education'].replace(to_replace=list(range(6, 9)), value=\"college_or_higher\", inplace=True)\n",
    "df['mother_education'].replace(to_replace=9, value=np.nan, inplace=True)"
   ]
  },
  {
   "cell_type": "code",
   "execution_count": 34,
   "metadata": {},
   "outputs": [
    {
     "data": {
      "text/plain": [
       "99    22874\n",
       "31    10833\n",
       "30    10672\n",
       "32    10581\n",
       "33    10445\n",
       "      ...  \n",
       "82        2\n",
       "13        2\n",
       "77        1\n",
       "78        1\n",
       "86        1\n",
       "Name: father_age, Length: 67, dtype: int64"
      ]
     },
     "execution_count": 34,
     "metadata": {},
     "output_type": "execute_result"
    }
   ],
   "source": [
    "df['father_age'].value_counts()"
   ]
  },
  {
   "cell_type": "code",
   "execution_count": 35,
   "metadata": {},
   "outputs": [
    {
     "data": {
      "text/plain": [
       "<matplotlib.legend.Legend at 0x2062ab847f0>"
      ]
     },
     "execution_count": 35,
     "metadata": {},
     "output_type": "execute_result"
    },
    {
     "data": {
      "image/png": "[encoded data removed]",
      "text/plain": [
       "<Figure size 432x288 with 1 Axes>"
      ]
     },
     "metadata": {
      "needs_background": "light"
     },
     "output_type": "display_data"
    }
   ],
   "source": [
    "counts = (df[['father_age', 'apgar_score']]\n",
    "              .groupby(['father_age', 'apgar_score'])\n",
    "              .size()\n",
    "              .unstack('apgar_score')\n",
    "         )\n",
    "\n",
    "counts['percent_low_apgar'] = (counts[0]/counts[1])*100\n",
    "\n",
    "ax = counts['percent_low_apgar'].plot.bar()\n",
    "ax.invert_yaxis()\n",
    "ax.legend(\n",
    "    loc='center right', \n",
    "    bbox_to_anchor=(1.5, 0.5), \n",
    "    title='Father Age'\n",
    ")"
   ]
  },
  {
   "cell_type": "code",
   "execution_count": 36,
   "metadata": {},
   "outputs": [],
   "source": [
    "df['father_age'].replace(to_replace=99, value=np.nan, inplace=True)"
   ]
  },
  {
   "cell_type": "code",
   "execution_count": 37,
   "metadata": {},
   "outputs": [
    {
     "data": {
      "text/plain": [
       "0     76709\n",
       "1     63176\n",
       "2     34150\n",
       "3     14692\n",
       "4      5715\n",
       "5      2398\n",
       "6      1053\n",
       "7       536\n",
       "8       272\n",
       "99      238\n",
       "9       143\n",
       "10       94\n",
       "11       42\n",
       "12       17\n",
       "13        4\n",
       "15        3\n",
       "14        2\n",
       "17        1\n",
       "16        1\n",
       "Name: living_children, dtype: int64"
      ]
     },
     "execution_count": 37,
     "metadata": {},
     "output_type": "execute_result"
    }
   ],
   "source": [
    "df['living_children'].value_counts()"
   ]
  },
  {
   "cell_type": "code",
   "execution_count": 38,
   "metadata": {},
   "outputs": [
    {
     "data": {
      "text/plain": [
       "<matplotlib.legend.Legend at 0x2062ad3a970>"
      ]
     },
     "execution_count": 38,
     "metadata": {},
     "output_type": "execute_result"
    },
    {
     "data": {
      "image/png": "[encoded data removed]",
      "text/plain": [
       "<Figure size 432x288 with 1 Axes>"
      ]
     },
     "metadata": {
      "needs_background": "light"
     },
     "output_type": "display_data"
    }
   ],
   "source": [
    "counts = (df[['living_children', 'apgar_score']]\n",
    "              .groupby(['living_children', 'apgar_score'])\n",
    "              .size()\n",
    "              .unstack('apgar_score')\n",
    "         )\n",
    "\n",
    "counts['percent_low_apgar'] = (counts[0]/counts[1])*100\n",
    "\n",
    "ax = counts['percent_low_apgar'].plot.bar()\n",
    "ax.legend(\n",
    "    loc='center right', \n",
    "    bbox_to_anchor=(1.5, 0.5), \n",
    "    title='Living Children'\n",
    ")"
   ]
  },
  {
   "cell_type": "code",
   "execution_count": 39,
   "metadata": {},
   "outputs": [],
   "source": [
    "df['living_children'].replace(to_replace=99, value=np.nan, inplace=True)"
   ]
  },
  {
   "cell_type": "code",
   "execution_count": 40,
   "metadata": {},
   "outputs": [
    {
     "data": {
      "text/plain": [
       "0     196540\n",
       "1       1955\n",
       "99       370\n",
       "2        249\n",
       "3         55\n",
       "4         24\n",
       "5         18\n",
       "6         10\n",
       "7          8\n",
       "9          5\n",
       "10         4\n",
       "11         3\n",
       "8          3\n",
       "12         2\n",
       "Name: deceased_children, dtype: int64"
      ]
     },
     "execution_count": 40,
     "metadata": {},
     "output_type": "execute_result"
    }
   ],
   "source": [
    "df['deceased_children'].value_counts()"
   ]
  },
  {
   "cell_type": "code",
   "execution_count": 41,
   "metadata": {},
   "outputs": [
    {
     "data": {
      "text/plain": [
       "<matplotlib.legend.Legend at 0x2062ac0f790>"
      ]
     },
     "execution_count": 41,
     "metadata": {},
     "output_type": "execute_result"
    },
    {
     "data": {
      "image/png": "[encoded data removed]",
      "text/plain": [
       "<Figure size 432x288 with 1 Axes>"
      ]
     },
     "metadata": {
      "needs_background": "light"
     },
     "output_type": "display_data"
    }
   ],
   "source": [
    "counts = (df[['deceased_children', 'apgar_score']]\n",
    "              .groupby(['deceased_children', 'apgar_score'])\n",
    "              .size()\n",
    "              .unstack('apgar_score')\n",
    "         )\n",
    "\n",
    "counts['percent_low_apgar'] = (counts[0]/counts[1])*100\n",
    "\n",
    "ax = counts['percent_low_apgar'].plot.bar()\n",
    "ax.legend(\n",
    "    loc='center right', \n",
    "    bbox_to_anchor=(1.5, 0.5), \n",
    "    title='Deceased Children'\n",
    ")"
   ]
  },
  {
   "cell_type": "code",
   "execution_count": 42,
   "metadata": {},
   "outputs": [],
   "source": [
    "df['deceased_children'].replace(to_replace=99, value=np.nan, inplace=True)"
   ]
  },
  {
   "cell_type": "code",
   "execution_count": 43,
   "metadata": {},
   "outputs": [
    {
     "data": {
      "text/plain": [
       "0     144300\n",
       "1      35375\n",
       "2      12058\n",
       "3       4240\n",
       "4       1594\n",
       "5        631\n",
       "99       409\n",
       "6        277\n",
       "7        149\n",
       "8         67\n",
       "10        56\n",
       "9         41\n",
       "11        21\n",
       "12        10\n",
       "13         6\n",
       "14         3\n",
       "16         2\n",
       "18         2\n",
       "15         1\n",
       "23         1\n",
       "19         1\n",
       "20         1\n",
       "22         1\n",
       "Name: terminations, dtype: int64"
      ]
     },
     "execution_count": 43,
     "metadata": {},
     "output_type": "execute_result"
    }
   ],
   "source": [
    "df['terminations'].value_counts()"
   ]
  },
  {
   "cell_type": "code",
   "execution_count": 44,
   "metadata": {},
   "outputs": [
    {
     "data": {
      "text/plain": [
       "<matplotlib.legend.Legend at 0x2062aba4a60>"
      ]
     },
     "execution_count": 44,
     "metadata": {},
     "output_type": "execute_result"
    },
    {
     "data": {
      "image/png": "[encoded data removed]",
      "text/plain": [
       "<Figure size 432x288 with 1 Axes>"
      ]
     },
     "metadata": {
      "needs_background": "light"
     },
     "output_type": "display_data"
    }
   ],
   "source": [
    "counts = (df[['terminations', 'apgar_score']]\n",
    "              .groupby(['terminations', 'apgar_score'])\n",
    "              .size()\n",
    "              .unstack('apgar_score')\n",
    "         )\n",
    "\n",
    "counts['percent_low_apgar'] = (counts[0]/counts[1])*100\n",
    "\n",
    "ax = counts['percent_low_apgar'].plot.bar()\n",
    "ax.legend(\n",
    "    loc='center right', \n",
    "    bbox_to_anchor=(1.5, 0.5), \n",
    "    title='Terminations'\n",
    ")"
   ]
  },
  {
   "cell_type": "code",
   "execution_count": 45,
   "metadata": {},
   "outputs": [],
   "source": [
    "df['terminations'].replace(to_replace=99, value=np.nan, inplace=True)"
   ]
  },
  {
   "cell_type": "code",
   "execution_count": 46,
   "metadata": {},
   "outputs": [
    {
     "data": {
      "text/plain": [
       "2     78290\n",
       "3     61809\n",
       "4     17257\n",
       "1     11216\n",
       "5      8589\n",
       "6      5381\n",
       "99     4385\n",
       "7      4199\n",
       "0      3488\n",
       "8      3294\n",
       "9      1322\n",
       "10       16\n",
       "Name: months_prenatal_care, dtype: int64"
      ]
     },
     "execution_count": 46,
     "metadata": {},
     "output_type": "execute_result"
    }
   ],
   "source": [
    "df['months_prenatal_care'].value_counts()"
   ]
  },
  {
   "cell_type": "code",
   "execution_count": 47,
   "metadata": {},
   "outputs": [
    {
     "data": {
      "text/plain": [
       "<matplotlib.legend.Legend at 0x2062b1a83a0>"
      ]
     },
     "execution_count": 47,
     "metadata": {},
     "output_type": "execute_result"
    },
    {
     "data": {
      "image/png": "[encoded data removed]",
      "text/plain": [
       "<Figure size 432x288 with 1 Axes>"
      ]
     },
     "metadata": {
      "needs_background": "light"
     },
     "output_type": "display_data"
    }
   ],
   "source": [
    "counts = (df[['months_prenatal_care', 'apgar_score']]\n",
    "              .groupby(['months_prenatal_care', 'apgar_score'])\n",
    "              .size()\n",
    "              .unstack('apgar_score')\n",
    "         )\n",
    "\n",
    "counts['percent_low_apgar'] = (counts[0]/counts[1])*100\n",
    "\n",
    "ax = counts['percent_low_apgar'].plot.bar()\n",
    "ax.legend(\n",
    "    loc='center right', \n",
    "    bbox_to_anchor=(1.5, 0.5), \n",
    "    title='Prenatal Care'\n",
    ")"
   ]
  },
  {
   "cell_type": "code",
   "execution_count": 48,
   "metadata": {},
   "outputs": [],
   "source": [
    "df['months_prenatal_care'].replace(to_replace=99, value=np.nan, inplace=True)"
   ]
  },
  {
   "cell_type": "code",
   "execution_count": 49,
   "metadata": {},
   "outputs": [
    {
     "data": {
      "text/plain": [
       "12    30538\n",
       "10    25901\n",
       "11    20042\n",
       "13    19184\n",
       "14    16184\n",
       "      ...  \n",
       "63        1\n",
       "62        1\n",
       "58        1\n",
       "53        1\n",
       "54        1\n",
       "Name: prenatal_visits, Length: 66, dtype: int64"
      ]
     },
     "execution_count": 49,
     "metadata": {},
     "output_type": "execute_result"
    }
   ],
   "source": [
    "df['prenatal_visits'].value_counts()"
   ]
  },
  {
   "cell_type": "code",
   "execution_count": 50,
   "metadata": {},
   "outputs": [
    {
     "data": {
      "text/plain": [
       "<matplotlib.legend.Legend at 0x2062b2c67f0>"
      ]
     },
     "execution_count": 50,
     "metadata": {},
     "output_type": "execute_result"
    },
    {
     "data": {
      "image/png": "[encoded data removed]",
      "text/plain": [
       "<Figure size 432x288 with 1 Axes>"
      ]
     },
     "metadata": {
      "needs_background": "light"
     },
     "output_type": "display_data"
    }
   ],
   "source": [
    "counts = (df[['prenatal_visits', 'apgar_score']]\n",
    "              .groupby(['prenatal_visits', 'apgar_score'])\n",
    "              .size()\n",
    "              .unstack('apgar_score')\n",
    "         )\n",
    "\n",
    "counts['percent_low_apgar'] = (counts[0]/counts[1])*100\n",
    "\n",
    "ax = counts['percent_low_apgar'].plot.bar()\n",
    "ax.legend(\n",
    "    loc='center right', \n",
    "    bbox_to_anchor=(1.5, 0.5), \n",
    "    title='Prenatal Visits'\n",
    ")"
   ]
  },
  {
   "cell_type": "code",
   "execution_count": 51,
   "metadata": {},
   "outputs": [],
   "source": [
    "df['prenatal_visits'].replace(to_replace=99, value=np.nan, inplace=True)"
   ]
  },
  {
   "cell_type": "code",
   "execution_count": 52,
   "metadata": {},
   "outputs": [
    {
     "data": {
      "text/plain": [
       "N    130288\n",
       "Y     66694\n",
       "U      2264\n",
       "Name: food_assistance, dtype: int64"
      ]
     },
     "execution_count": 52,
     "metadata": {},
     "output_type": "execute_result"
    }
   ],
   "source": [
    "df['food_assistance'].value_counts()"
   ]
  },
  {
   "cell_type": "code",
   "execution_count": 53,
   "metadata": {},
   "outputs": [
    {
     "data": {
      "text/plain": [
       "<matplotlib.legend.Legend at 0x2062b397d90>"
      ]
     },
     "execution_count": 53,
     "metadata": {},
     "output_type": "execute_result"
    },
    {
     "data": {
      "image/png": "[encoded data removed]",
      "text/plain": [
       "<Figure size 432x288 with 1 Axes>"
      ]
     },
     "metadata": {
      "needs_background": "light"
     },
     "output_type": "display_data"
    }
   ],
   "source": [
    "counts = (df[['food_assistance', 'apgar_score']]\n",
    "              .groupby(['food_assistance', 'apgar_score'])\n",
    "              .size()\n",
    "              .unstack('apgar_score')\n",
    "         )\n",
    "\n",
    "counts['percent_low_apgar'] = (counts[0]/counts[1])*100\n",
    "\n",
    "ax = counts['percent_low_apgar'].plot.bar()\n",
    "ax.legend(\n",
    "    loc='center right', \n",
    "    bbox_to_anchor=(1.5, 0.5), \n",
    "    title='Food Assistance'\n",
    ")"
   ]
  },
  {
   "cell_type": "code",
   "execution_count": 54,
   "metadata": {},
   "outputs": [],
   "source": [
    "df['prenatal_visits'].replace(to_replace='U', value=np.nan, inplace=True)"
   ]
  },
  {
   "cell_type": "code",
   "execution_count": 55,
   "metadata": {},
   "outputs": [
    {
     "data": {
      "text/plain": [
       "0     183091\n",
       "20      4556\n",
       "10      4047\n",
       "5       1650\n",
       "99       947\n",
       "3        707\n",
       "2        615\n",
       "4        584\n",
       "1        491\n",
       "6        480\n",
       "40       462\n",
       "15       347\n",
       "7        309\n",
       "30       233\n",
       "8        211\n",
       "12       164\n",
       "60        66\n",
       "9         56\n",
       "98        39\n",
       "25        37\n",
       "11        22\n",
       "13        17\n",
       "80        17\n",
       "18        14\n",
       "14        12\n",
       "35        10\n",
       "16        10\n",
       "50        10\n",
       "24         9\n",
       "21         9\n",
       "22         3\n",
       "45         3\n",
       "90         2\n",
       "19         2\n",
       "48         2\n",
       "84         1\n",
       "72         1\n",
       "17         1\n",
       "70         1\n",
       "27         1\n",
       "28         1\n",
       "32         1\n",
       "34         1\n",
       "36         1\n",
       "55         1\n",
       "65         1\n",
       "23         1\n",
       "Name: prepregnancy_daily_cig, dtype: int64"
      ]
     },
     "execution_count": 55,
     "metadata": {},
     "output_type": "execute_result"
    }
   ],
   "source": [
    "df['prepregnancy_daily_cig'].value_counts()"
   ]
  },
  {
   "cell_type": "code",
   "execution_count": 56,
   "metadata": {},
   "outputs": [
    {
     "data": {
      "text/plain": [
       "<matplotlib.legend.Legend at 0x2062b52c970>"
      ]
     },
     "execution_count": 56,
     "metadata": {},
     "output_type": "execute_result"
    },
    {
     "data": {
      "image/png": "[encoded data removed]",
      "text/plain": [
       "<Figure size 432x288 with 1 Axes>"
      ]
     },
     "metadata": {
      "needs_background": "light"
     },
     "output_type": "display_data"
    }
   ],
   "source": [
    "counts = (df[['prepregnancy_daily_cig', 'apgar_score']]\n",
    "              .groupby(['prepregnancy_daily_cig', 'apgar_score'])\n",
    "              .size()\n",
    "              .unstack('apgar_score')\n",
    "         )\n",
    "\n",
    "counts['percent_low_apgar'] = (counts[0]/counts[1])*100\n",
    "\n",
    "ax = counts['percent_low_apgar'].plot.bar()\n",
    "ax.legend(\n",
    "    loc='center right', \n",
    "    bbox_to_anchor=(1.5, 0.5), \n",
    "    title='Food Assistance'\n",
    ")"
   ]
  },
  {
   "cell_type": "code",
   "execution_count": 57,
   "metadata": {},
   "outputs": [
    {
     "data": {
      "text/plain": [
       "0     186763\n",
       "10      3605\n",
       "20      2394\n",
       "5       1649\n",
       "99       942\n",
       "3        627\n",
       "2        622\n",
       "4        529\n",
       "1        406\n",
       "6        382\n",
       "15       339\n",
       "7        269\n",
       "8        209\n",
       "40       132\n",
       "12       101\n",
       "30        81\n",
       "9         52\n",
       "60        25\n",
       "98        19\n",
       "11        16\n",
       "14        12\n",
       "25        11\n",
       "18        10\n",
       "16         8\n",
       "80         8\n",
       "17         8\n",
       "13         5\n",
       "21         4\n",
       "35         4\n",
       "50         3\n",
       "24         3\n",
       "22         2\n",
       "45         2\n",
       "19         1\n",
       "90         1\n",
       "41         1\n",
       "55         1\n",
       "Name: first_tri_daily_cig, dtype: int64"
      ]
     },
     "execution_count": 57,
     "metadata": {},
     "output_type": "execute_result"
    }
   ],
   "source": [
    "df['first_tri_daily_cig'].value_counts()"
   ]
  },
  {
   "cell_type": "code",
   "execution_count": 58,
   "metadata": {},
   "outputs": [
    {
     "data": {
      "text/plain": [
       "<matplotlib.legend.Legend at 0x2062b5cd9d0>"
      ]
     },
     "execution_count": 58,
     "metadata": {},
     "output_type": "execute_result"
    },
    {
     "data": {
      "image/png": "[encoded data removed]",
      "text/plain": [
       "<Figure size 432x288 with 1 Axes>"
      ]
     },
     "metadata": {
      "needs_background": "light"
     },
     "output_type": "display_data"
    }
   ],
   "source": [
    "counts = (df[['first_tri_daily_cig', 'apgar_score']]\n",
    "              .groupby(['first_tri_daily_cig', 'apgar_score'])\n",
    "              .size()\n",
    "              .unstack('apgar_score')\n",
    "         )\n",
    "\n",
    "counts['percent_low_apgar'] = (counts[0]/counts[1])*100\n",
    "\n",
    "ax = counts['percent_low_apgar'].plot.bar()\n",
    "ax.legend(\n",
    "    loc='center right', \n",
    "    bbox_to_anchor=(1.5, 0.5), \n",
    "    title='Cig1'\n",
    ")"
   ]
  },
  {
   "cell_type": "code",
   "execution_count": 59,
   "metadata": {},
   "outputs": [],
   "source": [
    "df['first_tri_daily_cig'].replace(to_replace=99, value=np.nan, inplace=True)"
   ]
  },
  {
   "cell_type": "code",
   "execution_count": 60,
   "metadata": {},
   "outputs": [
    {
     "data": {
      "text/plain": [
       "0     188430\n",
       "10      3203\n",
       "5       1710\n",
       "20      1474\n",
       "99       943\n",
       "3        652\n",
       "2        577\n",
       "4        510\n",
       "1        394\n",
       "6        370\n",
       "7        249\n",
       "15       227\n",
       "8        198\n",
       "40        68\n",
       "12        64\n",
       "30        47\n",
       "9         42\n",
       "98        16\n",
       "11        15\n",
       "13        11\n",
       "60         9\n",
       "25         7\n",
       "14         4\n",
       "50         4\n",
       "35         3\n",
       "80         3\n",
       "17         2\n",
       "16         2\n",
       "18         2\n",
       "21         2\n",
       "24         2\n",
       "45         2\n",
       "19         1\n",
       "90         1\n",
       "28         1\n",
       "55         1\n",
       "Name: second_tri_daily_cig, dtype: int64"
      ]
     },
     "execution_count": 60,
     "metadata": {},
     "output_type": "execute_result"
    }
   ],
   "source": [
    "df['second_tri_daily_cig'].value_counts()"
   ]
  },
  {
   "cell_type": "code",
   "execution_count": 61,
   "metadata": {},
   "outputs": [
    {
     "data": {
      "text/plain": [
       "<matplotlib.legend.Legend at 0x2062b519700>"
      ]
     },
     "execution_count": 61,
     "metadata": {},
     "output_type": "execute_result"
    },
    {
     "data": {
      "image/png": "[encoded data removed]",
      "text/plain": [
       "<Figure size 432x288 with 1 Axes>"
      ]
     },
     "metadata": {
      "needs_background": "light"
     },
     "output_type": "display_data"
    }
   ],
   "source": [
    "counts = (df[['second_tri_daily_cig', 'apgar_score']]\n",
    "              .groupby(['second_tri_daily_cig', 'apgar_score'])\n",
    "              .size()\n",
    "              .unstack('apgar_score')\n",
    "         )\n",
    "\n",
    "counts['percent_low_apgar'] = (counts[0]/counts[1])*100\n",
    "\n",
    "ax = counts['percent_low_apgar'].plot.bar()\n",
    "ax.legend(\n",
    "    loc='center right', \n",
    "    bbox_to_anchor=(1.5, 0.5), \n",
    "    title='Cig2'\n",
    ")"
   ]
  },
  {
   "cell_type": "code",
   "execution_count": 62,
   "metadata": {},
   "outputs": [],
   "source": [
    "df['second_tri_daily_cig'].replace(to_replace=99, value=np.nan, inplace=True)"
   ]
  },
  {
   "cell_type": "code",
   "execution_count": 63,
   "metadata": {},
   "outputs": [
    {
     "data": {
      "text/plain": [
       "0     187990\n",
       "10      2758\n",
       "99      1944\n",
       "5       1733\n",
       "20      1281\n",
       "3        748\n",
       "2        666\n",
       "4        543\n",
       "1        539\n",
       "6        327\n",
       "7        190\n",
       "8        146\n",
       "15       129\n",
       "40        62\n",
       "12        46\n",
       "30        35\n",
       "9         35\n",
       "98        16\n",
       "11        13\n",
       "60         6\n",
       "13         6\n",
       "50         5\n",
       "16         4\n",
       "25         3\n",
       "35         3\n",
       "18         3\n",
       "14         3\n",
       "17         2\n",
       "19         2\n",
       "21         2\n",
       "45         2\n",
       "90         1\n",
       "24         1\n",
       "55         1\n",
       "80         1\n",
       "Name: third_tri_daily_cig, dtype: int64"
      ]
     },
     "execution_count": 63,
     "metadata": {},
     "output_type": "execute_result"
    }
   ],
   "source": [
    "df['third_tri_daily_cig'].value_counts()"
   ]
  },
  {
   "cell_type": "code",
   "execution_count": 64,
   "metadata": {},
   "outputs": [
    {
     "data": {
      "text/plain": [
       "<matplotlib.legend.Legend at 0x2062b73d8b0>"
      ]
     },
     "execution_count": 64,
     "metadata": {},
     "output_type": "execute_result"
    },
    {
     "data": {
      "image/png": "[encoded data removed]",
      "text/plain": [
       "<Figure size 432x288 with 1 Axes>"
      ]
     },
     "metadata": {
      "needs_background": "light"
     },
     "output_type": "display_data"
    }
   ],
   "source": [
    "counts = (df[['third_tri_daily_cig', 'apgar_score']]\n",
    "              .groupby(['third_tri_daily_cig', 'apgar_score'])\n",
    "              .size()\n",
    "              .unstack('apgar_score')\n",
    "         )\n",
    "\n",
    "counts['percent_low_apgar'] = (counts[0]/counts[1])*100\n",
    "\n",
    "ax = counts['percent_low_apgar'].plot.bar()\n",
    "ax.legend(\n",
    "    loc='center right', \n",
    "    bbox_to_anchor=(1.5, 0.5), \n",
    "    title='Cig3'\n",
    ")"
   ]
  },
  {
   "cell_type": "code",
   "execution_count": 65,
   "metadata": {},
   "outputs": [],
   "source": [
    "df['third_tri_daily_cig'].replace(to_replace=99, value=np.nan, inplace=True)"
   ]
  },
  {
   "cell_type": "code",
   "execution_count": 66,
   "metadata": {},
   "outputs": [
    {
     "data": {
      "text/plain": [
       "64    29357\n",
       "63    25929\n",
       "62    25420\n",
       "65    23594\n",
       "66    21480\n",
       "67    17291\n",
       "61    14271\n",
       "60    11087\n",
       "68     9588\n",
       "69     6465\n",
       "59     4698\n",
       "70     3160\n",
       "71     1668\n",
       "58     1242\n",
       "57     1031\n",
       "99     1006\n",
       "72      717\n",
       "56      363\n",
       "73      232\n",
       "55      159\n",
       "74      127\n",
       "53       72\n",
       "54       70\n",
       "78       46\n",
       "75       29\n",
       "49       29\n",
       "77       25\n",
       "76       20\n",
       "48       20\n",
       "52       18\n",
       "51       16\n",
       "50       12\n",
       "47        1\n",
       "45        1\n",
       "42        1\n",
       "40        1\n",
       "Name: height, dtype: int64"
      ]
     },
     "execution_count": 66,
     "metadata": {},
     "output_type": "execute_result"
    }
   ],
   "source": [
    "df['height'].value_counts()"
   ]
  },
  {
   "cell_type": "code",
   "execution_count": 67,
   "metadata": {},
   "outputs": [
    {
     "data": {
      "text/plain": [
       "<matplotlib.legend.Legend at 0x2062b859340>"
      ]
     },
     "execution_count": 67,
     "metadata": {},
     "output_type": "execute_result"
    },
    {
     "data": {
      "image/png": "[encoded data removed]",
      "text/plain": [
       "<Figure size 432x288 with 1 Axes>"
      ]
     },
     "metadata": {
      "needs_background": "light"
     },
     "output_type": "display_data"
    }
   ],
   "source": [
    "counts = (df[['height', 'apgar_score']]\n",
    "              .groupby(['height', 'apgar_score'])\n",
    "              .size()\n",
    "              .unstack('apgar_score')\n",
    "         )\n",
    "\n",
    "counts['percent_low_apgar'] = (counts[0]/counts[1])*100\n",
    "\n",
    "ax = counts['percent_low_apgar'].plot.bar()\n",
    "ax.legend(\n",
    "    loc='center right', \n",
    "    bbox_to_anchor=(1.5, 0.5), \n",
    "    title='Cig3'\n",
    ")"
   ]
  },
  {
   "cell_type": "code",
   "execution_count": 68,
   "metadata": {},
   "outputs": [],
   "source": [
    "df['height'].replace(to_replace=99, value=np.nan, inplace=True)"
   ]
  },
  {
   "cell_type": "code",
   "execution_count": 69,
   "metadata": {},
   "outputs": [
    {
     "data": {
      "text/plain": [
       "99.9    4394\n",
       "26.6    3635\n",
       "28.3    3272\n",
       "23.0    2413\n",
       "22.3    2406\n",
       "        ... \n",
       "62.7       1\n",
       "63.4       1\n",
       "58.7       1\n",
       "62.1       1\n",
       "64.7       1\n",
       "Name: bmi, Length: 513, dtype: int64"
      ]
     },
     "execution_count": 69,
     "metadata": {},
     "output_type": "execute_result"
    }
   ],
   "source": [
    "df['bmi'].value_counts()"
   ]
  },
  {
   "cell_type": "code",
   "execution_count": 70,
   "metadata": {},
   "outputs": [
    {
     "data": {
      "text/plain": [
       "<matplotlib.legend.Legend at 0x2062b31f2e0>"
      ]
     },
     "execution_count": 70,
     "metadata": {},
     "output_type": "execute_result"
    },
    {
     "data": {
      "image/png": "[encoded data removed]",
      "text/plain": [
       "<Figure size 432x288 with 1 Axes>"
      ]
     },
     "metadata": {
      "needs_background": "light"
     },
     "output_type": "display_data"
    }
   ],
   "source": [
    "counts = (df[['bmi', 'apgar_score']]\n",
    "              .groupby(['bmi', 'apgar_score'])\n",
    "              .size()\n",
    "              .unstack('apgar_score')\n",
    "         )\n",
    "\n",
    "counts['percent_low_apgar'] = (counts[0]/counts[1])*100\n",
    "\n",
    "ax = counts['percent_low_apgar'].plot.bar()\n",
    "ax.legend(\n",
    "    loc='center right', \n",
    "    bbox_to_anchor=(1.5, 0.5), \n",
    "    title='Cig3'\n",
    ")"
   ]
  },
  {
   "cell_type": "code",
   "execution_count": 71,
   "metadata": {},
   "outputs": [],
   "source": [
    "df['bmi'].replace(to_replace=99, value=np.nan, inplace=True)"
   ]
  },
  {
   "cell_type": "code",
   "execution_count": 72,
   "metadata": {},
   "outputs": [
    {
     "data": {
      "text/plain": [
       "160    3757\n",
       "180    3691\n",
       "170    3527\n",
       "165    3052\n",
       "150    3046\n",
       "       ... \n",
       "397       4\n",
       "391       3\n",
       "392       3\n",
       "394       2\n",
       "399       2\n",
       "Name: delivery_weight, Length: 302, dtype: int64"
      ]
     },
     "execution_count": 72,
     "metadata": {},
     "output_type": "execute_result"
    }
   ],
   "source": [
    "df['delivery_weight'].value_counts()"
   ]
  },
  {
   "cell_type": "code",
   "execution_count": 73,
   "metadata": {},
   "outputs": [
    {
     "data": {
      "text/plain": [
       "<matplotlib.legend.Legend at 0x2062b748ac0>"
      ]
     },
     "execution_count": 73,
     "metadata": {},
     "output_type": "execute_result"
    },
    {
     "data": {
      "image/png": "[encoded data removed]",
      "text/plain": [
       "<Figure size 432x288 with 1 Axes>"
      ]
     },
     "metadata": {
      "needs_background": "light"
     },
     "output_type": "display_data"
    }
   ],
   "source": [
    "counts = (df[['delivery_weight', 'apgar_score']]\n",
    "              .groupby(['delivery_weight', 'apgar_score'])\n",
    "              .size()\n",
    "              .unstack('apgar_score')\n",
    "         )\n",
    "\n",
    "counts['percent_low_apgar'] = (counts[0]/counts[1])*100\n",
    "\n",
    "ax = counts['percent_low_apgar'].plot.bar()\n",
    "ax.legend(\n",
    "    loc='center right', \n",
    "    bbox_to_anchor=(1.5, 0.5), \n",
    "    title='Cig3'\n",
    ")"
   ]
  },
  {
   "cell_type": "code",
   "execution_count": 74,
   "metadata": {},
   "outputs": [],
   "source": [
    "df['delivery_weight'].replace(to_replace=999, value=np.nan, inplace=True)"
   ]
  },
  {
   "cell_type": "code",
   "execution_count": 75,
   "metadata": {},
   "outputs": [
    {
     "data": {
      "text/plain": [
       "30    8803\n",
       "20    7261\n",
       "25    6716\n",
       "35    6084\n",
       "99    5712\n",
       "      ... \n",
       "92      22\n",
       "97      21\n",
       "96      17\n",
       "93      17\n",
       "94      13\n",
       "Name: weight_gain, Length: 100, dtype: int64"
      ]
     },
     "execution_count": 75,
     "metadata": {},
     "output_type": "execute_result"
    }
   ],
   "source": [
    "df['weight_gain'].value_counts()"
   ]
  },
  {
   "cell_type": "code",
   "execution_count": 76,
   "metadata": {},
   "outputs": [
    {
     "data": {
      "text/plain": [
       "<matplotlib.legend.Legend at 0x2062b195d60>"
      ]
     },
     "execution_count": 76,
     "metadata": {},
     "output_type": "execute_result"
    },
    {
     "data": {
      "image/png": "[encoded data removed]",
      "text/plain": [
       "<Figure size 432x288 with 1 Axes>"
      ]
     },
     "metadata": {
      "needs_background": "light"
     },
     "output_type": "display_data"
    }
   ],
   "source": [
    "counts = (df[['weight_gain', 'apgar_score']]\n",
    "              .groupby(['weight_gain', 'apgar_score'])\n",
    "              .size()\n",
    "              .unstack('apgar_score')\n",
    "         )\n",
    "\n",
    "counts['percent_low_apgar'] = (counts[0]/counts[1])*100\n",
    "\n",
    "ax = counts['percent_low_apgar'].plot.bar()\n",
    "ax.legend(\n",
    "    loc='center right', \n",
    "    bbox_to_anchor=(1.5, 0.5), \n",
    "    title='Cig3'\n",
    ")"
   ]
  },
  {
   "cell_type": "code",
   "execution_count": 77,
   "metadata": {},
   "outputs": [],
   "source": [
    "df['weight_gain'].replace(to_replace=99, value=np.nan, inplace=True)"
   ]
  },
  {
   "cell_type": "code",
   "execution_count": 78,
   "metadata": {},
   "outputs": [
    {
     "data": {
      "text/plain": [
       "N    197135\n",
       "Y      2000\n",
       "U       111\n",
       "Name: diabetes, dtype: int64"
      ]
     },
     "execution_count": 78,
     "metadata": {},
     "output_type": "execute_result"
    }
   ],
   "source": [
    "df['diabetes'].value_counts()"
   ]
  },
  {
   "cell_type": "code",
   "execution_count": 79,
   "metadata": {},
   "outputs": [
    {
     "data": {
      "text/plain": [
       "<matplotlib.legend.Legend at 0x207d207a4c0>"
      ]
     },
     "execution_count": 79,
     "metadata": {},
     "output_type": "execute_result"
    },
    {
     "data": {
      "image/png": "[encoded data removed]",
      "text/plain": [
       "<Figure size 432x288 with 1 Axes>"
      ]
     },
     "metadata": {
      "needs_background": "light"
     },
     "output_type": "display_data"
    }
   ],
   "source": [
    "counts = (df[['diabetes', 'apgar_score']]\n",
    "              .groupby(['diabetes', 'apgar_score'])\n",
    "              .size()\n",
    "              .unstack('apgar_score')\n",
    "         )\n",
    "\n",
    "counts['percent_low_apgar'] = (counts[0]/counts[1])*100\n",
    "\n",
    "ax = counts['percent_low_apgar'].plot.bar()\n",
    "ax.legend(\n",
    "    loc='center right', \n",
    "    bbox_to_anchor=(1.5, 0.5), \n",
    "    title='Cig3'\n",
    ")"
   ]
  },
  {
   "cell_type": "code",
   "execution_count": 80,
   "metadata": {},
   "outputs": [],
   "source": [
    "df['diabetes'].replace(to_replace='U', value=np.nan, inplace=True)"
   ]
  },
  {
   "cell_type": "code",
   "execution_count": 81,
   "metadata": {},
   "outputs": [
    {
     "data": {
      "text/plain": [
       "N    185319\n",
       "Y     13816\n",
       "U       111\n",
       "Name: gestational_diabetes, dtype: int64"
      ]
     },
     "execution_count": 81,
     "metadata": {},
     "output_type": "execute_result"
    }
   ],
   "source": [
    "df['gestational_diabetes'].value_counts()"
   ]
  },
  {
   "cell_type": "code",
   "execution_count": 82,
   "metadata": {},
   "outputs": [
    {
     "data": {
      "text/plain": [
       "<matplotlib.legend.Legend at 0x207d2064f40>"
      ]
     },
     "execution_count": 82,
     "metadata": {},
     "output_type": "execute_result"
    },
    {
     "data": {
      "image/png": "[encoded data removed]",
      "text/plain": [
       "<Figure size 432x288 with 1 Axes>"
      ]
     },
     "metadata": {
      "needs_background": "light"
     },
     "output_type": "display_data"
    }
   ],
   "source": [
    "counts = (df[['gestational_diabetes', 'apgar_score']]\n",
    "              .groupby(['gestational_diabetes', 'apgar_score'])\n",
    "              .size()\n",
    "              .unstack('apgar_score')\n",
    "         )\n",
    "\n",
    "counts['percent_low_apgar'] = (counts[0]/counts[1])*100\n",
    "\n",
    "ax = counts['percent_low_apgar'].plot.bar()\n",
    "ax.legend(\n",
    "    loc='center right', \n",
    "    bbox_to_anchor=(1.5, 0.5), \n",
    "    title='Cig3'\n",
    ")"
   ]
  },
  {
   "cell_type": "code",
   "execution_count": 83,
   "metadata": {},
   "outputs": [],
   "source": [
    "df['gestational_diabetes'].replace(to_replace='U', value=np.nan, inplace=True)"
   ]
  },
  {
   "cell_type": "code",
   "execution_count": 84,
   "metadata": {},
   "outputs": [
    {
     "data": {
      "text/plain": [
       "N    194695\n",
       "Y      4440\n",
       "U       111\n",
       "Name: hypertension, dtype: int64"
      ]
     },
     "execution_count": 84,
     "metadata": {},
     "output_type": "execute_result"
    }
   ],
   "source": [
    "df['hypertension'].value_counts()"
   ]
  },
  {
   "cell_type": "code",
   "execution_count": 85,
   "metadata": {},
   "outputs": [
    {
     "data": {
      "text/plain": [
       "<matplotlib.legend.Legend at 0x207d2068f70>"
      ]
     },
     "execution_count": 85,
     "metadata": {},
     "output_type": "execute_result"
    },
    {
     "data": {
      "image/png": "[encoded data removed]",
      "text/plain": [
       "<Figure size 432x288 with 1 Axes>"
      ]
     },
     "metadata": {
      "needs_background": "light"
     },
     "output_type": "display_data"
    }
   ],
   "source": [
    "counts = (df[['hypertension', 'apgar_score']]\n",
    "              .groupby(['hypertension', 'apgar_score'])\n",
    "              .size()\n",
    "              .unstack('apgar_score')\n",
    "         )\n",
    "\n",
    "counts['percent_low_apgar'] = (counts[0]/counts[1])*100\n",
    "\n",
    "ax = counts['percent_low_apgar'].plot.bar()\n",
    "ax.legend(\n",
    "    loc='center right', \n",
    "    bbox_to_anchor=(1.5, 0.5), \n",
    "    title='Cig3'\n",
    ")"
   ]
  },
  {
   "cell_type": "code",
   "execution_count": 86,
   "metadata": {},
   "outputs": [],
   "source": [
    "df['hypertension'].replace(to_replace='U', value=np.nan, inplace=True)"
   ]
  },
  {
   "cell_type": "code",
   "execution_count": 87,
   "metadata": {},
   "outputs": [
    {
     "data": {
      "text/plain": [
       "N    183419\n",
       "Y     15716\n",
       "U       111\n",
       "Name: gestational_hypertension, dtype: int64"
      ]
     },
     "execution_count": 87,
     "metadata": {},
     "output_type": "execute_result"
    }
   ],
   "source": [
    "df['gestational_hypertension'].value_counts()"
   ]
  },
  {
   "cell_type": "code",
   "execution_count": 88,
   "metadata": {},
   "outputs": [
    {
     "data": {
      "text/plain": [
       "<matplotlib.legend.Legend at 0x2062b195ca0>"
      ]
     },
     "execution_count": 88,
     "metadata": {},
     "output_type": "execute_result"
    },
    {
     "data": {
      "image/png": "[encoded data removed]",
      "text/plain": [
       "<Figure size 432x288 with 1 Axes>"
      ]
     },
     "metadata": {
      "needs_background": "light"
     },
     "output_type": "display_data"
    }
   ],
   "source": [
    "counts = (df[['gestational_hypertension', 'apgar_score']]\n",
    "              .groupby(['gestational_hypertension', 'apgar_score'])\n",
    "              .size()\n",
    "              .unstack('apgar_score')\n",
    "         )\n",
    "\n",
    "counts['percent_low_apgar'] = (counts[0]/counts[1])*100\n",
    "\n",
    "ax = counts['percent_low_apgar'].plot.bar()\n",
    "ax.legend(\n",
    "    loc='center right', \n",
    "    bbox_to_anchor=(1.5, 0.5), \n",
    "    title='Cig3'\n",
    ")"
   ]
  },
  {
   "cell_type": "code",
   "execution_count": 89,
   "metadata": {},
   "outputs": [],
   "source": [
    "df['gestational_hypertension'].replace(to_replace='U', value=np.nan, inplace=True)"
   ]
  },
  {
   "cell_type": "code",
   "execution_count": 90,
   "metadata": {},
   "outputs": [
    {
     "data": {
      "text/plain": [
       "N    198575\n",
       "Y       560\n",
       "U       111\n",
       "Name: eclampsia, dtype: int64"
      ]
     },
     "execution_count": 90,
     "metadata": {},
     "output_type": "execute_result"
    }
   ],
   "source": [
    "df['eclampsia'].value_counts()"
   ]
  },
  {
   "cell_type": "code",
   "execution_count": 91,
   "metadata": {},
   "outputs": [
    {
     "data": {
      "text/plain": [
       "<matplotlib.legend.Legend at 0x207d22c14c0>"
      ]
     },
     "execution_count": 91,
     "metadata": {},
     "output_type": "execute_result"
    },
    {
     "data": {
      "image/png": "[encoded data removed]",
      "text/plain": [
       "<Figure size 432x288 with 1 Axes>"
      ]
     },
     "metadata": {
      "needs_background": "light"
     },
     "output_type": "display_data"
    }
   ],
   "source": [
    "counts = (df[['eclampsia', 'apgar_score']]\n",
    "              .groupby(['eclampsia', 'apgar_score'])\n",
    "              .size()\n",
    "              .unstack('apgar_score')\n",
    "         )\n",
    "\n",
    "counts['percent_low_apgar'] = (counts[0]/counts[1])*100\n",
    "\n",
    "ax = counts['percent_low_apgar'].plot.bar()\n",
    "ax.legend(\n",
    "    loc='center right', \n",
    "    bbox_to_anchor=(1.5, 0.5), \n",
    "    title='Cig3'\n",
    ")"
   ]
  },
  {
   "cell_type": "code",
   "execution_count": 92,
   "metadata": {},
   "outputs": [],
   "source": [
    "df['eclampsia'].replace(to_replace='U', value=np.nan, inplace=True)"
   ]
  },
  {
   "cell_type": "code",
   "execution_count": 93,
   "metadata": {},
   "outputs": [
    {
     "data": {
      "text/plain": [
       "N    191806\n",
       "Y      7329\n",
       "U       111\n",
       "Name: previous_premature_birth, dtype: int64"
      ]
     },
     "execution_count": 93,
     "metadata": {},
     "output_type": "execute_result"
    }
   ],
   "source": [
    "df['previous_premature_birth'].value_counts()"
   ]
  },
  {
   "cell_type": "code",
   "execution_count": 94,
   "metadata": {},
   "outputs": [
    {
     "data": {
      "text/plain": [
       "<matplotlib.legend.Legend at 0x207d23bc3a0>"
      ]
     },
     "execution_count": 94,
     "metadata": {},
     "output_type": "execute_result"
    },
    {
     "data": {
      "image/png": "[encoded data removed]",
      "text/plain": [
       "<Figure size 432x288 with 1 Axes>"
      ]
     },
     "metadata": {
      "needs_background": "light"
     },
     "output_type": "display_data"
    }
   ],
   "source": [
    "counts = (df[['previous_premature_birth', 'apgar_score']]\n",
    "              .groupby(['previous_premature_birth', 'apgar_score'])\n",
    "              .size()\n",
    "              .unstack('apgar_score')\n",
    "         )\n",
    "\n",
    "counts['percent_low_apgar'] = (counts[0]/counts[1])*100\n",
    "\n",
    "ax = counts['percent_low_apgar'].plot.bar()\n",
    "ax.legend(\n",
    "    loc='center right', \n",
    "    bbox_to_anchor=(1.5, 0.5), \n",
    "    title='Preemie'\n",
    ")"
   ]
  },
  {
   "cell_type": "code",
   "execution_count": 95,
   "metadata": {},
   "outputs": [],
   "source": [
    "df['previous_premature_birth'].replace(to_replace='U', value=np.nan, inplace=True)"
   ]
  },
  {
   "cell_type": "code",
   "execution_count": 96,
   "metadata": {},
   "outputs": [
    {
     "data": {
      "text/plain": [
       "N    195050\n",
       "Y      4085\n",
       "U       111\n",
       "Name: infertility_treatment, dtype: int64"
      ]
     },
     "execution_count": 96,
     "metadata": {},
     "output_type": "execute_result"
    }
   ],
   "source": [
    "df['infertility_treatment'].value_counts()"
   ]
  },
  {
   "cell_type": "code",
   "execution_count": 97,
   "metadata": {},
   "outputs": [
    {
     "data": {
      "text/plain": [
       "<matplotlib.legend.Legend at 0x207d2310fd0>"
      ]
     },
     "execution_count": 97,
     "metadata": {},
     "output_type": "execute_result"
    },
    {
     "data": {
      "image/png": "[encoded data removed]",
      "text/plain": [
       "<Figure size 432x288 with 1 Axes>"
      ]
     },
     "metadata": {
      "needs_background": "light"
     },
     "output_type": "display_data"
    }
   ],
   "source": [
    "counts = (df[['infertility_treatment', 'apgar_score']]\n",
    "              .groupby(['infertility_treatment', 'apgar_score'])\n",
    "              .size()\n",
    "              .unstack('apgar_score')\n",
    "         )\n",
    "\n",
    "counts['percent_low_apgar'] = (counts[0]/counts[1])*100\n",
    "\n",
    "ax = counts['percent_low_apgar'].plot.bar()\n",
    "ax.legend(\n",
    "    loc='center right', \n",
    "    bbox_to_anchor=(1.5, 0.5), \n",
    "    title='Preemie'\n",
    ")"
   ]
  },
  {
   "cell_type": "code",
   "execution_count": 98,
   "metadata": {},
   "outputs": [],
   "source": [
    "df['infertility_treatment'].replace(to_replace='U', value=np.nan, inplace=True)"
   ]
  },
  {
   "cell_type": "code",
   "execution_count": 99,
   "metadata": {},
   "outputs": [
    {
     "data": {
      "text/plain": [
       "X    195050\n",
       "N      2295\n",
       "Y      1588\n",
       "U       313\n",
       "Name: fertility_drugs, dtype: int64"
      ]
     },
     "execution_count": 99,
     "metadata": {},
     "output_type": "execute_result"
    }
   ],
   "source": [
    "df['fertility_drugs'].value_counts()"
   ]
  },
  {
   "cell_type": "code",
   "execution_count": 100,
   "metadata": {},
   "outputs": [
    {
     "data": {
      "text/plain": [
       "<matplotlib.legend.Legend at 0x207d22d1280>"
      ]
     },
     "execution_count": 100,
     "metadata": {},
     "output_type": "execute_result"
    },
    {
     "data": {
      "image/png": "[encoded data removed]",
      "text/plain": [
       "<Figure size 432x288 with 1 Axes>"
      ]
     },
     "metadata": {
      "needs_background": "light"
     },
     "output_type": "display_data"
    }
   ],
   "source": [
    "counts = (df[['fertility_drugs', 'apgar_score']]\n",
    "              .groupby(['fertility_drugs', 'apgar_score'])\n",
    "              .size()\n",
    "              .unstack('apgar_score')\n",
    "         )\n",
    "\n",
    "counts['percent_low_apgar'] = (counts[0]/counts[1])*100\n",
    "\n",
    "ax = counts['percent_low_apgar'].plot.bar()\n",
    "ax.legend(\n",
    "    loc='center right', \n",
    "    bbox_to_anchor=(1.5, 0.5), \n",
    "    title='Preemie'\n",
    ")"
   ]
  },
  {
   "cell_type": "code",
   "execution_count": 101,
   "metadata": {},
   "outputs": [],
   "source": [
    "df['fertility_drugs'].replace(to_replace='U', value=np.nan, inplace=True)\n",
    "df['fertility_drugs'].replace(to_replace='X', value='N', inplace=True)"
   ]
  },
  {
   "cell_type": "code",
   "execution_count": 102,
   "metadata": {},
   "outputs": [
    {
     "data": {
      "text/plain": [
       "X    195050\n",
       "Y      2633\n",
       "N      1250\n",
       "U       313\n",
       "Name: assisted_reproduction, dtype: int64"
      ]
     },
     "execution_count": 102,
     "metadata": {},
     "output_type": "execute_result"
    }
   ],
   "source": [
    "df['assisted_reproduction'].value_counts()"
   ]
  },
  {
   "cell_type": "code",
   "execution_count": 103,
   "metadata": {},
   "outputs": [
    {
     "data": {
      "text/plain": [
       "<matplotlib.legend.Legend at 0x207d24e7220>"
      ]
     },
     "execution_count": 103,
     "metadata": {},
     "output_type": "execute_result"
    },
    {
     "data": {
      "image/png": "[encoded data removed]",
      "text/plain": [
       "<Figure size 432x288 with 1 Axes>"
      ]
     },
     "metadata": {
      "needs_background": "light"
     },
     "output_type": "display_data"
    }
   ],
   "source": [
    "counts = (df[['assisted_reproduction', 'apgar_score']]\n",
    "              .groupby(['assisted_reproduction', 'apgar_score'])\n",
    "              .size()\n",
    "              .unstack('apgar_score')\n",
    "         )\n",
    "\n",
    "counts['percent_low_apgar'] = (counts[0]/counts[1])*100\n",
    "\n",
    "ax = counts['percent_low_apgar'].plot.bar()\n",
    "ax.legend(\n",
    "    loc='center right', \n",
    "    bbox_to_anchor=(1.5, 0.5), \n",
    "    title='Preemie'\n",
    ")"
   ]
  },
  {
   "cell_type": "code",
   "execution_count": 104,
   "metadata": {},
   "outputs": [],
   "source": [
    "df['assisted_reproduction'].replace(to_replace='U', value=np.nan, inplace=True)\n",
    "df['assisted_reproduction'].replace(to_replace='X', value='N', inplace=True)"
   ]
  },
  {
   "cell_type": "code",
   "execution_count": 105,
   "metadata": {},
   "outputs": [
    {
     "data": {
      "text/plain": [
       "0     168363\n",
       "1      20909\n",
       "2       7286\n",
       "3       1968\n",
       "4        454\n",
       "99       152\n",
       "5         92\n",
       "6         17\n",
       "7          4\n",
       "8          1\n",
       "Name: previous_cesareans, dtype: int64"
      ]
     },
     "execution_count": 105,
     "metadata": {},
     "output_type": "execute_result"
    }
   ],
   "source": [
    "df['previous_cesareans'].value_counts()"
   ]
  },
  {
   "cell_type": "code",
   "execution_count": 106,
   "metadata": {},
   "outputs": [
    {
     "data": {
      "text/plain": [
       "<matplotlib.legend.Legend at 0x207d2502bb0>"
      ]
     },
     "execution_count": 106,
     "metadata": {},
     "output_type": "execute_result"
    },
    {
     "data": {
      "image/png": "[encoded data removed]",
      "text/plain": [
       "<Figure size 432x288 with 1 Axes>"
      ]
     },
     "metadata": {
      "needs_background": "light"
     },
     "output_type": "display_data"
    }
   ],
   "source": [
    "counts = (df[['previous_cesareans', 'apgar_score']]\n",
    "              .groupby(['previous_cesareans', 'apgar_score'])\n",
    "              .size()\n",
    "              .unstack('apgar_score')\n",
    "         )\n",
    "\n",
    "counts['percent_low_apgar'] = (counts[0]/counts[1])*100\n",
    "\n",
    "ax = counts['percent_low_apgar'].plot.bar()\n",
    "ax.legend(\n",
    "    loc='center right', \n",
    "    bbox_to_anchor=(1.5, 0.5), \n",
    "    title='Preemie'\n",
    ")"
   ]
  },
  {
   "cell_type": "code",
   "execution_count": 107,
   "metadata": {},
   "outputs": [],
   "source": [
    "df['previous_cesareans'].replace(to_replace=99, value=np.nan, inplace=True)"
   ]
  },
  {
   "cell_type": "code",
   "execution_count": 108,
   "metadata": {},
   "outputs": [
    {
     "data": {
      "text/plain": [
       "N    198206\n",
       "Y       617\n",
       "U       423\n",
       "Name: gonorrhea, dtype: int64"
      ]
     },
     "execution_count": 108,
     "metadata": {},
     "output_type": "execute_result"
    }
   ],
   "source": [
    "df['gonorrhea'].value_counts()"
   ]
  },
  {
   "cell_type": "code",
   "execution_count": 109,
   "metadata": {},
   "outputs": [
    {
     "data": {
      "text/plain": [
       "<matplotlib.legend.Legend at 0x207d232aa90>"
      ]
     },
     "execution_count": 109,
     "metadata": {},
     "output_type": "execute_result"
    },
    {
     "data": {
      "image/png": "[encoded data removed]",
      "text/plain": [
       "<Figure size 432x288 with 1 Axes>"
      ]
     },
     "metadata": {
      "needs_background": "light"
     },
     "output_type": "display_data"
    }
   ],
   "source": [
    "counts = (df[['gonorrhea', 'apgar_score']]\n",
    "              .groupby(['gonorrhea', 'apgar_score'])\n",
    "              .size()\n",
    "              .unstack('apgar_score')\n",
    "         )\n",
    "\n",
    "counts['percent_low_apgar'] = (counts[0]/counts[1])*100\n",
    "\n",
    "ax = counts['percent_low_apgar'].plot.bar()\n",
    "ax.legend(\n",
    "    loc='center right', \n",
    "    bbox_to_anchor=(1.5, 0.5), \n",
    "    title='Preemie'\n",
    ")"
   ]
  },
  {
   "cell_type": "code",
   "execution_count": 110,
   "metadata": {},
   "outputs": [],
   "source": [
    "df['gonorrhea'].replace(to_replace='U', value=np.nan, inplace=True)"
   ]
  },
  {
   "cell_type": "code",
   "execution_count": 111,
   "metadata": {},
   "outputs": [
    {
     "data": {
      "text/plain": [
       "N    198547\n",
       "U       423\n",
       "Y       276\n",
       "Name: syphilis, dtype: int64"
      ]
     },
     "execution_count": 111,
     "metadata": {},
     "output_type": "execute_result"
    }
   ],
   "source": [
    "df['syphilis'].value_counts()"
   ]
  },
  {
   "cell_type": "code",
   "execution_count": 112,
   "metadata": {},
   "outputs": [
    {
     "data": {
      "text/plain": [
       "<matplotlib.legend.Legend at 0x207d2f0be50>"
      ]
     },
     "execution_count": 112,
     "metadata": {},
     "output_type": "execute_result"
    },
    {
     "data": {
      "image/png": "[encoded data removed]",
      "text/plain": [
       "<Figure size 432x288 with 1 Axes>"
      ]
     },
     "metadata": {
      "needs_background": "light"
     },
     "output_type": "display_data"
    }
   ],
   "source": [
    "counts = (df[['syphilis', 'apgar_score']]\n",
    "              .groupby(['syphilis', 'apgar_score'])\n",
    "              .size()\n",
    "              .unstack('apgar_score')\n",
    "         )\n",
    "\n",
    "counts['percent_low_apgar'] = (counts[0]/counts[1])*100\n",
    "\n",
    "ax = counts['percent_low_apgar'].plot.bar()\n",
    "ax.legend(\n",
    "    loc='center right', \n",
    "    bbox_to_anchor=(1.5, 0.5), \n",
    "    title='Preemie'\n",
    ")"
   ]
  },
  {
   "cell_type": "code",
   "execution_count": 113,
   "metadata": {},
   "outputs": [],
   "source": [
    "df['syphilis'].replace(to_replace='U', value=np.nan, inplace=True)"
   ]
  },
  {
   "cell_type": "code",
   "execution_count": 114,
   "metadata": {},
   "outputs": [
    {
     "data": {
      "text/plain": [
       "N    195113\n",
       "Y      3710\n",
       "U       423\n",
       "Name: chlamydia, dtype: int64"
      ]
     },
     "execution_count": 114,
     "metadata": {},
     "output_type": "execute_result"
    }
   ],
   "source": [
    "df['chlamydia'].value_counts()"
   ]
  },
  {
   "cell_type": "code",
   "execution_count": 115,
   "metadata": {},
   "outputs": [
    {
     "data": {
      "text/plain": [
       "<matplotlib.legend.Legend at 0x207d25af910>"
      ]
     },
     "execution_count": 115,
     "metadata": {},
     "output_type": "execute_result"
    },
    {
     "data": {
      "image/png": "[encoded data removed]",
      "text/plain": [
       "<Figure size 432x288 with 1 Axes>"
      ]
     },
     "metadata": {
      "needs_background": "light"
     },
     "output_type": "display_data"
    }
   ],
   "source": [
    "counts = (df[['chlamydia', 'apgar_score']]\n",
    "              .groupby(['chlamydia', 'apgar_score'])\n",
    "              .size()\n",
    "              .unstack('apgar_score')\n",
    "         )\n",
    "\n",
    "counts['percent_low_apgar'] = (counts[0]/counts[1])*100\n",
    "\n",
    "ax = counts['percent_low_apgar'].plot.bar()\n",
    "ax.legend(\n",
    "    loc='center right', \n",
    "    bbox_to_anchor=(1.5, 0.5), \n",
    "    title='Chlamydia'\n",
    ")"
   ]
  },
  {
   "cell_type": "code",
   "execution_count": 116,
   "metadata": {},
   "outputs": [],
   "source": [
    "df['chlamydia'].replace(to_replace='U', value=np.nan, inplace=True)"
   ]
  },
  {
   "cell_type": "code",
   "execution_count": 117,
   "metadata": {},
   "outputs": [
    {
     "data": {
      "text/plain": [
       "N    198440\n",
       "U       423\n",
       "Y       383\n",
       "Name: hepatitis_b, dtype: int64"
      ]
     },
     "execution_count": 117,
     "metadata": {},
     "output_type": "execute_result"
    }
   ],
   "source": [
    "df['hepatitis_b'].value_counts()"
   ]
  },
  {
   "cell_type": "code",
   "execution_count": 118,
   "metadata": {},
   "outputs": [
    {
     "data": {
      "text/plain": [
       "<matplotlib.legend.Legend at 0x207d24146d0>"
      ]
     },
     "execution_count": 118,
     "metadata": {},
     "output_type": "execute_result"
    },
    {
     "data": {
      "image/png": "[encoded data removed]",
      "text/plain": [
       "<Figure size 432x288 with 1 Axes>"
      ]
     },
     "metadata": {
      "needs_background": "light"
     },
     "output_type": "display_data"
    }
   ],
   "source": [
    "counts = (df[['hepatitis_b', 'apgar_score']]\n",
    "              .groupby(['hepatitis_b', 'apgar_score'])\n",
    "              .size()\n",
    "              .unstack('apgar_score')\n",
    "         )\n",
    "\n",
    "counts['percent_low_apgar'] = (counts[0]/counts[1])*100\n",
    "\n",
    "ax = counts['percent_low_apgar'].plot.bar()\n",
    "ax.legend(\n",
    "    loc='center right', \n",
    "    bbox_to_anchor=(1.5, 0.5), \n",
    "    title='Hep B'\n",
    ")"
   ]
  },
  {
   "cell_type": "code",
   "execution_count": 119,
   "metadata": {},
   "outputs": [],
   "source": [
    "df['hepatitis_b'].replace(to_replace='U', value=np.nan, inplace=True)"
   ]
  },
  {
   "cell_type": "code",
   "execution_count": 120,
   "metadata": {},
   "outputs": [
    {
     "data": {
      "text/plain": [
       "N    197818\n",
       "Y      1005\n",
       "U       423\n",
       "Name: hepatitis_c, dtype: int64"
      ]
     },
     "execution_count": 120,
     "metadata": {},
     "output_type": "execute_result"
    }
   ],
   "source": [
    "df['hepatitis_c'].value_counts()"
   ]
  },
  {
   "cell_type": "code",
   "execution_count": 121,
   "metadata": {},
   "outputs": [
    {
     "data": {
      "text/plain": [
       "<matplotlib.legend.Legend at 0x207d2696e50>"
      ]
     },
     "execution_count": 121,
     "metadata": {},
     "output_type": "execute_result"
    },
    {
     "data": {
      "image/png": "[encoded data removed]",
      "text/plain": [
       "<Figure size 432x288 with 1 Axes>"
      ]
     },
     "metadata": {
      "needs_background": "light"
     },
     "output_type": "display_data"
    }
   ],
   "source": [
    "counts = (df[['hepatitis_c', 'apgar_score']]\n",
    "              .groupby(['hepatitis_c', 'apgar_score'])\n",
    "              .size()\n",
    "              .unstack('apgar_score')\n",
    "         )\n",
    "\n",
    "counts['percent_low_apgar'] = (counts[0]/counts[1])*100\n",
    "\n",
    "ax = counts['percent_low_apgar'].plot.bar()\n",
    "ax.legend(\n",
    "    loc='center right', \n",
    "    bbox_to_anchor=(1.5, 0.5), \n",
    "    title='Hep C'\n",
    ")"
   ]
  },
  {
   "cell_type": "code",
   "execution_count": 122,
   "metadata": {},
   "outputs": [],
   "source": [
    "df['hepatitis_c'].replace(to_replace='U', value=np.nan, inplace=True)"
   ]
  },
  {
   "cell_type": "code",
   "execution_count": 123,
   "metadata": {},
   "outputs": [
    {
     "data": {
      "text/plain": [
       "N    191508\n",
       "Y      7680\n",
       "U        58\n",
       "Name: steroids, dtype: int64"
      ]
     },
     "execution_count": 123,
     "metadata": {},
     "output_type": "execute_result"
    }
   ],
   "source": [
    "df['steroids'].value_counts()"
   ]
  },
  {
   "cell_type": "code",
   "execution_count": 124,
   "metadata": {},
   "outputs": [
    {
     "data": {
      "text/plain": [
       "<matplotlib.legend.Legend at 0x207d25f1640>"
      ]
     },
     "execution_count": 124,
     "metadata": {},
     "output_type": "execute_result"
    },
    {
     "data": {
      "image/png": "[encoded data removed]",
      "text/plain": [
       "<Figure size 432x288 with 1 Axes>"
      ]
     },
     "metadata": {
      "needs_background": "light"
     },
     "output_type": "display_data"
    }
   ],
   "source": [
    "counts = (df[['steroids', 'apgar_score']]\n",
    "              .groupby(['steroids', 'apgar_score'])\n",
    "              .size()\n",
    "              .unstack('apgar_score')\n",
    "         )\n",
    "\n",
    "counts['percent_low_apgar'] = (counts[0]/counts[1])*100\n",
    "\n",
    "ax = counts['percent_low_apgar'].plot.bar()\n",
    "ax.legend(\n",
    "    loc='center right', \n",
    "    bbox_to_anchor=(1.5, 0.5), \n",
    "    title='Hep C'\n",
    ")"
   ]
  },
  {
   "cell_type": "code",
   "execution_count": 125,
   "metadata": {},
   "outputs": [],
   "source": [
    "df['steroids'].replace(to_replace='U', value=np.nan, inplace=True)"
   ]
  },
  {
   "cell_type": "code",
   "execution_count": 126,
   "metadata": {},
   "outputs": [
    {
     "data": {
      "text/plain": [
       "N    148987\n",
       "Y     50201\n",
       "U        58\n",
       "Name: antibiotics, dtype: int64"
      ]
     },
     "execution_count": 126,
     "metadata": {},
     "output_type": "execute_result"
    }
   ],
   "source": [
    "df['antibiotics'].value_counts()"
   ]
  },
  {
   "cell_type": "code",
   "execution_count": 127,
   "metadata": {},
   "outputs": [
    {
     "data": {
      "text/plain": [
       "<matplotlib.legend.Legend at 0x207d26531f0>"
      ]
     },
     "execution_count": 127,
     "metadata": {},
     "output_type": "execute_result"
    },
    {
     "data": {
      "image/png": "[encoded data removed]",
      "text/plain": [
       "<Figure size 432x288 with 1 Axes>"
      ]
     },
     "metadata": {
      "needs_background": "light"
     },
     "output_type": "display_data"
    }
   ],
   "source": [
    "counts = (df[['antibiotics', 'apgar_score']]\n",
    "              .groupby(['antibiotics', 'apgar_score'])\n",
    "              .size()\n",
    "              .unstack('apgar_score')\n",
    "         )\n",
    "\n",
    "counts['percent_low_apgar'] = (counts[0]/counts[1])*100\n",
    "\n",
    "ax = counts['percent_low_apgar'].plot.bar()\n",
    "ax.legend(\n",
    "    loc='center right', \n",
    "    bbox_to_anchor=(1.5, 0.5), \n",
    "    title='Antibios'\n",
    ")"
   ]
  },
  {
   "cell_type": "code",
   "execution_count": 128,
   "metadata": {},
   "outputs": [],
   "source": [
    "df['antibiotics'].replace(to_replace='U', value=np.nan, inplace=True)"
   ]
  },
  {
   "cell_type": "code",
   "execution_count": 129,
   "metadata": {},
   "outputs": [
    {
     "data": {
      "text/plain": [
       "N    196039\n",
       "Y      3149\n",
       "U        58\n",
       "Name: chorioamnionitis, dtype: int64"
      ]
     },
     "execution_count": 129,
     "metadata": {},
     "output_type": "execute_result"
    }
   ],
   "source": [
    "df['chorioamnionitis'].value_counts()"
   ]
  },
  {
   "cell_type": "code",
   "execution_count": 130,
   "metadata": {},
   "outputs": [
    {
     "data": {
      "text/plain": [
       "<matplotlib.legend.Legend at 0x207d276f850>"
      ]
     },
     "execution_count": 130,
     "metadata": {},
     "output_type": "execute_result"
    },
    {
     "data": {
      "image/png": "[encoded data removed]",
      "text/plain": [
       "<Figure size 432x288 with 1 Axes>"
      ]
     },
     "metadata": {
      "needs_background": "light"
     },
     "output_type": "display_data"
    }
   ],
   "source": [
    "counts = (df[['chorioamnionitis', 'apgar_score']]\n",
    "              .groupby(['chorioamnionitis', 'apgar_score'])\n",
    "              .size()\n",
    "              .unstack('apgar_score')\n",
    "         )\n",
    "\n",
    "counts['percent_low_apgar'] = (counts[0]/counts[1])*100\n",
    "\n",
    "ax = counts['percent_low_apgar'].plot.bar()\n",
    "ax.legend(\n",
    "    loc='center right', \n",
    "    bbox_to_anchor=(1.5, 0.5), \n",
    "    title='chorioamnionitis'\n",
    ")"
   ]
  },
  {
   "cell_type": "code",
   "execution_count": 131,
   "metadata": {},
   "outputs": [],
   "source": [
    "df['chorioamnionitis'].replace(to_replace='U', value=np.nan, inplace=True)"
   ]
  },
  {
   "cell_type": "code",
   "execution_count": 132,
   "metadata": {},
   "outputs": [
    {
     "data": {
      "text/plain": [
       "1    195072\n",
       "0      4174\n",
       "Name: apgar_score, dtype: int64"
      ]
     },
     "execution_count": 132,
     "metadata": {},
     "output_type": "execute_result"
    }
   ],
   "source": [
    "df['apgar_score'].value_counts()"
   ]
  },
  {
   "cell_type": "code",
   "execution_count": 133,
   "metadata": {},
   "outputs": [
    {
     "data": {
      "text/plain": [
       "1    192629\n",
       "2      6444\n",
       "3       167\n",
       "4         4\n",
       "5         2\n",
       "Name: plural_pregnancy, dtype: int64"
      ]
     },
     "execution_count": 133,
     "metadata": {},
     "output_type": "execute_result"
    }
   ],
   "source": [
    "df['plural_pregnancy'].value_counts()"
   ]
  },
  {
   "cell_type": "code",
   "execution_count": 134,
   "metadata": {},
   "outputs": [
    {
     "data": {
      "text/plain": [
       "<matplotlib.legend.Legend at 0x207d2653850>"
      ]
     },
     "execution_count": 134,
     "metadata": {},
     "output_type": "execute_result"
    },
    {
     "data": {
      "image/png": "[encoded data removed]",
      "text/plain": [
       "<Figure size 432x288 with 1 Axes>"
      ]
     },
     "metadata": {
      "needs_background": "light"
     },
     "output_type": "display_data"
    }
   ],
   "source": [
    "counts = (df[['plural_pregnancy', 'apgar_score']]\n",
    "              .groupby(['plural_pregnancy', 'apgar_score'])\n",
    "              .size()\n",
    "              .unstack('apgar_score')\n",
    "         )\n",
    "\n",
    "counts['percent_low_apgar'] = (counts[0]/counts[1])*100\n",
    "\n",
    "ax = counts['percent_low_apgar'].plot.bar()\n",
    "ax.legend(\n",
    "    loc='center right', \n",
    "    bbox_to_anchor=(1.5, 0.5), \n",
    "    title='plural_pregnancy'\n",
    ")"
   ]
  },
  {
   "cell_type": "code",
   "execution_count": 135,
   "metadata": {},
   "outputs": [
    {
     "data": {
      "text/plain": [
       "M    102178\n",
       "F     97068\n",
       "Name: infant_sex, dtype: int64"
      ]
     },
     "execution_count": 135,
     "metadata": {},
     "output_type": "execute_result"
    }
   ],
   "source": [
    "df['infant_sex'].value_counts()"
   ]
  },
  {
   "cell_type": "code",
   "execution_count": 136,
   "metadata": {},
   "outputs": [
    {
     "data": {
      "text/plain": [
       "<matplotlib.legend.Legend at 0x207d285a0a0>"
      ]
     },
     "execution_count": 136,
     "metadata": {},
     "output_type": "execute_result"
    },
    {
     "data": {
      "image/png": "[encoded data removed]",
      "text/plain": [
       "<Figure size 432x288 with 1 Axes>"
      ]
     },
     "metadata": {
      "needs_background": "light"
     },
     "output_type": "display_data"
    }
   ],
   "source": [
    "counts = (df[['infant_sex', 'apgar_score']]\n",
    "              .groupby(['infant_sex', 'apgar_score'])\n",
    "              .size()\n",
    "              .unstack('apgar_score')\n",
    "         )\n",
    "\n",
    "counts['percent_low_apgar'] = (counts[0]/counts[1])*100\n",
    "\n",
    "ax = counts['percent_low_apgar'].plot.bar()\n",
    "ax.legend(\n",
    "    loc='center right', \n",
    "    bbox_to_anchor=(1.5, 0.5), \n",
    "    title='infant_sex'\n",
    ")"
   ]
  },
  {
   "cell_type": "code",
   "execution_count": 137,
   "metadata": {},
   "outputs": [
    {
     "data": {
      "text/plain": [
       "39    60951\n",
       "40    36249\n",
       "38    32980\n",
       "37    19821\n",
       "41    14724\n",
       "36     9149\n",
       "42     5038\n",
       "35     4849\n",
       "34     3309\n",
       "43     2413\n",
       "33     1847\n",
       "44     1324\n",
       "32     1262\n",
       "31      872\n",
       "45      703\n",
       "30      698\n",
       "29      492\n",
       "46      412\n",
       "28      401\n",
       "27      305\n",
       "26      275\n",
       "47      267\n",
       "25      214\n",
       "24      174\n",
       "23      147\n",
       "22       96\n",
       "99       78\n",
       "21       72\n",
       "20       49\n",
       "19       42\n",
       "18       21\n",
       "17       12\n",
       "Name: weeks_gestation, dtype: int64"
      ]
     },
     "execution_count": 137,
     "metadata": {},
     "output_type": "execute_result"
    }
   ],
   "source": [
    "df['weeks_gestation'].value_counts()"
   ]
  },
  {
   "cell_type": "code",
   "execution_count": 138,
   "metadata": {},
   "outputs": [
    {
     "data": {
      "text/plain": [
       "<matplotlib.legend.Legend at 0x207d1fedd00>"
      ]
     },
     "execution_count": 138,
     "metadata": {},
     "output_type": "execute_result"
    },
    {
     "data": {
      "image/png": "[encoded data removed]",
      "text/plain": [
       "<Figure size 432x288 with 1 Axes>"
      ]
     },
     "metadata": {
      "needs_background": "light"
     },
     "output_type": "display_data"
    }
   ],
   "source": [
    "counts = (df[['weeks_gestation', 'apgar_score']]\n",
    "              .groupby(['weeks_gestation', 'apgar_score'])\n",
    "              .size()\n",
    "              .unstack('apgar_score')\n",
    "         )\n",
    "\n",
    "counts['percent_low_apgar'] = (counts[0]/counts[1])*100\n",
    "\n",
    "ax = counts['percent_low_apgar'].plot.bar()\n",
    "ax.legend(\n",
    "    loc='center right', \n",
    "    bbox_to_anchor=(1.5, 0.5), \n",
    "    title='weeks_gestation'\n",
    ")"
   ]
  },
  {
   "cell_type": "code",
   "execution_count": 139,
   "metadata": {},
   "outputs": [],
   "source": [
    "df['weeks_gestation'].replace(to_replace=99, value=np.nan, inplace=True)"
   ]
  },
  {
   "cell_type": "code",
   "execution_count": 140,
   "metadata": {},
   "outputs": [
    {
     "data": {
      "text/plain": [
       "N    198916\n",
       "U       206\n",
       "C        62\n",
       "P        62\n",
       "Name: down_syndrome, dtype: int64"
      ]
     },
     "execution_count": 140,
     "metadata": {},
     "output_type": "execute_result"
    }
   ],
   "source": [
    "df['down_syndrome'].value_counts()"
   ]
  },
  {
   "cell_type": "code",
   "execution_count": 141,
   "metadata": {},
   "outputs": [
    {
     "data": {
      "text/plain": [
       "<matplotlib.legend.Legend at 0x207d21fbe50>"
      ]
     },
     "execution_count": 141,
     "metadata": {},
     "output_type": "execute_result"
    },
    {
     "data": {
      "image/png": "[encoded data removed]",
      "text/plain": [
       "<Figure size 432x288 with 1 Axes>"
      ]
     },
     "metadata": {
      "needs_background": "light"
     },
     "output_type": "display_data"
    }
   ],
   "source": [
    "counts = (df[['down_syndrome', 'apgar_score']]\n",
    "              .groupby(['down_syndrome', 'apgar_score'])\n",
    "              .size()\n",
    "              .unstack('apgar_score')\n",
    "         )\n",
    "\n",
    "counts['percent_low_apgar'] = (counts[0]/counts[1])*100\n",
    "\n",
    "ax = counts['percent_low_apgar'].plot.bar()\n",
    "ax.legend(\n",
    "    loc='center right', \n",
    "    bbox_to_anchor=(1.5, 0.5), \n",
    "    title='down_syndrome'\n",
    ")"
   ]
  },
  {
   "cell_type": "code",
   "execution_count": 142,
   "metadata": {},
   "outputs": [],
   "source": [
    "df['down_syndrome'].replace(to_replace='U', value=np.nan, inplace=True)"
   ]
  },
  {
   "cell_type": "code",
   "execution_count": 143,
   "metadata": {},
   "outputs": [],
   "source": [
    "df['down_syndrome'].replace(to_replace='P', value='C', inplace=True)"
   ]
  },
  {
   "cell_type": "code",
   "execution_count": 144,
   "metadata": {},
   "outputs": [
    {
     "name": "stdout",
     "output_type": "stream",
     "text": [
      "<class 'pandas.core.frame.DataFrame'>\n",
      "Int64Index: 199246 entries, 2837169 to 2503356\n",
      "Data columns (total 45 columns):\n",
      " #   Column                    Non-Null Count   Dtype  \n",
      "---  ------                    --------------   -----  \n",
      " 0   birth_place               199240 non-null  object \n",
      " 1   mother_age                199246 non-null  int64  \n",
      " 2   mother_native             198834 non-null  float64\n",
      " 3   mother_race               199246 non-null  object \n",
      " 4   mother_hispanic           197404 non-null  float64\n",
      " 5   marital_status            175636 non-null  object \n",
      " 6   mother_education          196438 non-null  object \n",
      " 7   father_age                176372 non-null  float64\n",
      " 8   living_children           199008 non-null  float64\n",
      " 9   deceased_children         198876 non-null  float64\n",
      " 10  terminations              198837 non-null  float64\n",
      " 11  months_prenatal_care      194861 non-null  float64\n",
      " 12  prenatal_visits           194437 non-null  float64\n",
      " 13  food_assistance           199246 non-null  object \n",
      " 14  prepregnancy_daily_cig    199246 non-null  int64  \n",
      " 15  first_tri_daily_cig       198304 non-null  float64\n",
      " 16  second_tri_daily_cig      198303 non-null  float64\n",
      " 17  third_tri_daily_cig       197302 non-null  float64\n",
      " 18  height                    198240 non-null  float64\n",
      " 19  bmi                       199246 non-null  float64\n",
      " 20  delivery_weight           196628 non-null  float64\n",
      " 21  weight_gain               193534 non-null  float64\n",
      " 22  diabetes                  199135 non-null  object \n",
      " 23  gestational_diabetes      199135 non-null  object \n",
      " 24  hypertension              199135 non-null  object \n",
      " 25  gestational_hypertension  199135 non-null  object \n",
      " 26  eclampsia                 199135 non-null  object \n",
      " 27  previous_premature_birth  199135 non-null  object \n",
      " 28  infertility_treatment     199135 non-null  object \n",
      " 29  fertility_drugs           198933 non-null  object \n",
      " 30  assisted_reproduction     198933 non-null  object \n",
      " 31  previous_cesareans        199094 non-null  float64\n",
      " 32  gonorrhea                 198823 non-null  object \n",
      " 33  syphilis                  198823 non-null  object \n",
      " 34  chlamydia                 198823 non-null  object \n",
      " 35  hepatitis_b               198823 non-null  object \n",
      " 36  hepatitis_c               198823 non-null  object \n",
      " 37  steroids                  199188 non-null  object \n",
      " 38  antibiotics               199188 non-null  object \n",
      " 39  chorioamnionitis          199188 non-null  object \n",
      " 40  apgar_score               199246 non-null  int64  \n",
      " 41  plural_pregnancy          199246 non-null  int64  \n",
      " 42  infant_sex                199246 non-null  object \n",
      " 43  weeks_gestation           199168 non-null  float64\n",
      " 44  down_syndrome             199040 non-null  object \n",
      "dtypes: float64(17), int64(4), object(24)\n",
      "memory usage: 69.9+ MB\n"
     ]
    }
   ],
   "source": [
    "df.info()"
   ]
  },
  {
   "cell_type": "code",
   "execution_count": 145,
   "metadata": {},
   "outputs": [],
   "source": [
    "df_cat = df.select_dtypes(include=['object'])"
   ]
  },
  {
   "cell_type": "code",
   "execution_count": 146,
   "metadata": {},
   "outputs": [],
   "source": [
    "df_num = df.select_dtypes(include=['int64', 'float64'])"
   ]
  },
  {
   "cell_type": "code",
   "execution_count": 147,
   "metadata": {},
   "outputs": [
    {
     "name": "stdout",
     "output_type": "stream",
     "text": [
      "---- birth_place ---\n",
      "hospital    196385\n",
      "other         2855\n",
      "Name: birth_place, dtype: int64\n",
      "---- mother_race ---\n",
      "white              148807\n",
      "black               33377\n",
      "asian/pi            14876\n",
      "native_american      2186\n",
      "Name: mother_race, dtype: int64\n",
      "---- marital_status ---\n",
      "married      105025\n",
      "unmarried     70611\n",
      "Name: marital_status, dtype: int64\n",
      "---- mother_education ---\n",
      "hs_or_lower          130399\n",
      "college_or_higher     66039\n",
      "Name: mother_education, dtype: int64\n",
      "---- food_assistance ---\n",
      "N    130288\n",
      "Y     66694\n",
      "U      2264\n",
      "Name: food_assistance, dtype: int64\n",
      "---- diabetes ---\n",
      "N    197135\n",
      "Y      2000\n",
      "Name: diabetes, dtype: int64\n",
      "---- gestational_diabetes ---\n",
      "N    185319\n",
      "Y     13816\n",
      "Name: gestational_diabetes, dtype: int64\n",
      "---- hypertension ---\n",
      "N    194695\n",
      "Y      4440\n",
      "Name: hypertension, dtype: int64\n",
      "---- gestational_hypertension ---\n",
      "N    183419\n",
      "Y     15716\n",
      "Name: gestational_hypertension, dtype: int64\n",
      "---- eclampsia ---\n",
      "N    198575\n",
      "Y       560\n",
      "Name: eclampsia, dtype: int64\n",
      "---- previous_premature_birth ---\n",
      "N    191806\n",
      "Y      7329\n",
      "Name: previous_premature_birth, dtype: int64\n",
      "---- infertility_treatment ---\n",
      "N    195050\n",
      "Y      4085\n",
      "Name: infertility_treatment, dtype: int64\n",
      "---- fertility_drugs ---\n",
      "N    197345\n",
      "Y      1588\n",
      "Name: fertility_drugs, dtype: int64\n",
      "---- assisted_reproduction ---\n",
      "N    196300\n",
      "Y      2633\n",
      "Name: assisted_reproduction, dtype: int64\n",
      "---- gonorrhea ---\n",
      "N    198206\n",
      "Y       617\n",
      "Name: gonorrhea, dtype: int64\n",
      "---- syphilis ---\n",
      "N    198547\n",
      "Y       276\n",
      "Name: syphilis, dtype: int64\n",
      "---- chlamydia ---\n",
      "N    195113\n",
      "Y      3710\n",
      "Name: chlamydia, dtype: int64\n",
      "---- hepatitis_b ---\n",
      "N    198440\n",
      "Y       383\n",
      "Name: hepatitis_b, dtype: int64\n",
      "---- hepatitis_c ---\n",
      "N    197818\n",
      "Y      1005\n",
      "Name: hepatitis_c, dtype: int64\n",
      "---- steroids ---\n",
      "N    191508\n",
      "Y      7680\n",
      "Name: steroids, dtype: int64\n",
      "---- antibiotics ---\n",
      "N    148987\n",
      "Y     50201\n",
      "Name: antibiotics, dtype: int64\n",
      "---- chorioamnionitis ---\n",
      "N    196039\n",
      "Y      3149\n",
      "Name: chorioamnionitis, dtype: int64\n",
      "---- infant_sex ---\n",
      "M    102178\n",
      "F     97068\n",
      "Name: infant_sex, dtype: int64\n",
      "---- down_syndrome ---\n",
      "N    198916\n",
      "C       124\n",
      "Name: down_syndrome, dtype: int64\n"
     ]
    }
   ],
   "source": [
    "for c in df_cat.columns:\n",
    "    print(\"---- %s ---\" % c)\n",
    "    print(df[c].value_counts())"
   ]
  },
  {
   "cell_type": "code",
   "execution_count": 148,
   "metadata": {},
   "outputs": [
    {
     "data": {
      "text/plain": [
       "Index(['birth_place', 'mother_race', 'marital_status', 'mother_education',\n",
       "       'food_assistance', 'diabetes', 'gestational_diabetes', 'hypertension',\n",
       "       'gestational_hypertension', 'eclampsia', 'previous_premature_birth',\n",
       "       'infertility_treatment', 'fertility_drugs', 'assisted_reproduction',\n",
       "       'gonorrhea', 'syphilis', 'chlamydia', 'hepatitis_b', 'hepatitis_c',\n",
       "       'steroids', 'antibiotics', 'chorioamnionitis', 'infant_sex',\n",
       "       'down_syndrome'],\n",
       "      dtype='object')"
      ]
     },
     "execution_count": 148,
     "metadata": {},
     "output_type": "execute_result"
    }
   ],
   "source": [
    "df_cat.columns"
   ]
  },
  {
   "cell_type": "code",
   "execution_count": 149,
   "metadata": {},
   "outputs": [
    {
     "data": {
      "image/png": "[encoded data removed]",
      "text/plain": [
       "<Figure size 864x4320 with 24 Axes>"
      ]
     },
     "metadata": {
      "needs_background": "light"
     },
     "output_type": "display_data"
    }
   ],
   "source": [
    "fig, axis = plt.subplots(nrows = int((len(df_cat.columns)/2)), ncols = 2, figsize=(12,len(df_cat.columns)*2.5))\n",
    "\n",
    "for i, subplot in zip(df_cat.columns, axis.ravel()):\n",
    "    df_cat[i].value_counts().plot(kind='barh', ax=subplot, title = i)"
   ]
  },
  {
   "cell_type": "code",
   "execution_count": 150,
   "metadata": {},
   "outputs": [
    {
     "name": "stderr",
     "output_type": "stream",
     "text": [
      "<ipython-input-150-db2104ea8bab>:2: UserWarning: To output multiple subplots, the figure containing the passed axes is being cleared\n",
      "  df.hist(ax=axis, bins='auto')\n"
     ]
    },
    {
     "data": {
      "text/plain": [
       "array([[<AxesSubplot:title={'center':'mother_age'}>,\n",
       "        <AxesSubplot:title={'center':'mother_native'}>,\n",
       "        <AxesSubplot:title={'center':'mother_hispanic'}>,\n",
       "        <AxesSubplot:title={'center':'father_age'}>,\n",
       "        <AxesSubplot:title={'center':'living_children'}>],\n",
       "       [<AxesSubplot:title={'center':'deceased_children'}>,\n",
       "        <AxesSubplot:title={'center':'terminations'}>,\n",
       "        <AxesSubplot:title={'center':'months_prenatal_care'}>,\n",
       "        <AxesSubplot:title={'center':'prenatal_visits'}>,\n",
       "        <AxesSubplot:title={'center':'prepregnancy_daily_cig'}>],\n",
       "       [<AxesSubplot:title={'center':'first_tri_daily_cig'}>,\n",
       "        <AxesSubplot:title={'center':'second_tri_daily_cig'}>,\n",
       "        <AxesSubplot:title={'center':'third_tri_daily_cig'}>,\n",
       "        <AxesSubplot:title={'center':'height'}>,\n",
       "        <AxesSubplot:title={'center':'bmi'}>],\n",
       "       [<AxesSubplot:title={'center':'delivery_weight'}>,\n",
       "        <AxesSubplot:title={'center':'weight_gain'}>,\n",
       "        <AxesSubplot:title={'center':'previous_cesareans'}>,\n",
       "        <AxesSubplot:title={'center':'apgar_score'}>,\n",
       "        <AxesSubplot:title={'center':'plural_pregnancy'}>],\n",
       "       [<AxesSubplot:title={'center':'weeks_gestation'}>, <AxesSubplot:>,\n",
       "        <AxesSubplot:>, <AxesSubplot:>, <AxesSubplot:>]], dtype=object)"
      ]
     },
     "execution_count": 150,
     "metadata": {},
     "output_type": "execute_result"
    },
    {
     "data": {
      "image/png": "[encoded data removed]",
      "text/plain": [
       "<Figure size 2880x2880 with 25 Axes>"
      ]
     },
     "metadata": {
      "needs_background": "light"
     },
     "output_type": "display_data"
    }
   ],
   "source": [
    "fig, axis = plt.subplots(figsize=(40, 40))\n",
    "df.hist(ax=axis, bins='auto')"
   ]
  },
  {
   "cell_type": "code",
   "execution_count": 151,
   "metadata": {},
   "outputs": [
    {
     "data": {
      "text/plain": [
       "birth_place                     6\n",
       "mother_age                      0\n",
       "mother_native                 412\n",
       "mother_race                     0\n",
       "mother_hispanic              1842\n",
       "marital_status              23610\n",
       "mother_education             2808\n",
       "father_age                  22874\n",
       "living_children               238\n",
       "deceased_children             370\n",
       "terminations                  409\n",
       "months_prenatal_care         4385\n",
       "prenatal_visits              4809\n",
       "food_assistance                 0\n",
       "prepregnancy_daily_cig          0\n",
       "first_tri_daily_cig           942\n",
       "second_tri_daily_cig          943\n",
       "third_tri_daily_cig          1944\n",
       "height                       1006\n",
       "bmi                             0\n",
       "delivery_weight              2618\n",
       "weight_gain                  5712\n",
       "diabetes                      111\n",
       "gestational_diabetes          111\n",
       "hypertension                  111\n",
       "gestational_hypertension      111\n",
       "eclampsia                     111\n",
       "previous_premature_birth      111\n",
       "infertility_treatment         111\n",
       "fertility_drugs               313\n",
       "assisted_reproduction         313\n",
       "previous_cesareans            152\n",
       "gonorrhea                     423\n",
       "syphilis                      423\n",
       "chlamydia                     423\n",
       "hepatitis_b                   423\n",
       "hepatitis_c                   423\n",
       "steroids                       58\n",
       "antibiotics                    58\n",
       "chorioamnionitis               58\n",
       "apgar_score                     0\n",
       "plural_pregnancy                0\n",
       "infant_sex                      0\n",
       "weeks_gestation                78\n",
       "down_syndrome                 206\n",
       "dtype: int64"
      ]
     },
     "execution_count": 151,
     "metadata": {},
     "output_type": "execute_result"
    }
   ],
   "source": [
    "df.isna().sum()"
   ]
  },
  {
   "cell_type": "markdown",
   "metadata": {},
   "source": [
    "## Train Test Split"
   ]
  },
  {
   "cell_type": "code",
   "execution_count": 152,
   "metadata": {},
   "outputs": [],
   "source": [
    "X = df.drop('apgar_score', axis=1)\n",
    "y = df['apgar_score']\n",
    "\n",
    "X_train, X_test, y_train, y_test = train_test_split(X, y, test_size=0.5, random_state=27, stratify = df['apgar_score'])"
   ]
  },
  {
   "cell_type": "code",
   "execution_count": 153,
   "metadata": {},
   "outputs": [
    {
     "data": {
      "text/plain": [
       "Index(['birth_place', 'mother_age', 'mother_native', 'mother_race',\n",
       "       'mother_hispanic', 'marital_status', 'mother_education', 'father_age',\n",
       "       'living_children', 'deceased_children', 'terminations',\n",
       "       'months_prenatal_care', 'prenatal_visits', 'food_assistance',\n",
       "       'prepregnancy_daily_cig', 'first_tri_daily_cig', 'second_tri_daily_cig',\n",
       "       'third_tri_daily_cig', 'height', 'bmi', 'delivery_weight',\n",
       "       'weight_gain', 'diabetes', 'gestational_diabetes', 'hypertension',\n",
       "       'gestational_hypertension', 'eclampsia', 'previous_premature_birth',\n",
       "       'infertility_treatment', 'fertility_drugs', 'assisted_reproduction',\n",
       "       'previous_cesareans', 'gonorrhea', 'syphilis', 'chlamydia',\n",
       "       'hepatitis_b', 'hepatitis_c', 'steroids', 'antibiotics',\n",
       "       'chorioamnionitis', 'plural_pregnancy', 'infant_sex', 'weeks_gestation',\n",
       "       'down_syndrome'],\n",
       "      dtype='object')"
      ]
     },
     "execution_count": 153,
     "metadata": {},
     "output_type": "execute_result"
    }
   ],
   "source": [
    "X.columns"
   ]
  },
  {
   "cell_type": "code",
   "execution_count": 154,
   "metadata": {},
   "outputs": [],
   "source": [
    "df_cat = df.select_dtypes(include=['object'])\n",
    "df_num = df.select_dtypes(include=['int64', 'float64'])"
   ]
  },
  {
   "cell_type": "code",
   "execution_count": 155,
   "metadata": {},
   "outputs": [],
   "source": [
    "numeric_features = X.select_dtypes(include=['int64', 'float64']).columns\n",
    "numeric_transformer = Pipeline(\n",
    "    steps=[(\"num_imputer\", SimpleImputer(strategy=\"median\")), (\"scaler\", MinMaxScaler())]\n",
    ")\n",
    "\n",
    "categorical_features = X.select_dtypes(include=['object']).columns\n",
    "categorical_transformer = Pipeline(\n",
    "    steps=[(\"cat_imputer\", SimpleImputer(strategy=\"most_frequent\")), (\"ohe\", OneHotEncoder(handle_unknown = 'ignore'))]\n",
    ")\n",
    "\n",
    "preprocessor = ColumnTransformer(\n",
    "    transformers=[\n",
    "        (\"num\", numeric_transformer, numeric_features),\n",
    "        (\"cat\", categorical_transformer, categorical_features),\n",
    "    ]\n",
    ")"
   ]
  },
  {
   "cell_type": "code",
   "execution_count": 156,
   "metadata": {},
   "outputs": [
    {
     "name": "stdout",
     "output_type": "stream",
     "text": [
      "model score: 0.979\n"
     ]
    }
   ],
   "source": [
    "dummy_clf = Pipeline(\n",
    "    steps=[(\"preprocessor\", preprocessor), (\"classifier\", DummyClassifier(strategy='most_frequent'))]\n",
    ")\n",
    "\n",
    "dummy_clf.fit(X_train, y_train)\n",
    "print(\"Model score: %.3f\" % dummy_clf.score(X_test, y_test))"
   ]
  },
  {
   "cell_type": "code",
   "execution_count": 159,
   "metadata": {},
   "outputs": [
    {
     "name": "stdout",
     "output_type": "stream",
     "text": [
      "Model score: 0.980\n"
     ]
    }
   ],
   "source": [
    "log_clf = Pipeline(\n",
    "    steps=[(\"preprocessor\", preprocessor), (\"classifier\", LogisticRegression(random_state=27, max_iter=500))]\n",
    ")\n",
    "\n",
    "log_clf.fit(X_train, y_train)\n",
    "print(\"Model score: %.3f\" % log_clf.score(X_test, y_test))"
   ]
  }
 ],
 "metadata": {
  "kernelspec": {
   "display_name": "Python (learn-env)",
   "language": "python",
   "name": "learn-env"
  },
  "language_info": {
   "codemirror_mode": {
    "name": "ipython",
    "version": 3
   },
   "file_extension": ".py",
   "mimetype": "text/x-python",
   "name": "python",
   "nbconvert_exporter": "python",
   "pygments_lexer": "ipython3",
   "version": "3.8.5"
  }
 },
 "nbformat": 4,
 "nbformat_minor": 4
}
