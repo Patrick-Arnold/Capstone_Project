{
 "cells": [
  {
   "cell_type": "markdown",
   "metadata": {},
   "source": [
    "Stakeholder: PRAMS Pregnancy Monitoring Network\n",
    "\n",
    "Business Problem: APGAR Score is a metric doctors use to measure the overall health of a newborn infant. But what if there were a way to prepare for a low APGAR score before the infant is even born? PRAMS has asked me to use natality data to create a model to alert medical staff if a newborn is likely to need emergency medical intervention."
   ]
  },
  {
   "cell_type": "code",
   "execution_count": 1,
   "metadata": {},
   "outputs": [],
   "source": [
    "import numpy as np\n",
    "import pandas as pd\n",
    "import matplotlib.pyplot as plt\n",
    "import xlrd\n",
    "import os\n",
    "import seaborn as sns\n",
    "import xgboost\n",
    "from sklearn.model_selection import train_test_split, GridSearchCV,\\\n",
    "cross_val_score\n",
    "from sklearn.linear_model import LogisticRegression, LinearRegression\n",
    "from sklearn.neighbors import KNeighborsClassifier\n",
    "from sklearn.tree import DecisionTreeClassifier\n",
    "from sklearn.ensemble import BaggingClassifier, RandomForestClassifier,\\\n",
    "ExtraTreesClassifier, VotingClassifier, StackingRegressor\n",
    "from sklearn.metrics import r2_score, accuracy_score, precision_score\n",
    "from sklearn.preprocessing import OneHotEncoder, MinMaxScaler\n",
    "from sklearn.impute import SimpleImputer\n",
    "from sklearn.pipeline import Pipeline\n",
    "from sklearn.compose import ColumnTransformer\n",
    "from sklearn.dummy import DummyClassifier"
   ]
  },
  {
   "cell_type": "code",
   "execution_count": 2,
   "metadata": {},
   "outputs": [],
   "source": [
    "# Read in the data sets\n",
    "df = pd.read_csv(\"data/nat2019slice.csv\")"
   ]
  },
  {
   "cell_type": "code",
   "execution_count": 3,
   "metadata": {},
   "outputs": [
    {
     "data": {
      "text/plain": [
       "Index(['dob_yy', 'dob_mm', 'dob_tt', 'dob_wk', 'bfacil', 'f_facility',\n",
       "       'bfacil3', 'mage_impflg', 'mage_repflg', 'mager',\n",
       "       ...\n",
       "       'f_ca_cleftlp', 'f_ca_cleft', 'f_ca_downs', 'f_ca_chrom', 'f_ca_hypos',\n",
       "       'no_congen', 'itran', 'ilive', 'bfed', 'f_bfed'],\n",
       "      dtype='object', length=226)"
      ]
     },
     "execution_count": 3,
     "metadata": {},
     "output_type": "execute_result"
    }
   ],
   "source": [
    "df.columns"
   ]
  },
  {
   "cell_type": "code",
   "execution_count": 4,
   "metadata": {},
   "outputs": [
    {
     "data": {
      "text/html": [
       "<div>\n",
       "<style scoped>\n",
       "    .dataframe tbody tr th:only-of-type {\n",
       "        vertical-align: middle;\n",
       "    }\n",
       "\n",
       "    .dataframe tbody tr th {\n",
       "        vertical-align: top;\n",
       "    }\n",
       "\n",
       "    .dataframe thead th {\n",
       "        text-align: right;\n",
       "    }\n",
       "</style>\n",
       "<table border=\"1\" class=\"dataframe\">\n",
       "  <thead>\n",
       "    <tr style=\"text-align: right;\">\n",
       "      <th></th>\n",
       "      <th>dob_yy</th>\n",
       "      <th>dob_mm</th>\n",
       "      <th>dob_tt</th>\n",
       "      <th>dob_wk</th>\n",
       "      <th>bfacil</th>\n",
       "      <th>f_facility</th>\n",
       "      <th>bfacil3</th>\n",
       "      <th>mage_impflg</th>\n",
       "      <th>mage_repflg</th>\n",
       "      <th>mager</th>\n",
       "      <th>...</th>\n",
       "      <th>f_ca_cleftlp</th>\n",
       "      <th>f_ca_cleft</th>\n",
       "      <th>f_ca_downs</th>\n",
       "      <th>f_ca_chrom</th>\n",
       "      <th>f_ca_hypos</th>\n",
       "      <th>no_congen</th>\n",
       "      <th>itran</th>\n",
       "      <th>ilive</th>\n",
       "      <th>bfed</th>\n",
       "      <th>f_bfed</th>\n",
       "    </tr>\n",
       "  </thead>\n",
       "  <tbody>\n",
       "    <tr>\n",
       "      <th>0</th>\n",
       "      <td>2019</td>\n",
       "      <td>1</td>\n",
       "      <td>1135</td>\n",
       "      <td>3</td>\n",
       "      <td>1</td>\n",
       "      <td>1</td>\n",
       "      <td>1</td>\n",
       "      <td>NaN</td>\n",
       "      <td>NaN</td>\n",
       "      <td>29</td>\n",
       "      <td>...</td>\n",
       "      <td>1</td>\n",
       "      <td>1</td>\n",
       "      <td>1</td>\n",
       "      <td>1</td>\n",
       "      <td>1</td>\n",
       "      <td>1</td>\n",
       "      <td>N</td>\n",
       "      <td>Y</td>\n",
       "      <td>Y</td>\n",
       "      <td>1</td>\n",
       "    </tr>\n",
       "    <tr>\n",
       "      <th>1</th>\n",
       "      <td>2019</td>\n",
       "      <td>1</td>\n",
       "      <td>1305</td>\n",
       "      <td>3</td>\n",
       "      <td>1</td>\n",
       "      <td>1</td>\n",
       "      <td>1</td>\n",
       "      <td>NaN</td>\n",
       "      <td>NaN</td>\n",
       "      <td>40</td>\n",
       "      <td>...</td>\n",
       "      <td>1</td>\n",
       "      <td>1</td>\n",
       "      <td>1</td>\n",
       "      <td>1</td>\n",
       "      <td>1</td>\n",
       "      <td>1</td>\n",
       "      <td>N</td>\n",
       "      <td>Y</td>\n",
       "      <td>Y</td>\n",
       "      <td>1</td>\n",
       "    </tr>\n",
       "    <tr>\n",
       "      <th>2</th>\n",
       "      <td>2019</td>\n",
       "      <td>1</td>\n",
       "      <td>800</td>\n",
       "      <td>3</td>\n",
       "      <td>1</td>\n",
       "      <td>1</td>\n",
       "      <td>1</td>\n",
       "      <td>NaN</td>\n",
       "      <td>NaN</td>\n",
       "      <td>30</td>\n",
       "      <td>...</td>\n",
       "      <td>1</td>\n",
       "      <td>1</td>\n",
       "      <td>1</td>\n",
       "      <td>1</td>\n",
       "      <td>1</td>\n",
       "      <td>1</td>\n",
       "      <td>N</td>\n",
       "      <td>Y</td>\n",
       "      <td>Y</td>\n",
       "      <td>1</td>\n",
       "    </tr>\n",
       "    <tr>\n",
       "      <th>3</th>\n",
       "      <td>2019</td>\n",
       "      <td>1</td>\n",
       "      <td>130</td>\n",
       "      <td>4</td>\n",
       "      <td>1</td>\n",
       "      <td>1</td>\n",
       "      <td>1</td>\n",
       "      <td>NaN</td>\n",
       "      <td>NaN</td>\n",
       "      <td>25</td>\n",
       "      <td>...</td>\n",
       "      <td>1</td>\n",
       "      <td>1</td>\n",
       "      <td>1</td>\n",
       "      <td>1</td>\n",
       "      <td>1</td>\n",
       "      <td>1</td>\n",
       "      <td>N</td>\n",
       "      <td>Y</td>\n",
       "      <td>Y</td>\n",
       "      <td>1</td>\n",
       "    </tr>\n",
       "    <tr>\n",
       "      <th>4</th>\n",
       "      <td>2019</td>\n",
       "      <td>1</td>\n",
       "      <td>1426</td>\n",
       "      <td>4</td>\n",
       "      <td>1</td>\n",
       "      <td>1</td>\n",
       "      <td>1</td>\n",
       "      <td>NaN</td>\n",
       "      <td>NaN</td>\n",
       "      <td>38</td>\n",
       "      <td>...</td>\n",
       "      <td>1</td>\n",
       "      <td>1</td>\n",
       "      <td>1</td>\n",
       "      <td>1</td>\n",
       "      <td>1</td>\n",
       "      <td>1</td>\n",
       "      <td>N</td>\n",
       "      <td>Y</td>\n",
       "      <td>Y</td>\n",
       "      <td>1</td>\n",
       "    </tr>\n",
       "  </tbody>\n",
       "</table>\n",
       "<p>5 rows × 226 columns</p>\n",
       "</div>"
      ],
      "text/plain": [
       "   dob_yy  dob_mm  dob_tt  dob_wk  bfacil  f_facility  bfacil3  mage_impflg  \\\n",
       "0    2019       1    1135       3       1           1        1          NaN   \n",
       "1    2019       1    1305       3       1           1        1          NaN   \n",
       "2    2019       1     800       3       1           1        1          NaN   \n",
       "3    2019       1     130       4       1           1        1          NaN   \n",
       "4    2019       1    1426       4       1           1        1          NaN   \n",
       "\n",
       "   mage_repflg  mager  ...  f_ca_cleftlp  f_ca_cleft  f_ca_downs  f_ca_chrom  \\\n",
       "0          NaN     29  ...             1           1           1           1   \n",
       "1          NaN     40  ...             1           1           1           1   \n",
       "2          NaN     30  ...             1           1           1           1   \n",
       "3          NaN     25  ...             1           1           1           1   \n",
       "4          NaN     38  ...             1           1           1           1   \n",
       "\n",
       "   f_ca_hypos  no_congen  itran  ilive  bfed  f_bfed  \n",
       "0           1          1      N      Y     Y       1  \n",
       "1           1          1      N      Y     Y       1  \n",
       "2           1          1      N      Y     Y       1  \n",
       "3           1          1      N      Y     Y       1  \n",
       "4           1          1      N      Y     Y       1  \n",
       "\n",
       "[5 rows x 226 columns]"
      ]
     },
     "execution_count": 4,
     "metadata": {},
     "output_type": "execute_result"
    }
   ],
   "source": [
    "df.head()"
   ]
  },
  {
   "cell_type": "markdown",
   "metadata": {},
   "source": [
    "Columns are removed for the following reasons:\n",
    "- They are storing metadata about the collection of the data minor processing tasks performed\n",
    "- They are pre-binned for a specific purpose outside the scope of this analysis\n",
    "- They are slight variations of existing columns which are more applicable to this analysis\n",
    "- They represent events that happen after birth has already occurred"
   ]
  },
  {
   "cell_type": "code",
   "execution_count": 5,
   "metadata": {},
   "outputs": [],
   "source": [
    "remove = ['dob_yy', 'f_facility', 'bfacil3', 'mage_impflg', 'mage_repflg', 'mager14', 'mager9', 'mrace31', 'mrace6', 'mrace15',\n",
    "           'mraceimp', 'mhispx', 'f_mhisp', 'mracehisp', 'mar_p', 'mar_imp', 'f_mar_p', 'f_meduc', 'fagerpt_flg', 'fagerec11',\n",
    "           'frace31', 'frace15', 'fhispx', 'f_fhisp', 'lbo_rec', 'tbo_rec', 'illb_r', 'illb_r11', 'ilop_r',\n",
    "           'ilop_r11', 'ilp_r11', 'f_mpcb', 'precare5', 'previs_rec', 'f_tpcv', 'f_wic', 'cig0_r', 'cig1_r', 'cig2_r',\n",
    "           'cig3_r', 'f_cigs_0', 'f_cigs_1', 'f_cigs_2', 'f_cigs_3', 'cig_rec', 'f_tobaco', 'f_m_ht', 'bmi_r', 'pwgt_r',\n",
    "           'f_pwgt', 'f_dwgt', 'wtgain_rec', 'f_wtgain', 'f_rf_pdiab', 'f_rf_gdiab', 'f_rf_phyper', 'f_rf_ghyper', \n",
    "           'f_rf_eclamp', 'f_rf_ppb', 'f_rf_inf_drg', 'f_rf_inf_art', 'rf_cesar', 'f_rf_cesar', 'f_rf_ncesar',\n",
    "           'no_risks', 'f_ip_gonor', 'f_ip_syph', 'f_ip_chlam', 'f_ip_hepatb', 'f_ip_hepatc', 'no_infec', 'ob_ecvs', 'ob_ecvf',\n",
    "           'f_ob_succ', 'f_ob_fail', 'ld_indl', 'ld_augm', 'ld_anes', 'f_ld_indl', 'f_ld_augm', 'f_ld_ster', 'f_ld_antb',\n",
    "           'f_ld_chor', 'f_ld_anes', 'no_lbrdlv', 'me_pres', 'me_rout', 'me_trial', 'f_me_pres', 'f_me_rout', 'f_me_trial',\n",
    "           'rdmeth_rec', 'dmeth_rec', 'f_dmeth_rec', 'mm_mtr', 'mm_plac', 'mm_rupt', 'mm_uhyst', 'mm_aicu', 'f_mm_mtr',\n",
    "           'f_mm_rupt', 'f_mm_uhyst', 'f_mm_aicu', 'no_mmorb', 'mtran', 'pay', 'f_pay', 'f_pay_rec', 'apgar5r',\n",
    "           'f_apgar5', 'apgar10', 'apgar10r', 'imp_plur', 'setorder_r', 'imp_sex', 'dlmp_mm', 'dlmp_yy', 'compgst_imp',\n",
    "           'obgest_flg', 'gestrec10', 'gestrec3', 'lmpused', 'oegest_comb', 'oegest_r10', 'dbwt', 'bwtr12', 'bwtr4',\n",
    "           'ab_aven1', 'ab_aven6', 'ab_nicu', 'ab_surf', 'ab_anti', 'ab_seiz', 'f_ab_vent', 'f_ab_vent6',\n",
    "           'f_ab_surfac', 'f_ab_antibio', 'f_ab_seiz', 'no_abnorm', 'ca_anen', 'ca_mnsb', 'ca_cchd', 'ca_cdh', 'ca_omph', \n",
    "           'ca_gast', 'f_ca_anen', 'f_ca_menin', 'f_ca_heart', 'f_ca_hernia', 'f_ca_ompha', 'f_ca_gastro', 'ca_limb',\n",
    "           'ca_cleft', 'ca_clpal', 'ca_disor', 'ca_hypo', 'f_ca_limb', 'f_ca_cleftlp', 'f_ca_cleft', 'f_ca_downs', \n",
    "           'f_ca_chrom', 'f_ca_hypos', 'no_congen', 'itran', 'ilive', 'bfed', 'f_bfed', 'f_mm_', 'f_ab_nicu', 'fracehisp',\n",
    "           'oegest_r3', 'dob_mm', 'dob_tt', 'dob_wk', 'restatus', 'frace6', 'fhisp_r', 'feduc', 'ilp_r', 'attend', 'pay_rec']"
   ]
  },
  {
   "cell_type": "code",
   "execution_count": 6,
   "metadata": {},
   "outputs": [
    {
     "data": {
      "text/plain": [
       "Index(['bfacil', 'mager', 'mbstate_rec', 'mbrace', 'mhisp_r', 'dmar', 'meduc',\n",
       "       'fagecomb', 'priorlive', 'priordead', 'priorterm', 'precare', 'previs',\n",
       "       'wic', 'cig_0', 'cig_1', 'cig_2', 'cig_3', 'm_ht_in', 'bmi', 'dwgt_r',\n",
       "       'wtgain', 'rf_pdiab', 'rf_gdiab', 'rf_phype', 'rf_ghype', 'rf_ehype',\n",
       "       'rf_ppterm', 'rf_inftr', 'rf_fedrg', 'rf_artec', 'rf_cesarn', 'ip_gon',\n",
       "       'ip_syph', 'ip_chlam', 'ip_hepatb', 'ip_hepatc', 'ld_ster', 'ld_antb',\n",
       "       'ld_chor', 'apgar5', 'dplural', 'sex', 'combgest', 'ca_downs'],\n",
       "      dtype='object')"
      ]
     },
     "execution_count": 6,
     "metadata": {},
     "output_type": "execute_result"
    }
   ],
   "source": [
    "df.drop(remove, axis=1, inplace=True)\n",
    "df.columns"
   ]
  },
  {
   "cell_type": "code",
   "execution_count": 7,
   "metadata": {},
   "outputs": [],
   "source": [
    "rename = ['birth_place', 'mother_age', 'mother_native',\n",
    "          'mother_race', 'mother_hispanic', 'marital_status', 'mother_education', 'father_age',\n",
    "          'living_children', 'deceased_children', 'terminations', \n",
    "          'months_prenatal_care', 'prenatal_visits', 'food_assistance', 'prepregnancy_daily_cig',\n",
    "          'first_tri_daily_cig', 'second_tri_daily_cig', 'third_tri_daily_cig', 'height', 'bmi', 'delivery_weight',\n",
    "          'weight_gain', 'diabetes', 'gestational_diabetes', 'hypertension', 'gestational_hypertension', 'eclampsia',\n",
    "          'previous_premature_birth', 'infertility_treatment', 'fertility_drugs', 'assisted_reproduction',\n",
    "          'previous_cesareans', 'gonorrhea', 'syphilis', 'chlamydia', 'hepatitis_b', 'hepatitis_c', 'steroids', 'antibiotics',\n",
    "          'chorioamnionitis', 'apgar_score', 'plural_pregnancy', 'infant_sex', 'weeks_gestation',\n",
    "          'down_syndrome']"
   ]
  },
  {
   "cell_type": "code",
   "execution_count": 8,
   "metadata": {},
   "outputs": [],
   "source": [
    "df.columns = rename"
   ]
  },
  {
   "cell_type": "markdown",
   "metadata": {},
   "source": [
    "## Target Engineering"
   ]
  },
  {
   "cell_type": "code",
   "execution_count": 9,
   "metadata": {},
   "outputs": [
    {
     "data": {
      "text/plain": [
       "9     362\n",
       "8     100\n",
       "10      9\n",
       "7       9\n",
       "6       6\n",
       "5       5\n",
       "1       3\n",
       "99      2\n",
       "3       2\n",
       "4       1\n",
       "Name: apgar_score, dtype: int64"
      ]
     },
     "execution_count": 9,
     "metadata": {},
     "output_type": "execute_result"
    }
   ],
   "source": [
    "df['apgar_score'].value_counts()"
   ]
  },
  {
   "cell_type": "code",
   "execution_count": 10,
   "metadata": {},
   "outputs": [],
   "source": [
    "df['apgar_score'].replace(to_replace=list(range(0, 7)), value=0, inplace=True)"
   ]
  },
  {
   "cell_type": "code",
   "execution_count": 11,
   "metadata": {},
   "outputs": [],
   "source": [
    "df['apgar_score'].replace(to_replace=list(range(7, 11)), value=1, inplace=True)"
   ]
  },
  {
   "cell_type": "code",
   "execution_count": 12,
   "metadata": {},
   "outputs": [],
   "source": [
    "df.drop(df.loc[df['apgar_score']==99].index, inplace=True)"
   ]
  },
  {
   "cell_type": "code",
   "execution_count": 13,
   "metadata": {},
   "outputs": [
    {
     "data": {
      "text/plain": [
       "1    480\n",
       "0     17\n",
       "Name: apgar_score, dtype: int64"
      ]
     },
     "execution_count": 13,
     "metadata": {},
     "output_type": "execute_result"
    }
   ],
   "source": [
    "df['apgar_score'].value_counts()"
   ]
  },
  {
   "cell_type": "markdown",
   "metadata": {},
   "source": [
    "## Feature Processing"
   ]
  },
  {
   "cell_type": "code",
   "execution_count": 14,
   "metadata": {},
   "outputs": [
    {
     "data": {
      "text/plain": [
       "Index(['birth_place', 'mother_age', 'mother_native', 'mother_race',\n",
       "       'mother_hispanic', 'marital_status', 'mother_education', 'father_age',\n",
       "       'living_children', 'deceased_children', 'terminations',\n",
       "       'months_prenatal_care', 'prenatal_visits', 'food_assistance',\n",
       "       'prepregnancy_daily_cig', 'first_tri_daily_cig', 'second_tri_daily_cig',\n",
       "       'third_tri_daily_cig', 'height', 'bmi', 'delivery_weight',\n",
       "       'weight_gain', 'diabetes', 'gestational_diabetes', 'hypertension',\n",
       "       'gestational_hypertension', 'eclampsia', 'previous_premature_birth',\n",
       "       'infertility_treatment', 'fertility_drugs', 'assisted_reproduction',\n",
       "       'previous_cesareans', 'gonorrhea', 'syphilis', 'chlamydia',\n",
       "       'hepatitis_b', 'hepatitis_c', 'steroids', 'antibiotics',\n",
       "       'chorioamnionitis', 'apgar_score', 'plural_pregnancy', 'infant_sex',\n",
       "       'weeks_gestation', 'down_syndrome'],\n",
       "      dtype='object')"
      ]
     },
     "execution_count": 14,
     "metadata": {},
     "output_type": "execute_result"
    }
   ],
   "source": [
    "df.columns"
   ]
  },
  {
   "cell_type": "code",
   "execution_count": 15,
   "metadata": {},
   "outputs": [
    {
     "data": {
      "text/plain": [
       "1    478\n",
       "2     13\n",
       "3      5\n",
       "4      1\n",
       "Name: birth_place, dtype: int64"
      ]
     },
     "execution_count": 15,
     "metadata": {},
     "output_type": "execute_result"
    }
   ],
   "source": [
    "df['birth_place'].value_counts()"
   ]
  },
  {
   "cell_type": "code",
   "execution_count": 16,
   "metadata": {},
   "outputs": [],
   "source": [
    "df['birth_place'].replace(to_replace=list(range(2, 8)), value=\"other\", inplace=True)\n",
    "df['birth_place'].replace(to_replace=1, value=\"hospital\", inplace=True)\n",
    "df['birth_place'].replace(to_replace=9, value=np.nan, inplace=True)"
   ]
  },
  {
   "cell_type": "code",
   "execution_count": 17,
   "metadata": {},
   "outputs": [
    {
     "data": {
      "text/plain": [
       "1    436\n",
       "2     60\n",
       "3      1\n",
       "Name: mother_native, dtype: int64"
      ]
     },
     "execution_count": 17,
     "metadata": {},
     "output_type": "execute_result"
    }
   ],
   "source": [
    "df['mother_native'].value_counts()"
   ]
  },
  {
   "cell_type": "code",
   "execution_count": 18,
   "metadata": {},
   "outputs": [],
   "source": [
    "df['mother_native'].replace(to_replace=2, value=0, inplace=True)\n",
    "df['mother_native'].replace(to_replace=3, value=np.nan, inplace=True)"
   ]
  },
  {
   "cell_type": "code",
   "execution_count": 19,
   "metadata": {},
   "outputs": [
    {
     "data": {
      "text/plain": [
       "1    308\n",
       "3    110\n",
       "4     57\n",
       "2     22\n",
       "Name: mother_race, dtype: int64"
      ]
     },
     "execution_count": 19,
     "metadata": {},
     "output_type": "execute_result"
    }
   ],
   "source": [
    "df['mother_race'].value_counts()"
   ]
  },
  {
   "cell_type": "code",
   "execution_count": 20,
   "metadata": {},
   "outputs": [],
   "source": [
    "df['mother_race'].replace({1: 'white', 2: 'black', 3: 'native_american', 4: 'asian/pi'}, inplace=True)"
   ]
  },
  {
   "cell_type": "code",
   "execution_count": 21,
   "metadata": {},
   "outputs": [],
   "source": [
    "# Place of birth\n",
    "counts = (df[['mother_race', 'apgar_score']]\n",
    "              .groupby(['mother_race', 'apgar_score'])\n",
    "              .size()\n",
    "              .unstack('apgar_score')\n",
    "         )"
   ]
  },
  {
   "cell_type": "code",
   "execution_count": 22,
   "metadata": {},
   "outputs": [],
   "source": [
    "counts['percent_low_apgar'] = (counts[0]/counts[1])*100"
   ]
  },
  {
   "cell_type": "code",
   "execution_count": 23,
   "metadata": {},
   "outputs": [
    {
     "data": {
      "text/plain": [
       "mother_race\n",
       "asian/pi           11.764706\n",
       "black               4.761905\n",
       "native_american     1.851852\n",
       "white               2.666667\n",
       "Name: percent_low_apgar, dtype: float64"
      ]
     },
     "execution_count": 23,
     "metadata": {},
     "output_type": "execute_result"
    }
   ],
   "source": [
    "counts['percent_low_apgar']"
   ]
  },
  {
   "cell_type": "code",
   "execution_count": 24,
   "metadata": {},
   "outputs": [
    {
     "data": {
      "text/plain": [
       "<matplotlib.legend.Legend at 0x19cf9ded400>"
      ]
     },
     "execution_count": 24,
     "metadata": {},
     "output_type": "execute_result"
    },
    {
     "data": {
      "image/png": "[encoded data removed]",
      "text/plain": [
       "<Figure size 432x288 with 1 Axes>"
      ]
     },
     "metadata": {
      "needs_background": "light"
     },
     "output_type": "display_data"
    }
   ],
   "source": [
    "ax = counts['percent_low_apgar'].plot.barh()\n",
    "ax.invert_yaxis()\n",
    "ax.legend(\n",
    "    loc='center right', \n",
    "    bbox_to_anchor=(1.5, 0.5), \n",
    "    title='Mother Race'\n",
    ")"
   ]
  },
  {
   "cell_type": "code",
   "execution_count": 25,
   "metadata": {},
   "outputs": [
    {
     "data": {
      "text/plain": [
       "0    446\n",
       "1     18\n",
       "5     10\n",
       "9      8\n",
       "4      7\n",
       "2      6\n",
       "3      2\n",
       "Name: mother_hispanic, dtype: int64"
      ]
     },
     "execution_count": 25,
     "metadata": {},
     "output_type": "execute_result"
    }
   ],
   "source": [
    "df['mother_hispanic'].value_counts()"
   ]
  },
  {
   "cell_type": "code",
   "execution_count": 26,
   "metadata": {},
   "outputs": [],
   "source": [
    "df['mother_hispanic'].replace(to_replace=list(range(1, 6)), value=1, inplace=True)\n",
    "df['mother_hispanic'].replace(to_replace=9, value=np.nan, inplace=True)"
   ]
  },
  {
   "cell_type": "code",
   "execution_count": 27,
   "metadata": {},
   "outputs": [
    {
     "data": {
      "text/plain": [
       "1    310\n",
       "2    187\n",
       "Name: marital_status, dtype: int64"
      ]
     },
     "execution_count": 27,
     "metadata": {},
     "output_type": "execute_result"
    }
   ],
   "source": [
    "df['marital_status'].value_counts()"
   ]
  },
  {
   "cell_type": "code",
   "execution_count": 28,
   "metadata": {},
   "outputs": [],
   "source": [
    "df['marital_status'].replace({1: 'married', 2: 'unmarried'}, inplace=True)"
   ]
  },
  {
   "cell_type": "code",
   "execution_count": 29,
   "metadata": {},
   "outputs": [
    {
     "data": {
      "text/plain": [
       "<matplotlib.legend.Legend at 0x19cfbf72580>"
      ]
     },
     "execution_count": 29,
     "metadata": {},
     "output_type": "execute_result"
    },
    {
     "data": {
      "image/png": "[encoded data removed]",
      "text/plain": [
       "<Figure size 432x288 with 1 Axes>"
      ]
     },
     "metadata": {
      "needs_background": "light"
     },
     "output_type": "display_data"
    }
   ],
   "source": [
    "counts = (df[['marital_status', 'apgar_score']]\n",
    "              .groupby(['marital_status', 'apgar_score'])\n",
    "              .size()\n",
    "              .unstack('apgar_score')\n",
    "         )\n",
    "\n",
    "counts['percent_low_apgar'] = (counts[0]/counts[1])*100\n",
    "\n",
    "ax = counts['percent_low_apgar'].plot.barh()\n",
    "ax.invert_yaxis()\n",
    "ax.legend(\n",
    "    loc='center right', \n",
    "    bbox_to_anchor=(1.5, 0.5), \n",
    "    title='Marital Status'\n",
    ")"
   ]
  },
  {
   "cell_type": "code",
   "execution_count": 30,
   "metadata": {},
   "outputs": [
    {
     "data": {
      "text/plain": [
       "3    138\n",
       "4    128\n",
       "6     90\n",
       "5     44\n",
       "2     42\n",
       "7     26\n",
       "8     13\n",
       "9      9\n",
       "1      7\n",
       "Name: mother_education, dtype: int64"
      ]
     },
     "execution_count": 30,
     "metadata": {},
     "output_type": "execute_result"
    }
   ],
   "source": [
    "df['mother_education'].value_counts()"
   ]
  },
  {
   "cell_type": "code",
   "execution_count": 31,
   "metadata": {},
   "outputs": [
    {
     "data": {
      "text/plain": [
       "<matplotlib.legend.Legend at 0x19cfbfccfd0>"
      ]
     },
     "execution_count": 31,
     "metadata": {},
     "output_type": "execute_result"
    },
    {
     "data": {
      "image/png": "[encoded data removed]",
      "text/plain": [
       "<Figure size 432x288 with 1 Axes>"
      ]
     },
     "metadata": {
      "needs_background": "light"
     },
     "output_type": "display_data"
    }
   ],
   "source": [
    "counts = (df[['mother_education', 'apgar_score']]\n",
    "              .groupby(['mother_education', 'apgar_score'])\n",
    "              .size()\n",
    "              .unstack('apgar_score')\n",
    "         )\n",
    "\n",
    "counts['percent_low_apgar'] = (counts[0]/counts[1])*100\n",
    "\n",
    "ax = counts['percent_low_apgar'].plot.barh()\n",
    "ax.invert_yaxis()\n",
    "ax.legend(\n",
    "    loc='center right', \n",
    "    bbox_to_anchor=(1.5, 0.5), \n",
    "    title='Education'\n",
    ")"
   ]
  },
  {
   "cell_type": "code",
   "execution_count": 32,
   "metadata": {},
   "outputs": [],
   "source": [
    "df['mother_education'].replace(to_replace=list(range(1, 6)), value=\"hs_or_lower\", inplace=True)\n",
    "df['mother_education'].replace(to_replace=list(range(6, 9)), value=\"college_or_higher\", inplace=True)\n",
    "df['mother_education'].replace(to_replace=9, value=np.nan, inplace=True)"
   ]
  },
  {
   "cell_type": "code",
   "execution_count": 33,
   "metadata": {},
   "outputs": [
    {
     "data": {
      "text/plain": [
       "99    43\n",
       "31    39\n",
       "34    26\n",
       "33    25\n",
       "27    24\n",
       "38    23\n",
       "32    23\n",
       "36    22\n",
       "28    21\n",
       "29    21\n",
       "26    20\n",
       "30    20\n",
       "22    20\n",
       "25    17\n",
       "35    16\n",
       "37    16\n",
       "21    15\n",
       "41    15\n",
       "39    11\n",
       "40    10\n",
       "24    10\n",
       "20     8\n",
       "23     6\n",
       "47     6\n",
       "42     5\n",
       "46     5\n",
       "43     5\n",
       "49     4\n",
       "44     4\n",
       "52     3\n",
       "51     3\n",
       "48     2\n",
       "45     2\n",
       "19     2\n",
       "18     2\n",
       "55     1\n",
       "53     1\n",
       "58     1\n",
       "Name: father_age, dtype: int64"
      ]
     },
     "execution_count": 33,
     "metadata": {},
     "output_type": "execute_result"
    }
   ],
   "source": [
    "df['father_age'].value_counts()"
   ]
  },
  {
   "cell_type": "code",
   "execution_count": 34,
   "metadata": {},
   "outputs": [
    {
     "data": {
      "text/plain": [
       "<matplotlib.legend.Legend at 0x19cfbfb0400>"
      ]
     },
     "execution_count": 34,
     "metadata": {},
     "output_type": "execute_result"
    },
    {
     "data": {
      "image/png": "[encoded data removed]",
      "text/plain": [
       "<Figure size 432x288 with 1 Axes>"
      ]
     },
     "metadata": {
      "needs_background": "light"
     },
     "output_type": "display_data"
    }
   ],
   "source": [
    "counts = (df[['father_age', 'apgar_score']]\n",
    "              .groupby(['father_age', 'apgar_score'])\n",
    "              .size()\n",
    "              .unstack('apgar_score')\n",
    "         )\n",
    "\n",
    "counts['percent_low_apgar'] = (counts[0]/counts[1])*100\n",
    "\n",
    "ax = counts['percent_low_apgar'].plot.bar()\n",
    "ax.invert_yaxis()\n",
    "ax.legend(\n",
    "    loc='center right', \n",
    "    bbox_to_anchor=(1.5, 0.5), \n",
    "    title='Father Age'\n",
    ")"
   ]
  },
  {
   "cell_type": "code",
   "execution_count": 35,
   "metadata": {},
   "outputs": [],
   "source": [
    "df['father_age'].replace(to_replace=99, value=np.nan, inplace=True)"
   ]
  },
  {
   "cell_type": "code",
   "execution_count": 36,
   "metadata": {},
   "outputs": [
    {
     "data": {
      "text/plain": [
       "0     168\n",
       "1     147\n",
       "2      92\n",
       "3      49\n",
       "4      21\n",
       "5       9\n",
       "6       5\n",
       "7       2\n",
       "99      1\n",
       "10      1\n",
       "9       1\n",
       "8       1\n",
       "Name: living_children, dtype: int64"
      ]
     },
     "execution_count": 36,
     "metadata": {},
     "output_type": "execute_result"
    }
   ],
   "source": [
    "df['living_children'].value_counts()"
   ]
  },
  {
   "cell_type": "code",
   "execution_count": 37,
   "metadata": {},
   "outputs": [
    {
     "data": {
      "text/plain": [
       "<matplotlib.legend.Legend at 0x19cfbf07220>"
      ]
     },
     "execution_count": 37,
     "metadata": {},
     "output_type": "execute_result"
    },
    {
     "data": {
      "image/png": "[encoded data removed]",
      "text/plain": [
       "<Figure size 432x288 with 1 Axes>"
      ]
     },
     "metadata": {
      "needs_background": "light"
     },
     "output_type": "display_data"
    }
   ],
   "source": [
    "counts = (df[['living_children', 'apgar_score']]\n",
    "              .groupby(['living_children', 'apgar_score'])\n",
    "              .size()\n",
    "              .unstack('apgar_score')\n",
    "         )\n",
    "\n",
    "counts['percent_low_apgar'] = (counts[0]/counts[1])*100\n",
    "\n",
    "ax = counts['percent_low_apgar'].plot.bar()\n",
    "ax.legend(\n",
    "    loc='center right', \n",
    "    bbox_to_anchor=(1.5, 0.5), \n",
    "    title='Living Children'\n",
    ")"
   ]
  },
  {
   "cell_type": "code",
   "execution_count": 38,
   "metadata": {},
   "outputs": [],
   "source": [
    "df['living_children'].replace(to_replace=99, value=np.nan, inplace=True)"
   ]
  },
  {
   "cell_type": "code",
   "execution_count": 39,
   "metadata": {},
   "outputs": [
    {
     "data": {
      "text/plain": [
       "0     490\n",
       "1       5\n",
       "99      1\n",
       "2       1\n",
       "Name: deceased_children, dtype: int64"
      ]
     },
     "execution_count": 39,
     "metadata": {},
     "output_type": "execute_result"
    }
   ],
   "source": [
    "df['deceased_children'].value_counts()"
   ]
  },
  {
   "cell_type": "code",
   "execution_count": 40,
   "metadata": {},
   "outputs": [
    {
     "data": {
      "text/plain": [
       "<matplotlib.legend.Legend at 0x19cfc167ca0>"
      ]
     },
     "execution_count": 40,
     "metadata": {},
     "output_type": "execute_result"
    },
    {
     "data": {
      "image/png": "[encoded data removed]",
      "text/plain": [
       "<Figure size 432x288 with 1 Axes>"
      ]
     },
     "metadata": {
      "needs_background": "light"
     },
     "output_type": "display_data"
    }
   ],
   "source": [
    "counts = (df[['deceased_children', 'apgar_score']]\n",
    "              .groupby(['deceased_children', 'apgar_score'])\n",
    "              .size()\n",
    "              .unstack('apgar_score')\n",
    "         )\n",
    "\n",
    "counts['percent_low_apgar'] = (counts[0]/counts[1])*100\n",
    "\n",
    "ax = counts['percent_low_apgar'].plot.bar()\n",
    "ax.legend(\n",
    "    loc='center right', \n",
    "    bbox_to_anchor=(1.5, 0.5), \n",
    "    title='Deceased Children'\n",
    ")"
   ]
  },
  {
   "cell_type": "code",
   "execution_count": 41,
   "metadata": {},
   "outputs": [],
   "source": [
    "df['deceased_children'].replace(to_replace=99, value=np.nan, inplace=True)"
   ]
  },
  {
   "cell_type": "code",
   "execution_count": 42,
   "metadata": {},
   "outputs": [
    {
     "data": {
      "text/plain": [
       "0     322\n",
       "1     100\n",
       "2      38\n",
       "3      14\n",
       "4       9\n",
       "99      6\n",
       "7       3\n",
       "5       3\n",
       "9       1\n",
       "8       1\n",
       "Name: terminations, dtype: int64"
      ]
     },
     "execution_count": 42,
     "metadata": {},
     "output_type": "execute_result"
    }
   ],
   "source": [
    "df['terminations'].value_counts()"
   ]
  },
  {
   "cell_type": "code",
   "execution_count": 43,
   "metadata": {},
   "outputs": [
    {
     "data": {
      "text/plain": [
       "<matplotlib.legend.Legend at 0x19cfc04dd00>"
      ]
     },
     "execution_count": 43,
     "metadata": {},
     "output_type": "execute_result"
    },
    {
     "data": {
      "image/png": "[encoded data removed]",
      "text/plain": [
       "<Figure size 432x288 with 1 Axes>"
      ]
     },
     "metadata": {
      "needs_background": "light"
     },
     "output_type": "display_data"
    }
   ],
   "source": [
    "counts = (df[['terminations', 'apgar_score']]\n",
    "              .groupby(['terminations', 'apgar_score'])\n",
    "              .size()\n",
    "              .unstack('apgar_score')\n",
    "         )\n",
    "\n",
    "counts['percent_low_apgar'] = (counts[0]/counts[1])*100\n",
    "\n",
    "ax = counts['percent_low_apgar'].plot.bar()\n",
    "ax.legend(\n",
    "    loc='center right', \n",
    "    bbox_to_anchor=(1.5, 0.5), \n",
    "    title='Terminations'\n",
    ")"
   ]
  },
  {
   "cell_type": "code",
   "execution_count": 44,
   "metadata": {},
   "outputs": [],
   "source": [
    "df['terminations'].replace(to_replace=99, value=np.nan, inplace=True)"
   ]
  },
  {
   "cell_type": "code",
   "execution_count": 45,
   "metadata": {},
   "outputs": [
    {
     "data": {
      "text/plain": [
       "2     177\n",
       "3     169\n",
       "4      57\n",
       "99     28\n",
       "5      22\n",
       "8      10\n",
       "6      10\n",
       "7       9\n",
       "1       8\n",
       "0       5\n",
       "9       2\n",
       "Name: months_prenatal_care, dtype: int64"
      ]
     },
     "execution_count": 45,
     "metadata": {},
     "output_type": "execute_result"
    }
   ],
   "source": [
    "df['months_prenatal_care'].value_counts()"
   ]
  },
  {
   "cell_type": "code",
   "execution_count": 46,
   "metadata": {},
   "outputs": [
    {
     "data": {
      "text/plain": [
       "<matplotlib.legend.Legend at 0x19cfc05ba30>"
      ]
     },
     "execution_count": 46,
     "metadata": {},
     "output_type": "execute_result"
    },
    {
     "data": {
      "image/png": "[encoded data removed]",
      "text/plain": [
       "<Figure size 432x288 with 1 Axes>"
      ]
     },
     "metadata": {
      "needs_background": "light"
     },
     "output_type": "display_data"
    }
   ],
   "source": [
    "counts = (df[['months_prenatal_care', 'apgar_score']]\n",
    "              .groupby(['months_prenatal_care', 'apgar_score'])\n",
    "              .size()\n",
    "              .unstack('apgar_score')\n",
    "         )\n",
    "\n",
    "counts['percent_low_apgar'] = (counts[0]/counts[1])*100\n",
    "\n",
    "ax = counts['percent_low_apgar'].plot.bar()\n",
    "ax.legend(\n",
    "    loc='center right', \n",
    "    bbox_to_anchor=(1.5, 0.5), \n",
    "    title='Prenatal Care'\n",
    ")"
   ]
  },
  {
   "cell_type": "code",
   "execution_count": 47,
   "metadata": {},
   "outputs": [],
   "source": [
    "df['months_prenatal_care'].replace(to_replace=99, value=np.nan, inplace=True)"
   ]
  },
  {
   "cell_type": "code",
   "execution_count": 48,
   "metadata": {},
   "outputs": [
    {
     "data": {
      "text/plain": [
       "10    65\n",
       "11    61\n",
       "8     40\n",
       "12    39\n",
       "9     39\n",
       "13    35\n",
       "7     31\n",
       "99    30\n",
       "14    25\n",
       "6     21\n",
       "15    18\n",
       "5     15\n",
       "4     14\n",
       "16    12\n",
       "17    10\n",
       "3      8\n",
       "2      6\n",
       "19     5\n",
       "0      5\n",
       "18     4\n",
       "1      3\n",
       "22     2\n",
       "21     2\n",
       "20     2\n",
       "23     2\n",
       "27     1\n",
       "28     1\n",
       "30     1\n",
       "Name: prenatal_visits, dtype: int64"
      ]
     },
     "execution_count": 48,
     "metadata": {},
     "output_type": "execute_result"
    }
   ],
   "source": [
    "df['prenatal_visits'].value_counts()"
   ]
  },
  {
   "cell_type": "code",
   "execution_count": 49,
   "metadata": {},
   "outputs": [
    {
     "data": {
      "text/plain": [
       "<matplotlib.legend.Legend at 0x19cfc1dc4c0>"
      ]
     },
     "execution_count": 49,
     "metadata": {},
     "output_type": "execute_result"
    },
    {
     "data": {
      "image/png": "[encoded data removed]",
      "text/plain": [
       "<Figure size 432x288 with 1 Axes>"
      ]
     },
     "metadata": {
      "needs_background": "light"
     },
     "output_type": "display_data"
    }
   ],
   "source": [
    "counts = (df[['prenatal_visits', 'apgar_score']]\n",
    "              .groupby(['prenatal_visits', 'apgar_score'])\n",
    "              .size()\n",
    "              .unstack('apgar_score')\n",
    "         )\n",
    "\n",
    "counts['percent_low_apgar'] = (counts[0]/counts[1])*100\n",
    "\n",
    "ax = counts['percent_low_apgar'].plot.bar()\n",
    "ax.legend(\n",
    "    loc='center right', \n",
    "    bbox_to_anchor=(1.5, 0.5), \n",
    "    title='Prenatal Visits'\n",
    ")"
   ]
  },
  {
   "cell_type": "code",
   "execution_count": 50,
   "metadata": {},
   "outputs": [],
   "source": [
    "df['prenatal_visits'].replace(to_replace=99, value=np.nan, inplace=True)"
   ]
  },
  {
   "cell_type": "code",
   "execution_count": 51,
   "metadata": {},
   "outputs": [
    {
     "data": {
      "text/plain": [
       "N    328\n",
       "Y    160\n",
       "U      9\n",
       "Name: food_assistance, dtype: int64"
      ]
     },
     "execution_count": 51,
     "metadata": {},
     "output_type": "execute_result"
    }
   ],
   "source": [
    "df['food_assistance'].value_counts()"
   ]
  },
  {
   "cell_type": "code",
   "execution_count": 52,
   "metadata": {},
   "outputs": [
    {
     "data": {
      "text/plain": [
       "<matplotlib.legend.Legend at 0x19cfd270040>"
      ]
     },
     "execution_count": 52,
     "metadata": {},
     "output_type": "execute_result"
    },
    {
     "data": {
      "image/png": "[encoded data removed]",
      "text/plain": [
       "<Figure size 432x288 with 1 Axes>"
      ]
     },
     "metadata": {
      "needs_background": "light"
     },
     "output_type": "display_data"
    }
   ],
   "source": [
    "counts = (df[['food_assistance', 'apgar_score']]\n",
    "              .groupby(['food_assistance', 'apgar_score'])\n",
    "              .size()\n",
    "              .unstack('apgar_score')\n",
    "         )\n",
    "\n",
    "counts['percent_low_apgar'] = (counts[0]/counts[1])*100\n",
    "\n",
    "ax = counts['percent_low_apgar'].plot.bar()\n",
    "ax.legend(\n",
    "    loc='center right', \n",
    "    bbox_to_anchor=(1.5, 0.5), \n",
    "    title='Food Assistance'\n",
    ")"
   ]
  },
  {
   "cell_type": "code",
   "execution_count": 53,
   "metadata": {},
   "outputs": [],
   "source": [
    "df['prenatal_visits'].replace(to_replace='U', value=np.nan, inplace=True)"
   ]
  },
  {
   "cell_type": "code",
   "execution_count": 54,
   "metadata": {},
   "outputs": [
    {
     "data": {
      "text/plain": [
       "0     411\n",
       "99     18\n",
       "10     18\n",
       "20     11\n",
       "7       7\n",
       "5       6\n",
       "8       5\n",
       "4       4\n",
       "3       4\n",
       "2       3\n",
       "40      2\n",
       "15      2\n",
       "9       2\n",
       "6       2\n",
       "80      1\n",
       "1       1\n",
       "Name: prepregnancy_daily_cig, dtype: int64"
      ]
     },
     "execution_count": 54,
     "metadata": {},
     "output_type": "execute_result"
    }
   ],
   "source": [
    "df['prepregnancy_daily_cig'].value_counts()"
   ]
  },
  {
   "cell_type": "code",
   "execution_count": 55,
   "metadata": {},
   "outputs": [
    {
     "data": {
      "text/plain": [
       "<matplotlib.legend.Legend at 0x19cfd215850>"
      ]
     },
     "execution_count": 55,
     "metadata": {},
     "output_type": "execute_result"
    },
    {
     "data": {
      "image/png": "[encoded data removed]",
      "text/plain": [
       "<Figure size 432x288 with 1 Axes>"
      ]
     },
     "metadata": {
      "needs_background": "light"
     },
     "output_type": "display_data"
    }
   ],
   "source": [
    "counts = (df[['prepregnancy_daily_cig', 'apgar_score']]\n",
    "              .groupby(['prepregnancy_daily_cig', 'apgar_score'])\n",
    "              .size()\n",
    "              .unstack('apgar_score')\n",
    "         )\n",
    "\n",
    "counts['percent_low_apgar'] = (counts[0]/counts[1])*100\n",
    "\n",
    "ax = counts['percent_low_apgar'].plot.bar()\n",
    "ax.legend(\n",
    "    loc='center right', \n",
    "    bbox_to_anchor=(1.5, 0.5), \n",
    "    title='Food Assistance'\n",
    ")"
   ]
  },
  {
   "cell_type": "code",
   "execution_count": 56,
   "metadata": {},
   "outputs": [
    {
     "data": {
      "text/plain": [
       "0     428\n",
       "99     17\n",
       "10     13\n",
       "5       9\n",
       "4       6\n",
       "6       4\n",
       "20      3\n",
       "8       3\n",
       "7       3\n",
       "2       3\n",
       "9       2\n",
       "3       2\n",
       "40      1\n",
       "15      1\n",
       "12      1\n",
       "1       1\n",
       "Name: first_tri_daily_cig, dtype: int64"
      ]
     },
     "execution_count": 56,
     "metadata": {},
     "output_type": "execute_result"
    }
   ],
   "source": [
    "df['first_tri_daily_cig'].value_counts()"
   ]
  },
  {
   "cell_type": "code",
   "execution_count": 57,
   "metadata": {},
   "outputs": [
    {
     "data": {
      "text/plain": [
       "<matplotlib.legend.Legend at 0x19cfd320d00>"
      ]
     },
     "execution_count": 57,
     "metadata": {},
     "output_type": "execute_result"
    },
    {
     "data": {
      "image/png": "[encoded data removed]",
      "text/plain": [
       "<Figure size 432x288 with 1 Axes>"
      ]
     },
     "metadata": {
      "needs_background": "light"
     },
     "output_type": "display_data"
    }
   ],
   "source": [
    "counts = (df[['first_tri_daily_cig', 'apgar_score']]\n",
    "              .groupby(['first_tri_daily_cig', 'apgar_score'])\n",
    "              .size()\n",
    "              .unstack('apgar_score')\n",
    "         )\n",
    "\n",
    "counts['percent_low_apgar'] = (counts[0]/counts[1])*100\n",
    "\n",
    "ax = counts['percent_low_apgar'].plot.bar()\n",
    "ax.legend(\n",
    "    loc='center right', \n",
    "    bbox_to_anchor=(1.5, 0.5), \n",
    "    title='Cig1'\n",
    ")"
   ]
  },
  {
   "cell_type": "code",
   "execution_count": 58,
   "metadata": {},
   "outputs": [],
   "source": [
    "df['first_tri_daily_cig'].replace(to_replace=99, value=np.nan, inplace=True)"
   ]
  },
  {
   "cell_type": "code",
   "execution_count": 59,
   "metadata": {},
   "outputs": [
    {
     "data": {
      "text/plain": [
       "0     429\n",
       "99     20\n",
       "5      12\n",
       "10     11\n",
       "3       6\n",
       "8       4\n",
       "20      3\n",
       "6       3\n",
       "15      2\n",
       "2       2\n",
       "1       2\n",
       "9       1\n",
       "7       1\n",
       "4       1\n",
       "Name: second_tri_daily_cig, dtype: int64"
      ]
     },
     "execution_count": 59,
     "metadata": {},
     "output_type": "execute_result"
    }
   ],
   "source": [
    "df['second_tri_daily_cig'].value_counts()"
   ]
  },
  {
   "cell_type": "code",
   "execution_count": 60,
   "metadata": {},
   "outputs": [
    {
     "data": {
      "text/plain": [
       "<matplotlib.legend.Legend at 0x19cfd5353a0>"
      ]
     },
     "execution_count": 60,
     "metadata": {},
     "output_type": "execute_result"
    },
    {
     "data": {
      "image/png": "[encoded data removed]",
      "text/plain": [
       "<Figure size 432x288 with 1 Axes>"
      ]
     },
     "metadata": {
      "needs_background": "light"
     },
     "output_type": "display_data"
    }
   ],
   "source": [
    "counts = (df[['second_tri_daily_cig', 'apgar_score']]\n",
    "              .groupby(['second_tri_daily_cig', 'apgar_score'])\n",
    "              .size()\n",
    "              .unstack('apgar_score')\n",
    "         )\n",
    "\n",
    "counts['percent_low_apgar'] = (counts[0]/counts[1])*100\n",
    "\n",
    "ax = counts['percent_low_apgar'].plot.bar()\n",
    "ax.legend(\n",
    "    loc='center right', \n",
    "    bbox_to_anchor=(1.5, 0.5), \n",
    "    title='Cig2'\n",
    ")"
   ]
  },
  {
   "cell_type": "code",
   "execution_count": 61,
   "metadata": {},
   "outputs": [],
   "source": [
    "df['second_tri_daily_cig'].replace(to_replace=99, value=np.nan, inplace=True)"
   ]
  },
  {
   "cell_type": "code",
   "execution_count": 62,
   "metadata": {},
   "outputs": [
    {
     "data": {
      "text/plain": [
       "0     429\n",
       "99     23\n",
       "10      9\n",
       "5       9\n",
       "6       5\n",
       "4       5\n",
       "7       4\n",
       "2       4\n",
       "20      3\n",
       "1       2\n",
       "15      1\n",
       "9       1\n",
       "8       1\n",
       "3       1\n",
       "Name: third_tri_daily_cig, dtype: int64"
      ]
     },
     "execution_count": 62,
     "metadata": {},
     "output_type": "execute_result"
    }
   ],
   "source": [
    "df['third_tri_daily_cig'].value_counts()"
   ]
  },
  {
   "cell_type": "code",
   "execution_count": 63,
   "metadata": {},
   "outputs": [
    {
     "data": {
      "text/plain": [
       "<matplotlib.legend.Legend at 0x19cfd3f32e0>"
      ]
     },
     "execution_count": 63,
     "metadata": {},
     "output_type": "execute_result"
    },
    {
     "data": {
      "image/png": "[encoded data removed]",
      "text/plain": [
       "<Figure size 432x288 with 1 Axes>"
      ]
     },
     "metadata": {
      "needs_background": "light"
     },
     "output_type": "display_data"
    }
   ],
   "source": [
    "counts = (df[['third_tri_daily_cig', 'apgar_score']]\n",
    "              .groupby(['third_tri_daily_cig', 'apgar_score'])\n",
    "              .size()\n",
    "              .unstack('apgar_score')\n",
    "         )\n",
    "\n",
    "counts['percent_low_apgar'] = (counts[0]/counts[1])*100\n",
    "\n",
    "ax = counts['percent_low_apgar'].plot.bar()\n",
    "ax.legend(\n",
    "    loc='center right', \n",
    "    bbox_to_anchor=(1.5, 0.5), \n",
    "    title='Cig3'\n",
    ")"
   ]
  },
  {
   "cell_type": "code",
   "execution_count": 64,
   "metadata": {},
   "outputs": [],
   "source": [
    "df['third_tri_daily_cig'].replace(to_replace=99, value=np.nan, inplace=True)"
   ]
  },
  {
   "cell_type": "code",
   "execution_count": 65,
   "metadata": {},
   "outputs": [
    {
     "data": {
      "text/plain": [
       "64    89\n",
       "63    71\n",
       "62    56\n",
       "66    55\n",
       "67    53\n",
       "65    53\n",
       "68    24\n",
       "61    24\n",
       "60    24\n",
       "59    12\n",
       "69    10\n",
       "70     9\n",
       "58     5\n",
       "71     5\n",
       "57     2\n",
       "73     2\n",
       "56     2\n",
       "72     1\n",
       "Name: height, dtype: int64"
      ]
     },
     "execution_count": 65,
     "metadata": {},
     "output_type": "execute_result"
    }
   ],
   "source": [
    "df['height'].value_counts()"
   ]
  },
  {
   "cell_type": "code",
   "execution_count": 66,
   "metadata": {},
   "outputs": [
    {
     "data": {
      "text/plain": [
       "<matplotlib.legend.Legend at 0x19cfd4f7d90>"
      ]
     },
     "execution_count": 66,
     "metadata": {},
     "output_type": "execute_result"
    },
    {
     "data": {
      "image/png": "[encoded data removed]",
      "text/plain": [
       "<Figure size 432x288 with 1 Axes>"
      ]
     },
     "metadata": {
      "needs_background": "light"
     },
     "output_type": "display_data"
    }
   ],
   "source": [
    "counts = (df[['height', 'apgar_score']]\n",
    "              .groupby(['height', 'apgar_score'])\n",
    "              .size()\n",
    "              .unstack('apgar_score')\n",
    "         )\n",
    "\n",
    "counts['percent_low_apgar'] = (counts[0]/counts[1])*100\n",
    "\n",
    "ax = counts['percent_low_apgar'].plot.bar()\n",
    "ax.legend(\n",
    "    loc='center right', \n",
    "    bbox_to_anchor=(1.5, 0.5), \n",
    "    title='Cig3'\n",
    ")"
   ]
  },
  {
   "cell_type": "code",
   "execution_count": 67,
   "metadata": {},
   "outputs": [],
   "source": [
    "df['height'].replace(to_replace=99, value=np.nan, inplace=True)"
   ]
  },
  {
   "cell_type": "code",
   "execution_count": 68,
   "metadata": {},
   "outputs": [
    {
     "data": {
      "text/plain": [
       "99.9    10\n",
       "22.9    10\n",
       "26.6     9\n",
       "28.3     9\n",
       "21.5     8\n",
       "        ..\n",
       "25.4     1\n",
       "29.2     1\n",
       "24.8     1\n",
       "19.2     1\n",
       "28.8     1\n",
       "Name: bmi, Length: 194, dtype: int64"
      ]
     },
     "execution_count": 68,
     "metadata": {},
     "output_type": "execute_result"
    }
   ],
   "source": [
    "df['bmi'].value_counts()"
   ]
  },
  {
   "cell_type": "code",
   "execution_count": 69,
   "metadata": {},
   "outputs": [
    {
     "data": {
      "text/plain": [
       "<matplotlib.legend.Legend at 0x19cfbfa6c40>"
      ]
     },
     "execution_count": 69,
     "metadata": {},
     "output_type": "execute_result"
    },
    {
     "data": {
      "image/png": "[encoded data removed]",
      "text/plain": [
       "<Figure size 432x288 with 1 Axes>"
      ]
     },
     "metadata": {
      "needs_background": "light"
     },
     "output_type": "display_data"
    }
   ],
   "source": [
    "counts = (df[['bmi', 'apgar_score']]\n",
    "              .groupby(['bmi', 'apgar_score'])\n",
    "              .size()\n",
    "              .unstack('apgar_score')\n",
    "         )\n",
    "\n",
    "counts['percent_low_apgar'] = (counts[0]/counts[1])*100\n",
    "\n",
    "ax = counts['percent_low_apgar'].plot.bar()\n",
    "ax.legend(\n",
    "    loc='center right', \n",
    "    bbox_to_anchor=(1.5, 0.5), \n",
    "    title='Cig3'\n",
    ")"
   ]
  },
  {
   "cell_type": "code",
   "execution_count": 70,
   "metadata": {},
   "outputs": [],
   "source": [
    "df['bmi'].replace(to_replace=99, value=np.nan, inplace=True)"
   ]
  },
  {
   "cell_type": "code",
   "execution_count": 71,
   "metadata": {},
   "outputs": [
    {
     "data": {
      "text/plain": [
       "999    10\n",
       "188    10\n",
       "168    10\n",
       "160    10\n",
       "195     9\n",
       "       ..\n",
       "400     1\n",
       "305     1\n",
       "310     1\n",
       "318     1\n",
       "227     1\n",
       "Name: delivery_weight, Length: 153, dtype: int64"
      ]
     },
     "execution_count": 71,
     "metadata": {},
     "output_type": "execute_result"
    }
   ],
   "source": [
    "df['delivery_weight'].value_counts()"
   ]
  },
  {
   "cell_type": "code",
   "execution_count": 72,
   "metadata": {},
   "outputs": [
    {
     "data": {
      "text/plain": [
       "<matplotlib.legend.Legend at 0x19cfc05ea00>"
      ]
     },
     "execution_count": 72,
     "metadata": {},
     "output_type": "execute_result"
    },
    {
     "data": {
      "image/png": "[encoded data removed]",
      "text/plain": [
       "<Figure size 432x288 with 1 Axes>"
      ]
     },
     "metadata": {
      "needs_background": "light"
     },
     "output_type": "display_data"
    }
   ],
   "source": [
    "counts = (df[['delivery_weight', 'apgar_score']]\n",
    "              .groupby(['delivery_weight', 'apgar_score'])\n",
    "              .size()\n",
    "              .unstack('apgar_score')\n",
    "         )\n",
    "\n",
    "counts['percent_low_apgar'] = (counts[0]/counts[1])*100\n",
    "\n",
    "ax = counts['percent_low_apgar'].plot.bar()\n",
    "ax.legend(\n",
    "    loc='center right', \n",
    "    bbox_to_anchor=(1.5, 0.5), \n",
    "    title='Cig3'\n",
    ")"
   ]
  },
  {
   "cell_type": "code",
   "execution_count": 73,
   "metadata": {},
   "outputs": [],
   "source": [
    "df['delivery_weight'].replace(to_replace=999, value=np.nan, inplace=True)"
   ]
  },
  {
   "cell_type": "code",
   "execution_count": 74,
   "metadata": {},
   "outputs": [
    {
     "data": {
      "text/plain": [
       "0     27\n",
       "30    24\n",
       "99    21\n",
       "24    19\n",
       "33    19\n",
       "      ..\n",
       "71     1\n",
       "73     1\n",
       "78     1\n",
       "77     1\n",
       "66     1\n",
       "Name: weight_gain, Length: 80, dtype: int64"
      ]
     },
     "execution_count": 74,
     "metadata": {},
     "output_type": "execute_result"
    }
   ],
   "source": [
    "df['weight_gain'].value_counts()"
   ]
  },
  {
   "cell_type": "code",
   "execution_count": 75,
   "metadata": {},
   "outputs": [
    {
     "data": {
      "text/plain": [
       "<matplotlib.legend.Legend at 0x19cfc045ac0>"
      ]
     },
     "execution_count": 75,
     "metadata": {},
     "output_type": "execute_result"
    },
    {
     "data": {
      "image/png": "[encoded data removed]",
      "text/plain": [
       "<Figure size 432x288 with 1 Axes>"
      ]
     },
     "metadata": {
      "needs_background": "light"
     },
     "output_type": "display_data"
    }
   ],
   "source": [
    "counts = (df[['weight_gain', 'apgar_score']]\n",
    "              .groupby(['weight_gain', 'apgar_score'])\n",
    "              .size()\n",
    "              .unstack('apgar_score')\n",
    "         )\n",
    "\n",
    "counts['percent_low_apgar'] = (counts[0]/counts[1])*100\n",
    "\n",
    "ax = counts['percent_low_apgar'].plot.bar()\n",
    "ax.legend(\n",
    "    loc='center right', \n",
    "    bbox_to_anchor=(1.5, 0.5), \n",
    "    title='Cig3'\n",
    ")"
   ]
  },
  {
   "cell_type": "code",
   "execution_count": 76,
   "metadata": {},
   "outputs": [],
   "source": [
    "df['weight_gain'].replace(to_replace=99, value=np.nan, inplace=True)"
   ]
  },
  {
   "cell_type": "code",
   "execution_count": 77,
   "metadata": {},
   "outputs": [
    {
     "data": {
      "text/plain": [
       "N    487\n",
       "Y      7\n",
       "U      3\n",
       "Name: diabetes, dtype: int64"
      ]
     },
     "execution_count": 77,
     "metadata": {},
     "output_type": "execute_result"
    }
   ],
   "source": [
    "df['diabetes'].value_counts()"
   ]
  },
  {
   "cell_type": "code",
   "execution_count": 78,
   "metadata": {},
   "outputs": [
    {
     "data": {
      "text/plain": [
       "<matplotlib.legend.Legend at 0x19cfde934f0>"
      ]
     },
     "execution_count": 78,
     "metadata": {},
     "output_type": "execute_result"
    },
    {
     "data": {
      "image/png": "[encoded data removed]",
      "text/plain": [
       "<Figure size 432x288 with 1 Axes>"
      ]
     },
     "metadata": {
      "needs_background": "light"
     },
     "output_type": "display_data"
    }
   ],
   "source": [
    "counts = (df[['diabetes', 'apgar_score']]\n",
    "              .groupby(['diabetes', 'apgar_score'])\n",
    "              .size()\n",
    "              .unstack('apgar_score')\n",
    "         )\n",
    "\n",
    "counts['percent_low_apgar'] = (counts[0]/counts[1])*100\n",
    "\n",
    "ax = counts['percent_low_apgar'].plot.bar()\n",
    "ax.legend(\n",
    "    loc='center right', \n",
    "    bbox_to_anchor=(1.5, 0.5), \n",
    "    title='Cig3'\n",
    ")"
   ]
  },
  {
   "cell_type": "code",
   "execution_count": 79,
   "metadata": {},
   "outputs": [],
   "source": [
    "df['diabetes'].replace(to_replace='U', value=np.nan, inplace=True)"
   ]
  },
  {
   "cell_type": "code",
   "execution_count": 80,
   "metadata": {},
   "outputs": [
    {
     "data": {
      "text/plain": [
       "N    435\n",
       "Y     59\n",
       "U      3\n",
       "Name: gestational_diabetes, dtype: int64"
      ]
     },
     "execution_count": 80,
     "metadata": {},
     "output_type": "execute_result"
    }
   ],
   "source": [
    "df['gestational_diabetes'].value_counts()"
   ]
  },
  {
   "cell_type": "code",
   "execution_count": 81,
   "metadata": {},
   "outputs": [
    {
     "data": {
      "text/plain": [
       "<matplotlib.legend.Legend at 0x19cfdb6ca90>"
      ]
     },
     "execution_count": 81,
     "metadata": {},
     "output_type": "execute_result"
    },
    {
     "data": {
      "image/png": "[encoded data removed]",
      "text/plain": [
       "<Figure size 432x288 with 1 Axes>"
      ]
     },
     "metadata": {
      "needs_background": "light"
     },
     "output_type": "display_data"
    }
   ],
   "source": [
    "counts = (df[['gestational_diabetes', 'apgar_score']]\n",
    "              .groupby(['gestational_diabetes', 'apgar_score'])\n",
    "              .size()\n",
    "              .unstack('apgar_score')\n",
    "         )\n",
    "\n",
    "counts['percent_low_apgar'] = (counts[0]/counts[1])*100\n",
    "\n",
    "ax = counts['percent_low_apgar'].plot.bar()\n",
    "ax.legend(\n",
    "    loc='center right', \n",
    "    bbox_to_anchor=(1.5, 0.5), \n",
    "    title='Cig3'\n",
    ")"
   ]
  },
  {
   "cell_type": "code",
   "execution_count": 82,
   "metadata": {},
   "outputs": [],
   "source": [
    "df['gestational_diabetes'].replace(to_replace='U', value=np.nan, inplace=True)"
   ]
  },
  {
   "cell_type": "code",
   "execution_count": 83,
   "metadata": {},
   "outputs": [
    {
     "data": {
      "text/plain": [
       "N    473\n",
       "Y     21\n",
       "U      3\n",
       "Name: hypertension, dtype: int64"
      ]
     },
     "execution_count": 83,
     "metadata": {},
     "output_type": "execute_result"
    }
   ],
   "source": [
    "df['hypertension'].value_counts()"
   ]
  },
  {
   "cell_type": "code",
   "execution_count": 84,
   "metadata": {},
   "outputs": [
    {
     "data": {
      "text/plain": [
       "<matplotlib.legend.Legend at 0x19cff0135b0>"
      ]
     },
     "execution_count": 84,
     "metadata": {},
     "output_type": "execute_result"
    },
    {
     "data": {
      "image/png": "[encoded data removed]",
      "text/plain": [
       "<Figure size 432x288 with 1 Axes>"
      ]
     },
     "metadata": {
      "needs_background": "light"
     },
     "output_type": "display_data"
    }
   ],
   "source": [
    "counts = (df[['hypertension', 'apgar_score']]\n",
    "              .groupby(['hypertension', 'apgar_score'])\n",
    "              .size()\n",
    "              .unstack('apgar_score')\n",
    "         )\n",
    "\n",
    "counts['percent_low_apgar'] = (counts[0]/counts[1])*100\n",
    "\n",
    "ax = counts['percent_low_apgar'].plot.bar()\n",
    "ax.legend(\n",
    "    loc='center right', \n",
    "    bbox_to_anchor=(1.5, 0.5), \n",
    "    title='Cig3'\n",
    ")"
   ]
  },
  {
   "cell_type": "code",
   "execution_count": 85,
   "metadata": {},
   "outputs": [],
   "source": [
    "df['hypertension'].replace(to_replace='U', value=np.nan, inplace=True)"
   ]
  },
  {
   "cell_type": "code",
   "execution_count": 86,
   "metadata": {},
   "outputs": [
    {
     "data": {
      "text/plain": [
       "N    439\n",
       "Y     55\n",
       "U      3\n",
       "Name: gestational_hypertension, dtype: int64"
      ]
     },
     "execution_count": 86,
     "metadata": {},
     "output_type": "execute_result"
    }
   ],
   "source": [
    "df['gestational_hypertension'].value_counts()"
   ]
  },
  {
   "cell_type": "code",
   "execution_count": 87,
   "metadata": {},
   "outputs": [
    {
     "data": {
      "text/plain": [
       "<matplotlib.legend.Legend at 0x19cff0f8eb0>"
      ]
     },
     "execution_count": 87,
     "metadata": {},
     "output_type": "execute_result"
    },
    {
     "data": {
      "image/png": "[encoded data removed]",
      "text/plain": [
       "<Figure size 432x288 with 1 Axes>"
      ]
     },
     "metadata": {
      "needs_background": "light"
     },
     "output_type": "display_data"
    }
   ],
   "source": [
    "counts = (df[['gestational_hypertension', 'apgar_score']]\n",
    "              .groupby(['gestational_hypertension', 'apgar_score'])\n",
    "              .size()\n",
    "              .unstack('apgar_score')\n",
    "         )\n",
    "\n",
    "counts['percent_low_apgar'] = (counts[0]/counts[1])*100\n",
    "\n",
    "ax = counts['percent_low_apgar'].plot.bar()\n",
    "ax.legend(\n",
    "    loc='center right', \n",
    "    bbox_to_anchor=(1.5, 0.5), \n",
    "    title='Cig3'\n",
    ")"
   ]
  },
  {
   "cell_type": "code",
   "execution_count": 88,
   "metadata": {},
   "outputs": [],
   "source": [
    "df['gestational_hypertension'].replace(to_replace='U', value=np.nan, inplace=True)"
   ]
  },
  {
   "cell_type": "code",
   "execution_count": 89,
   "metadata": {},
   "outputs": [
    {
     "data": {
      "text/plain": [
       "N    493\n",
       "U      3\n",
       "Y      1\n",
       "Name: eclampsia, dtype: int64"
      ]
     },
     "execution_count": 89,
     "metadata": {},
     "output_type": "execute_result"
    }
   ],
   "source": [
    "df['eclampsia'].value_counts()"
   ]
  },
  {
   "cell_type": "code",
   "execution_count": 90,
   "metadata": {},
   "outputs": [
    {
     "data": {
      "text/plain": [
       "<matplotlib.legend.Legend at 0x19cfe015b20>"
      ]
     },
     "execution_count": 90,
     "metadata": {},
     "output_type": "execute_result"
    },
    {
     "data": {
      "image/png": "[encoded data removed]",
      "text/plain": [
       "<Figure size 432x288 with 1 Axes>"
      ]
     },
     "metadata": {
      "needs_background": "light"
     },
     "output_type": "display_data"
    }
   ],
   "source": [
    "counts = (df[['eclampsia', 'apgar_score']]\n",
    "              .groupby(['eclampsia', 'apgar_score'])\n",
    "              .size()\n",
    "              .unstack('apgar_score')\n",
    "         )\n",
    "\n",
    "counts['percent_low_apgar'] = (counts[0]/counts[1])*100\n",
    "\n",
    "ax = counts['percent_low_apgar'].plot.bar()\n",
    "ax.legend(\n",
    "    loc='center right', \n",
    "    bbox_to_anchor=(1.5, 0.5), \n",
    "    title='Cig3'\n",
    ")"
   ]
  },
  {
   "cell_type": "code",
   "execution_count": 91,
   "metadata": {},
   "outputs": [],
   "source": [
    "df['eclampsia'].replace(to_replace='U', value=np.nan, inplace=True)"
   ]
  },
  {
   "cell_type": "code",
   "execution_count": 92,
   "metadata": {},
   "outputs": [
    {
     "data": {
      "text/plain": [
       "N    475\n",
       "Y     19\n",
       "U      3\n",
       "Name: previous_premature_birth, dtype: int64"
      ]
     },
     "execution_count": 92,
     "metadata": {},
     "output_type": "execute_result"
    }
   ],
   "source": [
    "df['previous_premature_birth'].value_counts()"
   ]
  },
  {
   "cell_type": "code",
   "execution_count": 93,
   "metadata": {},
   "outputs": [
    {
     "data": {
      "text/plain": [
       "<matplotlib.legend.Legend at 0x19cff17ea30>"
      ]
     },
     "execution_count": 93,
     "metadata": {},
     "output_type": "execute_result"
    },
    {
     "data": {
      "image/png": "[encoded data removed]",
      "text/plain": [
       "<Figure size 432x288 with 1 Axes>"
      ]
     },
     "metadata": {
      "needs_background": "light"
     },
     "output_type": "display_data"
    }
   ],
   "source": [
    "counts = (df[['previous_premature_birth', 'apgar_score']]\n",
    "              .groupby(['previous_premature_birth', 'apgar_score'])\n",
    "              .size()\n",
    "              .unstack('apgar_score')\n",
    "         )\n",
    "\n",
    "counts['percent_low_apgar'] = (counts[0]/counts[1])*100\n",
    "\n",
    "ax = counts['percent_low_apgar'].plot.bar()\n",
    "ax.legend(\n",
    "    loc='center right', \n",
    "    bbox_to_anchor=(1.5, 0.5), \n",
    "    title='Preemie'\n",
    ")"
   ]
  },
  {
   "cell_type": "code",
   "execution_count": 94,
   "metadata": {},
   "outputs": [],
   "source": [
    "df['previous_premature_birth'].replace(to_replace='U', value=np.nan, inplace=True)"
   ]
  },
  {
   "cell_type": "code",
   "execution_count": 95,
   "metadata": {},
   "outputs": [
    {
     "data": {
      "text/plain": [
       "N    486\n",
       "Y      8\n",
       "U      3\n",
       "Name: infertility_treatment, dtype: int64"
      ]
     },
     "execution_count": 95,
     "metadata": {},
     "output_type": "execute_result"
    }
   ],
   "source": [
    "df['infertility_treatment'].value_counts()"
   ]
  },
  {
   "cell_type": "code",
   "execution_count": 96,
   "metadata": {},
   "outputs": [
    {
     "data": {
      "text/plain": [
       "<matplotlib.legend.Legend at 0x19cfd4e6d90>"
      ]
     },
     "execution_count": 96,
     "metadata": {},
     "output_type": "execute_result"
    },
    {
     "data": {
      "image/png": "[encoded data removed]",
      "text/plain": [
       "<Figure size 432x288 with 1 Axes>"
      ]
     },
     "metadata": {
      "needs_background": "light"
     },
     "output_type": "display_data"
    }
   ],
   "source": [
    "counts = (df[['infertility_treatment', 'apgar_score']]\n",
    "              .groupby(['infertility_treatment', 'apgar_score'])\n",
    "              .size()\n",
    "              .unstack('apgar_score')\n",
    "         )\n",
    "\n",
    "counts['percent_low_apgar'] = (counts[0]/counts[1])*100\n",
    "\n",
    "ax = counts['percent_low_apgar'].plot.bar()\n",
    "ax.legend(\n",
    "    loc='center right', \n",
    "    bbox_to_anchor=(1.5, 0.5), \n",
    "    title='Preemie'\n",
    ")"
   ]
  },
  {
   "cell_type": "code",
   "execution_count": 97,
   "metadata": {},
   "outputs": [],
   "source": [
    "df['infertility_treatment'].replace(to_replace='U', value=np.nan, inplace=True)"
   ]
  },
  {
   "cell_type": "code",
   "execution_count": 98,
   "metadata": {},
   "outputs": [
    {
     "data": {
      "text/plain": [
       "X    486\n",
       "N      6\n",
       "U      3\n",
       "Y      2\n",
       "Name: fertility_drugs, dtype: int64"
      ]
     },
     "execution_count": 98,
     "metadata": {},
     "output_type": "execute_result"
    }
   ],
   "source": [
    "df['fertility_drugs'].value_counts()"
   ]
  },
  {
   "cell_type": "code",
   "execution_count": 99,
   "metadata": {},
   "outputs": [
    {
     "data": {
      "text/plain": [
       "<matplotlib.legend.Legend at 0x19cff1f2e80>"
      ]
     },
     "execution_count": 99,
     "metadata": {},
     "output_type": "execute_result"
    },
    {
     "data": {
      "image/png": "[encoded data removed]",
      "text/plain": [
       "<Figure size 432x288 with 1 Axes>"
      ]
     },
     "metadata": {
      "needs_background": "light"
     },
     "output_type": "display_data"
    }
   ],
   "source": [
    "counts = (df[['fertility_drugs', 'apgar_score']]\n",
    "              .groupby(['fertility_drugs', 'apgar_score'])\n",
    "              .size()\n",
    "              .unstack('apgar_score')\n",
    "         )\n",
    "\n",
    "counts['percent_low_apgar'] = (counts[0]/counts[1])*100\n",
    "\n",
    "ax = counts['percent_low_apgar'].plot.bar()\n",
    "ax.legend(\n",
    "    loc='center right', \n",
    "    bbox_to_anchor=(1.5, 0.5), \n",
    "    title='Preemie'\n",
    ")"
   ]
  },
  {
   "cell_type": "code",
   "execution_count": 100,
   "metadata": {},
   "outputs": [],
   "source": [
    "df['fertility_drugs'].replace(to_replace='U', value=np.nan, inplace=True)\n",
    "df['fertility_drugs'].replace(to_replace='X', value='N', inplace=True)"
   ]
  },
  {
   "cell_type": "code",
   "execution_count": 101,
   "metadata": {},
   "outputs": [
    {
     "data": {
      "text/plain": [
       "X    486\n",
       "Y      6\n",
       "U      3\n",
       "N      2\n",
       "Name: assisted_reproduction, dtype: int64"
      ]
     },
     "execution_count": 101,
     "metadata": {},
     "output_type": "execute_result"
    }
   ],
   "source": [
    "df['assisted_reproduction'].value_counts()"
   ]
  },
  {
   "cell_type": "code",
   "execution_count": 102,
   "metadata": {},
   "outputs": [
    {
     "data": {
      "text/plain": [
       "<matplotlib.legend.Legend at 0x19cff186130>"
      ]
     },
     "execution_count": 102,
     "metadata": {},
     "output_type": "execute_result"
    },
    {
     "data": {
      "image/png": "[encoded data removed]",
      "text/plain": [
       "<Figure size 432x288 with 1 Axes>"
      ]
     },
     "metadata": {
      "needs_background": "light"
     },
     "output_type": "display_data"
    }
   ],
   "source": [
    "counts = (df[['assisted_reproduction', 'apgar_score']]\n",
    "              .groupby(['assisted_reproduction', 'apgar_score'])\n",
    "              .size()\n",
    "              .unstack('apgar_score')\n",
    "         )\n",
    "\n",
    "counts['percent_low_apgar'] = (counts[0]/counts[1])*100\n",
    "\n",
    "ax = counts['percent_low_apgar'].plot.bar()\n",
    "ax.legend(\n",
    "    loc='center right', \n",
    "    bbox_to_anchor=(1.5, 0.5), \n",
    "    title='Preemie'\n",
    ")"
   ]
  },
  {
   "cell_type": "code",
   "execution_count": 103,
   "metadata": {},
   "outputs": [],
   "source": [
    "df['assisted_reproduction'].replace(to_replace='U', value=np.nan, inplace=True)\n",
    "df['assisted_reproduction'].replace(to_replace='X', value='N', inplace=True)"
   ]
  },
  {
   "cell_type": "code",
   "execution_count": 104,
   "metadata": {},
   "outputs": [
    {
     "data": {
      "text/plain": [
       "0     437\n",
       "1      35\n",
       "2      11\n",
       "3      10\n",
       "99      4\n",
       "Name: previous_cesareans, dtype: int64"
      ]
     },
     "execution_count": 104,
     "metadata": {},
     "output_type": "execute_result"
    }
   ],
   "source": [
    "df['previous_cesareans'].value_counts()"
   ]
  },
  {
   "cell_type": "code",
   "execution_count": 105,
   "metadata": {},
   "outputs": [
    {
     "data": {
      "text/plain": [
       "<matplotlib.legend.Legend at 0x19cff31ab50>"
      ]
     },
     "execution_count": 105,
     "metadata": {},
     "output_type": "execute_result"
    },
    {
     "data": {
      "image/png": "[encoded data removed]",
      "text/plain": [
       "<Figure size 432x288 with 1 Axes>"
      ]
     },
     "metadata": {
      "needs_background": "light"
     },
     "output_type": "display_data"
    }
   ],
   "source": [
    "counts = (df[['previous_cesareans', 'apgar_score']]\n",
    "              .groupby(['previous_cesareans', 'apgar_score'])\n",
    "              .size()\n",
    "              .unstack('apgar_score')\n",
    "         )\n",
    "\n",
    "counts['percent_low_apgar'] = (counts[0]/counts[1])*100\n",
    "\n",
    "ax = counts['percent_low_apgar'].plot.bar()\n",
    "ax.legend(\n",
    "    loc='center right', \n",
    "    bbox_to_anchor=(1.5, 0.5), \n",
    "    title='Preemie'\n",
    ")"
   ]
  },
  {
   "cell_type": "code",
   "execution_count": 106,
   "metadata": {},
   "outputs": [],
   "source": [
    "df['previous_cesareans'].replace(to_replace=99, value=np.nan, inplace=True)"
   ]
  },
  {
   "cell_type": "code",
   "execution_count": 107,
   "metadata": {},
   "outputs": [
    {
     "data": {
      "text/plain": [
       "N    487\n",
       "U      9\n",
       "Y      1\n",
       "Name: gonorrhea, dtype: int64"
      ]
     },
     "execution_count": 107,
     "metadata": {},
     "output_type": "execute_result"
    }
   ],
   "source": [
    "df['gonorrhea'].value_counts()"
   ]
  },
  {
   "cell_type": "code",
   "execution_count": 108,
   "metadata": {},
   "outputs": [
    {
     "data": {
      "text/plain": [
       "<matplotlib.legend.Legend at 0x19cff17ebb0>"
      ]
     },
     "execution_count": 108,
     "metadata": {},
     "output_type": "execute_result"
    },
    {
     "data": {
      "image/png": "[encoded data removed]",
      "text/plain": [
       "<Figure size 432x288 with 1 Axes>"
      ]
     },
     "metadata": {
      "needs_background": "light"
     },
     "output_type": "display_data"
    }
   ],
   "source": [
    "counts = (df[['gonorrhea', 'apgar_score']]\n",
    "              .groupby(['gonorrhea', 'apgar_score'])\n",
    "              .size()\n",
    "              .unstack('apgar_score')\n",
    "         )\n",
    "\n",
    "counts['percent_low_apgar'] = (counts[0]/counts[1])*100\n",
    "\n",
    "ax = counts['percent_low_apgar'].plot.bar()\n",
    "ax.legend(\n",
    "    loc='center right', \n",
    "    bbox_to_anchor=(1.5, 0.5), \n",
    "    title='Preemie'\n",
    ")"
   ]
  },
  {
   "cell_type": "code",
   "execution_count": 109,
   "metadata": {},
   "outputs": [],
   "source": [
    "df['gonorrhea'].replace(to_replace='U', value=np.nan, inplace=True)"
   ]
  },
  {
   "cell_type": "code",
   "execution_count": 110,
   "metadata": {},
   "outputs": [
    {
     "data": {
      "text/plain": [
       "N    488\n",
       "U      9\n",
       "Name: syphilis, dtype: int64"
      ]
     },
     "execution_count": 110,
     "metadata": {},
     "output_type": "execute_result"
    }
   ],
   "source": [
    "df['syphilis'].value_counts()"
   ]
  },
  {
   "cell_type": "code",
   "execution_count": 111,
   "metadata": {},
   "outputs": [
    {
     "data": {
      "text/plain": [
       "<matplotlib.legend.Legend at 0x19cff3e3460>"
      ]
     },
     "execution_count": 111,
     "metadata": {},
     "output_type": "execute_result"
    },
    {
     "data": {
      "image/png": "[encoded data removed]",
      "text/plain": [
       "<Figure size 432x288 with 1 Axes>"
      ]
     },
     "metadata": {
      "needs_background": "light"
     },
     "output_type": "display_data"
    }
   ],
   "source": [
    "counts = (df[['syphilis', 'apgar_score']]\n",
    "              .groupby(['syphilis', 'apgar_score'])\n",
    "              .size()\n",
    "              .unstack('apgar_score')\n",
    "         )\n",
    "\n",
    "counts['percent_low_apgar'] = (counts[0]/counts[1])*100\n",
    "\n",
    "ax = counts['percent_low_apgar'].plot.bar()\n",
    "ax.legend(\n",
    "    loc='center right', \n",
    "    bbox_to_anchor=(1.5, 0.5), \n",
    "    title='Preemie'\n",
    ")"
   ]
  },
  {
   "cell_type": "code",
   "execution_count": 112,
   "metadata": {},
   "outputs": [],
   "source": [
    "df['syphilis'].replace(to_replace='U', value=np.nan, inplace=True)"
   ]
  },
  {
   "cell_type": "code",
   "execution_count": 113,
   "metadata": {},
   "outputs": [
    {
     "data": {
      "text/plain": [
       "N    472\n",
       "Y     16\n",
       "U      9\n",
       "Name: chlamydia, dtype: int64"
      ]
     },
     "execution_count": 113,
     "metadata": {},
     "output_type": "execute_result"
    }
   ],
   "source": [
    "df['chlamydia'].value_counts()"
   ]
  },
  {
   "cell_type": "code",
   "execution_count": 114,
   "metadata": {},
   "outputs": [
    {
     "data": {
      "text/plain": [
       "<matplotlib.legend.Legend at 0x19cff131400>"
      ]
     },
     "execution_count": 114,
     "metadata": {},
     "output_type": "execute_result"
    },
    {
     "data": {
      "image/png": "[encoded data removed]",
      "text/plain": [
       "<Figure size 432x288 with 1 Axes>"
      ]
     },
     "metadata": {
      "needs_background": "light"
     },
     "output_type": "display_data"
    }
   ],
   "source": [
    "counts = (df[['chlamydia', 'apgar_score']]\n",
    "              .groupby(['chlamydia', 'apgar_score'])\n",
    "              .size()\n",
    "              .unstack('apgar_score')\n",
    "         )\n",
    "\n",
    "counts['percent_low_apgar'] = (counts[0]/counts[1])*100\n",
    "\n",
    "ax = counts['percent_low_apgar'].plot.bar()\n",
    "ax.legend(\n",
    "    loc='center right', \n",
    "    bbox_to_anchor=(1.5, 0.5), \n",
    "    title='Chlamydia'\n",
    ")"
   ]
  },
  {
   "cell_type": "code",
   "execution_count": 115,
   "metadata": {},
   "outputs": [],
   "source": [
    "df['chlamydia'].replace(to_replace='U', value=np.nan, inplace=True)"
   ]
  },
  {
   "cell_type": "code",
   "execution_count": 116,
   "metadata": {},
   "outputs": [
    {
     "data": {
      "text/plain": [
       "N    484\n",
       "U      9\n",
       "Y      4\n",
       "Name: hepatitis_b, dtype: int64"
      ]
     },
     "execution_count": 116,
     "metadata": {},
     "output_type": "execute_result"
    }
   ],
   "source": [
    "df['hepatitis_b'].value_counts()"
   ]
  },
  {
   "cell_type": "code",
   "execution_count": 117,
   "metadata": {},
   "outputs": [
    {
     "data": {
      "text/plain": [
       "<matplotlib.legend.Legend at 0x19cff413b80>"
      ]
     },
     "execution_count": 117,
     "metadata": {},
     "output_type": "execute_result"
    },
    {
     "data": {
      "image/png": "[encoded data removed]",
      "text/plain": [
       "<Figure size 432x288 with 1 Axes>"
      ]
     },
     "metadata": {
      "needs_background": "light"
     },
     "output_type": "display_data"
    }
   ],
   "source": [
    "counts = (df[['hepatitis_b', 'apgar_score']]\n",
    "              .groupby(['hepatitis_b', 'apgar_score'])\n",
    "              .size()\n",
    "              .unstack('apgar_score')\n",
    "         )\n",
    "\n",
    "counts['percent_low_apgar'] = (counts[0]/counts[1])*100\n",
    "\n",
    "ax = counts['percent_low_apgar'].plot.bar()\n",
    "ax.legend(\n",
    "    loc='center right', \n",
    "    bbox_to_anchor=(1.5, 0.5), \n",
    "    title='Hep B'\n",
    ")"
   ]
  },
  {
   "cell_type": "code",
   "execution_count": 118,
   "metadata": {},
   "outputs": [],
   "source": [
    "df['hepatitis_b'].replace(to_replace='U', value=np.nan, inplace=True)"
   ]
  },
  {
   "cell_type": "code",
   "execution_count": 119,
   "metadata": {},
   "outputs": [
    {
     "data": {
      "text/plain": [
       "N    477\n",
       "Y     11\n",
       "U      9\n",
       "Name: hepatitis_c, dtype: int64"
      ]
     },
     "execution_count": 119,
     "metadata": {},
     "output_type": "execute_result"
    }
   ],
   "source": [
    "df['hepatitis_c'].value_counts()"
   ]
  },
  {
   "cell_type": "code",
   "execution_count": 120,
   "metadata": {},
   "outputs": [
    {
     "data": {
      "text/plain": [
       "<matplotlib.legend.Legend at 0x19cff512430>"
      ]
     },
     "execution_count": 120,
     "metadata": {},
     "output_type": "execute_result"
    },
    {
     "data": {
      "image/png": "[encoded data removed]",
      "text/plain": [
       "<Figure size 432x288 with 1 Axes>"
      ]
     },
     "metadata": {
      "needs_background": "light"
     },
     "output_type": "display_data"
    }
   ],
   "source": [
    "counts = (df[['hepatitis_c', 'apgar_score']]\n",
    "              .groupby(['hepatitis_c', 'apgar_score'])\n",
    "              .size()\n",
    "              .unstack('apgar_score')\n",
    "         )\n",
    "\n",
    "counts['percent_low_apgar'] = (counts[0]/counts[1])*100\n",
    "\n",
    "ax = counts['percent_low_apgar'].plot.bar()\n",
    "ax.legend(\n",
    "    loc='center right', \n",
    "    bbox_to_anchor=(1.5, 0.5), \n",
    "    title='Hep C'\n",
    ")"
   ]
  },
  {
   "cell_type": "code",
   "execution_count": 121,
   "metadata": {},
   "outputs": [],
   "source": [
    "df['hepatitis_c'].replace(to_replace='U', value=np.nan, inplace=True)"
   ]
  },
  {
   "cell_type": "code",
   "execution_count": 122,
   "metadata": {},
   "outputs": [
    {
     "data": {
      "text/plain": [
       "N    457\n",
       "Y     40\n",
       "Name: steroids, dtype: int64"
      ]
     },
     "execution_count": 122,
     "metadata": {},
     "output_type": "execute_result"
    }
   ],
   "source": [
    "df['steroids'].value_counts()"
   ]
  },
  {
   "cell_type": "code",
   "execution_count": 123,
   "metadata": {},
   "outputs": [
    {
     "data": {
      "text/plain": [
       "<matplotlib.legend.Legend at 0x19cff486c70>"
      ]
     },
     "execution_count": 123,
     "metadata": {},
     "output_type": "execute_result"
    },
    {
     "data": {
      "image/png": "[encoded data removed]",
      "text/plain": [
       "<Figure size 432x288 with 1 Axes>"
      ]
     },
     "metadata": {
      "needs_background": "light"
     },
     "output_type": "display_data"
    }
   ],
   "source": [
    "counts = (df[['steroids', 'apgar_score']]\n",
    "              .groupby(['steroids', 'apgar_score'])\n",
    "              .size()\n",
    "              .unstack('apgar_score')\n",
    "         )\n",
    "\n",
    "counts['percent_low_apgar'] = (counts[0]/counts[1])*100\n",
    "\n",
    "ax = counts['percent_low_apgar'].plot.bar()\n",
    "ax.legend(\n",
    "    loc='center right', \n",
    "    bbox_to_anchor=(1.5, 0.5), \n",
    "    title='Hep C'\n",
    ")"
   ]
  },
  {
   "cell_type": "code",
   "execution_count": 124,
   "metadata": {},
   "outputs": [],
   "source": [
    "df['steroids'].replace(to_replace='U', value=np.nan, inplace=True)"
   ]
  },
  {
   "cell_type": "code",
   "execution_count": 125,
   "metadata": {},
   "outputs": [
    {
     "data": {
      "text/plain": [
       "N    341\n",
       "Y    156\n",
       "Name: antibiotics, dtype: int64"
      ]
     },
     "execution_count": 125,
     "metadata": {},
     "output_type": "execute_result"
    }
   ],
   "source": [
    "df['antibiotics'].value_counts()"
   ]
  },
  {
   "cell_type": "code",
   "execution_count": 126,
   "metadata": {},
   "outputs": [
    {
     "data": {
      "text/plain": [
       "<matplotlib.legend.Legend at 0x19cff4ad7c0>"
      ]
     },
     "execution_count": 126,
     "metadata": {},
     "output_type": "execute_result"
    },
    {
     "data": {
      "image/png": "[encoded data removed]",
      "text/plain": [
       "<Figure size 432x288 with 1 Axes>"
      ]
     },
     "metadata": {
      "needs_background": "light"
     },
     "output_type": "display_data"
    }
   ],
   "source": [
    "counts = (df[['antibiotics', 'apgar_score']]\n",
    "              .groupby(['antibiotics', 'apgar_score'])\n",
    "              .size()\n",
    "              .unstack('apgar_score')\n",
    "         )\n",
    "\n",
    "counts['percent_low_apgar'] = (counts[0]/counts[1])*100\n",
    "\n",
    "ax = counts['percent_low_apgar'].plot.bar()\n",
    "ax.legend(\n",
    "    loc='center right', \n",
    "    bbox_to_anchor=(1.5, 0.5), \n",
    "    title='Antibios'\n",
    ")"
   ]
  },
  {
   "cell_type": "code",
   "execution_count": 127,
   "metadata": {},
   "outputs": [],
   "source": [
    "df['antibiotics'].replace(to_replace='U', value=np.nan, inplace=True)"
   ]
  },
  {
   "cell_type": "code",
   "execution_count": 128,
   "metadata": {},
   "outputs": [
    {
     "data": {
      "text/plain": [
       "N    487\n",
       "Y     10\n",
       "Name: chorioamnionitis, dtype: int64"
      ]
     },
     "execution_count": 128,
     "metadata": {},
     "output_type": "execute_result"
    }
   ],
   "source": [
    "df['chorioamnionitis'].value_counts()"
   ]
  },
  {
   "cell_type": "code",
   "execution_count": 129,
   "metadata": {},
   "outputs": [
    {
     "data": {
      "text/plain": [
       "<matplotlib.legend.Legend at 0x19cff5d00a0>"
      ]
     },
     "execution_count": 129,
     "metadata": {},
     "output_type": "execute_result"
    },
    {
     "data": {
      "image/png": "[encoded data removed]",
      "text/plain": [
       "<Figure size 432x288 with 1 Axes>"
      ]
     },
     "metadata": {
      "needs_background": "light"
     },
     "output_type": "display_data"
    }
   ],
   "source": [
    "counts = (df[['chorioamnionitis', 'apgar_score']]\n",
    "              .groupby(['chorioamnionitis', 'apgar_score'])\n",
    "              .size()\n",
    "              .unstack('apgar_score')\n",
    "         )\n",
    "\n",
    "counts['percent_low_apgar'] = (counts[0]/counts[1])*100\n",
    "\n",
    "ax = counts['percent_low_apgar'].plot.bar()\n",
    "ax.legend(\n",
    "    loc='center right', \n",
    "    bbox_to_anchor=(1.5, 0.5), \n",
    "    title='chorioamnionitis'\n",
    ")"
   ]
  },
  {
   "cell_type": "code",
   "execution_count": 130,
   "metadata": {},
   "outputs": [],
   "source": [
    "df['chorioamnionitis'].replace(to_replace='U', value=np.nan, inplace=True)"
   ]
  },
  {
   "cell_type": "code",
   "execution_count": 131,
   "metadata": {},
   "outputs": [
    {
     "data": {
      "text/plain": [
       "1    480\n",
       "0     17\n",
       "Name: apgar_score, dtype: int64"
      ]
     },
     "execution_count": 131,
     "metadata": {},
     "output_type": "execute_result"
    }
   ],
   "source": [
    "df['apgar_score'].value_counts()"
   ]
  },
  {
   "cell_type": "code",
   "execution_count": 132,
   "metadata": {},
   "outputs": [
    {
     "data": {
      "text/plain": [
       "1    479\n",
       "2     18\n",
       "Name: plural_pregnancy, dtype: int64"
      ]
     },
     "execution_count": 132,
     "metadata": {},
     "output_type": "execute_result"
    }
   ],
   "source": [
    "df['plural_pregnancy'].value_counts()"
   ]
  },
  {
   "cell_type": "code",
   "execution_count": 133,
   "metadata": {},
   "outputs": [
    {
     "data": {
      "text/plain": [
       "<matplotlib.legend.Legend at 0x19cff6c4340>"
      ]
     },
     "execution_count": 133,
     "metadata": {},
     "output_type": "execute_result"
    },
    {
     "data": {
      "image/png": "[encoded data removed]",
      "text/plain": [
       "<Figure size 432x288 with 1 Axes>"
      ]
     },
     "metadata": {
      "needs_background": "light"
     },
     "output_type": "display_data"
    }
   ],
   "source": [
    "counts = (df[['plural_pregnancy', 'apgar_score']]\n",
    "              .groupby(['plural_pregnancy', 'apgar_score'])\n",
    "              .size()\n",
    "              .unstack('apgar_score')\n",
    "         )\n",
    "\n",
    "counts['percent_low_apgar'] = (counts[0]/counts[1])*100\n",
    "\n",
    "ax = counts['percent_low_apgar'].plot.bar()\n",
    "ax.legend(\n",
    "    loc='center right', \n",
    "    bbox_to_anchor=(1.5, 0.5), \n",
    "    title='plural_pregnancy'\n",
    ")"
   ]
  },
  {
   "cell_type": "code",
   "execution_count": 134,
   "metadata": {},
   "outputs": [
    {
     "data": {
      "text/plain": [
       "M    249\n",
       "F    248\n",
       "Name: infant_sex, dtype: int64"
      ]
     },
     "execution_count": 134,
     "metadata": {},
     "output_type": "execute_result"
    }
   ],
   "source": [
    "df['infant_sex'].value_counts()"
   ]
  },
  {
   "cell_type": "code",
   "execution_count": 135,
   "metadata": {},
   "outputs": [
    {
     "data": {
      "text/plain": [
       "<matplotlib.legend.Legend at 0x19cff212f70>"
      ]
     },
     "execution_count": 135,
     "metadata": {},
     "output_type": "execute_result"
    },
    {
     "data": {
      "image/png": "[encoded data removed]",
      "text/plain": [
       "<Figure size 432x288 with 1 Axes>"
      ]
     },
     "metadata": {
      "needs_background": "light"
     },
     "output_type": "display_data"
    }
   ],
   "source": [
    "counts = (df[['infant_sex', 'apgar_score']]\n",
    "              .groupby(['infant_sex', 'apgar_score'])\n",
    "              .size()\n",
    "              .unstack('apgar_score')\n",
    "         )\n",
    "\n",
    "counts['percent_low_apgar'] = (counts[0]/counts[1])*100\n",
    "\n",
    "ax = counts['percent_low_apgar'].plot.bar()\n",
    "ax.legend(\n",
    "    loc='center right', \n",
    "    bbox_to_anchor=(1.5, 0.5), \n",
    "    title='infant_sex'\n",
    ")"
   ]
  },
  {
   "cell_type": "code",
   "execution_count": 136,
   "metadata": {},
   "outputs": [
    {
     "data": {
      "text/plain": [
       "39    136\n",
       "40    102\n",
       "38     78\n",
       "37     56\n",
       "41     32\n",
       "36     28\n",
       "43     10\n",
       "35     10\n",
       "34     10\n",
       "42      9\n",
       "33      8\n",
       "44      6\n",
       "32      5\n",
       "29      4\n",
       "31      1\n",
       "24      1\n",
       "23      1\n",
       "Name: weeks_gestation, dtype: int64"
      ]
     },
     "execution_count": 136,
     "metadata": {},
     "output_type": "execute_result"
    }
   ],
   "source": [
    "df['weeks_gestation'].value_counts()"
   ]
  },
  {
   "cell_type": "code",
   "execution_count": 137,
   "metadata": {},
   "outputs": [
    {
     "data": {
      "text/plain": [
       "<matplotlib.legend.Legend at 0x19cff2122e0>"
      ]
     },
     "execution_count": 137,
     "metadata": {},
     "output_type": "execute_result"
    },
    {
     "data": {
      "image/png": "[encoded data removed]",
      "text/plain": [
       "<Figure size 432x288 with 1 Axes>"
      ]
     },
     "metadata": {
      "needs_background": "light"
     },
     "output_type": "display_data"
    }
   ],
   "source": [
    "counts = (df[['weeks_gestation', 'apgar_score']]\n",
    "              .groupby(['weeks_gestation', 'apgar_score'])\n",
    "              .size()\n",
    "              .unstack('apgar_score')\n",
    "         )\n",
    "\n",
    "counts['percent_low_apgar'] = (counts[0]/counts[1])*100\n",
    "\n",
    "ax = counts['percent_low_apgar'].plot.bar()\n",
    "ax.legend(\n",
    "    loc='center right', \n",
    "    bbox_to_anchor=(1.5, 0.5), \n",
    "    title='weeks_gestation'\n",
    ")"
   ]
  },
  {
   "cell_type": "code",
   "execution_count": 138,
   "metadata": {},
   "outputs": [],
   "source": [
    "df['weeks_gestation'].replace(to_replace=99, value=np.nan, inplace=True)"
   ]
  },
  {
   "cell_type": "code",
   "execution_count": 139,
   "metadata": {},
   "outputs": [
    {
     "data": {
      "text/plain": [
       "N    497\n",
       "Name: down_syndrome, dtype: int64"
      ]
     },
     "execution_count": 139,
     "metadata": {},
     "output_type": "execute_result"
    }
   ],
   "source": [
    "df['down_syndrome'].value_counts()"
   ]
  },
  {
   "cell_type": "code",
   "execution_count": 140,
   "metadata": {},
   "outputs": [
    {
     "data": {
      "text/plain": [
       "<matplotlib.legend.Legend at 0x19cff27c0d0>"
      ]
     },
     "execution_count": 140,
     "metadata": {},
     "output_type": "execute_result"
    },
    {
     "data": {
      "image/png": "[encoded data removed]",
      "text/plain": [
       "<Figure size 432x288 with 1 Axes>"
      ]
     },
     "metadata": {
      "needs_background": "light"
     },
     "output_type": "display_data"
    }
   ],
   "source": [
    "counts = (df[['down_syndrome', 'apgar_score']]\n",
    "              .groupby(['down_syndrome', 'apgar_score'])\n",
    "              .size()\n",
    "              .unstack('apgar_score')\n",
    "         )\n",
    "\n",
    "counts['percent_low_apgar'] = (counts[0]/counts[1])*100\n",
    "\n",
    "ax = counts['percent_low_apgar'].plot.bar()\n",
    "ax.legend(\n",
    "    loc='center right', \n",
    "    bbox_to_anchor=(1.5, 0.5), \n",
    "    title='down_syndrome'\n",
    ")"
   ]
  },
  {
   "cell_type": "code",
   "execution_count": 141,
   "metadata": {},
   "outputs": [],
   "source": [
    "df['down_syndrome'].replace(to_replace='U', value=np.nan, inplace=True)"
   ]
  },
  {
   "cell_type": "code",
   "execution_count": 142,
   "metadata": {},
   "outputs": [],
   "source": [
    "df['down_syndrome'].replace(to_replace='P', value='C', inplace=True)"
   ]
  },
  {
   "cell_type": "code",
   "execution_count": 143,
   "metadata": {},
   "outputs": [
    {
     "name": "stdout",
     "output_type": "stream",
     "text": [
      "<class 'pandas.core.frame.DataFrame'>\n",
      "Int64Index: 497 entries, 0 to 498\n",
      "Data columns (total 45 columns):\n",
      " #   Column                    Non-Null Count  Dtype  \n",
      "---  ------                    --------------  -----  \n",
      " 0   birth_place               497 non-null    object \n",
      " 1   mother_age                497 non-null    int64  \n",
      " 2   mother_native             496 non-null    float64\n",
      " 3   mother_race               497 non-null    object \n",
      " 4   mother_hispanic           489 non-null    float64\n",
      " 5   marital_status            497 non-null    object \n",
      " 6   mother_education          488 non-null    object \n",
      " 7   father_age                454 non-null    float64\n",
      " 8   living_children           496 non-null    float64\n",
      " 9   deceased_children         496 non-null    float64\n",
      " 10  terminations              491 non-null    float64\n",
      " 11  months_prenatal_care      469 non-null    float64\n",
      " 12  prenatal_visits           467 non-null    float64\n",
      " 13  food_assistance           497 non-null    object \n",
      " 14  prepregnancy_daily_cig    497 non-null    int64  \n",
      " 15  first_tri_daily_cig       480 non-null    float64\n",
      " 16  second_tri_daily_cig      477 non-null    float64\n",
      " 17  third_tri_daily_cig       474 non-null    float64\n",
      " 18  height                    497 non-null    int64  \n",
      " 19  bmi                       497 non-null    float64\n",
      " 20  delivery_weight           487 non-null    float64\n",
      " 21  weight_gain               476 non-null    float64\n",
      " 22  diabetes                  494 non-null    object \n",
      " 23  gestational_diabetes      494 non-null    object \n",
      " 24  hypertension              494 non-null    object \n",
      " 25  gestational_hypertension  494 non-null    object \n",
      " 26  eclampsia                 494 non-null    object \n",
      " 27  previous_premature_birth  494 non-null    object \n",
      " 28  infertility_treatment     494 non-null    object \n",
      " 29  fertility_drugs           494 non-null    object \n",
      " 30  assisted_reproduction     494 non-null    object \n",
      " 31  previous_cesareans        493 non-null    float64\n",
      " 32  gonorrhea                 488 non-null    object \n",
      " 33  syphilis                  488 non-null    object \n",
      " 34  chlamydia                 488 non-null    object \n",
      " 35  hepatitis_b               488 non-null    object \n",
      " 36  hepatitis_c               488 non-null    object \n",
      " 37  steroids                  497 non-null    object \n",
      " 38  antibiotics               497 non-null    object \n",
      " 39  chorioamnionitis          497 non-null    object \n",
      " 40  apgar_score               497 non-null    int64  \n",
      " 41  plural_pregnancy          497 non-null    int64  \n",
      " 42  infant_sex                497 non-null    object \n",
      " 43  weeks_gestation           497 non-null    int64  \n",
      " 44  down_syndrome             497 non-null    object \n",
      "dtypes: float64(15), int64(6), object(24)\n",
      "memory usage: 178.6+ KB\n"
     ]
    }
   ],
   "source": [
    "df.info()"
   ]
  },
  {
   "cell_type": "code",
   "execution_count": 144,
   "metadata": {},
   "outputs": [],
   "source": [
    "df_cat = df.select_dtypes(include=['object'])"
   ]
  },
  {
   "cell_type": "code",
   "execution_count": 145,
   "metadata": {},
   "outputs": [],
   "source": [
    "df_num = df.select_dtypes(include=['int64', 'float64'])"
   ]
  },
  {
   "cell_type": "code",
   "execution_count": 146,
   "metadata": {},
   "outputs": [
    {
     "name": "stdout",
     "output_type": "stream",
     "text": [
      "---- birth_place ---\n",
      "hospital    478\n",
      "other        19\n",
      "Name: birth_place, dtype: int64\n",
      "---- mother_race ---\n",
      "white              308\n",
      "native_american    110\n",
      "asian/pi            57\n",
      "black               22\n",
      "Name: mother_race, dtype: int64\n",
      "---- marital_status ---\n",
      "married      310\n",
      "unmarried    187\n",
      "Name: marital_status, dtype: int64\n",
      "---- mother_education ---\n",
      "hs_or_lower          359\n",
      "college_or_higher    129\n",
      "Name: mother_education, dtype: int64\n",
      "---- food_assistance ---\n",
      "N    328\n",
      "Y    160\n",
      "U      9\n",
      "Name: food_assistance, dtype: int64\n",
      "---- diabetes ---\n",
      "N    487\n",
      "Y      7\n",
      "Name: diabetes, dtype: int64\n",
      "---- gestational_diabetes ---\n",
      "N    435\n",
      "Y     59\n",
      "Name: gestational_diabetes, dtype: int64\n",
      "---- hypertension ---\n",
      "N    473\n",
      "Y     21\n",
      "Name: hypertension, dtype: int64\n",
      "---- gestational_hypertension ---\n",
      "N    439\n",
      "Y     55\n",
      "Name: gestational_hypertension, dtype: int64\n",
      "---- eclampsia ---\n",
      "N    493\n",
      "Y      1\n",
      "Name: eclampsia, dtype: int64\n",
      "---- previous_premature_birth ---\n",
      "N    475\n",
      "Y     19\n",
      "Name: previous_premature_birth, dtype: int64\n",
      "---- infertility_treatment ---\n",
      "N    486\n",
      "Y      8\n",
      "Name: infertility_treatment, dtype: int64\n",
      "---- fertility_drugs ---\n",
      "N    492\n",
      "Y      2\n",
      "Name: fertility_drugs, dtype: int64\n",
      "---- assisted_reproduction ---\n",
      "N    488\n",
      "Y      6\n",
      "Name: assisted_reproduction, dtype: int64\n",
      "---- gonorrhea ---\n",
      "N    487\n",
      "Y      1\n",
      "Name: gonorrhea, dtype: int64\n",
      "---- syphilis ---\n",
      "N    488\n",
      "Name: syphilis, dtype: int64\n",
      "---- chlamydia ---\n",
      "N    472\n",
      "Y     16\n",
      "Name: chlamydia, dtype: int64\n",
      "---- hepatitis_b ---\n",
      "N    484\n",
      "Y      4\n",
      "Name: hepatitis_b, dtype: int64\n",
      "---- hepatitis_c ---\n",
      "N    477\n",
      "Y     11\n",
      "Name: hepatitis_c, dtype: int64\n",
      "---- steroids ---\n",
      "N    457\n",
      "Y     40\n",
      "Name: steroids, dtype: int64\n",
      "---- antibiotics ---\n",
      "N    341\n",
      "Y    156\n",
      "Name: antibiotics, dtype: int64\n",
      "---- chorioamnionitis ---\n",
      "N    487\n",
      "Y     10\n",
      "Name: chorioamnionitis, dtype: int64\n",
      "---- infant_sex ---\n",
      "M    249\n",
      "F    248\n",
      "Name: infant_sex, dtype: int64\n",
      "---- down_syndrome ---\n",
      "N    497\n",
      "Name: down_syndrome, dtype: int64\n"
     ]
    }
   ],
   "source": [
    "for c in df_cat.columns:\n",
    "    print(\"---- %s ---\" % c)\n",
    "    print(df[c].value_counts())"
   ]
  },
  {
   "cell_type": "code",
   "execution_count": 147,
   "metadata": {},
   "outputs": [
    {
     "data": {
      "text/plain": [
       "Index(['birth_place', 'mother_race', 'marital_status', 'mother_education',\n",
       "       'food_assistance', 'diabetes', 'gestational_diabetes', 'hypertension',\n",
       "       'gestational_hypertension', 'eclampsia', 'previous_premature_birth',\n",
       "       'infertility_treatment', 'fertility_drugs', 'assisted_reproduction',\n",
       "       'gonorrhea', 'syphilis', 'chlamydia', 'hepatitis_b', 'hepatitis_c',\n",
       "       'steroids', 'antibiotics', 'chorioamnionitis', 'infant_sex',\n",
       "       'down_syndrome'],\n",
       "      dtype='object')"
      ]
     },
     "execution_count": 147,
     "metadata": {},
     "output_type": "execute_result"
    }
   ],
   "source": [
    "df_cat.columns"
   ]
  },
  {
   "cell_type": "code",
   "execution_count": 148,
   "metadata": {},
   "outputs": [
    {
     "data": {
      "image/png": "[encoded data removed]",
      "text/plain": [
       "<Figure size 864x4320 with 24 Axes>"
      ]
     },
     "metadata": {
      "needs_background": "light"
     },
     "output_type": "display_data"
    }
   ],
   "source": [
    "fig, axis = plt.subplots(nrows = int((len(df_cat.columns)/2)), ncols = 2, figsize=(12,len(df_cat.columns)*2.5))\n",
    "\n",
    "for i, subplot in zip(df_cat.columns, axis.ravel()):\n",
    "    df_cat[i].value_counts().plot(kind='barh', ax=subplot, title = i)"
   ]
  },
  {
   "cell_type": "code",
   "execution_count": 149,
   "metadata": {},
   "outputs": [
    {
     "name": "stderr",
     "output_type": "stream",
     "text": [
      "<ipython-input-149-db2104ea8bab>:2: UserWarning: To output multiple subplots, the figure containing the passed axes is being cleared\n",
      "  df.hist(ax=axis, bins='auto')\n"
     ]
    },
    {
     "data": {
      "text/plain": [
       "array([[<AxesSubplot:title={'center':'mother_age'}>,\n",
       "        <AxesSubplot:title={'center':'mother_native'}>,\n",
       "        <AxesSubplot:title={'center':'mother_hispanic'}>,\n",
       "        <AxesSubplot:title={'center':'father_age'}>,\n",
       "        <AxesSubplot:title={'center':'living_children'}>],\n",
       "       [<AxesSubplot:title={'center':'deceased_children'}>,\n",
       "        <AxesSubplot:title={'center':'terminations'}>,\n",
       "        <AxesSubplot:title={'center':'months_prenatal_care'}>,\n",
       "        <AxesSubplot:title={'center':'prenatal_visits'}>,\n",
       "        <AxesSubplot:title={'center':'prepregnancy_daily_cig'}>],\n",
       "       [<AxesSubplot:title={'center':'first_tri_daily_cig'}>,\n",
       "        <AxesSubplot:title={'center':'second_tri_daily_cig'}>,\n",
       "        <AxesSubplot:title={'center':'third_tri_daily_cig'}>,\n",
       "        <AxesSubplot:title={'center':'height'}>,\n",
       "        <AxesSubplot:title={'center':'bmi'}>],\n",
       "       [<AxesSubplot:title={'center':'delivery_weight'}>,\n",
       "        <AxesSubplot:title={'center':'weight_gain'}>,\n",
       "        <AxesSubplot:title={'center':'previous_cesareans'}>,\n",
       "        <AxesSubplot:title={'center':'apgar_score'}>,\n",
       "        <AxesSubplot:title={'center':'plural_pregnancy'}>],\n",
       "       [<AxesSubplot:title={'center':'weeks_gestation'}>, <AxesSubplot:>,\n",
       "        <AxesSubplot:>, <AxesSubplot:>, <AxesSubplot:>]], dtype=object)"
      ]
     },
     "execution_count": 149,
     "metadata": {},
     "output_type": "execute_result"
    },
    {
     "data": {
      "image/png": "[encoded data removed]",
      "text/plain": [
       "<Figure size 2880x2880 with 25 Axes>"
      ]
     },
     "metadata": {
      "needs_background": "light"
     },
     "output_type": "display_data"
    }
   ],
   "source": [
    "fig, axis = plt.subplots(figsize=(40, 40))\n",
    "df.hist(ax=axis, bins='auto')"
   ]
  },
  {
   "cell_type": "code",
   "execution_count": 150,
   "metadata": {},
   "outputs": [
    {
     "data": {
      "text/plain": [
       "birth_place                  0\n",
       "mother_age                   0\n",
       "mother_native                1\n",
       "mother_race                  0\n",
       "mother_hispanic              8\n",
       "marital_status               0\n",
       "mother_education             9\n",
       "father_age                  43\n",
       "living_children              1\n",
       "deceased_children            1\n",
       "terminations                 6\n",
       "months_prenatal_care        28\n",
       "prenatal_visits             30\n",
       "food_assistance              0\n",
       "prepregnancy_daily_cig       0\n",
       "first_tri_daily_cig         17\n",
       "second_tri_daily_cig        20\n",
       "third_tri_daily_cig         23\n",
       "height                       0\n",
       "bmi                          0\n",
       "delivery_weight             10\n",
       "weight_gain                 21\n",
       "diabetes                     3\n",
       "gestational_diabetes         3\n",
       "hypertension                 3\n",
       "gestational_hypertension     3\n",
       "eclampsia                    3\n",
       "previous_premature_birth     3\n",
       "infertility_treatment        3\n",
       "fertility_drugs              3\n",
       "assisted_reproduction        3\n",
       "previous_cesareans           4\n",
       "gonorrhea                    9\n",
       "syphilis                     9\n",
       "chlamydia                    9\n",
       "hepatitis_b                  9\n",
       "hepatitis_c                  9\n",
       "steroids                     0\n",
       "antibiotics                  0\n",
       "chorioamnionitis             0\n",
       "apgar_score                  0\n",
       "plural_pregnancy             0\n",
       "infant_sex                   0\n",
       "weeks_gestation              0\n",
       "down_syndrome                0\n",
       "dtype: int64"
      ]
     },
     "execution_count": 150,
     "metadata": {},
     "output_type": "execute_result"
    }
   ],
   "source": [
    "df.isna().sum()"
   ]
  },
  {
   "cell_type": "markdown",
   "metadata": {},
   "source": [
    "## Train Test Split"
   ]
  },
  {
   "cell_type": "code",
   "execution_count": 151,
   "metadata": {},
   "outputs": [],
   "source": [
    "X = df.drop('apgar_score', axis=1)\n",
    "y = df['apgar_score']\n",
    "\n",
    "X_train, X_test, y_train, y_test = train_test_split(X, y, random_state=27, stratify = df['apgar_score'])"
   ]
  },
  {
   "cell_type": "code",
   "execution_count": 152,
   "metadata": {},
   "outputs": [
    {
     "data": {
      "text/plain": [
       "Index(['birth_place', 'mother_age', 'mother_native', 'mother_race',\n",
       "       'mother_hispanic', 'marital_status', 'mother_education', 'father_age',\n",
       "       'living_children', 'deceased_children', 'terminations',\n",
       "       'months_prenatal_care', 'prenatal_visits', 'food_assistance',\n",
       "       'prepregnancy_daily_cig', 'first_tri_daily_cig', 'second_tri_daily_cig',\n",
       "       'third_tri_daily_cig', 'height', 'bmi', 'delivery_weight',\n",
       "       'weight_gain', 'diabetes', 'gestational_diabetes', 'hypertension',\n",
       "       'gestational_hypertension', 'eclampsia', 'previous_premature_birth',\n",
       "       'infertility_treatment', 'fertility_drugs', 'assisted_reproduction',\n",
       "       'previous_cesareans', 'gonorrhea', 'syphilis', 'chlamydia',\n",
       "       'hepatitis_b', 'hepatitis_c', 'steroids', 'antibiotics',\n",
       "       'chorioamnionitis', 'plural_pregnancy', 'infant_sex', 'weeks_gestation',\n",
       "       'down_syndrome'],\n",
       "      dtype='object')"
      ]
     },
     "execution_count": 152,
     "metadata": {},
     "output_type": "execute_result"
    }
   ],
   "source": [
    "X.columns"
   ]
  },
  {
   "cell_type": "code",
   "execution_count": 153,
   "metadata": {},
   "outputs": [],
   "source": [
    "df_cat = df.select_dtypes(include=['object'])\n",
    "df_num = df.select_dtypes(include=['int64', 'float64'])"
   ]
  },
  {
   "cell_type": "code",
   "execution_count": 156,
   "metadata": {},
   "outputs": [],
   "source": [
    "numeric_features = X.select_dtypes(include=['int64', 'float64']).columns\n",
    "numeric_transformer = Pipeline(\n",
    "    steps=[(\"num_imputer\", SimpleImputer(strategy=\"median\")), (\"scaler\", MinMaxScaler())]\n",
    ")\n",
    "\n",
    "categorical_features = X.select_dtypes(include=['object']).columns\n",
    "categorical_transformer = Pipeline(\n",
    "    steps=[(\"cat_imputer\", SimpleImputer(strategy=\"most_frequent\")), (\"ohe\", OneHotEncoder(handle_unknown = 'ignore'))]\n",
    ")\n",
    "\n",
    "preprocessor = ColumnTransformer(\n",
    "    transformers=[\n",
    "        (\"num\", numeric_transformer, numeric_features),\n",
    "        (\"cat\", categorical_transformer, categorical_features),\n",
    "    ]\n",
    ")"
   ]
  },
  {
   "cell_type": "code",
   "execution_count": 157,
   "metadata": {},
   "outputs": [
    {
     "name": "stdout",
     "output_type": "stream",
     "text": [
      "model score: 0.968\n"
     ]
    }
   ],
   "source": [
    "dummy_clf = Pipeline(\n",
    "    steps=[(\"preprocessor\", preprocessor), (\"classifier\", DummyClassifier(strategy='most_frequent'))]\n",
    ")\n",
    "\n",
    "dummy_clf.fit(X_train, y_train)\n",
    "print(\"model score: %.3f\" % dummy_clf.score(X_test, y_test))"
   ]
  },
  {
   "cell_type": "code",
   "execution_count": null,
   "metadata": {},
   "outputs": [],
   "source": []
  },
  {
   "cell_type": "code",
   "execution_count": null,
   "metadata": {},
   "outputs": [],
   "source": [
    "# num_pipe = Pipeline([\n",
    "#     ('num_selector', ColumnSelector('numerical')),\n",
    "#     ('num_imputer', SimpleImputer(strategy='constant', fill_value=0))\n",
    "# ])\n",
    "\n",
    "# cat_pipe = Pipeline([\n",
    "#     ('cat_selector', ColumnSelector('categorical')),\n",
    "#     ('cat_imputer', SimpleImputer(strategy='constant', fill_value='None'))\n",
    "# ])\n",
    "\n",
    "# preproc = FeatureUnion([\n",
    "#     ('num_pipe', num_pipe),\n",
    "#     ('cat_pipe', cat_pipe)\n",
    "# ])"
   ]
  }
 ],
 "metadata": {
  "kernelspec": {
   "display_name": "Python (learn-env)",
   "language": "python",
   "name": "learn-env"
  },
  "language_info": {
   "codemirror_mode": {
    "name": "ipython",
    "version": 3
   },
   "file_extension": ".py",
   "mimetype": "text/x-python",
   "name": "python",
   "nbconvert_exporter": "python",
   "pygments_lexer": "ipython3",
   "version": "3.8.5"
  }
 },
 "nbformat": 4,
 "nbformat_minor": 4
}
