{
 "cells": [
  {
   "cell_type": "markdown",
   "metadata": {},
   "source": [
    "Stakeholder: PRAMS Pregnancy Monitoring Network\n",
    "\n",
    "Business Problem: APGAR Score is a metric doctors use to measure the overall health of a newborn infant. But what if there were a way to prepare for a low APGAR score before the infant is even born? PRAMS has asked me to use natality data to create a model to alert medical staff if a newborn is likely to need emergency medical intervention."
   ]
  },
  {
   "cell_type": "code",
   "execution_count": 1,
   "metadata": {},
   "outputs": [],
   "source": [
    "import numpy as np\n",
    "import pandas as pd\n",
    "import matplotlib.pyplot as plt\n",
    "import xlrd\n",
    "import os\n",
    "import gc\n",
    "import seaborn as sns\n",
    "import xgboost\n",
    "from pathlib import Path  \n",
    "from sklearn.model_selection import train_test_split, GridSearchCV,\\\n",
    "cross_val_score\n",
    "from sklearn.feature_selection import SelectKBest, f_classif\n",
    "from sklearn.linear_model import LogisticRegression, LinearRegression\n",
    "from sklearn.neighbors import KNeighborsClassifier\n",
    "from sklearn.tree import DecisionTreeClassifier\n",
    "from sklearn.ensemble import BaggingClassifier, RandomForestClassifier,\\\n",
    "ExtraTreesClassifier, VotingClassifier, StackingRegressor\n",
    "from sklearn.metrics import accuracy_score, precision_score, recall_score, f1_score, plot_roc_curve, plot_confusion_matrix\n",
    "from sklearn.preprocessing import OneHotEncoder, MinMaxScaler\n",
    "from sklearn.impute import SimpleImputer\n",
    "from sklearn.pipeline import Pipeline\n",
    "from sklearn.compose import ColumnTransformer\n",
    "from sklearn.dummy import DummyClassifier"
   ]
  },
  {
   "cell_type": "code",
   "execution_count": 2,
   "metadata": {},
   "outputs": [
    {
     "name": "stderr",
     "output_type": "stream",
     "text": [
      "C:\\Users\\Patrick\\anaconda3\\envs\\learn-env\\lib\\site-packages\\IPython\\core\\interactiveshell.py:3145: DtypeWarning: Columns (23) have mixed types.Specify dtype option on import or set low_memory=False.\n",
      "  has_raised = await self.run_ast_nodes(code_ast.body, cell_name,\n"
     ]
    }
   ],
   "source": [
    "# Read in the data sets\n",
    "df = pd.read_csv(\"data/nat2019us.csv\")"
   ]
  },
  {
   "cell_type": "code",
   "execution_count": 3,
   "metadata": {},
   "outputs": [
    {
     "data": {
      "text/plain": [
       "(3757582, 226)"
      ]
     },
     "execution_count": 3,
     "metadata": {},
     "output_type": "execute_result"
    }
   ],
   "source": [
    "df.shape"
   ]
  },
  {
   "cell_type": "code",
   "execution_count": 4,
   "metadata": {},
   "outputs": [
    {
     "data": {
      "text/plain": [
       "Index(['dob_yy', 'dob_mm', 'dob_tt', 'dob_wk', 'bfacil', 'f_facility',\n",
       "       'bfacil3', 'mage_impflg', 'mage_repflg', 'mager',\n",
       "       ...\n",
       "       'f_ca_cleftlp', 'f_ca_cleft', 'f_ca_downs', 'f_ca_chrom', 'f_ca_hypos',\n",
       "       'no_congen', 'itran', 'ilive', 'bfed', 'f_bfed'],\n",
       "      dtype='object', length=226)"
      ]
     },
     "execution_count": 4,
     "metadata": {},
     "output_type": "execute_result"
    }
   ],
   "source": [
    "df.columns"
   ]
  },
  {
   "cell_type": "code",
   "execution_count": 5,
   "metadata": {},
   "outputs": [
    {
     "data": {
      "text/html": [
       "<div>\n",
       "<style scoped>\n",
       "    .dataframe tbody tr th:only-of-type {\n",
       "        vertical-align: middle;\n",
       "    }\n",
       "\n",
       "    .dataframe tbody tr th {\n",
       "        vertical-align: top;\n",
       "    }\n",
       "\n",
       "    .dataframe thead th {\n",
       "        text-align: right;\n",
       "    }\n",
       "</style>\n",
       "<table border=\"1\" class=\"dataframe\">\n",
       "  <thead>\n",
       "    <tr style=\"text-align: right;\">\n",
       "      <th></th>\n",
       "      <th>dob_yy</th>\n",
       "      <th>dob_mm</th>\n",
       "      <th>dob_tt</th>\n",
       "      <th>dob_wk</th>\n",
       "      <th>bfacil</th>\n",
       "      <th>f_facility</th>\n",
       "      <th>bfacil3</th>\n",
       "      <th>mage_impflg</th>\n",
       "      <th>mage_repflg</th>\n",
       "      <th>mager</th>\n",
       "      <th>...</th>\n",
       "      <th>f_ca_cleftlp</th>\n",
       "      <th>f_ca_cleft</th>\n",
       "      <th>f_ca_downs</th>\n",
       "      <th>f_ca_chrom</th>\n",
       "      <th>f_ca_hypos</th>\n",
       "      <th>no_congen</th>\n",
       "      <th>itran</th>\n",
       "      <th>ilive</th>\n",
       "      <th>bfed</th>\n",
       "      <th>f_bfed</th>\n",
       "    </tr>\n",
       "  </thead>\n",
       "  <tbody>\n",
       "    <tr>\n",
       "      <th>0</th>\n",
       "      <td>2019</td>\n",
       "      <td>1</td>\n",
       "      <td>1135</td>\n",
       "      <td>3</td>\n",
       "      <td>1</td>\n",
       "      <td>1</td>\n",
       "      <td>1</td>\n",
       "      <td>NaN</td>\n",
       "      <td>NaN</td>\n",
       "      <td>29</td>\n",
       "      <td>...</td>\n",
       "      <td>1</td>\n",
       "      <td>1</td>\n",
       "      <td>1</td>\n",
       "      <td>1</td>\n",
       "      <td>1</td>\n",
       "      <td>1</td>\n",
       "      <td>N</td>\n",
       "      <td>Y</td>\n",
       "      <td>Y</td>\n",
       "      <td>1</td>\n",
       "    </tr>\n",
       "    <tr>\n",
       "      <th>1</th>\n",
       "      <td>2019</td>\n",
       "      <td>1</td>\n",
       "      <td>1305</td>\n",
       "      <td>3</td>\n",
       "      <td>1</td>\n",
       "      <td>1</td>\n",
       "      <td>1</td>\n",
       "      <td>NaN</td>\n",
       "      <td>NaN</td>\n",
       "      <td>40</td>\n",
       "      <td>...</td>\n",
       "      <td>1</td>\n",
       "      <td>1</td>\n",
       "      <td>1</td>\n",
       "      <td>1</td>\n",
       "      <td>1</td>\n",
       "      <td>1</td>\n",
       "      <td>N</td>\n",
       "      <td>Y</td>\n",
       "      <td>Y</td>\n",
       "      <td>1</td>\n",
       "    </tr>\n",
       "    <tr>\n",
       "      <th>2</th>\n",
       "      <td>2019</td>\n",
       "      <td>1</td>\n",
       "      <td>800</td>\n",
       "      <td>3</td>\n",
       "      <td>1</td>\n",
       "      <td>1</td>\n",
       "      <td>1</td>\n",
       "      <td>NaN</td>\n",
       "      <td>NaN</td>\n",
       "      <td>30</td>\n",
       "      <td>...</td>\n",
       "      <td>1</td>\n",
       "      <td>1</td>\n",
       "      <td>1</td>\n",
       "      <td>1</td>\n",
       "      <td>1</td>\n",
       "      <td>1</td>\n",
       "      <td>N</td>\n",
       "      <td>Y</td>\n",
       "      <td>Y</td>\n",
       "      <td>1</td>\n",
       "    </tr>\n",
       "    <tr>\n",
       "      <th>3</th>\n",
       "      <td>2019</td>\n",
       "      <td>1</td>\n",
       "      <td>130</td>\n",
       "      <td>4</td>\n",
       "      <td>1</td>\n",
       "      <td>1</td>\n",
       "      <td>1</td>\n",
       "      <td>NaN</td>\n",
       "      <td>NaN</td>\n",
       "      <td>25</td>\n",
       "      <td>...</td>\n",
       "      <td>1</td>\n",
       "      <td>1</td>\n",
       "      <td>1</td>\n",
       "      <td>1</td>\n",
       "      <td>1</td>\n",
       "      <td>1</td>\n",
       "      <td>N</td>\n",
       "      <td>Y</td>\n",
       "      <td>Y</td>\n",
       "      <td>1</td>\n",
       "    </tr>\n",
       "    <tr>\n",
       "      <th>4</th>\n",
       "      <td>2019</td>\n",
       "      <td>1</td>\n",
       "      <td>1426</td>\n",
       "      <td>4</td>\n",
       "      <td>1</td>\n",
       "      <td>1</td>\n",
       "      <td>1</td>\n",
       "      <td>NaN</td>\n",
       "      <td>NaN</td>\n",
       "      <td>38</td>\n",
       "      <td>...</td>\n",
       "      <td>1</td>\n",
       "      <td>1</td>\n",
       "      <td>1</td>\n",
       "      <td>1</td>\n",
       "      <td>1</td>\n",
       "      <td>1</td>\n",
       "      <td>N</td>\n",
       "      <td>Y</td>\n",
       "      <td>Y</td>\n",
       "      <td>1</td>\n",
       "    </tr>\n",
       "  </tbody>\n",
       "</table>\n",
       "<p>5 rows × 226 columns</p>\n",
       "</div>"
      ],
      "text/plain": [
       "   dob_yy  dob_mm  dob_tt  dob_wk  bfacil  f_facility  bfacil3  mage_impflg  \\\n",
       "0    2019       1    1135       3       1           1        1          NaN   \n",
       "1    2019       1    1305       3       1           1        1          NaN   \n",
       "2    2019       1     800       3       1           1        1          NaN   \n",
       "3    2019       1     130       4       1           1        1          NaN   \n",
       "4    2019       1    1426       4       1           1        1          NaN   \n",
       "\n",
       "   mage_repflg  mager  ...  f_ca_cleftlp  f_ca_cleft  f_ca_downs  f_ca_chrom  \\\n",
       "0          NaN     29  ...             1           1           1           1   \n",
       "1          NaN     40  ...             1           1           1           1   \n",
       "2          NaN     30  ...             1           1           1           1   \n",
       "3          NaN     25  ...             1           1           1           1   \n",
       "4          NaN     38  ...             1           1           1           1   \n",
       "\n",
       "   f_ca_hypos  no_congen  itran  ilive  bfed  f_bfed  \n",
       "0           1          1      N      Y     Y       1  \n",
       "1           1          1      N      Y     Y       1  \n",
       "2           1          1      N      Y     Y       1  \n",
       "3           1          1      N      Y     Y       1  \n",
       "4           1          1      N      Y     Y       1  \n",
       "\n",
       "[5 rows x 226 columns]"
      ]
     },
     "execution_count": 5,
     "metadata": {},
     "output_type": "execute_result"
    }
   ],
   "source": [
    "df.head()"
   ]
  },
  {
   "cell_type": "markdown",
   "metadata": {},
   "source": [
    "Columns are removed for the following reasons:\n",
    "- They are storing metadata about the collection of the data minor processing tasks performed\n",
    "- They are pre-binned for a specific purpose outside the scope of this analysis\n",
    "- They are slight variations of existing columns which are more applicable to this analysis\n",
    "- They represent events that happen after birth has already occurred"
   ]
  },
  {
   "cell_type": "code",
   "execution_count": 6,
   "metadata": {},
   "outputs": [],
   "source": [
    "remove = ['dob_yy', 'f_facility', 'bfacil3', 'mage_impflg', 'mage_repflg', 'mager14', 'mager9', 'mrace31', 'mrace6', 'mrace15',\n",
    "           'mraceimp', 'mhispx', 'f_mhisp', 'mracehisp', 'mar_p', 'mar_imp', 'f_mar_p', 'f_meduc', 'fagerpt_flg', 'fagerec11',\n",
    "           'frace31', 'frace15', 'fhispx', 'f_fhisp', 'lbo_rec', 'tbo_rec', 'illb_r', 'illb_r11', 'ilop_r',\n",
    "           'ilop_r11', 'ilp_r11', 'f_mpcb', 'precare5', 'previs_rec', 'f_tpcv', 'f_wic', 'cig0_r', 'cig1_r', 'cig2_r',\n",
    "           'cig3_r', 'f_cigs_0', 'f_cigs_1', 'f_cigs_2', 'f_cigs_3', 'cig_rec', 'f_tobaco', 'f_m_ht', 'bmi_r', 'pwgt_r',\n",
    "           'f_pwgt', 'f_dwgt', 'wtgain_rec', 'f_wtgain', 'f_rf_pdiab', 'f_rf_gdiab', 'f_rf_phyper', 'f_rf_ghyper', \n",
    "           'f_rf_eclamp', 'f_rf_ppb', 'f_rf_inf_drg', 'f_rf_inf_art', 'rf_cesar', 'f_rf_cesar', 'f_rf_ncesar',\n",
    "           'no_risks', 'f_ip_gonor', 'f_ip_syph', 'f_ip_chlam', 'f_ip_hepatb', 'f_ip_hepatc', 'no_infec', 'ob_ecvs', 'ob_ecvf',\n",
    "           'f_ob_succ', 'f_ob_fail', 'ld_indl', 'ld_augm', 'ld_anes', 'f_ld_indl', 'f_ld_augm', 'f_ld_ster', 'f_ld_antb',\n",
    "           'f_ld_chor', 'f_ld_anes', 'no_lbrdlv', 'me_pres', 'me_rout', 'me_trial', 'f_me_pres', 'f_me_rout', 'f_me_trial',\n",
    "           'rdmeth_rec', 'dmeth_rec', 'f_dmeth_rec', 'mm_mtr', 'mm_plac', 'mm_rupt', 'mm_uhyst', 'mm_aicu', 'f_mm_mtr',\n",
    "           'f_mm_rupt', 'f_mm_uhyst', 'f_mm_aicu', 'no_mmorb', 'mtran', 'pay', 'f_pay', 'f_pay_rec', 'apgar5r',\n",
    "           'f_apgar5', 'apgar10', 'apgar10r', 'imp_plur', 'setorder_r', 'imp_sex', 'dlmp_mm', 'dlmp_yy', 'compgst_imp',\n",
    "           'obgest_flg', 'gestrec10', 'gestrec3', 'lmpused', 'oegest_comb', 'oegest_r10', 'dbwt', 'bwtr12', 'bwtr4',\n",
    "           'ab_aven1', 'ab_aven6', 'ab_nicu', 'ab_surf', 'ab_anti', 'ab_seiz', 'f_ab_vent', 'f_ab_vent6',\n",
    "           'f_ab_surfac', 'f_ab_antibio', 'f_ab_seiz', 'no_abnorm', 'ca_anen', 'ca_mnsb', 'ca_cchd', 'ca_cdh', 'ca_omph', \n",
    "           'ca_gast', 'f_ca_anen', 'f_ca_menin', 'f_ca_heart', 'f_ca_hernia', 'f_ca_ompha', 'f_ca_gastro', 'ca_limb',\n",
    "           'ca_cleft', 'ca_clpal', 'ca_disor', 'ca_hypo', 'f_ca_limb', 'f_ca_cleftlp', 'f_ca_cleft', 'f_ca_downs', \n",
    "           'f_ca_chrom', 'f_ca_hypos', 'no_congen', 'itran', 'ilive', 'bfed', 'f_bfed', 'f_mm_', 'f_ab_nicu', 'fracehisp',\n",
    "           'oegest_r3', 'dob_mm', 'dob_tt', 'dob_wk', 'restatus', 'frace6', 'fhisp_r', 'feduc', 'ilp_r', 'attend', 'pay_rec']"
   ]
  },
  {
   "cell_type": "code",
   "execution_count": 7,
   "metadata": {},
   "outputs": [
    {
     "data": {
      "text/plain": [
       "Index(['bfacil', 'mager', 'mbstate_rec', 'mbrace', 'mhisp_r', 'dmar', 'meduc',\n",
       "       'fagecomb', 'priorlive', 'priordead', 'priorterm', 'precare', 'previs',\n",
       "       'wic', 'cig_0', 'cig_1', 'cig_2', 'cig_3', 'm_ht_in', 'bmi', 'dwgt_r',\n",
       "       'wtgain', 'rf_pdiab', 'rf_gdiab', 'rf_phype', 'rf_ghype', 'rf_ehype',\n",
       "       'rf_ppterm', 'rf_inftr', 'rf_fedrg', 'rf_artec', 'rf_cesarn', 'ip_gon',\n",
       "       'ip_syph', 'ip_chlam', 'ip_hepatb', 'ip_hepatc', 'ld_ster', 'ld_antb',\n",
       "       'ld_chor', 'apgar5', 'dplural', 'sex', 'combgest', 'ca_downs'],\n",
       "      dtype='object')"
      ]
     },
     "execution_count": 7,
     "metadata": {},
     "output_type": "execute_result"
    }
   ],
   "source": [
    "df.drop(remove, axis=1, inplace=True)\n",
    "df.columns"
   ]
  },
  {
   "cell_type": "code",
   "execution_count": 8,
   "metadata": {},
   "outputs": [],
   "source": [
    "rename = ['birth_place', 'mother_age', 'mother_native',\n",
    "          'mother_race', 'mother_hispanic', 'marital_status', 'mother_education', 'father_age',\n",
    "          'living_children', 'deceased_children', 'terminations', \n",
    "          'months_prenatal_care', 'prenatal_visits', 'food_assistance', 'prepregnancy_daily_cig',\n",
    "          'first_tri_daily_cig', 'second_tri_daily_cig', 'third_tri_daily_cig', 'height', 'bmi', 'delivery_weight',\n",
    "          'weight_gain', 'diabetes', 'gestational_diabetes', 'hypertension', 'gestational_hypertension', 'eclampsia',\n",
    "          'previous_premature_birth', 'infertility_treatment', 'fertility_drugs', 'assisted_reproduction',\n",
    "          'previous_cesareans', 'gonorrhea', 'syphilis', 'chlamydia', 'hepatitis_b', 'hepatitis_c', 'steroids', 'antibiotics',\n",
    "          'chorioamnionitis', 'apgar_score', 'plural_pregnancy', 'infant_sex', 'weeks_gestation',\n",
    "          'down_syndrome']"
   ]
  },
  {
   "cell_type": "code",
   "execution_count": 9,
   "metadata": {},
   "outputs": [],
   "source": [
    "df.columns = rename"
   ]
  },
  {
   "cell_type": "markdown",
   "metadata": {},
   "source": [
    "## Target Engineering"
   ]
  },
  {
   "cell_type": "code",
   "execution_count": 10,
   "metadata": {},
   "outputs": [
    {
     "data": {
      "text/plain": [
       "9     3094327\n",
       "8      417480\n",
       "7       77895\n",
       "10      75873\n",
       "6       30450\n",
       "5       16107\n",
       "99      14673\n",
       "4        9028\n",
       "1        7415\n",
       "3        6507\n",
       "2        5781\n",
       "0        2046\n",
       "Name: apgar_score, dtype: int64"
      ]
     },
     "execution_count": 10,
     "metadata": {},
     "output_type": "execute_result"
    }
   ],
   "source": [
    "df['apgar_score'].value_counts()"
   ]
  },
  {
   "cell_type": "code",
   "execution_count": 11,
   "metadata": {},
   "outputs": [],
   "source": [
    "df['apgar_score'].replace(to_replace=list(range(0, 7)), value=1, inplace=True)"
   ]
  },
  {
   "cell_type": "code",
   "execution_count": 12,
   "metadata": {},
   "outputs": [],
   "source": [
    "df['apgar_score'].replace(to_replace=list(range(7, 11)), value=0, inplace=True)"
   ]
  },
  {
   "cell_type": "code",
   "execution_count": 13,
   "metadata": {},
   "outputs": [],
   "source": [
    "df.drop(df.loc[df['apgar_score']==99].index, inplace=True)"
   ]
  },
  {
   "cell_type": "code",
   "execution_count": 14,
   "metadata": {},
   "outputs": [
    {
     "data": {
      "text/plain": [
       "0    0.979339\n",
       "1    0.020661\n",
       "Name: apgar_score, dtype: float64"
      ]
     },
     "execution_count": 14,
     "metadata": {},
     "output_type": "execute_result"
    }
   ],
   "source": [
    "df['apgar_score'].value_counts(normalize=True)"
   ]
  },
  {
   "cell_type": "markdown",
   "metadata": {},
   "source": [
    "## Feature Processing"
   ]
  },
  {
   "cell_type": "code",
   "execution_count": 15,
   "metadata": {},
   "outputs": [
    {
     "data": {
      "text/plain": [
       "Index(['birth_place', 'mother_age', 'mother_native', 'mother_race',\n",
       "       'mother_hispanic', 'marital_status', 'mother_education', 'father_age',\n",
       "       'living_children', 'deceased_children', 'terminations',\n",
       "       'months_prenatal_care', 'prenatal_visits', 'food_assistance',\n",
       "       'prepregnancy_daily_cig', 'first_tri_daily_cig', 'second_tri_daily_cig',\n",
       "       'third_tri_daily_cig', 'height', 'bmi', 'delivery_weight',\n",
       "       'weight_gain', 'diabetes', 'gestational_diabetes', 'hypertension',\n",
       "       'gestational_hypertension', 'eclampsia', 'previous_premature_birth',\n",
       "       'infertility_treatment', 'fertility_drugs', 'assisted_reproduction',\n",
       "       'previous_cesareans', 'gonorrhea', 'syphilis', 'chlamydia',\n",
       "       'hepatitis_b', 'hepatitis_c', 'steroids', 'antibiotics',\n",
       "       'chorioamnionitis', 'apgar_score', 'plural_pregnancy', 'infant_sex',\n",
       "       'weeks_gestation', 'down_syndrome'],\n",
       "      dtype='object')"
      ]
     },
     "execution_count": 15,
     "metadata": {},
     "output_type": "execute_result"
    }
   ],
   "source": [
    "df.columns"
   ]
  },
  {
   "cell_type": "code",
   "execution_count": 16,
   "metadata": {},
   "outputs": [
    {
     "data": {
      "text/plain": [
       "1    3686903\n",
       "3      27698\n",
       "2      20723\n",
       "5       2559\n",
       "4       2338\n",
       "7       2096\n",
       "6        530\n",
       "9         62\n",
       "Name: birth_place, dtype: int64"
      ]
     },
     "execution_count": 16,
     "metadata": {},
     "output_type": "execute_result"
    }
   ],
   "source": [
    "df['birth_place'].value_counts()"
   ]
  },
  {
   "cell_type": "code",
   "execution_count": 17,
   "metadata": {},
   "outputs": [],
   "source": [
    "df['birth_place'].replace(to_replace=list(range(2, 8)), value=\"other\", inplace=True)\n",
    "df['birth_place'].replace(to_replace=1, value=\"hospital\", inplace=True)\n",
    "df['birth_place'].replace(to_replace=9, value=np.nan, inplace=True)"
   ]
  },
  {
   "cell_type": "code",
   "execution_count": 18,
   "metadata": {},
   "outputs": [
    {
     "data": {
      "text/plain": [
       "1    2885074\n",
       "2     850158\n",
       "3       7677\n",
       "Name: mother_native, dtype: int64"
      ]
     },
     "execution_count": 18,
     "metadata": {},
     "output_type": "execute_result"
    }
   ],
   "source": [
    "df['mother_native'].value_counts()"
   ]
  },
  {
   "cell_type": "code",
   "execution_count": 19,
   "metadata": {},
   "outputs": [],
   "source": [
    "df['mother_native'].replace(to_replace=2, value=0, inplace=True)\n",
    "df['mother_native'].replace(to_replace=3, value=np.nan, inplace=True)"
   ]
  },
  {
   "cell_type": "code",
   "execution_count": 147,
   "metadata": {},
   "outputs": [
    {
     "data": {
      "image/png": "[encoded data removed]",
      "text/plain": [
       "<Figure size 432x288 with 1 Axes>"
      ]
     },
     "metadata": {
      "needs_background": "light"
     },
     "output_type": "display_data"
    }
   ],
   "source": [
    "counts = (df[['mother_age', 'apgar_score']]\n",
    "              .groupby(['mother_age', 'apgar_score'])\n",
    "              .size()\n",
    "              .unstack('apgar_score')\n",
    "         )\n",
    "\n",
    "counts['percent_low_apgar'] = (counts[1]/counts[0])*100\n",
    "\n",
    "ax = counts['percent_low_apgar'].plot.bar(color='#ea9999')\n",
    "# ax.legend(\n",
    "#     loc='center right', \n",
    "#     bbox_to_anchor=(1.5, 0.5), \n",
    "#     title='Mother Age'\n",
    "# )"
   ]
  },
  {
   "cell_type": "code",
   "execution_count": null,
   "metadata": {},
   "outputs": [],
   "source": []
  },
  {
   "cell_type": "code",
   "execution_count": null,
   "metadata": {},
   "outputs": [],
   "source": []
  },
  {
   "cell_type": "code",
   "execution_count": null,
   "metadata": {},
   "outputs": [],
   "source": []
  },
  {
   "cell_type": "code",
   "execution_count": 20,
   "metadata": {},
   "outputs": [
    {
     "data": {
      "text/plain": [
       "1    2788731\n",
       "2     632382\n",
       "4     280217\n",
       "3      41579\n",
       "Name: mother_race, dtype: int64"
      ]
     },
     "execution_count": 20,
     "metadata": {},
     "output_type": "execute_result"
    }
   ],
   "source": [
    "df['mother_race'].value_counts()"
   ]
  },
  {
   "cell_type": "code",
   "execution_count": 21,
   "metadata": {},
   "outputs": [],
   "source": [
    "df['mother_race'].replace({1: 'white', 2: 'black', 3: 'native_american', 4: 'asian/pi'}, inplace=True)"
   ]
  },
  {
   "cell_type": "code",
   "execution_count": 22,
   "metadata": {},
   "outputs": [],
   "source": [
    "# Place of birth\n",
    "counts = (df[['mother_race', 'apgar_score']]\n",
    "              .groupby(['mother_race', 'apgar_score'])\n",
    "              .size()\n",
    "              .unstack('apgar_score')\n",
    "         )"
   ]
  },
  {
   "cell_type": "code",
   "execution_count": 23,
   "metadata": {},
   "outputs": [],
   "source": [
    "counts['percent_low_apgar'] = (counts[1]/counts[0])*100"
   ]
  },
  {
   "cell_type": "code",
   "execution_count": 24,
   "metadata": {},
   "outputs": [
    {
     "data": {
      "text/plain": [
       "mother_race\n",
       "asian/pi           1.605575\n",
       "black              3.212339\n",
       "native_american    2.391154\n",
       "white              1.909498\n",
       "Name: percent_low_apgar, dtype: float64"
      ]
     },
     "execution_count": 24,
     "metadata": {},
     "output_type": "execute_result"
    }
   ],
   "source": [
    "counts['percent_low_apgar']"
   ]
  },
  {
   "cell_type": "code",
   "execution_count": 25,
   "metadata": {},
   "outputs": [
    {
     "data": {
      "text/plain": [
       "<matplotlib.legend.Legend at 0x1627cf2be80>"
      ]
     },
     "execution_count": 25,
     "metadata": {},
     "output_type": "execute_result"
    },
    {
     "data": {
      "image/png": "[encoded data removed]",
      "text/plain": [
       "<Figure size 432x288 with 1 Axes>"
      ]
     },
     "metadata": {
      "needs_background": "light"
     },
     "output_type": "display_data"
    }
   ],
   "source": [
    "ax = counts['percent_low_apgar'].plot.barh()\n",
    "ax.invert_yaxis()\n",
    "ax.legend(\n",
    "    loc='center right', \n",
    "    bbox_to_anchor=(1.5, 0.5), \n",
    "    title='Mother Race'\n",
    ")"
   ]
  },
  {
   "cell_type": "code",
   "execution_count": 26,
   "metadata": {},
   "outputs": [
    {
     "data": {
      "text/plain": [
       "0    2816958\n",
       "1     502208\n",
       "4     164721\n",
       "5     129573\n",
       "2      70711\n",
       "9      35104\n",
       "3      23634\n",
       "Name: mother_hispanic, dtype: int64"
      ]
     },
     "execution_count": 26,
     "metadata": {},
     "output_type": "execute_result"
    }
   ],
   "source": [
    "df['mother_hispanic'].value_counts()"
   ]
  },
  {
   "cell_type": "code",
   "execution_count": 27,
   "metadata": {},
   "outputs": [],
   "source": [
    "df['mother_hispanic'].replace(to_replace=list(range(1, 6)), value=1, inplace=True)\n",
    "df['mother_hispanic'].replace(to_replace=9, value=np.nan, inplace=True)"
   ]
  },
  {
   "cell_type": "code",
   "execution_count": 28,
   "metadata": {},
   "outputs": [
    {
     "data": {
      "text/plain": [
       "1.0    1968696\n",
       "2.0    1330007\n",
       "Name: marital_status, dtype: int64"
      ]
     },
     "execution_count": 28,
     "metadata": {},
     "output_type": "execute_result"
    }
   ],
   "source": [
    "df['marital_status'].value_counts()"
   ]
  },
  {
   "cell_type": "code",
   "execution_count": 29,
   "metadata": {},
   "outputs": [],
   "source": [
    "df['marital_status'].replace({1: 'married', 2: 'unmarried'}, inplace=True)"
   ]
  },
  {
   "cell_type": "code",
   "execution_count": 30,
   "metadata": {},
   "outputs": [
    {
     "data": {
      "text/plain": [
       "<matplotlib.legend.Legend at 0x1627d081a00>"
      ]
     },
     "execution_count": 30,
     "metadata": {},
     "output_type": "execute_result"
    },
    {
     "data": {
      "image/png": "[encoded data removed]",
      "text/plain": [
       "<Figure size 432x288 with 1 Axes>"
      ]
     },
     "metadata": {
      "needs_background": "light"
     },
     "output_type": "display_data"
    }
   ],
   "source": [
    "counts = (df[['marital_status', 'apgar_score']]\n",
    "              .groupby(['marital_status', 'apgar_score'])\n",
    "              .size()\n",
    "              .unstack('apgar_score')\n",
    "         )\n",
    "\n",
    "counts['percent_low_apgar'] = (counts[1]/counts[0])*100\n",
    "\n",
    "ax = counts['percent_low_apgar'].plot.barh()\n",
    "ax.invert_yaxis()\n",
    "ax.legend(\n",
    "    loc='center right', \n",
    "    bbox_to_anchor=(1.5, 0.5), \n",
    "    title='Marital Status'\n",
    ")"
   ]
  },
  {
   "cell_type": "code",
   "execution_count": 31,
   "metadata": {},
   "outputs": [
    {
     "data": {
      "text/plain": [
       "3    963465\n",
       "6    772775\n",
       "4    727697\n",
       "7    360017\n",
       "2    336834\n",
       "5    309359\n",
       "1    115068\n",
       "8    104489\n",
       "9     53205\n",
       "Name: mother_education, dtype: int64"
      ]
     },
     "execution_count": 31,
     "metadata": {},
     "output_type": "execute_result"
    }
   ],
   "source": [
    "df['mother_education'].value_counts()"
   ]
  },
  {
   "cell_type": "code",
   "execution_count": 32,
   "metadata": {},
   "outputs": [
    {
     "data": {
      "text/plain": [
       "<matplotlib.legend.Legend at 0x1627d0aeca0>"
      ]
     },
     "execution_count": 32,
     "metadata": {},
     "output_type": "execute_result"
    },
    {
     "data": {
      "image/png": "[encoded data removed]",
      "text/plain": [
       "<Figure size 432x288 with 1 Axes>"
      ]
     },
     "metadata": {
      "needs_background": "light"
     },
     "output_type": "display_data"
    }
   ],
   "source": [
    "counts = (df[['mother_education', 'apgar_score']]\n",
    "              .groupby(['mother_education', 'apgar_score'])\n",
    "              .size()\n",
    "              .unstack('apgar_score')\n",
    "         )\n",
    "\n",
    "counts['percent_low_apgar'] = (counts[1]/counts[0])*100\n",
    "\n",
    "ax = counts['percent_low_apgar'].plot.barh()\n",
    "ax.invert_yaxis()\n",
    "ax.legend(\n",
    "    loc='center right', \n",
    "    bbox_to_anchor=(1.5, 0.5), \n",
    "    title='Education'\n",
    ")"
   ]
  },
  {
   "cell_type": "code",
   "execution_count": 33,
   "metadata": {},
   "outputs": [],
   "source": [
    "df['mother_education'].replace(to_replace=list(range(1, 6)), value=\"hs_or_lower\", inplace=True)\n",
    "df['mother_education'].replace(to_replace=list(range(6, 9)), value=\"college_or_higher\", inplace=True)\n",
    "df['mother_education'].replace(to_replace=9, value=np.nan, inplace=True)"
   ]
  },
  {
   "cell_type": "code",
   "execution_count": 34,
   "metadata": {},
   "outputs": [
    {
     "data": {
      "text/plain": [
       "99    430117\n",
       "31    202868\n",
       "32    200782\n",
       "30    197125\n",
       "33    197000\n",
       "       ...  \n",
       "93         1\n",
       "86         1\n",
       "84         1\n",
       "98         1\n",
       "87         1\n",
       "Name: father_age, Length: 80, dtype: int64"
      ]
     },
     "execution_count": 34,
     "metadata": {},
     "output_type": "execute_result"
    }
   ],
   "source": [
    "df['father_age'].value_counts()"
   ]
  },
  {
   "cell_type": "code",
   "execution_count": 35,
   "metadata": {},
   "outputs": [
    {
     "data": {
      "text/plain": [
       "<matplotlib.legend.Legend at 0x1627b2e6a60>"
      ]
     },
     "execution_count": 35,
     "metadata": {},
     "output_type": "execute_result"
    },
    {
     "data": {
      "image/png": "[encoded data removed]",
      "text/plain": [
       "<Figure size 432x288 with 1 Axes>"
      ]
     },
     "metadata": {
      "needs_background": "light"
     },
     "output_type": "display_data"
    }
   ],
   "source": [
    "counts = (df[['father_age', 'apgar_score']]\n",
    "              .groupby(['father_age', 'apgar_score'])\n",
    "              .size()\n",
    "              .unstack('apgar_score')\n",
    "         )\n",
    "\n",
    "counts['percent_low_apgar'] = (counts[1]/counts[0])*100\n",
    "\n",
    "ax = counts['percent_low_apgar'].plot.bar()\n",
    "ax.legend(\n",
    "    loc='center right', \n",
    "    bbox_to_anchor=(1.5, 0.5), \n",
    "    title='Father Age'\n",
    ")"
   ]
  },
  {
   "cell_type": "code",
   "execution_count": 36,
   "metadata": {},
   "outputs": [],
   "source": [
    "df['father_age'].replace(to_replace=99, value=np.nan, inplace=True)"
   ]
  },
  {
   "cell_type": "code",
   "execution_count": 37,
   "metadata": {},
   "outputs": [
    {
     "data": {
      "text/plain": [
       "0     1437973\n",
       "1     1193311\n",
       "2      637706\n",
       "3      274877\n",
       "4      107747\n",
       "5       45341\n",
       "6       20164\n",
       "7        9821\n",
       "99       5041\n",
       "8        4979\n",
       "9        2845\n",
       "10       1637\n",
       "11        811\n",
       "12        413\n",
       "13        129\n",
       "14         66\n",
       "15         27\n",
       "16         13\n",
       "17          4\n",
       "20          2\n",
       "18          2\n",
       "Name: living_children, dtype: int64"
      ]
     },
     "execution_count": 37,
     "metadata": {},
     "output_type": "execute_result"
    }
   ],
   "source": [
    "df['living_children'].value_counts()"
   ]
  },
  {
   "cell_type": "code",
   "execution_count": 38,
   "metadata": {},
   "outputs": [
    {
     "data": {
      "text/plain": [
       "<matplotlib.legend.Legend at 0x1627dbe43d0>"
      ]
     },
     "execution_count": 38,
     "metadata": {},
     "output_type": "execute_result"
    },
    {
     "data": {
      "image/png": "[encoded data removed]",
      "text/plain": [
       "<Figure size 432x288 with 1 Axes>"
      ]
     },
     "metadata": {
      "needs_background": "light"
     },
     "output_type": "display_data"
    }
   ],
   "source": [
    "counts = (df[['living_children', 'apgar_score']]\n",
    "              .groupby(['living_children', 'apgar_score'])\n",
    "              .size()\n",
    "              .unstack('apgar_score')\n",
    "         )\n",
    "\n",
    "counts['percent_low_apgar'] = (counts[1]/counts[0])*100\n",
    "\n",
    "ax = counts['percent_low_apgar'].plot.bar()\n",
    "ax.legend(\n",
    "    loc='center right', \n",
    "    bbox_to_anchor=(1.5, 0.5), \n",
    "    title='Living Children'\n",
    ")"
   ]
  },
  {
   "cell_type": "code",
   "execution_count": 39,
   "metadata": {},
   "outputs": [],
   "source": [
    "df['living_children'].replace(to_replace=99, value=np.nan, inplace=True)"
   ]
  },
  {
   "cell_type": "code",
   "execution_count": 40,
   "metadata": {},
   "outputs": [
    {
     "data": {
      "text/plain": [
       "0     3691909\n",
       "1       36560\n",
       "99       7396\n",
       "2        4564\n",
       "3        1112\n",
       "4         399\n",
       "5         231\n",
       "9         158\n",
       "6         152\n",
       "7         124\n",
       "8         119\n",
       "10         87\n",
       "12         49\n",
       "11         48\n",
       "17          1\n",
       "Name: deceased_children, dtype: int64"
      ]
     },
     "execution_count": 40,
     "metadata": {},
     "output_type": "execute_result"
    }
   ],
   "source": [
    "df['deceased_children'].value_counts()"
   ]
  },
  {
   "cell_type": "code",
   "execution_count": 41,
   "metadata": {},
   "outputs": [
    {
     "data": {
      "text/plain": [
       "<matplotlib.legend.Legend at 0x1627f1be940>"
      ]
     },
     "execution_count": 41,
     "metadata": {},
     "output_type": "execute_result"
    },
    {
     "data": {
      "image/png": "[encoded data removed]",
      "text/plain": [
       "<Figure size 432x288 with 1 Axes>"
      ]
     },
     "metadata": {
      "needs_background": "light"
     },
     "output_type": "display_data"
    }
   ],
   "source": [
    "counts = (df[['deceased_children', 'apgar_score']]\n",
    "              .groupby(['deceased_children', 'apgar_score'])\n",
    "              .size()\n",
    "              .unstack('apgar_score')\n",
    "         )\n",
    "\n",
    "counts['percent_low_apgar'] = (counts[1]/counts[0])*100\n",
    "\n",
    "ax = counts['percent_low_apgar'].plot.bar()\n",
    "ax.legend(\n",
    "    loc='center right', \n",
    "    bbox_to_anchor=(1.5, 0.5), \n",
    "    title='Deceased Children'\n",
    ")"
   ]
  },
  {
   "cell_type": "code",
   "execution_count": 42,
   "metadata": {},
   "outputs": [],
   "source": [
    "df['deceased_children'].replace(to_replace=99, value=np.nan, inplace=True)"
   ]
  },
  {
   "cell_type": "code",
   "execution_count": 43,
   "metadata": {},
   "outputs": [
    {
     "data": {
      "text/plain": [
       "0     2710073\n",
       "1      667012\n",
       "2      226272\n",
       "3       78874\n",
       "4       28715\n",
       "5       11658\n",
       "99       8340\n",
       "6        5211\n",
       "7        2680\n",
       "8        1476\n",
       "9         882\n",
       "10        802\n",
       "11        348\n",
       "12        260\n",
       "13         97\n",
       "14         63\n",
       "15         54\n",
       "16         32\n",
       "17         14\n",
       "18         14\n",
       "23          8\n",
       "20          7\n",
       "19          6\n",
       "25          3\n",
       "30          2\n",
       "22          2\n",
       "21          2\n",
       "24          1\n",
       "27          1\n",
       "Name: terminations, dtype: int64"
      ]
     },
     "execution_count": 43,
     "metadata": {},
     "output_type": "execute_result"
    }
   ],
   "source": [
    "df['terminations'].value_counts()"
   ]
  },
  {
   "cell_type": "code",
   "execution_count": 44,
   "metadata": {},
   "outputs": [
    {
     "data": {
      "text/plain": [
       "<matplotlib.legend.Legend at 0x1627dae2400>"
      ]
     },
     "execution_count": 44,
     "metadata": {},
     "output_type": "execute_result"
    },
    {
     "data": {
      "image/png": "[encoded data removed]",
      "text/plain": [
       "<Figure size 432x288 with 1 Axes>"
      ]
     },
     "metadata": {
      "needs_background": "light"
     },
     "output_type": "display_data"
    }
   ],
   "source": [
    "counts = (df[['terminations', 'apgar_score']]\n",
    "              .groupby(['terminations', 'apgar_score'])\n",
    "              .size()\n",
    "              .unstack('apgar_score')\n",
    "         )\n",
    "\n",
    "counts['percent_low_apgar'] = (counts[1]/counts[0])*100\n",
    "\n",
    "ax = counts['percent_low_apgar'].plot.bar()\n",
    "ax.legend(\n",
    "    loc='center right', \n",
    "    bbox_to_anchor=(1.5, 0.5), \n",
    "    title='Terminations'\n",
    ")"
   ]
  },
  {
   "cell_type": "code",
   "execution_count": 45,
   "metadata": {},
   "outputs": [],
   "source": [
    "df['terminations'].replace(to_replace=99, value=np.nan, inplace=True)"
   ]
  },
  {
   "cell_type": "code",
   "execution_count": 46,
   "metadata": {},
   "outputs": [
    {
     "data": {
      "text/plain": [
       "2     1475542\n",
       "3     1152091\n",
       "4      323210\n",
       "1      212144\n",
       "5      163052\n",
       "6      100782\n",
       "99      83396\n",
       "7       79773\n",
       "0       66419\n",
       "8       61274\n",
       "9       24838\n",
       "10        388\n",
       "Name: months_prenatal_care, dtype: int64"
      ]
     },
     "execution_count": 46,
     "metadata": {},
     "output_type": "execute_result"
    }
   ],
   "source": [
    "df['months_prenatal_care'].value_counts()"
   ]
  },
  {
   "cell_type": "code",
   "execution_count": 47,
   "metadata": {},
   "outputs": [
    {
     "data": {
      "text/plain": [
       "<matplotlib.legend.Legend at 0x1627cff68b0>"
      ]
     },
     "execution_count": 47,
     "metadata": {},
     "output_type": "execute_result"
    },
    {
     "data": {
      "image/png": "[encoded data removed]",
      "text/plain": [
       "<Figure size 432x288 with 1 Axes>"
      ]
     },
     "metadata": {
      "needs_background": "light"
     },
     "output_type": "display_data"
    }
   ],
   "source": [
    "counts = (df[['months_prenatal_care', 'apgar_score']]\n",
    "              .groupby(['months_prenatal_care', 'apgar_score'])\n",
    "              .size()\n",
    "              .unstack('apgar_score')\n",
    "         )\n",
    "\n",
    "counts['percent_low_apgar'] = (counts[1]/counts[0])*100\n",
    "\n",
    "ax = counts['percent_low_apgar'].plot.bar()\n",
    "ax.legend(\n",
    "    loc='center right', \n",
    "    bbox_to_anchor=(1.5, 0.5), \n",
    "    title='Prenatal Care'\n",
    ")"
   ]
  },
  {
   "cell_type": "code",
   "execution_count": 48,
   "metadata": {},
   "outputs": [],
   "source": [
    "df['months_prenatal_care'].replace(to_replace=99, value=np.nan, inplace=True)"
   ]
  },
  {
   "cell_type": "code",
   "execution_count": 145,
   "metadata": {},
   "outputs": [
    {
     "data": {
      "text/plain": [
       "<matplotlib.legend.Legend at 0x163bfb1d5e0>"
      ]
     },
     "execution_count": 145,
     "metadata": {},
     "output_type": "execute_result"
    },
    {
     "data": {
      "image/png": "[encoded data removed]",
      "text/plain": [
       "<Figure size 432x288 with 1 Axes>"
      ]
     },
     "metadata": {
      "needs_background": "light"
     },
     "output_type": "display_data"
    }
   ],
   "source": [
    "counts = (df[['months_prenatal_care', 'apgar_score']]\n",
    "              .groupby(['months_prenatal_care', 'apgar_score'])\n",
    "              .size()\n",
    "              .unstack('apgar_score')\n",
    "         )\n",
    "\n",
    "counts['percent_low_apgar'] = (counts[1]/counts[0])*100\n",
    "\n",
    "ax = counts['percent_low_apgar'].plot.bar(color='#ea9999')\n",
    "ax.legend(\n",
    "    loc='center right', \n",
    "    bbox_to_anchor=(1.5, 0.5), \n",
    "    title='Prenatal Care'\n",
    ")"
   ]
  },
  {
   "cell_type": "code",
   "execution_count": 49,
   "metadata": {},
   "outputs": [
    {
     "data": {
      "text/plain": [
       "12    576719\n",
       "10    481612\n",
       "11    377871\n",
       "13    358086\n",
       "14    299447\n",
       "       ...  \n",
       "94         1\n",
       "86         1\n",
       "73         1\n",
       "74         1\n",
       "83         1\n",
       "Name: prenatal_visits, Length: 92, dtype: int64"
      ]
     },
     "execution_count": 49,
     "metadata": {},
     "output_type": "execute_result"
    }
   ],
   "source": [
    "df['prenatal_visits'].value_counts()"
   ]
  },
  {
   "cell_type": "code",
   "execution_count": 50,
   "metadata": {},
   "outputs": [
    {
     "data": {
      "text/plain": [
       "<matplotlib.legend.Legend at 0x163bd539d90>"
      ]
     },
     "execution_count": 50,
     "metadata": {},
     "output_type": "execute_result"
    },
    {
     "data": {
      "image/png": "[encoded data removed]",
      "text/plain": [
       "<Figure size 432x288 with 1 Axes>"
      ]
     },
     "metadata": {
      "needs_background": "light"
     },
     "output_type": "display_data"
    }
   ],
   "source": [
    "counts = (df[['prenatal_visits', 'apgar_score']]\n",
    "              .groupby(['prenatal_visits', 'apgar_score'])\n",
    "              .size()\n",
    "              .unstack('apgar_score')\n",
    "         )\n",
    "\n",
    "counts['percent_low_apgar'] = (counts[1]/counts[0])*100\n",
    "\n",
    "ax = counts['percent_low_apgar'].plot.bar()\n",
    "ax.legend(\n",
    "    loc='center right', \n",
    "    bbox_to_anchor=(1.5, 0.5), \n",
    "    title='Prenatal Visits'\n",
    ")"
   ]
  },
  {
   "cell_type": "code",
   "execution_count": 51,
   "metadata": {},
   "outputs": [],
   "source": [
    "df['prenatal_visits'].replace(to_replace=99, value=np.nan, inplace=True)"
   ]
  },
  {
   "cell_type": "code",
   "execution_count": 52,
   "metadata": {},
   "outputs": [
    {
     "data": {
      "text/plain": [
       "N    2447990\n",
       "Y    1252530\n",
       "U      42389\n",
       "Name: food_assistance, dtype: int64"
      ]
     },
     "execution_count": 52,
     "metadata": {},
     "output_type": "execute_result"
    }
   ],
   "source": [
    "df['food_assistance'].value_counts()"
   ]
  },
  {
   "cell_type": "code",
   "execution_count": 53,
   "metadata": {},
   "outputs": [
    {
     "data": {
      "text/plain": [
       "<matplotlib.legend.Legend at 0x163bd4fcdf0>"
      ]
     },
     "execution_count": 53,
     "metadata": {},
     "output_type": "execute_result"
    },
    {
     "data": {
      "image/png": "[encoded data removed]",
      "text/plain": [
       "<Figure size 432x288 with 1 Axes>"
      ]
     },
     "metadata": {
      "needs_background": "light"
     },
     "output_type": "display_data"
    }
   ],
   "source": [
    "counts = (df[['food_assistance', 'apgar_score']]\n",
    "              .groupby(['food_assistance', 'apgar_score'])\n",
    "              .size()\n",
    "              .unstack('apgar_score')\n",
    "         )\n",
    "\n",
    "counts['percent_low_apgar'] = (counts[1]/counts[0])*100\n",
    "\n",
    "ax = counts['percent_low_apgar'].plot.bar()\n",
    "ax.legend(\n",
    "    loc='center right', \n",
    "    bbox_to_anchor=(1.5, 0.5), \n",
    "    title='Food Assistance'\n",
    ")"
   ]
  },
  {
   "cell_type": "code",
   "execution_count": 54,
   "metadata": {},
   "outputs": [],
   "source": [
    "df['prenatal_visits'].replace(to_replace='U', value=np.nan, inplace=True)"
   ]
  },
  {
   "cell_type": "code",
   "execution_count": 55,
   "metadata": {},
   "outputs": [
    {
     "data": {
      "text/plain": [
       "0     3438762\n",
       "20      84271\n",
       "10      76956\n",
       "5       30445\n",
       "99      18529\n",
       "       ...   \n",
       "54          1\n",
       "71          1\n",
       "52          1\n",
       "76          1\n",
       "56          1\n",
       "Name: prepregnancy_daily_cig, Length: 74, dtype: int64"
      ]
     },
     "execution_count": 55,
     "metadata": {},
     "output_type": "execute_result"
    }
   ],
   "source": [
    "df['prepregnancy_daily_cig'].value_counts()"
   ]
  },
  {
   "cell_type": "code",
   "execution_count": 56,
   "metadata": {},
   "outputs": [
    {
     "data": {
      "text/plain": [
       "<matplotlib.legend.Legend at 0x163bd539550>"
      ]
     },
     "execution_count": 56,
     "metadata": {},
     "output_type": "execute_result"
    },
    {
     "data": {
      "image/png": "[encoded data removed]",
      "text/plain": [
       "<Figure size 432x288 with 1 Axes>"
      ]
     },
     "metadata": {
      "needs_background": "light"
     },
     "output_type": "display_data"
    }
   ],
   "source": [
    "counts = (df[['prepregnancy_daily_cig', 'apgar_score']]\n",
    "              .groupby(['prepregnancy_daily_cig', 'apgar_score'])\n",
    "              .size()\n",
    "              .unstack('apgar_score')\n",
    "         )\n",
    "\n",
    "counts['percent_low_apgar'] = (counts[1]/counts[0])*100\n",
    "\n",
    "ax = counts['percent_low_apgar'].plot.bar()\n",
    "ax.legend(\n",
    "    loc='center right', \n",
    "    bbox_to_anchor=(1.5, 0.5), \n",
    "    title='Food Assistance'\n",
    ")"
   ]
  },
  {
   "cell_type": "code",
   "execution_count": 57,
   "metadata": {},
   "outputs": [
    {
     "data": {
      "text/plain": [
       "0     3508892\n",
       "10      68102\n",
       "20      44271\n",
       "5       29963\n",
       "99      18453\n",
       "       ...   \n",
       "65          1\n",
       "66          1\n",
       "68          1\n",
       "75          1\n",
       "47          1\n",
       "Name: first_tri_daily_cig, Length: 69, dtype: int64"
      ]
     },
     "execution_count": 57,
     "metadata": {},
     "output_type": "execute_result"
    }
   ],
   "source": [
    "df['first_tri_daily_cig'].value_counts()"
   ]
  },
  {
   "cell_type": "code",
   "execution_count": 58,
   "metadata": {},
   "outputs": [
    {
     "data": {
      "text/plain": [
       "<matplotlib.legend.Legend at 0x163bd7da1f0>"
      ]
     },
     "execution_count": 58,
     "metadata": {},
     "output_type": "execute_result"
    },
    {
     "data": {
      "image/png": "[encoded data removed]",
      "text/plain": [
       "<Figure size 432x288 with 1 Axes>"
      ]
     },
     "metadata": {
      "needs_background": "light"
     },
     "output_type": "display_data"
    }
   ],
   "source": [
    "counts = (df[['first_tri_daily_cig', 'apgar_score']]\n",
    "              .groupby(['first_tri_daily_cig', 'apgar_score'])\n",
    "              .size()\n",
    "              .unstack('apgar_score')\n",
    "         )\n",
    "\n",
    "counts['percent_low_apgar'] = (counts[1]/counts[0])*100\n",
    "\n",
    "ax = counts['percent_low_apgar'].plot.bar()\n",
    "ax.legend(\n",
    "    loc='center right', \n",
    "    bbox_to_anchor=(1.5, 0.5), \n",
    "    title='Cig1'\n",
    ")"
   ]
  },
  {
   "cell_type": "code",
   "execution_count": 59,
   "metadata": {},
   "outputs": [],
   "source": [
    "df['first_tri_daily_cig'].replace(to_replace=99, value=np.nan, inplace=True)"
   ]
  },
  {
   "cell_type": "code",
   "execution_count": 60,
   "metadata": {},
   "outputs": [
    {
     "data": {
      "text/plain": [
       "0     3539918\n",
       "10      61391\n",
       "5       30895\n",
       "20      27295\n",
       "99      18381\n",
       "       ...   \n",
       "95          1\n",
       "57          1\n",
       "72          1\n",
       "82          1\n",
       "85          1\n",
       "Name: second_tri_daily_cig, Length: 61, dtype: int64"
      ]
     },
     "execution_count": 60,
     "metadata": {},
     "output_type": "execute_result"
    }
   ],
   "source": [
    "df['second_tri_daily_cig'].value_counts()"
   ]
  },
  {
   "cell_type": "code",
   "execution_count": 61,
   "metadata": {},
   "outputs": [
    {
     "data": {
      "text/plain": [
       "<matplotlib.legend.Legend at 0x163bd89ffd0>"
      ]
     },
     "execution_count": 61,
     "metadata": {},
     "output_type": "execute_result"
    },
    {
     "data": {
      "image/png": "[encoded data removed]",
      "text/plain": [
       "<Figure size 432x288 with 1 Axes>"
      ]
     },
     "metadata": {
      "needs_background": "light"
     },
     "output_type": "display_data"
    }
   ],
   "source": [
    "counts = (df[['second_tri_daily_cig', 'apgar_score']]\n",
    "              .groupby(['second_tri_daily_cig', 'apgar_score'])\n",
    "              .size()\n",
    "              .unstack('apgar_score')\n",
    "         )\n",
    "\n",
    "counts['percent_low_apgar'] = (counts[1]/counts[0])*100\n",
    "\n",
    "ax = counts['percent_low_apgar'].plot.bar()\n",
    "ax.legend(\n",
    "    loc='center right', \n",
    "    bbox_to_anchor=(1.5, 0.5), \n",
    "    title='Cig2'\n",
    ")"
   ]
  },
  {
   "cell_type": "code",
   "execution_count": 62,
   "metadata": {},
   "outputs": [],
   "source": [
    "df['second_tri_daily_cig'].replace(to_replace=99, value=np.nan, inplace=True)"
   ]
  },
  {
   "cell_type": "code",
   "execution_count": 63,
   "metadata": {},
   "outputs": [
    {
     "data": {
      "text/plain": [
       "0     3531455\n",
       "10      52799\n",
       "99      36979\n",
       "5       31074\n",
       "20      23447\n",
       "3       14361\n",
       "2       12642\n",
       "1        9890\n",
       "4        9882\n",
       "6        6048\n",
       "7        3838\n",
       "8        3022\n",
       "15       2767\n",
       "40        978\n",
       "12        833\n",
       "30        681\n",
       "9         652\n",
       "98        364\n",
       "60        242\n",
       "11        176\n",
       "13        104\n",
       "25        100\n",
       "80         90\n",
       "14         77\n",
       "18         56\n",
       "50         51\n",
       "16         51\n",
       "24         41\n",
       "17         30\n",
       "35         23\n",
       "21         23\n",
       "19         20\n",
       "45         19\n",
       "90         17\n",
       "22         12\n",
       "23         10\n",
       "55          8\n",
       "88          6\n",
       "28          6\n",
       "36          4\n",
       "26          3\n",
       "32          3\n",
       "27          2\n",
       "31          2\n",
       "33          2\n",
       "34          2\n",
       "42          2\n",
       "48          2\n",
       "84          2\n",
       "29          2\n",
       "37          1\n",
       "38          1\n",
       "92          1\n",
       "41          1\n",
       "46          1\n",
       "62          1\n",
       "63          1\n",
       "66          1\n",
       "70          1\n",
       "Name: third_tri_daily_cig, dtype: int64"
      ]
     },
     "execution_count": 63,
     "metadata": {},
     "output_type": "execute_result"
    }
   ],
   "source": [
    "df['third_tri_daily_cig'].value_counts()"
   ]
  },
  {
   "cell_type": "code",
   "execution_count": 64,
   "metadata": {},
   "outputs": [
    {
     "data": {
      "text/plain": [
       "<matplotlib.legend.Legend at 0x163bd9464c0>"
      ]
     },
     "execution_count": 64,
     "metadata": {},
     "output_type": "execute_result"
    },
    {
     "data": {
      "image/png": "[encoded data removed]",
      "text/plain": [
       "<Figure size 432x288 with 1 Axes>"
      ]
     },
     "metadata": {
      "needs_background": "light"
     },
     "output_type": "display_data"
    }
   ],
   "source": [
    "counts = (df[['third_tri_daily_cig', 'apgar_score']]\n",
    "              .groupby(['third_tri_daily_cig', 'apgar_score'])\n",
    "              .size()\n",
    "              .unstack('apgar_score')\n",
    "         )\n",
    "\n",
    "counts['percent_low_apgar'] = (counts[1]/counts[0])*100\n",
    "\n",
    "ax = counts['percent_low_apgar'].plot.bar()\n",
    "ax.legend(\n",
    "    loc='center right', \n",
    "    bbox_to_anchor=(1.5, 0.5), \n",
    "    title='Cig3'\n",
    ")"
   ]
  },
  {
   "cell_type": "code",
   "execution_count": 65,
   "metadata": {},
   "outputs": [],
   "source": [
    "df['third_tri_daily_cig'].replace(to_replace=99, value=np.nan, inplace=True)"
   ]
  },
  {
   "cell_type": "code",
   "execution_count": 66,
   "metadata": {},
   "outputs": [
    {
     "data": {
      "text/plain": [
       "64    548128\n",
       "63    488093\n",
       "62    476552\n",
       "65    445686\n",
       "66    405942\n",
       "67    322452\n",
       "61    270261\n",
       "60    208102\n",
       "68    178443\n",
       "69    120336\n",
       "59     87930\n",
       "70     58927\n",
       "71     31241\n",
       "58     23487\n",
       "57     19676\n",
       "99     18795\n",
       "72     14246\n",
       "56      6963\n",
       "73      4837\n",
       "55      3029\n",
       "74      2338\n",
       "54      1357\n",
       "53      1298\n",
       "75       825\n",
       "78       741\n",
       "49       565\n",
       "48       533\n",
       "52       470\n",
       "76       445\n",
       "77       432\n",
       "51       355\n",
       "50       300\n",
       "30        27\n",
       "47        15\n",
       "39        15\n",
       "40        11\n",
       "45        10\n",
       "41         8\n",
       "46         7\n",
       "36         7\n",
       "44         6\n",
       "38         5\n",
       "43         4\n",
       "42         3\n",
       "37         2\n",
       "35         2\n",
       "34         1\n",
       "31         1\n",
       "Name: height, dtype: int64"
      ]
     },
     "execution_count": 66,
     "metadata": {},
     "output_type": "execute_result"
    }
   ],
   "source": [
    "df['height'].value_counts()"
   ]
  },
  {
   "cell_type": "code",
   "execution_count": 67,
   "metadata": {},
   "outputs": [
    {
     "data": {
      "text/plain": [
       "<matplotlib.legend.Legend at 0x163bd98c6d0>"
      ]
     },
     "execution_count": 67,
     "metadata": {},
     "output_type": "execute_result"
    },
    {
     "data": {
      "image/png": "[encoded data removed]",
      "text/plain": [
       "<Figure size 432x288 with 1 Axes>"
      ]
     },
     "metadata": {
      "needs_background": "light"
     },
     "output_type": "display_data"
    }
   ],
   "source": [
    "counts = (df[['height', 'apgar_score']]\n",
    "              .groupby(['height', 'apgar_score'])\n",
    "              .size()\n",
    "              .unstack('apgar_score')\n",
    "         )\n",
    "\n",
    "counts['percent_low_apgar'] = (counts[1]/counts[0])*100\n",
    "\n",
    "ax = counts['percent_low_apgar'].plot.bar()\n",
    "ax.legend(\n",
    "    loc='center right', \n",
    "    bbox_to_anchor=(1.5, 0.5), \n",
    "    title='Cig3'\n",
    ")"
   ]
  },
  {
   "cell_type": "code",
   "execution_count": 68,
   "metadata": {},
   "outputs": [],
   "source": [
    "df['height'].replace(to_replace=99, value=np.nan, inplace=True)"
   ]
  },
  {
   "cell_type": "code",
   "execution_count": 69,
   "metadata": {},
   "outputs": [
    {
     "data": {
      "text/plain": [
       "99.9    84201\n",
       "26.6    68007\n",
       "28.3    59928\n",
       "23.0    46399\n",
       "22.3    44956\n",
       "        ...  \n",
       "67.9        1\n",
       "66.7        1\n",
       "69.0        1\n",
       "69.6        1\n",
       "67.2        1\n",
       "Name: bmi, Length: 567, dtype: int64"
      ]
     },
     "execution_count": 69,
     "metadata": {},
     "output_type": "execute_result"
    }
   ],
   "source": [
    "df['bmi'].value_counts()"
   ]
  },
  {
   "cell_type": "code",
   "execution_count": 70,
   "metadata": {},
   "outputs": [
    {
     "data": {
      "text/plain": [
       "<matplotlib.legend.Legend at 0x163bdf01460>"
      ]
     },
     "execution_count": 70,
     "metadata": {},
     "output_type": "execute_result"
    },
    {
     "data": {
      "image/png": "[encoded data removed]",
      "text/plain": [
       "<Figure size 432x288 with 1 Axes>"
      ]
     },
     "metadata": {
      "needs_background": "light"
     },
     "output_type": "display_data"
    }
   ],
   "source": [
    "counts = (df[['bmi', 'apgar_score']]\n",
    "              .groupby(['bmi', 'apgar_score'])\n",
    "              .size()\n",
    "              .unstack('apgar_score')\n",
    "         )\n",
    "\n",
    "counts['percent_low_apgar'] = (counts[1]/counts[0])*100\n",
    "\n",
    "ax = counts['percent_low_apgar'].plot.bar()\n",
    "ax.legend(\n",
    "    loc='center right', \n",
    "    bbox_to_anchor=(1.5, 0.5), \n",
    "    title='Cig3'\n",
    ")"
   ]
  },
  {
   "cell_type": "code",
   "execution_count": 71,
   "metadata": {},
   "outputs": [],
   "source": [
    "df['bmi'].replace(to_replace=99, value=np.nan, inplace=True)"
   ]
  },
  {
   "cell_type": "code",
   "execution_count": 72,
   "metadata": {},
   "outputs": [
    {
     "data": {
      "text/plain": [
       "160    71167\n",
       "180    70913\n",
       "170    67510\n",
       "165    58274\n",
       "150    57122\n",
       "       ...  \n",
       "393       87\n",
       "398       87\n",
       "394       82\n",
       "387       79\n",
       "397       77\n",
       "Name: delivery_weight, Length: 302, dtype: int64"
      ]
     },
     "execution_count": 72,
     "metadata": {},
     "output_type": "execute_result"
    }
   ],
   "source": [
    "df['delivery_weight'].value_counts()"
   ]
  },
  {
   "cell_type": "code",
   "execution_count": 73,
   "metadata": {},
   "outputs": [
    {
     "data": {
      "text/plain": [
       "<matplotlib.legend.Legend at 0x163bdc7df10>"
      ]
     },
     "execution_count": 73,
     "metadata": {},
     "output_type": "execute_result"
    },
    {
     "data": {
      "image/png": "[encoded data removed]",
      "text/plain": [
       "<Figure size 432x288 with 1 Axes>"
      ]
     },
     "metadata": {
      "needs_background": "light"
     },
     "output_type": "display_data"
    }
   ],
   "source": [
    "counts = (df[['delivery_weight', 'apgar_score']]\n",
    "              .groupby(['delivery_weight', 'apgar_score'])\n",
    "              .size()\n",
    "              .unstack('apgar_score')\n",
    "         )\n",
    "\n",
    "counts['percent_low_apgar'] = (counts[1]/counts[0])*100\n",
    "\n",
    "ax = counts['percent_low_apgar'].plot.bar()\n",
    "ax.legend(\n",
    "    loc='center right', \n",
    "    bbox_to_anchor=(1.5, 0.5), \n",
    "    title='Cig3'\n",
    ")"
   ]
  },
  {
   "cell_type": "code",
   "execution_count": 74,
   "metadata": {},
   "outputs": [],
   "source": [
    "df['delivery_weight'].replace(to_replace=999, value=np.nan, inplace=True)"
   ]
  },
  {
   "cell_type": "code",
   "execution_count": 75,
   "metadata": {},
   "outputs": [
    {
     "data": {
      "text/plain": [
       "30    164774\n",
       "20    136218\n",
       "25    126570\n",
       "35    114184\n",
       "99    108997\n",
       "       ...  \n",
       "92       432\n",
       "93       418\n",
       "94       381\n",
       "96       331\n",
       "97       299\n",
       "Name: weight_gain, Length: 100, dtype: int64"
      ]
     },
     "execution_count": 75,
     "metadata": {},
     "output_type": "execute_result"
    }
   ],
   "source": [
    "df['weight_gain'].value_counts()"
   ]
  },
  {
   "cell_type": "code",
   "execution_count": 76,
   "metadata": {},
   "outputs": [
    {
     "data": {
      "text/plain": [
       "<matplotlib.legend.Legend at 0x163bdc8c0a0>"
      ]
     },
     "execution_count": 76,
     "metadata": {},
     "output_type": "execute_result"
    },
    {
     "data": {
      "image/png": "[encoded data removed]",
      "text/plain": [
       "<Figure size 432x288 with 1 Axes>"
      ]
     },
     "metadata": {
      "needs_background": "light"
     },
     "output_type": "display_data"
    }
   ],
   "source": [
    "counts = (df[['weight_gain', 'apgar_score']]\n",
    "              .groupby(['weight_gain', 'apgar_score'])\n",
    "              .size()\n",
    "              .unstack('apgar_score')\n",
    "         )\n",
    "\n",
    "counts['percent_low_apgar'] = (counts[1]/counts[0])*100\n",
    "\n",
    "ax = counts['percent_low_apgar'].plot.bar()\n",
    "ax.legend(\n",
    "    loc='center right', \n",
    "    bbox_to_anchor=(1.5, 0.5), \n",
    "    title='Cig3'\n",
    ")"
   ]
  },
  {
   "cell_type": "code",
   "execution_count": 77,
   "metadata": {},
   "outputs": [],
   "source": [
    "df['weight_gain'].replace(to_replace=99, value=np.nan, inplace=True)"
   ]
  },
  {
   "cell_type": "code",
   "execution_count": 78,
   "metadata": {},
   "outputs": [
    {
     "data": {
      "text/plain": [
       "N    3704010\n",
       "Y      36516\n",
       "U       2383\n",
       "Name: diabetes, dtype: int64"
      ]
     },
     "execution_count": 78,
     "metadata": {},
     "output_type": "execute_result"
    }
   ],
   "source": [
    "df['diabetes'].value_counts()"
   ]
  },
  {
   "cell_type": "code",
   "execution_count": 79,
   "metadata": {},
   "outputs": [
    {
     "data": {
      "text/plain": [
       "<matplotlib.legend.Legend at 0x163bf0a4310>"
      ]
     },
     "execution_count": 79,
     "metadata": {},
     "output_type": "execute_result"
    },
    {
     "data": {
      "image/png": "[encoded data removed]",
      "text/plain": [
       "<Figure size 432x288 with 1 Axes>"
      ]
     },
     "metadata": {
      "needs_background": "light"
     },
     "output_type": "display_data"
    }
   ],
   "source": [
    "counts = (df[['diabetes', 'apgar_score']]\n",
    "              .groupby(['diabetes', 'apgar_score'])\n",
    "              .size()\n",
    "              .unstack('apgar_score')\n",
    "         )\n",
    "\n",
    "counts['percent_low_apgar'] = (counts[1]/counts[0])*100\n",
    "\n",
    "ax = counts['percent_low_apgar'].plot.bar()\n",
    "ax.legend(\n",
    "    loc='center right', \n",
    "    bbox_to_anchor=(1.5, 0.5), \n",
    "    title='Cig3'\n",
    ")"
   ]
  },
  {
   "cell_type": "code",
   "execution_count": 80,
   "metadata": {},
   "outputs": [],
   "source": [
    "df['diabetes'].replace(to_replace='U', value=np.nan, inplace=True)"
   ]
  },
  {
   "cell_type": "code",
   "execution_count": 81,
   "metadata": {},
   "outputs": [
    {
     "data": {
      "text/plain": [
       "N    3481937\n",
       "Y     258589\n",
       "U       2383\n",
       "Name: gestational_diabetes, dtype: int64"
      ]
     },
     "execution_count": 81,
     "metadata": {},
     "output_type": "execute_result"
    }
   ],
   "source": [
    "df['gestational_diabetes'].value_counts()"
   ]
  },
  {
   "cell_type": "code",
   "execution_count": 82,
   "metadata": {},
   "outputs": [
    {
     "data": {
      "text/plain": [
       "<matplotlib.legend.Legend at 0x163bf252ca0>"
      ]
     },
     "execution_count": 82,
     "metadata": {},
     "output_type": "execute_result"
    },
    {
     "data": {
      "image/png": "[encoded data removed]",
      "text/plain": [
       "<Figure size 432x288 with 1 Axes>"
      ]
     },
     "metadata": {
      "needs_background": "light"
     },
     "output_type": "display_data"
    }
   ],
   "source": [
    "counts = (df[['gestational_diabetes', 'apgar_score']]\n",
    "              .groupby(['gestational_diabetes', 'apgar_score'])\n",
    "              .size()\n",
    "              .unstack('apgar_score')\n",
    "         )\n",
    "\n",
    "counts['percent_low_apgar'] = (counts[1]/counts[0])*100\n",
    "\n",
    "ax = counts['percent_low_apgar'].plot.bar()\n",
    "ax.legend(\n",
    "    loc='center right', \n",
    "    bbox_to_anchor=(1.5, 0.5), \n",
    "    title='Cig3'\n",
    ")"
   ]
  },
  {
   "cell_type": "code",
   "execution_count": 83,
   "metadata": {},
   "outputs": [],
   "source": [
    "df['gestational_diabetes'].replace(to_replace='U', value=np.nan, inplace=True)"
   ]
  },
  {
   "cell_type": "code",
   "execution_count": 84,
   "metadata": {},
   "outputs": [
    {
     "data": {
      "text/plain": [
       "N    3657523\n",
       "Y      83003\n",
       "U       2383\n",
       "Name: hypertension, dtype: int64"
      ]
     },
     "execution_count": 84,
     "metadata": {},
     "output_type": "execute_result"
    }
   ],
   "source": [
    "df['hypertension'].value_counts()"
   ]
  },
  {
   "cell_type": "code",
   "execution_count": 85,
   "metadata": {},
   "outputs": [
    {
     "data": {
      "text/plain": [
       "<matplotlib.legend.Legend at 0x163bdf4b550>"
      ]
     },
     "execution_count": 85,
     "metadata": {},
     "output_type": "execute_result"
    },
    {
     "data": {
      "image/png": "[encoded data removed]",
      "text/plain": [
       "<Figure size 432x288 with 1 Axes>"
      ]
     },
     "metadata": {
      "needs_background": "light"
     },
     "output_type": "display_data"
    }
   ],
   "source": [
    "counts = (df[['hypertension', 'apgar_score']]\n",
    "              .groupby(['hypertension', 'apgar_score'])\n",
    "              .size()\n",
    "              .unstack('apgar_score')\n",
    "         )\n",
    "\n",
    "counts['percent_low_apgar'] = (counts[1]/counts[0])*100\n",
    "\n",
    "ax = counts['percent_low_apgar'].plot.bar()\n",
    "ax.legend(\n",
    "    loc='center right', \n",
    "    bbox_to_anchor=(1.5, 0.5), \n",
    "    title='Cig3'\n",
    ")"
   ]
  },
  {
   "cell_type": "code",
   "execution_count": 86,
   "metadata": {},
   "outputs": [],
   "source": [
    "df['hypertension'].replace(to_replace='U', value=np.nan, inplace=True)"
   ]
  },
  {
   "cell_type": "code",
   "execution_count": 87,
   "metadata": {},
   "outputs": [
    {
     "data": {
      "text/plain": [
       "N    3448913\n",
       "Y     291613\n",
       "U       2383\n",
       "Name: gestational_hypertension, dtype: int64"
      ]
     },
     "execution_count": 87,
     "metadata": {},
     "output_type": "execute_result"
    }
   ],
   "source": [
    "df['gestational_hypertension'].value_counts()"
   ]
  },
  {
   "cell_type": "code",
   "execution_count": 88,
   "metadata": {},
   "outputs": [
    {
     "data": {
      "text/plain": [
       "<matplotlib.legend.Legend at 0x163bddfb1f0>"
      ]
     },
     "execution_count": 88,
     "metadata": {},
     "output_type": "execute_result"
    },
    {
     "data": {
      "image/png": "[encoded data removed]",
      "text/plain": [
       "<Figure size 432x288 with 1 Axes>"
      ]
     },
     "metadata": {
      "needs_background": "light"
     },
     "output_type": "display_data"
    }
   ],
   "source": [
    "counts = (df[['gestational_hypertension', 'apgar_score']]\n",
    "              .groupby(['gestational_hypertension', 'apgar_score'])\n",
    "              .size()\n",
    "              .unstack('apgar_score')\n",
    "         )\n",
    "\n",
    "counts['percent_low_apgar'] = (counts[1]/counts[0])*100\n",
    "\n",
    "ax = counts['percent_low_apgar'].plot.bar()\n",
    "ax.legend(\n",
    "    loc='center right', \n",
    "    bbox_to_anchor=(1.5, 0.5), \n",
    "    title='Cig3'\n",
    ")"
   ]
  },
  {
   "cell_type": "code",
   "execution_count": 89,
   "metadata": {},
   "outputs": [],
   "source": [
    "df['gestational_hypertension'].replace(to_replace='U', value=np.nan, inplace=True)"
   ]
  },
  {
   "cell_type": "code",
   "execution_count": 90,
   "metadata": {},
   "outputs": [
    {
     "data": {
      "text/plain": [
       "N    3730014\n",
       "Y      10512\n",
       "U       2383\n",
       "Name: eclampsia, dtype: int64"
      ]
     },
     "execution_count": 90,
     "metadata": {},
     "output_type": "execute_result"
    }
   ],
   "source": [
    "df['eclampsia'].value_counts()"
   ]
  },
  {
   "cell_type": "code",
   "execution_count": 91,
   "metadata": {},
   "outputs": [
    {
     "data": {
      "text/plain": [
       "<matplotlib.legend.Legend at 0x163bf36fa00>"
      ]
     },
     "execution_count": 91,
     "metadata": {},
     "output_type": "execute_result"
    },
    {
     "data": {
      "image/png": "[encoded data removed]",
      "text/plain": [
       "<Figure size 432x288 with 1 Axes>"
      ]
     },
     "metadata": {
      "needs_background": "light"
     },
     "output_type": "display_data"
    }
   ],
   "source": [
    "counts = (df[['eclampsia', 'apgar_score']]\n",
    "              .groupby(['eclampsia', 'apgar_score'])\n",
    "              .size()\n",
    "              .unstack('apgar_score')\n",
    "         )\n",
    "\n",
    "counts['percent_low_apgar'] = (counts[1]/counts[0])*100\n",
    "\n",
    "ax = counts['percent_low_apgar'].plot.bar()\n",
    "ax.legend(\n",
    "    loc='center right', \n",
    "    bbox_to_anchor=(1.5, 0.5), \n",
    "    title='Cig3'\n",
    ")"
   ]
  },
  {
   "cell_type": "code",
   "execution_count": 92,
   "metadata": {},
   "outputs": [],
   "source": [
    "df['eclampsia'].replace(to_replace='U', value=np.nan, inplace=True)"
   ]
  },
  {
   "cell_type": "code",
   "execution_count": 93,
   "metadata": {},
   "outputs": [
    {
     "data": {
      "text/plain": [
       "N    3604510\n",
       "Y     136016\n",
       "U       2383\n",
       "Name: previous_premature_birth, dtype: int64"
      ]
     },
     "execution_count": 93,
     "metadata": {},
     "output_type": "execute_result"
    }
   ],
   "source": [
    "df['previous_premature_birth'].value_counts()"
   ]
  },
  {
   "cell_type": "code",
   "execution_count": 94,
   "metadata": {},
   "outputs": [
    {
     "data": {
      "text/plain": [
       "<matplotlib.legend.Legend at 0x163bf38fdf0>"
      ]
     },
     "execution_count": 94,
     "metadata": {},
     "output_type": "execute_result"
    },
    {
     "data": {
      "image/png": "[encoded data removed]",
      "text/plain": [
       "<Figure size 432x288 with 1 Axes>"
      ]
     },
     "metadata": {
      "needs_background": "light"
     },
     "output_type": "display_data"
    }
   ],
   "source": [
    "counts = (df[['previous_premature_birth', 'apgar_score']]\n",
    "              .groupby(['previous_premature_birth', 'apgar_score'])\n",
    "              .size()\n",
    "              .unstack('apgar_score')\n",
    "         )\n",
    "\n",
    "counts['percent_low_apgar'] = (counts[1]/counts[0])*100\n",
    "\n",
    "ax = counts['percent_low_apgar'].plot.bar()\n",
    "ax.legend(\n",
    "    loc='center right', \n",
    "    bbox_to_anchor=(1.5, 0.5), \n",
    "    title='Preemie'\n",
    ")"
   ]
  },
  {
   "cell_type": "code",
   "execution_count": 95,
   "metadata": {},
   "outputs": [],
   "source": [
    "df['previous_premature_birth'].replace(to_replace='U', value=np.nan, inplace=True)"
   ]
  },
  {
   "cell_type": "code",
   "execution_count": 96,
   "metadata": {},
   "outputs": [
    {
     "data": {
      "text/plain": [
       "N    3664515\n",
       "Y      76011\n",
       "U       2383\n",
       "Name: infertility_treatment, dtype: int64"
      ]
     },
     "execution_count": 96,
     "metadata": {},
     "output_type": "execute_result"
    }
   ],
   "source": [
    "df['infertility_treatment'].value_counts()"
   ]
  },
  {
   "cell_type": "code",
   "execution_count": 97,
   "metadata": {},
   "outputs": [
    {
     "data": {
      "text/plain": [
       "<matplotlib.legend.Legend at 0x163bf3ee5e0>"
      ]
     },
     "execution_count": 97,
     "metadata": {},
     "output_type": "execute_result"
    },
    {
     "data": {
      "image/png": "[encoded data removed]",
      "text/plain": [
       "<Figure size 432x288 with 1 Axes>"
      ]
     },
     "metadata": {
      "needs_background": "light"
     },
     "output_type": "display_data"
    }
   ],
   "source": [
    "counts = (df[['infertility_treatment', 'apgar_score']]\n",
    "              .groupby(['infertility_treatment', 'apgar_score'])\n",
    "              .size()\n",
    "              .unstack('apgar_score')\n",
    "         )\n",
    "\n",
    "counts['percent_low_apgar'] = (counts[1]/counts[0])*100\n",
    "\n",
    "ax = counts['percent_low_apgar'].plot.bar()\n",
    "ax.legend(\n",
    "    loc='center right', \n",
    "    bbox_to_anchor=(1.5, 0.5), \n",
    "    title='Preemie'\n",
    ")"
   ]
  },
  {
   "cell_type": "code",
   "execution_count": 98,
   "metadata": {},
   "outputs": [],
   "source": [
    "df['infertility_treatment'].replace(to_replace='U', value=np.nan, inplace=True)"
   ]
  },
  {
   "cell_type": "code",
   "execution_count": 99,
   "metadata": {},
   "outputs": [
    {
     "data": {
      "text/plain": [
       "X    3664515\n",
       "N      43026\n",
       "Y      28984\n",
       "U       6384\n",
       "Name: fertility_drugs, dtype: int64"
      ]
     },
     "execution_count": 99,
     "metadata": {},
     "output_type": "execute_result"
    }
   ],
   "source": [
    "df['fertility_drugs'].value_counts()"
   ]
  },
  {
   "cell_type": "code",
   "execution_count": 100,
   "metadata": {},
   "outputs": [
    {
     "data": {
      "text/plain": [
       "<matplotlib.legend.Legend at 0x163bf3fbfa0>"
      ]
     },
     "execution_count": 100,
     "metadata": {},
     "output_type": "execute_result"
    },
    {
     "data": {
      "image/png": "[encoded data removed]",
      "text/plain": [
       "<Figure size 432x288 with 1 Axes>"
      ]
     },
     "metadata": {
      "needs_background": "light"
     },
     "output_type": "display_data"
    }
   ],
   "source": [
    "counts = (df[['fertility_drugs', 'apgar_score']]\n",
    "              .groupby(['fertility_drugs', 'apgar_score'])\n",
    "              .size()\n",
    "              .unstack('apgar_score')\n",
    "         )\n",
    "\n",
    "counts['percent_low_apgar'] = (counts[1]/counts[0])*100\n",
    "\n",
    "ax = counts['percent_low_apgar'].plot.bar()\n",
    "ax.legend(\n",
    "    loc='center right', \n",
    "    bbox_to_anchor=(1.5, 0.5), \n",
    "    title='Preemie'\n",
    ")"
   ]
  },
  {
   "cell_type": "code",
   "execution_count": 101,
   "metadata": {},
   "outputs": [],
   "source": [
    "df['fertility_drugs'].replace(to_replace='U', value=np.nan, inplace=True)\n",
    "df['fertility_drugs'].replace(to_replace='X', value='N', inplace=True)"
   ]
  },
  {
   "cell_type": "code",
   "execution_count": 102,
   "metadata": {},
   "outputs": [
    {
     "data": {
      "text/plain": [
       "X    3664515\n",
       "Y      48871\n",
       "N      23139\n",
       "U       6384\n",
       "Name: assisted_reproduction, dtype: int64"
      ]
     },
     "execution_count": 102,
     "metadata": {},
     "output_type": "execute_result"
    }
   ],
   "source": [
    "df['assisted_reproduction'].value_counts()"
   ]
  },
  {
   "cell_type": "code",
   "execution_count": 103,
   "metadata": {},
   "outputs": [
    {
     "data": {
      "text/plain": [
       "<matplotlib.legend.Legend at 0x163bf55d8b0>"
      ]
     },
     "execution_count": 103,
     "metadata": {},
     "output_type": "execute_result"
    },
    {
     "data": {
      "image/png": "[encoded data removed]",
      "text/plain": [
       "<Figure size 432x288 with 1 Axes>"
      ]
     },
     "metadata": {
      "needs_background": "light"
     },
     "output_type": "display_data"
    }
   ],
   "source": [
    "counts = (df[['assisted_reproduction', 'apgar_score']]\n",
    "              .groupby(['assisted_reproduction', 'apgar_score'])\n",
    "              .size()\n",
    "              .unstack('apgar_score')\n",
    "         )\n",
    "\n",
    "counts['percent_low_apgar'] = (counts[1]/counts[0])*100\n",
    "\n",
    "ax = counts['percent_low_apgar'].plot.bar()\n",
    "ax.legend(\n",
    "    loc='center right', \n",
    "    bbox_to_anchor=(1.5, 0.5), \n",
    "    title='Preemie'\n",
    ")"
   ]
  },
  {
   "cell_type": "code",
   "execution_count": 104,
   "metadata": {},
   "outputs": [],
   "source": [
    "df['assisted_reproduction'].replace(to_replace='U', value=np.nan, inplace=True)\n",
    "df['assisted_reproduction'].replace(to_replace='X', value='N', inplace=True)"
   ]
  },
  {
   "cell_type": "code",
   "execution_count": 105,
   "metadata": {},
   "outputs": [
    {
     "data": {
      "text/plain": [
       "0     3157888\n",
       "1      396640\n",
       "2      135893\n",
       "3       37975\n",
       "4        8635\n",
       "99       3366\n",
       "5        1909\n",
       "6         430\n",
       "7         126\n",
       "8          32\n",
       "9          11\n",
       "10          3\n",
       "12          1\n",
       "Name: previous_cesareans, dtype: int64"
      ]
     },
     "execution_count": 105,
     "metadata": {},
     "output_type": "execute_result"
    }
   ],
   "source": [
    "df['previous_cesareans'].value_counts()"
   ]
  },
  {
   "cell_type": "code",
   "execution_count": 106,
   "metadata": {},
   "outputs": [
    {
     "data": {
      "text/plain": [
       "<matplotlib.legend.Legend at 0x1627d037910>"
      ]
     },
     "execution_count": 106,
     "metadata": {},
     "output_type": "execute_result"
    },
    {
     "data": {
      "image/png": "[encoded data removed]",
      "text/plain": [
       "<Figure size 432x288 with 1 Axes>"
      ]
     },
     "metadata": {
      "needs_background": "light"
     },
     "output_type": "display_data"
    }
   ],
   "source": [
    "counts = (df[['previous_cesareans', 'apgar_score']]\n",
    "              .groupby(['previous_cesareans', 'apgar_score'])\n",
    "              .size()\n",
    "              .unstack('apgar_score')\n",
    "         )\n",
    "\n",
    "counts['percent_low_apgar'] = (counts[1]/counts[0])*100\n",
    "\n",
    "ax = counts['percent_low_apgar'].plot.bar()\n",
    "ax.legend(\n",
    "    loc='center right', \n",
    "    bbox_to_anchor=(1.5, 0.5), \n",
    "    title='Preemie'\n",
    ")"
   ]
  },
  {
   "cell_type": "code",
   "execution_count": 107,
   "metadata": {},
   "outputs": [],
   "source": [
    "df['previous_cesareans'].replace(to_replace=99, value=np.nan, inplace=True)"
   ]
  },
  {
   "cell_type": "code",
   "execution_count": 108,
   "metadata": {},
   "outputs": [
    {
     "data": {
      "text/plain": [
       "N    3722608\n",
       "Y      11952\n",
       "U       8349\n",
       "Name: gonorrhea, dtype: int64"
      ]
     },
     "execution_count": 108,
     "metadata": {},
     "output_type": "execute_result"
    }
   ],
   "source": [
    "df['gonorrhea'].value_counts()"
   ]
  },
  {
   "cell_type": "code",
   "execution_count": 109,
   "metadata": {},
   "outputs": [
    {
     "data": {
      "text/plain": [
       "<matplotlib.legend.Legend at 0x1627f1b6b50>"
      ]
     },
     "execution_count": 109,
     "metadata": {},
     "output_type": "execute_result"
    },
    {
     "data": {
      "image/png": "[encoded data removed]",
      "text/plain": [
       "<Figure size 432x288 with 1 Axes>"
      ]
     },
     "metadata": {
      "needs_background": "light"
     },
     "output_type": "display_data"
    }
   ],
   "source": [
    "counts = (df[['gonorrhea', 'apgar_score']]\n",
    "              .groupby(['gonorrhea', 'apgar_score'])\n",
    "              .size()\n",
    "              .unstack('apgar_score')\n",
    "         )\n",
    "\n",
    "counts['percent_low_apgar'] = (counts[1]/counts[0])*100\n",
    "\n",
    "ax = counts['percent_low_apgar'].plot.bar()\n",
    "ax.legend(\n",
    "    loc='center right', \n",
    "    bbox_to_anchor=(1.5, 0.5), \n",
    "    title='Preemie'\n",
    ")"
   ]
  },
  {
   "cell_type": "code",
   "execution_count": 110,
   "metadata": {},
   "outputs": [],
   "source": [
    "df['gonorrhea'].replace(to_replace='U', value=np.nan, inplace=True)"
   ]
  },
  {
   "cell_type": "code",
   "execution_count": 111,
   "metadata": {},
   "outputs": [
    {
     "data": {
      "text/plain": [
       "N    3728937\n",
       "U       8349\n",
       "Y       5623\n",
       "Name: syphilis, dtype: int64"
      ]
     },
     "execution_count": 111,
     "metadata": {},
     "output_type": "execute_result"
    }
   ],
   "source": [
    "df['syphilis'].value_counts()"
   ]
  },
  {
   "cell_type": "code",
   "execution_count": 112,
   "metadata": {},
   "outputs": [
    {
     "data": {
      "text/plain": [
       "<matplotlib.legend.Legend at 0x163befebbb0>"
      ]
     },
     "execution_count": 112,
     "metadata": {},
     "output_type": "execute_result"
    },
    {
     "data": {
      "image/png": "[encoded data removed]",
      "text/plain": [
       "<Figure size 432x288 with 1 Axes>"
      ]
     },
     "metadata": {
      "needs_background": "light"
     },
     "output_type": "display_data"
    }
   ],
   "source": [
    "counts = (df[['syphilis', 'apgar_score']]\n",
    "              .groupby(['syphilis', 'apgar_score'])\n",
    "              .size()\n",
    "              .unstack('apgar_score')\n",
    "         )\n",
    "\n",
    "counts['percent_low_apgar'] = (counts[1]/counts[0])*100\n",
    "\n",
    "ax = counts['percent_low_apgar'].plot.bar()\n",
    "ax.legend(\n",
    "    loc='center right', \n",
    "    bbox_to_anchor=(1.5, 0.5), \n",
    "    title='Preemie'\n",
    ")"
   ]
  },
  {
   "cell_type": "code",
   "execution_count": 113,
   "metadata": {},
   "outputs": [],
   "source": [
    "df['syphilis'].replace(to_replace='U', value=np.nan, inplace=True)"
   ]
  },
  {
   "cell_type": "code",
   "execution_count": 114,
   "metadata": {},
   "outputs": [
    {
     "data": {
      "text/plain": [
       "N    3664750\n",
       "Y      69810\n",
       "U       8349\n",
       "Name: chlamydia, dtype: int64"
      ]
     },
     "execution_count": 114,
     "metadata": {},
     "output_type": "execute_result"
    }
   ],
   "source": [
    "df['chlamydia'].value_counts()"
   ]
  },
  {
   "cell_type": "code",
   "execution_count": 115,
   "metadata": {},
   "outputs": [
    {
     "data": {
      "text/plain": [
       "<matplotlib.legend.Legend at 0x163bf170a90>"
      ]
     },
     "execution_count": 115,
     "metadata": {},
     "output_type": "execute_result"
    },
    {
     "data": {
      "image/png": "[encoded data removed]",
      "text/plain": [
       "<Figure size 432x288 with 1 Axes>"
      ]
     },
     "metadata": {
      "needs_background": "light"
     },
     "output_type": "display_data"
    }
   ],
   "source": [
    "counts = (df[['chlamydia', 'apgar_score']]\n",
    "              .groupby(['chlamydia', 'apgar_score'])\n",
    "              .size()\n",
    "              .unstack('apgar_score')\n",
    "         )\n",
    "\n",
    "counts['percent_low_apgar'] = (counts[1]/counts[0])*100\n",
    "\n",
    "ax = counts['percent_low_apgar'].plot.bar()\n",
    "ax.legend(\n",
    "    loc='center right', \n",
    "    bbox_to_anchor=(1.5, 0.5), \n",
    "    title='Chlamydia'\n",
    ")"
   ]
  },
  {
   "cell_type": "code",
   "execution_count": 116,
   "metadata": {},
   "outputs": [],
   "source": [
    "df['chlamydia'].replace(to_replace='U', value=np.nan, inplace=True)"
   ]
  },
  {
   "cell_type": "code",
   "execution_count": 117,
   "metadata": {},
   "outputs": [
    {
     "data": {
      "text/plain": [
       "N    3726685\n",
       "U       8349\n",
       "Y       7875\n",
       "Name: hepatitis_b, dtype: int64"
      ]
     },
     "execution_count": 117,
     "metadata": {},
     "output_type": "execute_result"
    }
   ],
   "source": [
    "df['hepatitis_b'].value_counts()"
   ]
  },
  {
   "cell_type": "code",
   "execution_count": 118,
   "metadata": {},
   "outputs": [
    {
     "data": {
      "text/plain": [
       "<matplotlib.legend.Legend at 0x163bf6fde80>"
      ]
     },
     "execution_count": 118,
     "metadata": {},
     "output_type": "execute_result"
    },
    {
     "data": {
      "image/png": "[encoded data removed]",
      "text/plain": [
       "<Figure size 432x288 with 1 Axes>"
      ]
     },
     "metadata": {
      "needs_background": "light"
     },
     "output_type": "display_data"
    }
   ],
   "source": [
    "counts = (df[['hepatitis_b', 'apgar_score']]\n",
    "              .groupby(['hepatitis_b', 'apgar_score'])\n",
    "              .size()\n",
    "              .unstack('apgar_score')\n",
    "         )\n",
    "\n",
    "counts['percent_low_apgar'] = (counts[1]/counts[0])*100\n",
    "\n",
    "ax = counts['percent_low_apgar'].plot.bar()\n",
    "ax.legend(\n",
    "    loc='center right', \n",
    "    bbox_to_anchor=(1.5, 0.5), \n",
    "    title='Hep B'\n",
    ")"
   ]
  },
  {
   "cell_type": "code",
   "execution_count": 119,
   "metadata": {},
   "outputs": [],
   "source": [
    "df['hepatitis_b'].replace(to_replace='U', value=np.nan, inplace=True)"
   ]
  },
  {
   "cell_type": "code",
   "execution_count": 120,
   "metadata": {},
   "outputs": [
    {
     "data": {
      "text/plain": [
       "N    3715804\n",
       "Y      18756\n",
       "U       8349\n",
       "Name: hepatitis_c, dtype: int64"
      ]
     },
     "execution_count": 120,
     "metadata": {},
     "output_type": "execute_result"
    }
   ],
   "source": [
    "df['hepatitis_c'].value_counts()"
   ]
  },
  {
   "cell_type": "code",
   "execution_count": 121,
   "metadata": {},
   "outputs": [
    {
     "data": {
      "text/plain": [
       "<matplotlib.legend.Legend at 0x163bf7181c0>"
      ]
     },
     "execution_count": 121,
     "metadata": {},
     "output_type": "execute_result"
    },
    {
     "data": {
      "image/png": "[encoded data removed]",
      "text/plain": [
       "<Figure size 432x288 with 1 Axes>"
      ]
     },
     "metadata": {
      "needs_background": "light"
     },
     "output_type": "display_data"
    }
   ],
   "source": [
    "counts = (df[['hepatitis_c', 'apgar_score']]\n",
    "              .groupby(['hepatitis_c', 'apgar_score'])\n",
    "              .size()\n",
    "              .unstack('apgar_score')\n",
    "         )\n",
    "\n",
    "counts['percent_low_apgar'] = (counts[1]/counts[0])*100\n",
    "\n",
    "ax = counts['percent_low_apgar'].plot.bar()\n",
    "ax.legend(\n",
    "    loc='center right', \n",
    "    bbox_to_anchor=(1.5, 0.5), \n",
    "    title='Hep C'\n",
    ")"
   ]
  },
  {
   "cell_type": "code",
   "execution_count": 122,
   "metadata": {},
   "outputs": [],
   "source": [
    "df['hepatitis_c'].replace(to_replace='U', value=np.nan, inplace=True)"
   ]
  },
  {
   "cell_type": "code",
   "execution_count": 123,
   "metadata": {},
   "outputs": [
    {
     "data": {
      "text/plain": [
       "N    3598866\n",
       "Y     143007\n",
       "U       1036\n",
       "Name: steroids, dtype: int64"
      ]
     },
     "execution_count": 123,
     "metadata": {},
     "output_type": "execute_result"
    }
   ],
   "source": [
    "df['steroids'].value_counts()"
   ]
  },
  {
   "cell_type": "code",
   "execution_count": 124,
   "metadata": {},
   "outputs": [
    {
     "data": {
      "text/plain": [
       "<matplotlib.legend.Legend at 0x1627dc46d30>"
      ]
     },
     "execution_count": 124,
     "metadata": {},
     "output_type": "execute_result"
    },
    {
     "data": {
      "image/png": "[encoded data removed]",
      "text/plain": [
       "<Figure size 432x288 with 1 Axes>"
      ]
     },
     "metadata": {
      "needs_background": "light"
     },
     "output_type": "display_data"
    }
   ],
   "source": [
    "counts = (df[['steroids', 'apgar_score']]\n",
    "              .groupby(['steroids', 'apgar_score'])\n",
    "              .size()\n",
    "              .unstack('apgar_score')\n",
    "         )\n",
    "\n",
    "counts['percent_low_apgar'] = (counts[1]/counts[0])*100\n",
    "\n",
    "ax = counts['percent_low_apgar'].plot.bar()\n",
    "ax.legend(\n",
    "    loc='center right', \n",
    "    bbox_to_anchor=(1.5, 0.5), \n",
    "    title='Hep C'\n",
    ")"
   ]
  },
  {
   "cell_type": "code",
   "execution_count": 125,
   "metadata": {},
   "outputs": [],
   "source": [
    "df['steroids'].replace(to_replace='U', value=np.nan, inplace=True)"
   ]
  },
  {
   "cell_type": "code",
   "execution_count": 126,
   "metadata": {},
   "outputs": [
    {
     "data": {
      "text/plain": [
       "N    2799382\n",
       "Y     942491\n",
       "U       1036\n",
       "Name: antibiotics, dtype: int64"
      ]
     },
     "execution_count": 126,
     "metadata": {},
     "output_type": "execute_result"
    }
   ],
   "source": [
    "df['antibiotics'].value_counts()"
   ]
  },
  {
   "cell_type": "code",
   "execution_count": 127,
   "metadata": {},
   "outputs": [
    {
     "data": {
      "text/plain": [
       "<matplotlib.legend.Legend at 0x163bf718af0>"
      ]
     },
     "execution_count": 127,
     "metadata": {},
     "output_type": "execute_result"
    },
    {
     "data": {
      "image/png": "[encoded data removed]",
      "text/plain": [
       "<Figure size 432x288 with 1 Axes>"
      ]
     },
     "metadata": {
      "needs_background": "light"
     },
     "output_type": "display_data"
    }
   ],
   "source": [
    "counts = (df[['antibiotics', 'apgar_score']]\n",
    "              .groupby(['antibiotics', 'apgar_score'])\n",
    "              .size()\n",
    "              .unstack('apgar_score')\n",
    "         )\n",
    "\n",
    "counts['percent_low_apgar'] = (counts[1]/counts[0])*100\n",
    "\n",
    "ax = counts['percent_low_apgar'].plot.bar()\n",
    "ax.legend(\n",
    "    loc='center right', \n",
    "    bbox_to_anchor=(1.5, 0.5), \n",
    "    title='Antibios'\n",
    ")"
   ]
  },
  {
   "cell_type": "code",
   "execution_count": 128,
   "metadata": {},
   "outputs": [],
   "source": [
    "df['antibiotics'].replace(to_replace='U', value=np.nan, inplace=True)"
   ]
  },
  {
   "cell_type": "code",
   "execution_count": 129,
   "metadata": {},
   "outputs": [
    {
     "data": {
      "text/plain": [
       "N    3682095\n",
       "Y      59778\n",
       "U       1036\n",
       "Name: chorioamnionitis, dtype: int64"
      ]
     },
     "execution_count": 129,
     "metadata": {},
     "output_type": "execute_result"
    }
   ],
   "source": [
    "df['chorioamnionitis'].value_counts()"
   ]
  },
  {
   "cell_type": "code",
   "execution_count": 130,
   "metadata": {},
   "outputs": [
    {
     "data": {
      "text/plain": [
       "<matplotlib.legend.Legend at 0x163bf790ca0>"
      ]
     },
     "execution_count": 130,
     "metadata": {},
     "output_type": "execute_result"
    },
    {
     "data": {
      "image/png": "[encoded data removed]",
      "text/plain": [
       "<Figure size 432x288 with 1 Axes>"
      ]
     },
     "metadata": {
      "needs_background": "light"
     },
     "output_type": "display_data"
    }
   ],
   "source": [
    "counts = (df[['chorioamnionitis', 'apgar_score']]\n",
    "              .groupby(['chorioamnionitis', 'apgar_score'])\n",
    "              .size()\n",
    "              .unstack('apgar_score')\n",
    "         )\n",
    "\n",
    "counts['percent_low_apgar'] = (counts[1]/counts[0])*100\n",
    "\n",
    "ax = counts['percent_low_apgar'].plot.bar()\n",
    "ax.legend(\n",
    "    loc='center right', \n",
    "    bbox_to_anchor=(1.5, 0.5), \n",
    "    title='chorioamnionitis'\n",
    ")"
   ]
  },
  {
   "cell_type": "code",
   "execution_count": 131,
   "metadata": {},
   "outputs": [],
   "source": [
    "df['chorioamnionitis'].replace(to_replace='U', value=np.nan, inplace=True)"
   ]
  },
  {
   "cell_type": "code",
   "execution_count": 132,
   "metadata": {},
   "outputs": [
    {
     "data": {
      "text/plain": [
       "0    3665575\n",
       "1      77334\n",
       "Name: apgar_score, dtype: int64"
      ]
     },
     "execution_count": 132,
     "metadata": {},
     "output_type": "execute_result"
    }
   ],
   "source": [
    "df['apgar_score'].value_counts()"
   ]
  },
  {
   "cell_type": "code",
   "execution_count": 133,
   "metadata": {},
   "outputs": [
    {
     "data": {
      "text/plain": [
       "1    3619480\n",
       "2     120152\n",
       "3       3130\n",
       "4        111\n",
       "5         36\n",
       "Name: plural_pregnancy, dtype: int64"
      ]
     },
     "execution_count": 133,
     "metadata": {},
     "output_type": "execute_result"
    }
   ],
   "source": [
    "df['plural_pregnancy'].value_counts()"
   ]
  },
  {
   "cell_type": "code",
   "execution_count": 134,
   "metadata": {},
   "outputs": [
    {
     "data": {
      "text/plain": [
       "<matplotlib.legend.Legend at 0x163bf785340>"
      ]
     },
     "execution_count": 134,
     "metadata": {},
     "output_type": "execute_result"
    },
    {
     "data": {
      "image/png": "[encoded data removed]",
      "text/plain": [
       "<Figure size 432x288 with 1 Axes>"
      ]
     },
     "metadata": {
      "needs_background": "light"
     },
     "output_type": "display_data"
    }
   ],
   "source": [
    "counts = (df[['plural_pregnancy', 'apgar_score']]\n",
    "              .groupby(['plural_pregnancy', 'apgar_score'])\n",
    "              .size()\n",
    "              .unstack('apgar_score')\n",
    "         )\n",
    "\n",
    "counts['percent_low_apgar'] = (counts[1]/counts[0])*100\n",
    "\n",
    "ax = counts['percent_low_apgar'].plot.bar()\n",
    "ax.legend(\n",
    "    loc='center right', \n",
    "    bbox_to_anchor=(1.5, 0.5), \n",
    "    title='plural_pregnancy'\n",
    ")"
   ]
  },
  {
   "cell_type": "code",
   "execution_count": 135,
   "metadata": {},
   "outputs": [
    {
     "data": {
      "text/plain": [
       "M    1915264\n",
       "F    1827645\n",
       "Name: infant_sex, dtype: int64"
      ]
     },
     "execution_count": 135,
     "metadata": {},
     "output_type": "execute_result"
    }
   ],
   "source": [
    "df['infant_sex'].value_counts()"
   ]
  },
  {
   "cell_type": "code",
   "execution_count": 136,
   "metadata": {},
   "outputs": [
    {
     "data": {
      "text/plain": [
       "<matplotlib.legend.Legend at 0x163bf95a910>"
      ]
     },
     "execution_count": 136,
     "metadata": {},
     "output_type": "execute_result"
    },
    {
     "data": {
      "image/png": "[encoded data removed]",
      "text/plain": [
       "<Figure size 432x288 with 1 Axes>"
      ]
     },
     "metadata": {
      "needs_background": "light"
     },
     "output_type": "display_data"
    }
   ],
   "source": [
    "counts = (df[['infant_sex', 'apgar_score']]\n",
    "              .groupby(['infant_sex', 'apgar_score'])\n",
    "              .size()\n",
    "              .unstack('apgar_score')\n",
    "         )\n",
    "\n",
    "counts['percent_low_apgar'] = (counts[1]/counts[0])*100\n",
    "\n",
    "ax = counts['percent_low_apgar'].plot.bar()\n",
    "ax.legend(\n",
    "    loc='center right', \n",
    "    bbox_to_anchor=(1.5, 0.5), \n",
    "    title='infant_sex'\n",
    ")"
   ]
  },
  {
   "cell_type": "code",
   "execution_count": 137,
   "metadata": {},
   "outputs": [
    {
     "data": {
      "text/plain": [
       "39    1146218\n",
       "40     687001\n",
       "38     615965\n",
       "37     373255\n",
       "41     279323\n",
       "36     170950\n",
       "35      91499\n",
       "42      90629\n",
       "34      61368\n",
       "43      45275\n",
       "33      34695\n",
       "44      24442\n",
       "32      23199\n",
       "31      16034\n",
       "45      13010\n",
       "30      12525\n",
       "29       9251\n",
       "46       7979\n",
       "28       7679\n",
       "27       5542\n",
       "47       5475\n",
       "26       4799\n",
       "25       4156\n",
       "24       3383\n",
       "23       2528\n",
       "22       1746\n",
       "21       1313\n",
       "99       1285\n",
       "20       1021\n",
       "19        649\n",
       "18        442\n",
       "17        273\n",
       "Name: weeks_gestation, dtype: int64"
      ]
     },
     "execution_count": 137,
     "metadata": {},
     "output_type": "execute_result"
    }
   ],
   "source": [
    "df['weeks_gestation'].value_counts()"
   ]
  },
  {
   "cell_type": "code",
   "execution_count": 138,
   "metadata": {},
   "outputs": [
    {
     "data": {
      "text/plain": [
       "<matplotlib.legend.Legend at 0x163bf91d400>"
      ]
     },
     "execution_count": 138,
     "metadata": {},
     "output_type": "execute_result"
    },
    {
     "data": {
      "image/png": "[encoded data removed]",
      "text/plain": [
       "<Figure size 432x288 with 1 Axes>"
      ]
     },
     "metadata": {
      "needs_background": "light"
     },
     "output_type": "display_data"
    }
   ],
   "source": [
    "counts = (df[['weeks_gestation', 'apgar_score']]\n",
    "              .groupby(['weeks_gestation', 'apgar_score'])\n",
    "              .size()\n",
    "              .unstack('apgar_score')\n",
    "         )\n",
    "\n",
    "counts['percent_low_apgar'] = (counts[1]/counts[0])*100\n",
    "\n",
    "ax = counts['percent_low_apgar'].plot.bar()\n",
    "ax.legend(\n",
    "    loc='center right', \n",
    "    bbox_to_anchor=(1.5, 0.5), \n",
    "    title='weeks_gestation'\n",
    ")"
   ]
  },
  {
   "cell_type": "code",
   "execution_count": 139,
   "metadata": {},
   "outputs": [],
   "source": [
    "df['weeks_gestation'].replace(to_replace=99, value=np.nan, inplace=True)"
   ]
  },
  {
   "cell_type": "code",
   "execution_count": 140,
   "metadata": {},
   "outputs": [
    {
     "data": {
      "text/plain": [
       "N    3736620\n",
       "U       4275\n",
       "P       1101\n",
       "C        913\n",
       "Name: down_syndrome, dtype: int64"
      ]
     },
     "execution_count": 140,
     "metadata": {},
     "output_type": "execute_result"
    }
   ],
   "source": [
    "df['down_syndrome'].value_counts()"
   ]
  },
  {
   "cell_type": "code",
   "execution_count": 141,
   "metadata": {},
   "outputs": [
    {
     "data": {
      "text/plain": [
       "<matplotlib.legend.Legend at 0x163bf98a370>"
      ]
     },
     "execution_count": 141,
     "metadata": {},
     "output_type": "execute_result"
    },
    {
     "data": {
      "image/png": "[encoded data removed]",
      "text/plain": [
       "<Figure size 432x288 with 1 Axes>"
      ]
     },
     "metadata": {
      "needs_background": "light"
     },
     "output_type": "display_data"
    }
   ],
   "source": [
    "counts = (df[['down_syndrome', 'apgar_score']]\n",
    "              .groupby(['down_syndrome', 'apgar_score'])\n",
    "              .size()\n",
    "              .unstack('apgar_score')\n",
    "         )\n",
    "\n",
    "counts['percent_low_apgar'] = (counts[1]/counts[0])*100\n",
    "\n",
    "ax = counts['percent_low_apgar'].plot.bar()\n",
    "ax.legend(\n",
    "    loc='center right', \n",
    "    bbox_to_anchor=(1.5, 0.5), \n",
    "    title='down_syndrome'\n",
    ")"
   ]
  },
  {
   "cell_type": "code",
   "execution_count": 142,
   "metadata": {},
   "outputs": [],
   "source": [
    "df['down_syndrome'].replace(to_replace='U', value=np.nan, inplace=True)"
   ]
  },
  {
   "cell_type": "code",
   "execution_count": 143,
   "metadata": {},
   "outputs": [],
   "source": [
    "df['down_syndrome'].replace(to_replace='P', value='C', inplace=True)"
   ]
  },
  {
   "cell_type": "code",
   "execution_count": 144,
   "metadata": {},
   "outputs": [
    {
     "name": "stdout",
     "output_type": "stream",
     "text": [
      "<class 'pandas.core.frame.DataFrame'>\n",
      "Int64Index: 3742909 entries, 0 to 3757581\n",
      "Data columns (total 45 columns):\n",
      " #   Column                    Dtype  \n",
      "---  ------                    -----  \n",
      " 0   birth_place               object \n",
      " 1   mother_age                int64  \n",
      " 2   mother_native             float64\n",
      " 3   mother_race               object \n",
      " 4   mother_hispanic           float64\n",
      " 5   marital_status            object \n",
      " 6   mother_education          object \n",
      " 7   father_age                float64\n",
      " 8   living_children           float64\n",
      " 9   deceased_children         float64\n",
      " 10  terminations              float64\n",
      " 11  months_prenatal_care      float64\n",
      " 12  prenatal_visits           float64\n",
      " 13  food_assistance           object \n",
      " 14  prepregnancy_daily_cig    int64  \n",
      " 15  first_tri_daily_cig       float64\n",
      " 16  second_tri_daily_cig      float64\n",
      " 17  third_tri_daily_cig       float64\n",
      " 18  height                    float64\n",
      " 19  bmi                       float64\n",
      " 20  delivery_weight           float64\n",
      " 21  weight_gain               float64\n",
      " 22  diabetes                  object \n",
      " 23  gestational_diabetes      object \n",
      " 24  hypertension              object \n",
      " 25  gestational_hypertension  object \n",
      " 26  eclampsia                 object \n",
      " 27  previous_premature_birth  object \n",
      " 28  infertility_treatment     object \n",
      " 29  fertility_drugs           object \n",
      " 30  assisted_reproduction     object \n",
      " 31  previous_cesareans        float64\n",
      " 32  gonorrhea                 object \n",
      " 33  syphilis                  object \n",
      " 34  chlamydia                 object \n",
      " 35  hepatitis_b               object \n",
      " 36  hepatitis_c               object \n",
      " 37  steroids                  object \n",
      " 38  antibiotics               object \n",
      " 39  chorioamnionitis          object \n",
      " 40  apgar_score               int64  \n",
      " 41  plural_pregnancy          int64  \n",
      " 42  infant_sex                object \n",
      " 43  weeks_gestation           float64\n",
      " 44  down_syndrome             object \n",
      "dtypes: float64(17), int64(4), object(24)\n",
      "memory usage: 1.3+ GB\n"
     ]
    }
   ],
   "source": [
    "df.info()"
   ]
  },
  {
   "cell_type": "code",
   "execution_count": 145,
   "metadata": {},
   "outputs": [],
   "source": [
    "df_cat = df.select_dtypes(include=['object'])"
   ]
  },
  {
   "cell_type": "code",
   "execution_count": 146,
   "metadata": {},
   "outputs": [],
   "source": [
    "df_num = df.select_dtypes(include=['int64', 'float64'])"
   ]
  },
  {
   "cell_type": "code",
   "execution_count": 147,
   "metadata": {},
   "outputs": [
    {
     "name": "stdout",
     "output_type": "stream",
     "text": [
      "---- birth_place ---\n",
      "hospital    3686903\n",
      "other         55944\n",
      "Name: birth_place, dtype: int64\n",
      "---- mother_race ---\n",
      "white              2788731\n",
      "black               632382\n",
      "asian/pi            280217\n",
      "native_american      41579\n",
      "Name: mother_race, dtype: int64\n",
      "---- marital_status ---\n",
      "married      1968696\n",
      "unmarried    1330007\n",
      "Name: marital_status, dtype: int64\n",
      "---- mother_education ---\n",
      "hs_or_lower          2452423\n",
      "college_or_higher    1237281\n",
      "Name: mother_education, dtype: int64\n",
      "---- food_assistance ---\n",
      "N    2447990\n",
      "Y    1252530\n",
      "U      42389\n",
      "Name: food_assistance, dtype: int64\n",
      "---- diabetes ---\n",
      "N    3704010\n",
      "Y      36516\n",
      "Name: diabetes, dtype: int64\n",
      "---- gestational_diabetes ---\n",
      "N    3481937\n",
      "Y     258589\n",
      "Name: gestational_diabetes, dtype: int64\n",
      "---- hypertension ---\n",
      "N    3657523\n",
      "Y      83003\n",
      "Name: hypertension, dtype: int64\n",
      "---- gestational_hypertension ---\n",
      "N    3448913\n",
      "Y     291613\n",
      "Name: gestational_hypertension, dtype: int64\n",
      "---- eclampsia ---\n",
      "N    3730014\n",
      "Y      10512\n",
      "Name: eclampsia, dtype: int64\n",
      "---- previous_premature_birth ---\n",
      "N    3604510\n",
      "Y     136016\n",
      "Name: previous_premature_birth, dtype: int64\n",
      "---- infertility_treatment ---\n",
      "N    3664515\n",
      "Y      76011\n",
      "Name: infertility_treatment, dtype: int64\n",
      "---- fertility_drugs ---\n",
      "N    3707541\n",
      "Y      28984\n",
      "Name: fertility_drugs, dtype: int64\n",
      "---- assisted_reproduction ---\n",
      "N    3687654\n",
      "Y      48871\n",
      "Name: assisted_reproduction, dtype: int64\n",
      "---- gonorrhea ---\n",
      "N    3722608\n",
      "Y      11952\n",
      "Name: gonorrhea, dtype: int64\n",
      "---- syphilis ---\n",
      "N    3728937\n",
      "Y       5623\n",
      "Name: syphilis, dtype: int64\n",
      "---- chlamydia ---\n",
      "N    3664750\n",
      "Y      69810\n",
      "Name: chlamydia, dtype: int64\n",
      "---- hepatitis_b ---\n",
      "N    3726685\n",
      "Y       7875\n",
      "Name: hepatitis_b, dtype: int64\n",
      "---- hepatitis_c ---\n",
      "N    3715804\n",
      "Y      18756\n",
      "Name: hepatitis_c, dtype: int64\n",
      "---- steroids ---\n",
      "N    3598866\n",
      "Y     143007\n",
      "Name: steroids, dtype: int64\n",
      "---- antibiotics ---\n",
      "N    2799382\n",
      "Y     942491\n",
      "Name: antibiotics, dtype: int64\n",
      "---- chorioamnionitis ---\n",
      "N    3682095\n",
      "Y      59778\n",
      "Name: chorioamnionitis, dtype: int64\n",
      "---- infant_sex ---\n",
      "M    1915264\n",
      "F    1827645\n",
      "Name: infant_sex, dtype: int64\n",
      "---- down_syndrome ---\n",
      "N    3736620\n",
      "C       2014\n",
      "Name: down_syndrome, dtype: int64\n"
     ]
    }
   ],
   "source": [
    "for c in df_cat.columns:\n",
    "    print(\"---- %s ---\" % c)\n",
    "    print(df[c].value_counts())"
   ]
  },
  {
   "cell_type": "code",
   "execution_count": 148,
   "metadata": {},
   "outputs": [
    {
     "data": {
      "text/plain": [
       "Index(['birth_place', 'mother_race', 'marital_status', 'mother_education',\n",
       "       'food_assistance', 'diabetes', 'gestational_diabetes', 'hypertension',\n",
       "       'gestational_hypertension', 'eclampsia', 'previous_premature_birth',\n",
       "       'infertility_treatment', 'fertility_drugs', 'assisted_reproduction',\n",
       "       'gonorrhea', 'syphilis', 'chlamydia', 'hepatitis_b', 'hepatitis_c',\n",
       "       'steroids', 'antibiotics', 'chorioamnionitis', 'infant_sex',\n",
       "       'down_syndrome'],\n",
       "      dtype='object')"
      ]
     },
     "execution_count": 148,
     "metadata": {},
     "output_type": "execute_result"
    }
   ],
   "source": [
    "df_cat.columns"
   ]
  },
  {
   "cell_type": "code",
   "execution_count": 149,
   "metadata": {},
   "outputs": [
    {
     "data": {
      "image/png": "[encoded data removed]",
      "text/plain": [
       "<Figure size 864x4320 with 24 Axes>"
      ]
     },
     "metadata": {
      "needs_background": "light"
     },
     "output_type": "display_data"
    }
   ],
   "source": [
    "fig, axis = plt.subplots(nrows = int((len(df_cat.columns)/2)), ncols = 2, figsize=(12,len(df_cat.columns)*2.5))\n",
    "\n",
    "for i, subplot in zip(df_cat.columns, axis.ravel()):\n",
    "    df_cat[i].value_counts().plot(kind='barh', ax=subplot, title = i)"
   ]
  },
  {
   "cell_type": "code",
   "execution_count": 150,
   "metadata": {},
   "outputs": [
    {
     "name": "stderr",
     "output_type": "stream",
     "text": [
      "<ipython-input-150-db2104ea8bab>:2: UserWarning: To output multiple subplots, the figure containing the passed axes is being cleared\n",
      "  df.hist(ax=axis, bins='auto')\n"
     ]
    },
    {
     "data": {
      "text/plain": [
       "array([[<AxesSubplot:title={'center':'mother_age'}>,\n",
       "        <AxesSubplot:title={'center':'mother_native'}>,\n",
       "        <AxesSubplot:title={'center':'mother_hispanic'}>,\n",
       "        <AxesSubplot:title={'center':'father_age'}>,\n",
       "        <AxesSubplot:title={'center':'living_children'}>],\n",
       "       [<AxesSubplot:title={'center':'deceased_children'}>,\n",
       "        <AxesSubplot:title={'center':'terminations'}>,\n",
       "        <AxesSubplot:title={'center':'months_prenatal_care'}>,\n",
       "        <AxesSubplot:title={'center':'prenatal_visits'}>,\n",
       "        <AxesSubplot:title={'center':'prepregnancy_daily_cig'}>],\n",
       "       [<AxesSubplot:title={'center':'first_tri_daily_cig'}>,\n",
       "        <AxesSubplot:title={'center':'second_tri_daily_cig'}>,\n",
       "        <AxesSubplot:title={'center':'third_tri_daily_cig'}>,\n",
       "        <AxesSubplot:title={'center':'height'}>,\n",
       "        <AxesSubplot:title={'center':'bmi'}>],\n",
       "       [<AxesSubplot:title={'center':'delivery_weight'}>,\n",
       "        <AxesSubplot:title={'center':'weight_gain'}>,\n",
       "        <AxesSubplot:title={'center':'previous_cesareans'}>,\n",
       "        <AxesSubplot:title={'center':'apgar_score'}>,\n",
       "        <AxesSubplot:title={'center':'plural_pregnancy'}>],\n",
       "       [<AxesSubplot:title={'center':'weeks_gestation'}>, <AxesSubplot:>,\n",
       "        <AxesSubplot:>, <AxesSubplot:>, <AxesSubplot:>]], dtype=object)"
      ]
     },
     "execution_count": 150,
     "metadata": {},
     "output_type": "execute_result"
    },
    {
     "data": {
      "image/png": "[encoded data removed]",
      "text/plain": [
       "<Figure size 2880x2880 with 25 Axes>"
      ]
     },
     "metadata": {
      "needs_background": "light"
     },
     "output_type": "display_data"
    }
   ],
   "source": [
    "fig, axis = plt.subplots(figsize=(40, 40))\n",
    "df.hist(ax=axis, bins='auto')"
   ]
  },
  {
   "cell_type": "code",
   "execution_count": 151,
   "metadata": {},
   "outputs": [
    {
     "data": {
      "text/plain": [
       "birth_place                     62\n",
       "mother_age                       0\n",
       "mother_native                 7677\n",
       "mother_race                      0\n",
       "mother_hispanic              35104\n",
       "marital_status              444206\n",
       "mother_education             53205\n",
       "father_age                  430117\n",
       "living_children               5041\n",
       "deceased_children             7396\n",
       "terminations                  8340\n",
       "months_prenatal_care         83396\n",
       "prenatal_visits              91138\n",
       "food_assistance                  0\n",
       "prepregnancy_daily_cig           0\n",
       "first_tri_daily_cig          18453\n",
       "second_tri_daily_cig         18381\n",
       "third_tri_daily_cig          36979\n",
       "height                       18795\n",
       "bmi                              0\n",
       "delivery_weight              49346\n",
       "weight_gain                 108997\n",
       "diabetes                      2383\n",
       "gestational_diabetes          2383\n",
       "hypertension                  2383\n",
       "gestational_hypertension      2383\n",
       "eclampsia                     2383\n",
       "previous_premature_birth      2383\n",
       "infertility_treatment         2383\n",
       "fertility_drugs               6384\n",
       "assisted_reproduction         6384\n",
       "previous_cesareans            3366\n",
       "gonorrhea                     8349\n",
       "syphilis                      8349\n",
       "chlamydia                     8349\n",
       "hepatitis_b                   8349\n",
       "hepatitis_c                   8349\n",
       "steroids                      1036\n",
       "antibiotics                   1036\n",
       "chorioamnionitis              1036\n",
       "apgar_score                      0\n",
       "plural_pregnancy                 0\n",
       "infant_sex                       0\n",
       "weeks_gestation               1285\n",
       "down_syndrome                 4275\n",
       "dtype: int64"
      ]
     },
     "execution_count": 151,
     "metadata": {},
     "output_type": "execute_result"
    }
   ],
   "source": [
    "df.isna().sum()"
   ]
  },
  {
   "cell_type": "markdown",
   "metadata": {},
   "source": [
    "## Sampling and Validation Split"
   ]
  },
  {
   "cell_type": "markdown",
   "metadata": {},
   "source": [
    "## Oversampling"
   ]
  },
  {
   "cell_type": "code",
   "execution_count": 152,
   "metadata": {},
   "outputs": [],
   "source": [
    "# Create validation set with original target distribution\n",
    "df_validate = df.sample(n=20000, random_state=27, axis=0)"
   ]
  },
  {
   "cell_type": "code",
   "execution_count": 153,
   "metadata": {},
   "outputs": [
    {
     "data": {
      "text/plain": [
       "0    0.979\n",
       "1    0.021\n",
       "Name: apgar_score, dtype: float64"
      ]
     },
     "execution_count": 153,
     "metadata": {},
     "output_type": "execute_result"
    }
   ],
   "source": [
    "df_validate['apgar_score'].value_counts(normalize=True)"
   ]
  },
  {
   "cell_type": "code",
   "execution_count": 154,
   "metadata": {},
   "outputs": [],
   "source": [
    "df_drop = df.drop(df_validate.index, axis=0)"
   ]
  },
  {
   "cell_type": "code",
   "execution_count": 155,
   "metadata": {},
   "outputs": [
    {
     "data": {
      "text/plain": [
       "(3722909, 45)"
      ]
     },
     "execution_count": 155,
     "metadata": {},
     "output_type": "execute_result"
    }
   ],
   "source": [
    "df_drop.shape"
   ]
  },
  {
   "cell_type": "code",
   "execution_count": 156,
   "metadata": {},
   "outputs": [],
   "source": [
    "df_target1 = df_drop[df_drop['apgar_score'] == 1]\n",
    "df_target0 = df_drop[df_drop['apgar_score'] == 0]\n",
    "\n",
    "df_target1_join = df_target1.sample(n=10000, random_state=27, axis=0)\n",
    "df_target0_join = df_target0.sample(n=10000, random_state=27, axis=0)"
   ]
  },
  {
   "cell_type": "code",
   "execution_count": 157,
   "metadata": {},
   "outputs": [
    {
     "data": {
      "text/plain": [
       "1    10000\n",
       "Name: apgar_score, dtype: int64"
      ]
     },
     "execution_count": 157,
     "metadata": {},
     "output_type": "execute_result"
    }
   ],
   "source": [
    "df_target1_join['apgar_score'].value_counts()"
   ]
  },
  {
   "cell_type": "code",
   "execution_count": 158,
   "metadata": {},
   "outputs": [
    {
     "data": {
      "text/plain": [
       "0    10000\n",
       "Name: apgar_score, dtype: int64"
      ]
     },
     "execution_count": 158,
     "metadata": {},
     "output_type": "execute_result"
    }
   ],
   "source": [
    "df_target0_join['apgar_score'].value_counts()"
   ]
  },
  {
   "cell_type": "code",
   "execution_count": 159,
   "metadata": {},
   "outputs": [],
   "source": [
    "df_train = pd.concat([df_target1_join, df_target0_join])"
   ]
  },
  {
   "cell_type": "markdown",
   "metadata": {},
   "source": [
    "## Train Test Split"
   ]
  },
  {
   "cell_type": "code",
   "execution_count": 160,
   "metadata": {},
   "outputs": [],
   "source": [
    "X_train = df_train.drop('apgar_score', axis=1)\n",
    "y_train = df_train['apgar_score']\n",
    "\n",
    "X_test = df_validate.drop('apgar_score', axis=1)\n",
    "y_test = df_validate['apgar_score']"
   ]
  },
  {
   "cell_type": "markdown",
   "metadata": {},
   "source": [
    "## Free Memory"
   ]
  },
  {
   "cell_type": "code",
   "execution_count": 161,
   "metadata": {},
   "outputs": [
    {
     "data": {
      "text/plain": [
       "40"
      ]
     },
     "execution_count": 161,
     "metadata": {},
     "output_type": "execute_result"
    }
   ],
   "source": [
    "del df\n",
    "del df_target1\n",
    "del df_target0\n",
    "del df_target1_join\n",
    "del df_target0_join\n",
    "gc.collect()"
   ]
  },
  {
   "cell_type": "code",
   "execution_count": null,
   "metadata": {},
   "outputs": [],
   "source": [
    "numeric_features = X_train.select_dtypes(include=['int64', 'float64']).columns\n",
    "numeric_transformer = Pipeline(\n",
    "    steps=[(\"num_imputer\", SimpleImputer(strategy=\"median\")), (\"scaler\", MinMaxScaler())]\n",
    ")\n",
    "\n",
    "categorical_features = X_train.select_dtypes(include=['object']).columns\n",
    "categorical_transformer = Pipeline(\n",
    "    steps=[(\"cat_imputer\", SimpleImputer(strategy=\"most_frequent\")), (\"ohe\", OneHotEncoder(handle_unknown = 'ignore'))]\n",
    ")\n",
    "\n",
    "preprocessor = ColumnTransformer(\n",
    "    transformers=[\n",
    "        (\"num\", numeric_transformer, numeric_features),\n",
    "        (\"cat\", categorical_transformer, categorical_features),\n",
    "    ]\n",
    ")"
   ]
  },
  {
   "cell_type": "code",
   "execution_count": null,
   "metadata": {},
   "outputs": [],
   "source": [
    "dummy_clf = Pipeline(\n",
    "    steps=[(\"preprocessor\", preprocessor), (\"classifier\", DummyClassifier(strategy='most_frequent'))]\n",
    ")\n",
    "\n",
    "dummy_clf.fit(X_train, y_train)\n",
    "print(\"Model score: %.3f\" % dummy_clf.score(X_test, y_test))"
   ]
  },
  {
   "cell_type": "code",
   "execution_count": null,
   "metadata": {},
   "outputs": [],
   "source": [
    "y_pred_dummy = dummy_clf.predict(X_test)"
   ]
  },
  {
   "cell_type": "code",
   "execution_count": null,
   "metadata": {},
   "outputs": [],
   "source": [
    "print(recall_score(y_test, y_pred_dummy))"
   ]
  },
  {
   "cell_type": "code",
   "execution_count": null,
   "metadata": {},
   "outputs": [],
   "source": [
    "# Confusion matrix for the dummy model\n",
    "fig, ax = plt.subplots()\n",
    "\n",
    "fig.suptitle(\"Dummy Model\")\n",
    "\n",
    "plot_confusion_matrix(dummy_clf, X_test, y_test, ax=ax, values_format='');\n"
   ]
  },
  {
   "cell_type": "code",
   "execution_count": null,
   "metadata": {},
   "outputs": [],
   "source": [
    "log_clf = Pipeline(\n",
    "    steps=[(\"preprocessor\", preprocessor), (\"classifier\", LogisticRegression(random_state=27, max_iter=1000))]\n",
    ")\n",
    "\n",
    "log_clf.fit(X_train, y_train)\n",
    "print(\"Model score: %.3f\" % log_clf.score(X_test, y_test))"
   ]
  },
  {
   "cell_type": "markdown",
   "metadata": {},
   "source": [
    "Business Metric: Recall"
   ]
  },
  {
   "cell_type": "code",
   "execution_count": null,
   "metadata": {},
   "outputs": [],
   "source": [
    "y_pred_log = log_clf.predict(X_test)\n",
    "print(recall_score(y_test, y_pred_log))"
   ]
  },
  {
   "cell_type": "code",
   "execution_count": null,
   "metadata": {},
   "outputs": [],
   "source": [
    "# Confusion matrix for the logistic model\n",
    "fig, ax = plt.subplots()\n",
    "\n",
    "fig.suptitle(\"Log Model\")\n",
    "\n",
    "plot_confusion_matrix(log_clf, X_test, y_test, ax=ax, values_format='');\n"
   ]
  },
  {
   "cell_type": "code",
   "execution_count": 162,
   "metadata": {},
   "outputs": [],
   "source": [
    "filepath1 = Path('data/X_train.csv')  \n",
    "filepath1.parent.mkdir(parents=True, exist_ok=True)  \n",
    "X_train.to_csv(filepath1)\n",
    "\n",
    "filepath2 = Path('data/X_test.csv')  \n",
    "filepath2.parent.mkdir(parents=True, exist_ok=True)  \n",
    "X_test.to_csv(filepath2)\n",
    "\n",
    "filepath3 = Path('data/y_train.csv')  \n",
    "filepath3.parent.mkdir(parents=True, exist_ok=True)  \n",
    "y_train.to_csv(filepath3)\n",
    "\n",
    "filepath4 = Path('data/y_test.csv')  \n",
    "filepath4.parent.mkdir(parents=True, exist_ok=True)  \n",
    "y_test.to_csv(filepath4)"
   ]
  },
  {
   "cell_type": "code",
   "execution_count": null,
   "metadata": {},
   "outputs": [],
   "source": []
  }
 ],
 "metadata": {
  "kernelspec": {
   "display_name": "Python (learn-env)",
   "language": "python",
   "name": "learn-env"
  },
  "language_info": {
   "codemirror_mode": {
    "name": "ipython",
    "version": 3
   },
   "file_extension": ".py",
   "mimetype": "text/x-python",
   "name": "python",
   "nbconvert_exporter": "python",
   "pygments_lexer": "ipython3",
   "version": "3.8.5"
  }
 },
 "nbformat": 4,
 "nbformat_minor": 4
}
