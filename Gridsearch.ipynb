{
 "cells": [
  {
   "cell_type": "markdown",
   "metadata": {},
   "source": [
    "## Model Tuning and Validation\n",
    "\n",
    "In order to test different models, I will be using sklearn's GridSearchCV package with the default 5-fold cross validation."
   ]
  },
  {
   "cell_type": "code",
   "execution_count": 1,
   "metadata": {},
   "outputs": [],
   "source": [
    "# Import resources\n",
    "import pandas as pd\n",
    "import matplotlib.pyplot as plt\n",
    "import xgboost\n",
    "from sklearn.model_selection import GridSearchCV, cross_val_score\n",
    "from sklearn.linear_model import LogisticRegression, LinearRegression\n",
    "from sklearn.neighbors import KNeighborsClassifier\n",
    "from sklearn.tree import DecisionTreeClassifier\n",
    "from sklearn.ensemble import BaggingClassifier, RandomForestClassifier,\\\n",
    "ExtraTreesClassifier, VotingClassifier, StackingRegressor, AdaBoostClassifier\n",
    "from sklearn.neural_network import MLPClassifier\n",
    "from sklearn.metrics import recall_score, f1_score, plot_roc_curve, plot_confusion_matrix, roc_auc_score\n",
    "from sklearn.preprocessing import OneHotEncoder, MinMaxScaler\n",
    "from sklearn.impute import SimpleImputer\n",
    "from sklearn.pipeline import Pipeline\n",
    "from sklearn.compose import ColumnTransformer"
   ]
  },
  {
   "cell_type": "code",
   "execution_count": 2,
   "metadata": {},
   "outputs": [],
   "source": [
    "# Read in the data sets from main notebook\n",
    "X_train = pd.read_csv(\"data/X_train.csv\").set_index('Unnamed: 0')\n",
    "X_test = pd.read_csv(\"data/X_test.csv\").set_index('Unnamed: 0')\n",
    "y_train = pd.read_csv(\"data/y_train.csv\").set_index('Unnamed: 0')\n",
    "y_test = pd.read_csv(\"data/y_test.csv\").set_index('Unnamed: 0')"
   ]
  },
  {
   "cell_type": "markdown",
   "metadata": {},
   "source": [
    "## Generate Preprocessed Array for Grid Searching"
   ]
  },
  {
   "cell_type": "code",
   "execution_count": 3,
   "metadata": {},
   "outputs": [],
   "source": [
    "# Data preprocessing column transformer\n",
    "numeric_features = X_train.select_dtypes(include=['int64', 'float64']).columns\n",
    "numeric_transformer = Pipeline(\n",
    "    steps=[(\"num_imputer\", SimpleImputer(strategy=\"median\")), (\"scaler\", MinMaxScaler())]\n",
    ")\n",
    "\n",
    "categorical_features = X_train.select_dtypes(include=['object']).columns\n",
    "categorical_transformer = Pipeline(\n",
    "    steps=[(\"cat_imputer\", SimpleImputer(strategy=\"most_frequent\")), (\"ohe\", OneHotEncoder(handle_unknown = 'ignore'))]\n",
    ")\n",
    "\n",
    "preprocessor = ColumnTransformer(\n",
    "    transformers=[\n",
    "        (\"num\", numeric_transformer, numeric_features),\n",
    "        (\"cat\", categorical_transformer, categorical_features),\n",
    "    ]\n",
    ")"
   ]
  },
  {
   "cell_type": "code",
   "execution_count": 4,
   "metadata": {},
   "outputs": [],
   "source": [
    "# Generate preprocessed data\n",
    "preproc = Pipeline(\n",
    "    steps=[(\"preprocessor\", preprocessor)]\n",
    ")\n",
    "\n",
    "X_train_proc = preproc.fit_transform(X_train)\n",
    "X_test_proc = preproc.transform(X_test)"
   ]
  },
  {
   "cell_type": "code",
   "execution_count": 5,
   "metadata": {},
   "outputs": [
    {
     "data": {
      "text/plain": [
       "(20000, 67)"
      ]
     },
     "execution_count": 5,
     "metadata": {},
     "output_type": "execute_result"
    }
   ],
   "source": [
    "X_train_proc.shape"
   ]
  },
  {
   "cell_type": "markdown",
   "metadata": {},
   "source": [
    "## Logistic Regression"
   ]
  },
  {
   "cell_type": "code",
   "execution_count": 6,
   "metadata": {},
   "outputs": [
    {
     "name": "stdout",
     "output_type": "stream",
     "text": [
      "0.5711\n",
      "{'logistic__C': 1000, 'logistic__fit_intercept': True, 'logistic__max_iter': 1000, 'logistic__n_jobs': 4, 'logistic__random_state': 27, 'logistic__solver': 'sag'}\n",
      "Test recall 0.580952380952381\n"
     ]
    },
    {
     "data": {
      "image/png": "[encoded data removed]",
      "text/plain": [
       "<Figure size 432x288 with 2 Axes>"
      ]
     },
     "metadata": {
      "needs_background": "light"
     },
     "output_type": "display_data"
    }
   ],
   "source": [
    "logpipe = Pipeline([\n",
    "    ('logistic', LogisticRegression())\n",
    "])\n",
    "\n",
    "# Parameters for the grid search\n",
    "parameters = {\n",
    "    'logistic__C': [1000], # Tried: 1, 10, 100, 1000, 10,000\n",
    "    'logistic__max_iter': [1000],\n",
    "    'logistic__fit_intercept': [True], # Tried: False\n",
    "    'logistic__random_state': [27],\n",
    "    'logistic__solver': ['sag'], # Tried: saga, lbfgs\n",
    "    'logistic__n_jobs': [4]\n",
    "}\n",
    "\n",
    "# Perform grid search\n",
    "grid_log = GridSearchCV(logpipe, param_grid=parameters, scoring='recall')\n",
    "\n",
    "# Fit grid search and predict\n",
    "grid_log.fit(X_train_proc, y_train.values.ravel())\n",
    "\n",
    "print(grid_log.best_score_)\n",
    "print(grid_log.best_params_)\n",
    "\n",
    "# Confusion matrix for the logistic model\n",
    "fig, ax = plt.subplots()\n",
    "\n",
    "fig.suptitle(\"Logistic Model\")\n",
    "\n",
    "plot_confusion_matrix(grid_log, X_test_proc, y_test, ax=ax, values_format='');\n",
    "\n",
    "print(\"Test recall\", recall_score(y_test, grid_log.predict(X_test_proc)))"
   ]
  },
  {
   "cell_type": "markdown",
   "metadata": {},
   "source": [
    "## KNNeighbors Classifier"
   ]
  },
  {
   "cell_type": "code",
   "execution_count": 7,
   "metadata": {},
   "outputs": [
    {
     "name": "stdout",
     "output_type": "stream",
     "text": [
      "0.5322000000000001\n",
      "{'knn__leaf_size': 10, 'knn__n_jobs': 4, 'knn__n_neighbors': 5}\n",
      "Test recall 0.5214285714285715\n"
     ]
    },
    {
     "data": {
      "image/png": "[encoded data removed]",
      "text/plain": [
       "<Figure size 432x288 with 2 Axes>"
      ]
     },
     "metadata": {
      "needs_background": "light"
     },
     "output_type": "display_data"
    }
   ],
   "source": [
    "knnpipe = Pipeline([\n",
    "    ('knn', KNeighborsClassifier())\n",
    "])\n",
    "\n",
    "# Parameters for the grid search\n",
    "parameters = {\n",
    "    'knn__n_neighbors': [5], # Tried: 2-10\n",
    "    'knn__leaf_size': [10], # Tried: 5-100\n",
    "    'knn__n_jobs': [4]\n",
    "}\n",
    "\n",
    "# Perform grid search\n",
    "grid_knn = GridSearchCV(knnpipe, param_grid=parameters, scoring='recall')\n",
    "\n",
    "# Fit grid search and predict\n",
    "grid_knn.fit(X_train_proc, y_train.values.ravel())\n",
    "\n",
    "print(grid_knn.best_score_)\n",
    "print(grid_knn.best_params_)\n",
    "\n",
    "# Confusion matrix for the KNN model\n",
    "fig, ax = plt.subplots()\n",
    "\n",
    "fig.suptitle(\"KNN Model\")\n",
    "\n",
    "plot_confusion_matrix(grid_knn, X_test_proc, y_test, ax=ax, values_format='');\n",
    "\n",
    "print(\"Test recall\", recall_score(y_test, grid_knn.predict(X_test_proc)))"
   ]
  },
  {
   "cell_type": "markdown",
   "metadata": {},
   "source": [
    "## Decision Tree Classifier"
   ]
  },
  {
   "cell_type": "code",
   "execution_count": 8,
   "metadata": {},
   "outputs": [
    {
     "name": "stdout",
     "output_type": "stream",
     "text": [
      "0.6045999999999999\n",
      "{'tree__criterion': 'gini', 'tree__max_depth': 30, 'tree__min_samples_leaf': 30, 'tree__min_samples_split': 2, 'tree__random_state': 27}\n",
      "Test recall 0.6238095238095238\n"
     ]
    },
    {
     "data": {
      "image/png": "[encoded data removed]",
      "text/plain": [
       "<Figure size 432x288 with 2 Axes>"
      ]
     },
     "metadata": {
      "needs_background": "light"
     },
     "output_type": "display_data"
    }
   ],
   "source": [
    "treepipe = Pipeline([\n",
    "    ('tree', DecisionTreeClassifier())\n",
    "])\n",
    "\n",
    "# Parameters for the grid search\n",
    "parameters = {\n",
    "    'tree__criterion': ['gini'], # Tried: entropy\n",
    "    'tree__max_depth': [30], # Tried: 2-40\n",
    "    'tree__min_samples_split': [2], # Tried: 2-50\n",
    "    'tree__min_samples_leaf': [30], # Tried: 2-300\n",
    "    'tree__random_state': [27]\n",
    "}\n",
    "\n",
    "# Perform grid search\n",
    "grid_tree = GridSearchCV(treepipe, param_grid=parameters, scoring='recall')\n",
    "\n",
    "# Fit grid search and predict\n",
    "grid_tree.fit(X_train_proc, y_train.values.ravel())\n",
    "\n",
    "print(grid_tree.best_score_)\n",
    "print(grid_tree.best_params_)\n",
    "\n",
    "# Confusion matrix for the Tree model\n",
    "fig, ax = plt.subplots()\n",
    "\n",
    "fig.suptitle(\"Decision Tree Model\")\n",
    "\n",
    "plot_confusion_matrix(grid_tree, X_test_proc, y_test, ax=ax, values_format='');\n",
    "\n",
    "print(\"Test recall\", recall_score(y_test, grid_tree.predict(X_test_proc)))"
   ]
  },
  {
   "cell_type": "markdown",
   "metadata": {},
   "source": [
    "## Random Forest"
   ]
  },
  {
   "cell_type": "code",
   "execution_count": 9,
   "metadata": {},
   "outputs": [
    {
     "name": "stdout",
     "output_type": "stream",
     "text": [
      "0.5996\n",
      "{'forest__criterion': 'gini', 'forest__max_depth': 50, 'forest__min_samples_leaf': 2, 'forest__min_samples_split': 10, 'forest__n_estimators': 5, 'forest__n_jobs': 4, 'forest__random_state': 27}\n",
      "Test recall 0.6166666666666667\n"
     ]
    },
    {
     "data": {
      "image/png": "[encoded data removed]",
      "text/plain": [
       "<Figure size 432x288 with 2 Axes>"
      ]
     },
     "metadata": {
      "needs_background": "light"
     },
     "output_type": "display_data"
    }
   ],
   "source": [
    "forestpipe = Pipeline([\n",
    "    ('forest', RandomForestClassifier())\n",
    "])\n",
    "\n",
    "# Parameters for the grid search\n",
    "parameters = {\n",
    "    'forest__n_estimators': [5], # Tried: 2-300\n",
    "    'forest__criterion': ['gini'], # Tried: entropy\n",
    "    'forest__min_samples_split': [10], # Tried: 2-20\n",
    "    'forest__min_samples_leaf': [2], # Tried: 2-50\n",
    "    'forest__max_depth': [50], # Tried: 2-60\n",
    "    'forest__n_jobs': [4],\n",
    "    'forest__random_state': [27]\n",
    "}\n",
    "\n",
    "# Perform grid search\n",
    "grid_forest = GridSearchCV(forestpipe, param_grid=parameters, scoring='recall')\n",
    "\n",
    "# Fit grid search and predict\n",
    "grid_forest.fit(X_train_proc, y_train.values.ravel())\n",
    "\n",
    "print(grid_forest.best_score_)\n",
    "print(grid_forest.best_params_)\n",
    "\n",
    "# Confusion matrix for the Forest model\n",
    "fig, ax = plt.subplots()\n",
    "\n",
    "fig.suptitle(\"Random Forest Model\")\n",
    "\n",
    "plot_confusion_matrix(grid_forest, X_test_proc, y_test, ax=ax, values_format='');\n",
    "\n",
    "print(\"Test recall\", recall_score(y_test, grid_forest.predict(X_test_proc)))"
   ]
  },
  {
   "cell_type": "markdown",
   "metadata": {},
   "source": [
    "## XGBoost"
   ]
  },
  {
   "cell_type": "code",
   "execution_count": 10,
   "metadata": {},
   "outputs": [
    {
     "name": "stdout",
     "output_type": "stream",
     "text": [
      "0.6131\n",
      "{'boost__gamma': 1, 'boost__max_depth': 19, 'boost__min_child_weight': 27, 'boost__n_estimators': 125, 'boost__random_state': 27}\n",
      "Test recall 0.65\n"
     ]
    },
    {
     "data": {
      "image/png": "[encoded data removed]",
      "text/plain": [
       "<Figure size 432x288 with 2 Axes>"
      ]
     },
     "metadata": {
      "needs_background": "light"
     },
     "output_type": "display_data"
    }
   ],
   "source": [
    "boostpipe = Pipeline([\n",
    "    ('boost', xgboost.XGBClassifier())\n",
    "])\n",
    "\n",
    "# Parameters for grid search\n",
    "parameters = {\n",
    "    'boost__max_depth': [19], # Tried: 2-50\n",
    "    'boost__min_child_weight': [27], # Tried: 1-50\n",
    "    'boost__gamma': [1], # Tried: 0.5-200\n",
    "    'boost__n_estimators': [125], # Tried: 5-75\n",
    "    'boost__random_state': [27]\n",
    "}\n",
    "\n",
    "# Grid search with xgboost model\n",
    "grid_boost = GridSearchCV(boostpipe, param_grid=parameters, scoring='recall')\n",
    "\n",
    "# Fit model and generate predictions\n",
    "grid_boost.fit(X_train_proc, y_train.values.ravel())\n",
    "\n",
    "print(grid_boost.best_score_)\n",
    "print(grid_boost.best_params_)\n",
    "\n",
    "# Confusion matrix for the XGBoost model\n",
    "fig, ax = plt.subplots()\n",
    "\n",
    "fig.suptitle(\"XGBoost Model\")\n",
    "\n",
    "plot_confusion_matrix(grid_boost, X_test_proc, y_test, ax=ax, values_format='');\n",
    "\n",
    "print(\"Test recall\", recall_score(y_test, grid_boost.predict(X_test_proc)))"
   ]
  },
  {
   "cell_type": "markdown",
   "metadata": {},
   "source": [
    "## AdaBoost"
   ]
  },
  {
   "cell_type": "code",
   "execution_count": 11,
   "metadata": {},
   "outputs": [
    {
     "name": "stdout",
     "output_type": "stream",
     "text": [
      "0.7458\n",
      "{'ada__learning_rate': 2, 'ada__n_estimators': 30, 'ada__random_state': 27}\n",
      "Test recall 0.34285714285714286\n"
     ]
    },
    {
     "data": {
      "image/png": "[encoded data removed]",
      "text/plain": [
       "<Figure size 432x288 with 2 Axes>"
      ]
     },
     "metadata": {
      "needs_background": "light"
     },
     "output_type": "display_data"
    }
   ],
   "source": [
    "adapipe = Pipeline([\n",
    "    ('ada', AdaBoostClassifier())\n",
    "])\n",
    "\n",
    "# Parameters for grid search\n",
    "parameters = {\n",
    "    'ada__n_estimators': [30], # Tried: 2-50\n",
    "    'ada__learning_rate': [2], # Tried: 0.5-5\n",
    "    'ada__random_state': [27]\n",
    "}\n",
    "\n",
    "# Grid search with adaboost model\n",
    "grid_ada = GridSearchCV(adapipe, param_grid=parameters, scoring='recall')\n",
    "\n",
    "# Fit model and generate predictions\n",
    "grid_ada.fit(X_train_proc, y_train.values.ravel())\n",
    "\n",
    "print(grid_ada.best_score_)\n",
    "print(grid_ada.best_params_)\n",
    "\n",
    "# Confusion matrix for the XGBoost model\n",
    "fig, ax = plt.subplots()\n",
    "\n",
    "fig.suptitle(\"AdaBoost Model\")\n",
    "\n",
    "plot_confusion_matrix(grid_ada, X_test_proc, y_test, ax=ax, values_format='');\n",
    "\n",
    "print(\"Test recall\", recall_score(y_test, grid_ada.predict(X_test_proc)))"
   ]
  },
  {
   "cell_type": "markdown",
   "metadata": {},
   "source": [
    "## Multi-layer Perceptron "
   ]
  },
  {
   "cell_type": "code",
   "execution_count": 12,
   "metadata": {},
   "outputs": [
    {
     "name": "stdout",
     "output_type": "stream",
     "text": [
      "0.5850000000000001\n",
      "{'mlp__activation': 'relu', 'mlp__alpha': 0.001, 'mlp__hidden_layer_sizes': 100, 'mlp__max_iter': 500, 'mlp__random_state': 27}\n",
      "Test recall 0.5119047619047619\n"
     ]
    },
    {
     "data": {
      "image/png": "[encoded data removed]",
      "text/plain": [
       "<Figure size 432x288 with 2 Axes>"
      ]
     },
     "metadata": {
      "needs_background": "light"
     },
     "output_type": "display_data"
    }
   ],
   "source": [
    "mlppipe = Pipeline([\n",
    "    ('mlp', MLPClassifier())\n",
    "])\n",
    "\n",
    "# Parameters for grid search\n",
    "parameters = {\n",
    "    'mlp__hidden_layer_sizes': [100], # Tried: 50-200\n",
    "    'mlp__activation': ['relu'], # Tried: logistic\n",
    "    'mlp__alpha': [0.001], # Tried: 0.0001\n",
    "    'mlp__max_iter': [500],\n",
    "    'mlp__random_state': [27],\n",
    "}\n",
    "\n",
    "# Grid search with MLP model\n",
    "grid_mlp = GridSearchCV(mlppipe, param_grid=parameters, scoring='recall')\n",
    "\n",
    "# Fit model and generate predictions\n",
    "grid_mlp.fit(X_train_proc, y_train.values.ravel())\n",
    "\n",
    "print(grid_mlp.best_score_)\n",
    "print(grid_mlp.best_params_)\n",
    "\n",
    "# Confusion matrix for the MLP model\n",
    "fig, ax = plt.subplots()\n",
    "\n",
    "fig.suptitle(\"MLP Model\")\n",
    "\n",
    "plot_confusion_matrix(grid_mlp, X_test_proc, y_test, ax=ax, values_format='');\n",
    "\n",
    "print(\"Test recall\", recall_score(y_test, grid_mlp.predict(X_test_proc)))"
   ]
  },
  {
   "cell_type": "markdown",
   "metadata": {},
   "source": [
    "## Summary\n",
    "\n",
    "I believe the appropriate model to finalize would be the XGBoost model, which sported a 65% recall score on the test data. AdaBoost was much more effective at labeling the true negatives (predicting healthy babies will be healthy) but significantly worse than the other top contenders at true positives (predicting unhealthy babies will be unhealthy). The Decision tree classifier performed similarly well to the XGBoost model, but was slightly worse at predicting negative cases.\n",
    "\n",
    "In order to further optimize the models, one avenue of interest could be designing a custom scoring function that strikes a better balance between the class of interest and the majority class rather than optimizing for just recall."
   ]
  },
  {
   "cell_type": "code",
   "execution_count": null,
   "metadata": {},
   "outputs": [],
   "source": []
  }
 ],
 "metadata": {
  "kernelspec": {
   "display_name": "Python (learn-env)",
   "language": "python",
   "name": "learn-env"
  },
  "language_info": {
   "codemirror_mode": {
    "name": "ipython",
    "version": 3
   },
   "file_extension": ".py",
   "mimetype": "text/x-python",
   "name": "python",
   "nbconvert_exporter": "python",
   "pygments_lexer": "ipython3",
   "version": "3.8.5"
  }
 },
 "nbformat": 4,
 "nbformat_minor": 4
}
