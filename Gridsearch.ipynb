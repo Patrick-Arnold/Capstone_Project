{
 "cells": [
  {
   "cell_type": "markdown",
   "metadata": {},
   "source": [
    "Stakeholder: PRAMS Pregnancy Monitoring Network\n",
    "\n",
    "Business Problem: APGAR Score is a metric doctors use to measure the overall health of a newborn infant. But what if there were a way to prepare for a low APGAR score before the infant is even born? PRAMS has asked me to use natality data to create a model to alert medical staff if a newborn is likely to need emergency medical intervention."
   ]
  },
  {
   "cell_type": "code",
   "execution_count": 1,
   "metadata": {},
   "outputs": [],
   "source": [
    "import numpy as np\n",
    "import pandas as pd\n",
    "import matplotlib.pyplot as plt\n",
    "import xlrd\n",
    "import os\n",
    "import gc\n",
    "import seaborn as sns\n",
    "import xgboost\n",
    "from sklearn.model_selection import train_test_split, GridSearchCV,\\\n",
    "cross_val_score\n",
    "from sklearn.feature_selection import SelectKBest, f_classif\n",
    "from sklearn.linear_model import LogisticRegression, LinearRegression\n",
    "from sklearn.neighbors import KNeighborsClassifier\n",
    "from sklearn.tree import DecisionTreeClassifier\n",
    "from sklearn.ensemble import BaggingClassifier, RandomForestClassifier,\\\n",
    "ExtraTreesClassifier, VotingClassifier, StackingRegressor\n",
    "from sklearn.metrics import accuracy_score, precision_score, recall_score, f1_score, plot_roc_curve, plot_confusion_matrix, roc_auc_score\n",
    "from sklearn.preprocessing import OneHotEncoder, MinMaxScaler\n",
    "from sklearn.impute import SimpleImputer\n",
    "from sklearn.pipeline import Pipeline\n",
    "from sklearn.compose import ColumnTransformer\n",
    "from sklearn.dummy import DummyClassifier"
   ]
  },
  {
   "cell_type": "code",
   "execution_count": 2,
   "metadata": {},
   "outputs": [],
   "source": [
    "# Read in the data sets\n",
    "X_train = pd.read_csv(\"data/X_train.csv\").set_index('Unnamed: 0')\n",
    "X_test = pd.read_csv(\"data/X_test.csv\").set_index('Unnamed: 0')\n",
    "y_train = pd.read_csv(\"data/y_train.csv\").set_index('Unnamed: 0')\n",
    "y_test = pd.read_csv(\"data/y_test.csv\").set_index('Unnamed: 0')"
   ]
  },
  {
   "cell_type": "markdown",
   "metadata": {},
   "source": [
    "## Feature Importance Testing"
   ]
  },
  {
   "cell_type": "code",
   "execution_count": 27,
   "metadata": {},
   "outputs": [],
   "source": [
    "X_train2 = X_train.copy()\n",
    "X_test2 = X_test.copy()\n",
    "\n",
    "numeric_features = X_train2.select_dtypes(include=['int64', 'float64']).columns\n",
    "categorical_features = X_train2.select_dtypes(include=['object']).columns\n",
    "\n",
    "num_impute = SimpleImputer(strategy=\"median\")\n",
    "cat_impute = SimpleImputer(strategy=\"most_frequent\")\n",
    "scaler = MinMaxScaler()\n",
    "ohe = OneHotEncoder(handle_unknown = 'ignore', sparse=False)\n",
    "\n",
    "X_train2_obj = X_train2[categorical_features]\n",
    "X_test2_obj = X_test2[categorical_features]\n",
    "\n",
    "cat_impute.fit(X_train2_obj)\n",
    "X_train2_imp = cat_impute.transform(X_train2_obj)\n",
    "X_test2_imp = cat_impute.transform(X_test2_obj)\n",
    "\n",
    "ohe.fit(X_train2_imp)\n",
    "X_train_ohe = ohe.transform(X_train2_imp)\n",
    "X_test_ohe = ohe.transform(X_test2_imp)"
   ]
  },
  {
   "cell_type": "code",
   "execution_count": 31,
   "metadata": {},
   "outputs": [],
   "source": [
    "X_train2_num = X_train2[numeric_features]\n",
    "X_test2_num = X_test2[numeric_features]\n",
    "\n",
    "num_impute.fit(X_train2_num)\n",
    "X_train2_impnum = num_impute.transform(X_train2_num)\n",
    "X_test2_impnum = num_impute.transform(X_test2_num)\n",
    "\n",
    "scaler.fit(X_train2_impnum)\n",
    "X_train_scaled = scaler.transform(X_train2_impnum)\n",
    "X_test_scaled = scaler.transform(X_test2_impnum)"
   ]
  },
  {
   "cell_type": "code",
   "execution_count": 32,
   "metadata": {},
   "outputs": [
    {
     "data": {
      "text/html": [
       "<div>\n",
       "<style scoped>\n",
       "    .dataframe tbody tr th:only-of-type {\n",
       "        vertical-align: middle;\n",
       "    }\n",
       "\n",
       "    .dataframe tbody tr th {\n",
       "        vertical-align: top;\n",
       "    }\n",
       "\n",
       "    .dataframe thead th {\n",
       "        text-align: right;\n",
       "    }\n",
       "</style>\n",
       "<table border=\"1\" class=\"dataframe\">\n",
       "  <thead>\n",
       "    <tr style=\"text-align: right;\">\n",
       "      <th></th>\n",
       "      <th>mother_age</th>\n",
       "      <th>mother_native</th>\n",
       "      <th>mother_hispanic</th>\n",
       "      <th>father_age</th>\n",
       "      <th>living_children</th>\n",
       "      <th>deceased_children</th>\n",
       "      <th>terminations</th>\n",
       "      <th>months_prenatal_care</th>\n",
       "      <th>prenatal_visits</th>\n",
       "      <th>prepregnancy_daily_cig</th>\n",
       "      <th>first_tri_daily_cig</th>\n",
       "      <th>second_tri_daily_cig</th>\n",
       "      <th>third_tri_daily_cig</th>\n",
       "      <th>height</th>\n",
       "      <th>bmi</th>\n",
       "      <th>delivery_weight</th>\n",
       "      <th>weight_gain</th>\n",
       "      <th>previous_cesareans</th>\n",
       "      <th>plural_pregnancy</th>\n",
       "      <th>weeks_gestation</th>\n",
       "    </tr>\n",
       "    <tr>\n",
       "      <th>Unnamed: 0</th>\n",
       "      <th></th>\n",
       "      <th></th>\n",
       "      <th></th>\n",
       "      <th></th>\n",
       "      <th></th>\n",
       "      <th></th>\n",
       "      <th></th>\n",
       "      <th></th>\n",
       "      <th></th>\n",
       "      <th></th>\n",
       "      <th></th>\n",
       "      <th></th>\n",
       "      <th></th>\n",
       "      <th></th>\n",
       "      <th></th>\n",
       "      <th></th>\n",
       "      <th></th>\n",
       "      <th></th>\n",
       "      <th></th>\n",
       "      <th></th>\n",
       "    </tr>\n",
       "  </thead>\n",
       "  <tbody>\n",
       "    <tr>\n",
       "      <th>1659022</th>\n",
       "      <td>0.526316</td>\n",
       "      <td>1.0</td>\n",
       "      <td>0.0</td>\n",
       "      <td>0.355932</td>\n",
       "      <td>0.071429</td>\n",
       "      <td>0.0</td>\n",
       "      <td>0.000000</td>\n",
       "      <td>0.3</td>\n",
       "      <td>0.10</td>\n",
       "      <td>0.0</td>\n",
       "      <td>0.0</td>\n",
       "      <td>0.0</td>\n",
       "      <td>0.0</td>\n",
       "      <td>0.729167</td>\n",
       "      <td>0.065192</td>\n",
       "      <td>0.120000</td>\n",
       "      <td>0.183673</td>\n",
       "      <td>0.142857</td>\n",
       "      <td>0.0</td>\n",
       "      <td>0.566667</td>\n",
       "    </tr>\n",
       "    <tr>\n",
       "      <th>1482674</th>\n",
       "      <td>0.578947</td>\n",
       "      <td>1.0</td>\n",
       "      <td>0.0</td>\n",
       "      <td>0.305085</td>\n",
       "      <td>0.071429</td>\n",
       "      <td>0.0</td>\n",
       "      <td>0.000000</td>\n",
       "      <td>0.3</td>\n",
       "      <td>0.28</td>\n",
       "      <td>0.0</td>\n",
       "      <td>0.0</td>\n",
       "      <td>0.0</td>\n",
       "      <td>0.0</td>\n",
       "      <td>0.833333</td>\n",
       "      <td>0.405122</td>\n",
       "      <td>0.786667</td>\n",
       "      <td>0.000000</td>\n",
       "      <td>0.000000</td>\n",
       "      <td>0.0</td>\n",
       "      <td>0.500000</td>\n",
       "    </tr>\n",
       "    <tr>\n",
       "      <th>2671477</th>\n",
       "      <td>0.368421</td>\n",
       "      <td>0.0</td>\n",
       "      <td>1.0</td>\n",
       "      <td>0.305085</td>\n",
       "      <td>0.071429</td>\n",
       "      <td>0.0</td>\n",
       "      <td>0.000000</td>\n",
       "      <td>0.0</td>\n",
       "      <td>0.00</td>\n",
       "      <td>0.0</td>\n",
       "      <td>0.0</td>\n",
       "      <td>0.0</td>\n",
       "      <td>0.0</td>\n",
       "      <td>0.708333</td>\n",
       "      <td>0.057043</td>\n",
       "      <td>0.136667</td>\n",
       "      <td>0.316327</td>\n",
       "      <td>0.142857</td>\n",
       "      <td>0.0</td>\n",
       "      <td>0.333333</td>\n",
       "    </tr>\n",
       "    <tr>\n",
       "      <th>1196310</th>\n",
       "      <td>0.447368</td>\n",
       "      <td>1.0</td>\n",
       "      <td>0.0</td>\n",
       "      <td>0.271186</td>\n",
       "      <td>0.000000</td>\n",
       "      <td>0.0</td>\n",
       "      <td>0.166667</td>\n",
       "      <td>0.2</td>\n",
       "      <td>0.30</td>\n",
       "      <td>0.0</td>\n",
       "      <td>0.0</td>\n",
       "      <td>0.0</td>\n",
       "      <td>0.0</td>\n",
       "      <td>0.708333</td>\n",
       "      <td>0.110594</td>\n",
       "      <td>0.226667</td>\n",
       "      <td>0.316327</td>\n",
       "      <td>0.000000</td>\n",
       "      <td>0.0</td>\n",
       "      <td>0.700000</td>\n",
       "    </tr>\n",
       "    <tr>\n",
       "      <th>62426</th>\n",
       "      <td>0.552632</td>\n",
       "      <td>1.0</td>\n",
       "      <td>0.0</td>\n",
       "      <td>0.305085</td>\n",
       "      <td>0.000000</td>\n",
       "      <td>0.0</td>\n",
       "      <td>0.111111</td>\n",
       "      <td>0.3</td>\n",
       "      <td>0.36</td>\n",
       "      <td>0.0</td>\n",
       "      <td>0.0</td>\n",
       "      <td>0.0</td>\n",
       "      <td>0.0</td>\n",
       "      <td>0.708333</td>\n",
       "      <td>0.096624</td>\n",
       "      <td>0.123333</td>\n",
       "      <td>0.071429</td>\n",
       "      <td>0.000000</td>\n",
       "      <td>0.0</td>\n",
       "      <td>0.666667</td>\n",
       "    </tr>\n",
       "  </tbody>\n",
       "</table>\n",
       "</div>"
      ],
      "text/plain": [
       "            mother_age  mother_native  mother_hispanic  father_age  \\\n",
       "Unnamed: 0                                                           \n",
       "1659022       0.526316            1.0              0.0    0.355932   \n",
       "1482674       0.578947            1.0              0.0    0.305085   \n",
       "2671477       0.368421            0.0              1.0    0.305085   \n",
       "1196310       0.447368            1.0              0.0    0.271186   \n",
       "62426         0.552632            1.0              0.0    0.305085   \n",
       "\n",
       "            living_children  deceased_children  terminations  \\\n",
       "Unnamed: 0                                                     \n",
       "1659022            0.071429                0.0      0.000000   \n",
       "1482674            0.071429                0.0      0.000000   \n",
       "2671477            0.071429                0.0      0.000000   \n",
       "1196310            0.000000                0.0      0.166667   \n",
       "62426              0.000000                0.0      0.111111   \n",
       "\n",
       "            months_prenatal_care  prenatal_visits  prepregnancy_daily_cig  \\\n",
       "Unnamed: 0                                                                  \n",
       "1659022                      0.3             0.10                     0.0   \n",
       "1482674                      0.3             0.28                     0.0   \n",
       "2671477                      0.0             0.00                     0.0   \n",
       "1196310                      0.2             0.30                     0.0   \n",
       "62426                        0.3             0.36                     0.0   \n",
       "\n",
       "            first_tri_daily_cig  second_tri_daily_cig  third_tri_daily_cig  \\\n",
       "Unnamed: 0                                                                   \n",
       "1659022                     0.0                   0.0                  0.0   \n",
       "1482674                     0.0                   0.0                  0.0   \n",
       "2671477                     0.0                   0.0                  0.0   \n",
       "1196310                     0.0                   0.0                  0.0   \n",
       "62426                       0.0                   0.0                  0.0   \n",
       "\n",
       "              height       bmi  delivery_weight  weight_gain  \\\n",
       "Unnamed: 0                                                     \n",
       "1659022     0.729167  0.065192         0.120000     0.183673   \n",
       "1482674     0.833333  0.405122         0.786667     0.000000   \n",
       "2671477     0.708333  0.057043         0.136667     0.316327   \n",
       "1196310     0.708333  0.110594         0.226667     0.316327   \n",
       "62426       0.708333  0.096624         0.123333     0.071429   \n",
       "\n",
       "            previous_cesareans  plural_pregnancy  weeks_gestation  \n",
       "Unnamed: 0                                                         \n",
       "1659022               0.142857               0.0         0.566667  \n",
       "1482674               0.000000               0.0         0.500000  \n",
       "2671477               0.142857               0.0         0.333333  \n",
       "1196310               0.000000               0.0         0.700000  \n",
       "62426                 0.000000               0.0         0.666667  "
      ]
     },
     "execution_count": 32,
     "metadata": {},
     "output_type": "execute_result"
    }
   ],
   "source": [
    "X_train_scaled = pd.DataFrame(X_train_scaled, \n",
    "                              columns = numeric_features,\n",
    "                              index=X_train.index)\n",
    "X_test_scaled = pd.DataFrame(X_test_scaled, \n",
    "                             columns = numeric_features,\n",
    "                             index=X_test.index)"
   ]
  },
  {
   "cell_type": "code",
   "execution_count": 28,
   "metadata": {},
   "outputs": [],
   "source": [
    "X_train_ohe = pd.DataFrame(X_train_ohe, \n",
    "                           columns = ohe.get_feature_names(input_features = categorical_features),\n",
    "                           index=X_train.index)\n",
    "X_test_ohe = pd.DataFrame(X_test_ohe, \n",
    "                          columns = ohe.get_feature_names(input_features = categorical_features),\n",
    "                          index=X_test.index)"
   ]
  },
  {
   "cell_type": "code",
   "execution_count": 33,
   "metadata": {},
   "outputs": [
    {
     "data": {
      "text/html": [
       "<div>\n",
       "<style scoped>\n",
       "    .dataframe tbody tr th:only-of-type {\n",
       "        vertical-align: middle;\n",
       "    }\n",
       "\n",
       "    .dataframe tbody tr th {\n",
       "        vertical-align: top;\n",
       "    }\n",
       "\n",
       "    .dataframe thead th {\n",
       "        text-align: right;\n",
       "    }\n",
       "</style>\n",
       "<table border=\"1\" class=\"dataframe\">\n",
       "  <thead>\n",
       "    <tr style=\"text-align: right;\">\n",
       "      <th></th>\n",
       "      <th>birth_place_hospital</th>\n",
       "      <th>birth_place_other</th>\n",
       "      <th>mother_race_asian/pi</th>\n",
       "      <th>mother_race_black</th>\n",
       "      <th>mother_race_native_american</th>\n",
       "      <th>mother_race_white</th>\n",
       "      <th>marital_status_married</th>\n",
       "      <th>marital_status_unmarried</th>\n",
       "      <th>mother_education_college_or_higher</th>\n",
       "      <th>mother_education_hs_or_lower</th>\n",
       "      <th>...</th>\n",
       "      <th>first_tri_daily_cig</th>\n",
       "      <th>second_tri_daily_cig</th>\n",
       "      <th>third_tri_daily_cig</th>\n",
       "      <th>height</th>\n",
       "      <th>bmi</th>\n",
       "      <th>delivery_weight</th>\n",
       "      <th>weight_gain</th>\n",
       "      <th>previous_cesareans</th>\n",
       "      <th>plural_pregnancy</th>\n",
       "      <th>weeks_gestation</th>\n",
       "    </tr>\n",
       "    <tr>\n",
       "      <th>Unnamed: 0</th>\n",
       "      <th></th>\n",
       "      <th></th>\n",
       "      <th></th>\n",
       "      <th></th>\n",
       "      <th></th>\n",
       "      <th></th>\n",
       "      <th></th>\n",
       "      <th></th>\n",
       "      <th></th>\n",
       "      <th></th>\n",
       "      <th></th>\n",
       "      <th></th>\n",
       "      <th></th>\n",
       "      <th></th>\n",
       "      <th></th>\n",
       "      <th></th>\n",
       "      <th></th>\n",
       "      <th></th>\n",
       "      <th></th>\n",
       "      <th></th>\n",
       "      <th></th>\n",
       "    </tr>\n",
       "  </thead>\n",
       "  <tbody>\n",
       "    <tr>\n",
       "      <th>1659022</th>\n",
       "      <td>1.0</td>\n",
       "      <td>0.0</td>\n",
       "      <td>0.0</td>\n",
       "      <td>0.0</td>\n",
       "      <td>0.0</td>\n",
       "      <td>1.0</td>\n",
       "      <td>1.0</td>\n",
       "      <td>0.0</td>\n",
       "      <td>1.0</td>\n",
       "      <td>0.0</td>\n",
       "      <td>...</td>\n",
       "      <td>0.0</td>\n",
       "      <td>0.0</td>\n",
       "      <td>0.0</td>\n",
       "      <td>0.729167</td>\n",
       "      <td>0.065192</td>\n",
       "      <td>0.120000</td>\n",
       "      <td>0.183673</td>\n",
       "      <td>0.142857</td>\n",
       "      <td>0.0</td>\n",
       "      <td>0.566667</td>\n",
       "    </tr>\n",
       "    <tr>\n",
       "      <th>1482674</th>\n",
       "      <td>1.0</td>\n",
       "      <td>0.0</td>\n",
       "      <td>0.0</td>\n",
       "      <td>0.0</td>\n",
       "      <td>0.0</td>\n",
       "      <td>1.0</td>\n",
       "      <td>0.0</td>\n",
       "      <td>1.0</td>\n",
       "      <td>0.0</td>\n",
       "      <td>1.0</td>\n",
       "      <td>...</td>\n",
       "      <td>0.0</td>\n",
       "      <td>0.0</td>\n",
       "      <td>0.0</td>\n",
       "      <td>0.833333</td>\n",
       "      <td>0.405122</td>\n",
       "      <td>0.786667</td>\n",
       "      <td>0.000000</td>\n",
       "      <td>0.000000</td>\n",
       "      <td>0.0</td>\n",
       "      <td>0.500000</td>\n",
       "    </tr>\n",
       "    <tr>\n",
       "      <th>2671477</th>\n",
       "      <td>1.0</td>\n",
       "      <td>0.0</td>\n",
       "      <td>0.0</td>\n",
       "      <td>1.0</td>\n",
       "      <td>0.0</td>\n",
       "      <td>0.0</td>\n",
       "      <td>0.0</td>\n",
       "      <td>1.0</td>\n",
       "      <td>0.0</td>\n",
       "      <td>1.0</td>\n",
       "      <td>...</td>\n",
       "      <td>0.0</td>\n",
       "      <td>0.0</td>\n",
       "      <td>0.0</td>\n",
       "      <td>0.708333</td>\n",
       "      <td>0.057043</td>\n",
       "      <td>0.136667</td>\n",
       "      <td>0.316327</td>\n",
       "      <td>0.142857</td>\n",
       "      <td>0.0</td>\n",
       "      <td>0.333333</td>\n",
       "    </tr>\n",
       "    <tr>\n",
       "      <th>1196310</th>\n",
       "      <td>1.0</td>\n",
       "      <td>0.0</td>\n",
       "      <td>0.0</td>\n",
       "      <td>0.0</td>\n",
       "      <td>0.0</td>\n",
       "      <td>1.0</td>\n",
       "      <td>1.0</td>\n",
       "      <td>0.0</td>\n",
       "      <td>1.0</td>\n",
       "      <td>0.0</td>\n",
       "      <td>...</td>\n",
       "      <td>0.0</td>\n",
       "      <td>0.0</td>\n",
       "      <td>0.0</td>\n",
       "      <td>0.708333</td>\n",
       "      <td>0.110594</td>\n",
       "      <td>0.226667</td>\n",
       "      <td>0.316327</td>\n",
       "      <td>0.000000</td>\n",
       "      <td>0.0</td>\n",
       "      <td>0.700000</td>\n",
       "    </tr>\n",
       "    <tr>\n",
       "      <th>62426</th>\n",
       "      <td>1.0</td>\n",
       "      <td>0.0</td>\n",
       "      <td>0.0</td>\n",
       "      <td>0.0</td>\n",
       "      <td>0.0</td>\n",
       "      <td>1.0</td>\n",
       "      <td>1.0</td>\n",
       "      <td>0.0</td>\n",
       "      <td>0.0</td>\n",
       "      <td>1.0</td>\n",
       "      <td>...</td>\n",
       "      <td>0.0</td>\n",
       "      <td>0.0</td>\n",
       "      <td>0.0</td>\n",
       "      <td>0.708333</td>\n",
       "      <td>0.096624</td>\n",
       "      <td>0.123333</td>\n",
       "      <td>0.071429</td>\n",
       "      <td>0.000000</td>\n",
       "      <td>0.0</td>\n",
       "      <td>0.666667</td>\n",
       "    </tr>\n",
       "  </tbody>\n",
       "</table>\n",
       "<p>5 rows × 71 columns</p>\n",
       "</div>"
      ],
      "text/plain": [
       "            birth_place_hospital  birth_place_other  mother_race_asian/pi  \\\n",
       "Unnamed: 0                                                                  \n",
       "1659022                      1.0                0.0                   0.0   \n",
       "1482674                      1.0                0.0                   0.0   \n",
       "2671477                      1.0                0.0                   0.0   \n",
       "1196310                      1.0                0.0                   0.0   \n",
       "62426                        1.0                0.0                   0.0   \n",
       "\n",
       "            mother_race_black  mother_race_native_american  mother_race_white  \\\n",
       "Unnamed: 0                                                                      \n",
       "1659022                   0.0                          0.0                1.0   \n",
       "1482674                   0.0                          0.0                1.0   \n",
       "2671477                   1.0                          0.0                0.0   \n",
       "1196310                   0.0                          0.0                1.0   \n",
       "62426                     0.0                          0.0                1.0   \n",
       "\n",
       "            marital_status_married  marital_status_unmarried  \\\n",
       "Unnamed: 0                                                     \n",
       "1659022                        1.0                       0.0   \n",
       "1482674                        0.0                       1.0   \n",
       "2671477                        0.0                       1.0   \n",
       "1196310                        1.0                       0.0   \n",
       "62426                          1.0                       0.0   \n",
       "\n",
       "            mother_education_college_or_higher  mother_education_hs_or_lower  \\\n",
       "Unnamed: 0                                                                     \n",
       "1659022                                    1.0                           0.0   \n",
       "1482674                                    0.0                           1.0   \n",
       "2671477                                    0.0                           1.0   \n",
       "1196310                                    1.0                           0.0   \n",
       "62426                                      0.0                           1.0   \n",
       "\n",
       "            ...  first_tri_daily_cig  second_tri_daily_cig  \\\n",
       "Unnamed: 0  ...                                              \n",
       "1659022     ...                  0.0                   0.0   \n",
       "1482674     ...                  0.0                   0.0   \n",
       "2671477     ...                  0.0                   0.0   \n",
       "1196310     ...                  0.0                   0.0   \n",
       "62426       ...                  0.0                   0.0   \n",
       "\n",
       "            third_tri_daily_cig    height       bmi  delivery_weight  \\\n",
       "Unnamed: 0                                                             \n",
       "1659022                     0.0  0.729167  0.065192         0.120000   \n",
       "1482674                     0.0  0.833333  0.405122         0.786667   \n",
       "2671477                     0.0  0.708333  0.057043         0.136667   \n",
       "1196310                     0.0  0.708333  0.110594         0.226667   \n",
       "62426                       0.0  0.708333  0.096624         0.123333   \n",
       "\n",
       "            weight_gain  previous_cesareans  plural_pregnancy  weeks_gestation  \n",
       "Unnamed: 0                                                                      \n",
       "1659022        0.183673            0.142857               0.0         0.566667  \n",
       "1482674        0.000000            0.000000               0.0         0.500000  \n",
       "2671477        0.316327            0.142857               0.0         0.333333  \n",
       "1196310        0.316327            0.000000               0.0         0.700000  \n",
       "62426          0.071429            0.000000               0.0         0.666667  \n",
       "\n",
       "[5 rows x 71 columns]"
      ]
     },
     "execution_count": 33,
     "metadata": {},
     "output_type": "execute_result"
    }
   ],
   "source": [
    "X_train_processed = pd.concat([X_train_ohe, X_train_scaled], axis=1)\n",
    "X_test_processed = pd.concat([X_test_ohe, X_test_scaled], axis=1)\n",
    "\n",
    "X_train_processed.head()"
   ]
  },
  {
   "cell_type": "code",
   "execution_count": 34,
   "metadata": {},
   "outputs": [
    {
     "name": "stdout",
     "output_type": "stream",
     "text": [
      "[0.00000000e+00 1.59236625e-05 2.97769636e-03 1.04474831e-01\n",
      " 5.90406325e-05 2.24500737e-02 2.13064891e-02 1.97605204e-02\n",
      " 1.61426684e-02 1.46229076e-02 1.69186349e-04 3.53750942e-05\n",
      " 3.51288792e-04 9.22827447e-04 6.55179543e-03 1.44715064e-05\n",
      " 1.73299090e-04 2.66933975e-02 6.41989650e-03 1.17314443e-02\n",
      " 2.97976924e-02 7.93211702e-04 3.42527631e-04 2.24846830e-03\n",
      " 6.90358920e-03 1.02992944e-03 1.32907753e-03 0.00000000e+00\n",
      " 9.62555443e-05 1.91391665e-04 1.10707643e-03 0.00000000e+00\n",
      " 0.00000000e+00 6.04991351e-05 7.34392223e-05 5.19245995e-05\n",
      " 0.00000000e+00 0.00000000e+00 0.00000000e+00 2.66464334e-05\n",
      " 1.48237636e-04 1.69234696e-01 1.51342538e-01 5.11270183e-03\n",
      " 9.49627963e-03 3.98717531e-02 3.42250839e-02 1.56354550e-03\n",
      " 1.38266010e-03 1.70093604e-05 0.00000000e+00 3.69239672e-04\n",
      " 4.09159003e-03 1.26839809e-02 4.37228548e-05 2.04494795e-03\n",
      " 1.25355170e-03 2.45630420e-04 2.23602324e-03 3.31576783e-02\n",
      " 1.31644187e-04 3.36028625e-04 5.17734836e-05 1.06550253e-04\n",
      " 2.95178367e-04 6.85113663e-03 1.09713465e-03 4.27450705e-03\n",
      " 1.81475998e-04 2.39830050e-02 1.95245834e-01]\n"
     ]
    }
   ],
   "source": [
    "# Building the model\n",
    "extra_tree_forest = ExtraTreesClassifier(n_estimators = 100,\n",
    "                                        criterion ='entropy', max_depth=3, random_state=27)\n",
    "  \n",
    "# Training the model\n",
    "extra_tree_forest.fit(X_train_processed, y_train.values.ravel())\n",
    "  \n",
    "# Computing the importance of each feature\n",
    "feature_importance = extra_tree_forest.feature_importances_\n",
    "  \n",
    "# Normalizing the individual importances\n",
    "feature_importance_normalized = np.std([tree.feature_importances_ for tree in \n",
    "                                        extra_tree_forest.estimators_],\n",
    "                                        axis = 0)\n",
    "\n",
    "print(feature_importance)"
   ]
  },
  {
   "cell_type": "code",
   "execution_count": 39,
   "metadata": {},
   "outputs": [
    {
     "data": {
      "text/plain": [
       "array([0.00000000e+00, 1.58438442e-04, 1.92477576e-02, 1.72350265e-01,\n",
       "       4.47014814e-04, 6.86286070e-02, 6.05472550e-02, 7.46969851e-02,\n",
       "       5.23611152e-02, 5.10153634e-02, 1.09354096e-03, 3.51977743e-04,\n",
       "       2.15636972e-03, 6.51899385e-03, 2.52329494e-02, 1.20303389e-04,\n",
       "       1.72430418e-03, 6.39224283e-02, 2.34764607e-02, 3.95245485e-02,\n",
       "       7.62196577e-02, 4.15394070e-03, 2.87364421e-03, 1.25872046e-02,\n",
       "       2.70271417e-02, 6.07543497e-03, 8.18966664e-03, 0.00000000e+00,\n",
       "       7.43411390e-04, 1.13487166e-03, 7.02803879e-03, 0.00000000e+00,\n",
       "       0.00000000e+00, 6.01958794e-04, 7.30711036e-04, 5.16643242e-04,\n",
       "       0.00000000e+00, 0.00000000e+00, 0.00000000e+00, 2.65128665e-04,\n",
       "       1.11592261e-03, 2.86902092e-01, 2.62948965e-01, 2.95801042e-02,\n",
       "       3.51119968e-02, 8.66201142e-02, 7.57163568e-02, 6.36159010e-03,\n",
       "       5.49700239e-03, 1.34594995e-04, 0.00000000e+00, 1.70515711e-03,\n",
       "       2.15501629e-02, 3.50163997e-02, 4.35036913e-04, 1.32398108e-02,\n",
       "       1.05293659e-02, 1.35498798e-03, 1.70965014e-02, 1.24556986e-01,\n",
       "       9.41910683e-04, 2.75698168e-03, 5.15139658e-04, 7.08129125e-04,\n",
       "       2.27110593e-03, 3.26423069e-02, 6.69799567e-03, 2.12462665e-02,\n",
       "       9.68367709e-04, 8.32133005e-02, 3.27549928e-01])"
      ]
     },
     "execution_count": 39,
     "metadata": {},
     "output_type": "execute_result"
    }
   ],
   "source": [
    "feature_importance_normalized"
   ]
  },
  {
   "cell_type": "code",
   "execution_count": 52,
   "metadata": {},
   "outputs": [
    {
     "data": {
      "text/html": [
       "<div>\n",
       "<style scoped>\n",
       "    .dataframe tbody tr th:only-of-type {\n",
       "        vertical-align: middle;\n",
       "    }\n",
       "\n",
       "    .dataframe tbody tr th {\n",
       "        vertical-align: top;\n",
       "    }\n",
       "\n",
       "    .dataframe thead th {\n",
       "        text-align: right;\n",
       "    }\n",
       "</style>\n",
       "<table border=\"1\" class=\"dataframe\">\n",
       "  <thead>\n",
       "    <tr style=\"text-align: right;\">\n",
       "      <th></th>\n",
       "      <th>0</th>\n",
       "    </tr>\n",
       "  </thead>\n",
       "  <tbody>\n",
       "    <tr>\n",
       "      <th>weeks_gestation</th>\n",
       "      <td>0.327550</td>\n",
       "    </tr>\n",
       "    <tr>\n",
       "      <th>steroids_N</th>\n",
       "      <td>0.286902</td>\n",
       "    </tr>\n",
       "    <tr>\n",
       "      <th>steroids_Y</th>\n",
       "      <td>0.262949</td>\n",
       "    </tr>\n",
       "    <tr>\n",
       "      <th>mother_race_black</th>\n",
       "      <td>0.172350</td>\n",
       "    </tr>\n",
       "    <tr>\n",
       "      <th>prenatal_visits</th>\n",
       "      <td>0.124557</td>\n",
       "    </tr>\n",
       "    <tr>\n",
       "      <th>chorioamnionitis_N</th>\n",
       "      <td>0.086620</td>\n",
       "    </tr>\n",
       "    <tr>\n",
       "      <th>plural_pregnancy</th>\n",
       "      <td>0.083213</td>\n",
       "    </tr>\n",
       "    <tr>\n",
       "      <th>gestational_hypertension_Y</th>\n",
       "      <td>0.076220</td>\n",
       "    </tr>\n",
       "    <tr>\n",
       "      <th>chorioamnionitis_Y</th>\n",
       "      <td>0.075716</td>\n",
       "    </tr>\n",
       "    <tr>\n",
       "      <th>marital_status_unmarried</th>\n",
       "      <td>0.074697</td>\n",
       "    </tr>\n",
       "    <tr>\n",
       "      <th>mother_race_white</th>\n",
       "      <td>0.068629</td>\n",
       "    </tr>\n",
       "    <tr>\n",
       "      <th>hypertension_N</th>\n",
       "      <td>0.063922</td>\n",
       "    </tr>\n",
       "    <tr>\n",
       "      <th>marital_status_married</th>\n",
       "      <td>0.060547</td>\n",
       "    </tr>\n",
       "    <tr>\n",
       "      <th>mother_education_college_or_higher</th>\n",
       "      <td>0.052361</td>\n",
       "    </tr>\n",
       "    <tr>\n",
       "      <th>mother_education_hs_or_lower</th>\n",
       "      <td>0.051015</td>\n",
       "    </tr>\n",
       "    <tr>\n",
       "      <th>gestational_hypertension_N</th>\n",
       "      <td>0.039525</td>\n",
       "    </tr>\n",
       "    <tr>\n",
       "      <th>antibiotics_Y</th>\n",
       "      <td>0.035112</td>\n",
       "    </tr>\n",
       "    <tr>\n",
       "      <th>mother_hispanic</th>\n",
       "      <td>0.035016</td>\n",
       "    </tr>\n",
       "    <tr>\n",
       "      <th>bmi</th>\n",
       "      <td>0.032642</td>\n",
       "    </tr>\n",
       "    <tr>\n",
       "      <th>antibiotics_N</th>\n",
       "      <td>0.029580</td>\n",
       "    </tr>\n",
       "  </tbody>\n",
       "</table>\n",
       "</div>"
      ],
      "text/plain": [
       "                                           0\n",
       "weeks_gestation                     0.327550\n",
       "steroids_N                          0.286902\n",
       "steroids_Y                          0.262949\n",
       "mother_race_black                   0.172350\n",
       "prenatal_visits                     0.124557\n",
       "chorioamnionitis_N                  0.086620\n",
       "plural_pregnancy                    0.083213\n",
       "gestational_hypertension_Y          0.076220\n",
       "chorioamnionitis_Y                  0.075716\n",
       "marital_status_unmarried            0.074697\n",
       "mother_race_white                   0.068629\n",
       "hypertension_N                      0.063922\n",
       "marital_status_married              0.060547\n",
       "mother_education_college_or_higher  0.052361\n",
       "mother_education_hs_or_lower        0.051015\n",
       "gestational_hypertension_N          0.039525\n",
       "antibiotics_Y                       0.035112\n",
       "mother_hispanic                     0.035016\n",
       "bmi                                 0.032642\n",
       "antibiotics_N                       0.029580"
      ]
     },
     "execution_count": 52,
     "metadata": {},
     "output_type": "execute_result"
    }
   ],
   "source": [
    "ext = pd.DataFrame(list(feature_importance_normalized), index=list(X_train_processed.columns))\n",
    "# ext\n",
    "ext_sorted = ext.sort_values(by=0, ascending=False)\n",
    "ext_sorted[:20]"
   ]
  },
  {
   "cell_type": "code",
   "execution_count": null,
   "metadata": {},
   "outputs": [],
   "source": []
  },
  {
   "cell_type": "code",
   "execution_count": 3,
   "metadata": {},
   "outputs": [],
   "source": [
    "numeric_features = X_train.select_dtypes(include=['int64', 'float64']).columns\n",
    "numeric_transformer = Pipeline(\n",
    "    steps=[(\"num_imputer\", SimpleImputer(strategy=\"median\")), (\"scaler\", MinMaxScaler())]\n",
    ")\n",
    "\n",
    "categorical_features = X_train.select_dtypes(include=['object']).columns\n",
    "categorical_transformer = Pipeline(\n",
    "    steps=[(\"cat_imputer\", SimpleImputer(strategy=\"most_frequent\")), (\"ohe\", OneHotEncoder(handle_unknown = 'ignore'))]\n",
    ")\n",
    "\n",
    "preprocessor = ColumnTransformer(\n",
    "    transformers=[\n",
    "        (\"num\", numeric_transformer, numeric_features),\n",
    "        (\"cat\", categorical_transformer, categorical_features),\n",
    "    ]\n",
    ")"
   ]
  },
  {
   "cell_type": "code",
   "execution_count": 4,
   "metadata": {},
   "outputs": [],
   "source": [
    "preproc = Pipeline(\n",
    "    steps=[(\"preprocessor\", preprocessor)]\n",
    ")\n",
    "\n",
    "X_train_proc = preproc.fit_transform(X_train)\n",
    "X_test_proc = preproc.transform(X_test)"
   ]
  },
  {
   "cell_type": "code",
   "execution_count": 15,
   "metadata": {},
   "outputs": [
    {
     "data": {
      "text/plain": [
       "(20000, 71)"
      ]
     },
     "execution_count": 15,
     "metadata": {},
     "output_type": "execute_result"
    }
   ],
   "source": [
    "X_train_proc.shape"
   ]
  },
  {
   "cell_type": "code",
   "execution_count": 6,
   "metadata": {},
   "outputs": [
    {
     "data": {
      "text/plain": [
       "Index(['birth_place', 'mother_age', 'mother_native', 'mother_race',\n",
       "       'mother_hispanic', 'marital_status', 'mother_education', 'father_age',\n",
       "       'living_children', 'deceased_children', 'terminations',\n",
       "       'months_prenatal_care', 'prenatal_visits', 'food_assistance',\n",
       "       'prepregnancy_daily_cig', 'first_tri_daily_cig', 'second_tri_daily_cig',\n",
       "       'third_tri_daily_cig', 'height', 'bmi', 'delivery_weight',\n",
       "       'weight_gain', 'diabetes', 'gestational_diabetes', 'hypertension',\n",
       "       'gestational_hypertension', 'eclampsia', 'previous_premature_birth',\n",
       "       'infertility_treatment', 'fertility_drugs', 'assisted_reproduction',\n",
       "       'previous_cesareans', 'gonorrhea', 'syphilis', 'chlamydia',\n",
       "       'hepatitis_b', 'hepatitis_c', 'steroids', 'antibiotics',\n",
       "       'chorioamnionitis', 'plural_pregnancy', 'infant_sex', 'weeks_gestation',\n",
       "       'down_syndrome'],\n",
       "      dtype='object')"
      ]
     },
     "execution_count": 6,
     "metadata": {},
     "output_type": "execute_result"
    }
   ],
   "source": [
    "X_train.columns"
   ]
  },
  {
   "cell_type": "markdown",
   "metadata": {},
   "source": [
    "## Test Feature Selection"
   ]
  },
  {
   "cell_type": "code",
   "execution_count": 10,
   "metadata": {},
   "outputs": [
    {
     "name": "stdout",
     "output_type": "stream",
     "text": [
      "[3.47953973e-04 1.72668643e-03 1.11460932e-02 0.00000000e+00\n",
      " 7.66835476e-03 1.88639251e-04 4.67470448e-05 3.26418334e-03\n",
      " 3.50980631e-02 5.49370376e-05 1.64808513e-04 1.39370464e-05\n",
      " 4.32792578e-05 6.27435523e-05 6.88313626e-03 9.01860452e-04\n",
      " 8.67074865e-03 9.88939763e-05 3.65563405e-02 1.87675912e-01\n",
      " 0.00000000e+00 1.77293666e-05 2.89089453e-03 4.34145653e-02\n",
      " 1.88021102e-04 2.17178929e-02 2.72401462e-02 2.08428236e-02\n",
      " 6.66153484e-03 1.24440458e-02 4.00114974e-04 3.05096688e-05\n",
      " 2.39774876e-04 8.59619703e-03 7.76279439e-03 4.03429828e-05\n",
      " 1.12831916e-05 1.21390932e-02 2.69210939e-02 2.69434173e-02\n",
      " 3.28305258e-02 5.55816824e-04 1.61169742e-04 4.01253369e-03\n",
      " 6.44399638e-03 2.83396153e-04 1.03993542e-03 1.09166266e-05\n",
      " 0.00000000e+00 2.82688751e-04 1.17003036e-04 6.60165519e-05\n",
      " 0.00000000e+00 1.05875946e-04 3.97359238e-05 1.93586149e-04\n",
      " 1.16280187e-04 5.53228179e-05 0.00000000e+00 3.01055409e-05\n",
      " 2.86124448e-05 1.38399696e-01 2.12858507e-01 7.74574342e-03\n",
      " 6.07846087e-03 3.97764146e-02 2.78024505e-02 1.61619661e-03\n",
      " 2.33419710e-04 0.00000000e+00 0.00000000e+00]\n"
     ]
    }
   ],
   "source": [
    "# Building the model\n",
    "extra_tree_forest = ExtraTreesClassifier(n_estimators = 100,\n",
    "                                        criterion ='entropy', max_depth=3, random_state=27)\n",
    "  \n",
    "# Training the model\n",
    "extra_tree_forest.fit(X_train_proc, y_train.values.ravel())\n",
    "  \n",
    "# Computing the importance of each feature\n",
    "feature_importance = extra_tree_forest.feature_importances_\n",
    "  \n",
    "# Normalizing the individual importances\n",
    "feature_importance_normalized = np.std([tree.feature_importances_ for tree in \n",
    "                                        extra_tree_forest.estimators_],\n",
    "                                        axis = 0)\n",
    "\n",
    "print(feature_importance)"
   ]
  },
  {
   "cell_type": "code",
   "execution_count": 13,
   "metadata": {},
   "outputs": [
    {
     "ename": "ValueError",
     "evalue": "Shape of passed values is (71, 1), indices imply (71, 44)",
     "output_type": "error",
     "traceback": [
      "\u001b[1;31m---------------------------------------------------------------------------\u001b[0m",
      "\u001b[1;31mValueError\u001b[0m                                Traceback (most recent call last)",
      "\u001b[1;32m~\\anaconda3\\envs\\learn-env\\lib\\site-packages\\pandas\\core\\internals\\managers.py\u001b[0m in \u001b[0;36mcreate_block_manager_from_blocks\u001b[1;34m(blocks, axes)\u001b[0m\n\u001b[0;32m   1661\u001b[0m                 blocks = [\n\u001b[1;32m-> 1662\u001b[1;33m                     \u001b[0mmake_block\u001b[0m\u001b[1;33m(\u001b[0m\u001b[0mvalues\u001b[0m\u001b[1;33m=\u001b[0m\u001b[0mblocks\u001b[0m\u001b[1;33m[\u001b[0m\u001b[1;36m0\u001b[0m\u001b[1;33m]\u001b[0m\u001b[1;33m,\u001b[0m \u001b[0mplacement\u001b[0m\u001b[1;33m=\u001b[0m\u001b[0mslice\u001b[0m\u001b[1;33m(\u001b[0m\u001b[1;36m0\u001b[0m\u001b[1;33m,\u001b[0m \u001b[0mlen\u001b[0m\u001b[1;33m(\u001b[0m\u001b[0maxes\u001b[0m\u001b[1;33m[\u001b[0m\u001b[1;36m0\u001b[0m\u001b[1;33m]\u001b[0m\u001b[1;33m)\u001b[0m\u001b[1;33m)\u001b[0m\u001b[1;33m)\u001b[0m\u001b[1;33m\u001b[0m\u001b[1;33m\u001b[0m\u001b[0m\n\u001b[0m\u001b[0;32m   1663\u001b[0m                 ]\n",
      "\u001b[1;32m~\\anaconda3\\envs\\learn-env\\lib\\site-packages\\pandas\\core\\internals\\blocks.py\u001b[0m in \u001b[0;36mmake_block\u001b[1;34m(values, placement, klass, ndim, dtype)\u001b[0m\n\u001b[0;32m   2721\u001b[0m \u001b[1;33m\u001b[0m\u001b[0m\n\u001b[1;32m-> 2722\u001b[1;33m     \u001b[1;32mreturn\u001b[0m \u001b[0mklass\u001b[0m\u001b[1;33m(\u001b[0m\u001b[0mvalues\u001b[0m\u001b[1;33m,\u001b[0m \u001b[0mndim\u001b[0m\u001b[1;33m=\u001b[0m\u001b[0mndim\u001b[0m\u001b[1;33m,\u001b[0m \u001b[0mplacement\u001b[0m\u001b[1;33m=\u001b[0m\u001b[0mplacement\u001b[0m\u001b[1;33m)\u001b[0m\u001b[1;33m\u001b[0m\u001b[1;33m\u001b[0m\u001b[0m\n\u001b[0m\u001b[0;32m   2723\u001b[0m \u001b[1;33m\u001b[0m\u001b[0m\n",
      "\u001b[1;32m~\\anaconda3\\envs\\learn-env\\lib\\site-packages\\pandas\\core\\internals\\blocks.py\u001b[0m in \u001b[0;36m__init__\u001b[1;34m(self, values, placement, ndim)\u001b[0m\n\u001b[0;32m    129\u001b[0m         \u001b[1;32mif\u001b[0m \u001b[0mself\u001b[0m\u001b[1;33m.\u001b[0m\u001b[0m_validate_ndim\u001b[0m \u001b[1;32mand\u001b[0m \u001b[0mself\u001b[0m\u001b[1;33m.\u001b[0m\u001b[0mndim\u001b[0m \u001b[1;32mand\u001b[0m \u001b[0mlen\u001b[0m\u001b[1;33m(\u001b[0m\u001b[0mself\u001b[0m\u001b[1;33m.\u001b[0m\u001b[0mmgr_locs\u001b[0m\u001b[1;33m)\u001b[0m \u001b[1;33m!=\u001b[0m \u001b[0mlen\u001b[0m\u001b[1;33m(\u001b[0m\u001b[0mself\u001b[0m\u001b[1;33m.\u001b[0m\u001b[0mvalues\u001b[0m\u001b[1;33m)\u001b[0m\u001b[1;33m:\u001b[0m\u001b[1;33m\u001b[0m\u001b[1;33m\u001b[0m\u001b[0m\n\u001b[1;32m--> 130\u001b[1;33m             raise ValueError(\n\u001b[0m\u001b[0;32m    131\u001b[0m                 \u001b[1;34mf\"Wrong number of items passed {len(self.values)}, \"\u001b[0m\u001b[1;33m\u001b[0m\u001b[1;33m\u001b[0m\u001b[0m\n",
      "\u001b[1;31mValueError\u001b[0m: Wrong number of items passed 1, placement implies 44",
      "\nDuring handling of the above exception, another exception occurred:\n",
      "\u001b[1;31mValueError\u001b[0m                                Traceback (most recent call last)",
      "\u001b[1;32m<ipython-input-13-5018b19dc4a6>\u001b[0m in \u001b[0;36m<module>\u001b[1;34m\u001b[0m\n\u001b[1;32m----> 1\u001b[1;33m \u001b[0mext\u001b[0m\u001b[1;33m=\u001b[0m\u001b[0mpd\u001b[0m\u001b[1;33m.\u001b[0m\u001b[0mDataFrame\u001b[0m\u001b[1;33m(\u001b[0m\u001b[0mextra_tree_forest\u001b[0m\u001b[1;33m.\u001b[0m\u001b[0mfeature_importances_\u001b[0m\u001b[1;33m,\u001b[0m\u001b[0mcolumns\u001b[0m\u001b[1;33m=\u001b[0m\u001b[0mlist\u001b[0m\u001b[1;33m(\u001b[0m\u001b[0mX_train\u001b[0m\u001b[1;33m.\u001b[0m\u001b[0mcolumns\u001b[0m\u001b[1;33m)\u001b[0m\u001b[1;33m)\u001b[0m\u001b[1;33m\u001b[0m\u001b[1;33m\u001b[0m\u001b[0m\n\u001b[0m\u001b[0;32m      2\u001b[0m \u001b[1;31m# ext\u001b[0m\u001b[1;33m\u001b[0m\u001b[1;33m\u001b[0m\u001b[1;33m\u001b[0m\u001b[0m\n\u001b[0;32m      3\u001b[0m \u001b[0mext\u001b[0m\u001b[1;33m.\u001b[0m\u001b[0msort_values\u001b[0m\u001b[1;33m(\u001b[0m\u001b[1;33m[\u001b[0m\u001b[1;34m'extratrees'\u001b[0m\u001b[1;33m]\u001b[0m\u001b[1;33m,\u001b[0m \u001b[0mascending\u001b[0m\u001b[1;33m=\u001b[0m\u001b[1;32mTrue\u001b[0m\u001b[1;33m)\u001b[0m\u001b[1;33m\u001b[0m\u001b[1;33m\u001b[0m\u001b[0m\n",
      "\u001b[1;32m~\\anaconda3\\envs\\learn-env\\lib\\site-packages\\pandas\\core\\frame.py\u001b[0m in \u001b[0;36m__init__\u001b[1;34m(self, data, index, columns, dtype, copy)\u001b[0m\n\u001b[0;32m    495\u001b[0m                 \u001b[0mmgr\u001b[0m \u001b[1;33m=\u001b[0m \u001b[0minit_dict\u001b[0m\u001b[1;33m(\u001b[0m\u001b[1;33m{\u001b[0m\u001b[0mdata\u001b[0m\u001b[1;33m.\u001b[0m\u001b[0mname\u001b[0m\u001b[1;33m:\u001b[0m \u001b[0mdata\u001b[0m\u001b[1;33m}\u001b[0m\u001b[1;33m,\u001b[0m \u001b[0mindex\u001b[0m\u001b[1;33m,\u001b[0m \u001b[0mcolumns\u001b[0m\u001b[1;33m,\u001b[0m \u001b[0mdtype\u001b[0m\u001b[1;33m=\u001b[0m\u001b[0mdtype\u001b[0m\u001b[1;33m)\u001b[0m\u001b[1;33m\u001b[0m\u001b[1;33m\u001b[0m\u001b[0m\n\u001b[0;32m    496\u001b[0m             \u001b[1;32melse\u001b[0m\u001b[1;33m:\u001b[0m\u001b[1;33m\u001b[0m\u001b[1;33m\u001b[0m\u001b[0m\n\u001b[1;32m--> 497\u001b[1;33m                 \u001b[0mmgr\u001b[0m \u001b[1;33m=\u001b[0m \u001b[0minit_ndarray\u001b[0m\u001b[1;33m(\u001b[0m\u001b[0mdata\u001b[0m\u001b[1;33m,\u001b[0m \u001b[0mindex\u001b[0m\u001b[1;33m,\u001b[0m \u001b[0mcolumns\u001b[0m\u001b[1;33m,\u001b[0m \u001b[0mdtype\u001b[0m\u001b[1;33m=\u001b[0m\u001b[0mdtype\u001b[0m\u001b[1;33m,\u001b[0m \u001b[0mcopy\u001b[0m\u001b[1;33m=\u001b[0m\u001b[0mcopy\u001b[0m\u001b[1;33m)\u001b[0m\u001b[1;33m\u001b[0m\u001b[1;33m\u001b[0m\u001b[0m\n\u001b[0m\u001b[0;32m    498\u001b[0m \u001b[1;33m\u001b[0m\u001b[0m\n\u001b[0;32m    499\u001b[0m         \u001b[1;31m# For data is list-like, or Iterable (will consume into list)\u001b[0m\u001b[1;33m\u001b[0m\u001b[1;33m\u001b[0m\u001b[1;33m\u001b[0m\u001b[0m\n",
      "\u001b[1;32m~\\anaconda3\\envs\\learn-env\\lib\\site-packages\\pandas\\core\\internals\\construction.py\u001b[0m in \u001b[0;36minit_ndarray\u001b[1;34m(values, index, columns, dtype, copy)\u001b[0m\n\u001b[0;32m    232\u001b[0m         \u001b[0mblock_values\u001b[0m \u001b[1;33m=\u001b[0m \u001b[1;33m[\u001b[0m\u001b[0mvalues\u001b[0m\u001b[1;33m]\u001b[0m\u001b[1;33m\u001b[0m\u001b[1;33m\u001b[0m\u001b[0m\n\u001b[0;32m    233\u001b[0m \u001b[1;33m\u001b[0m\u001b[0m\n\u001b[1;32m--> 234\u001b[1;33m     \u001b[1;32mreturn\u001b[0m \u001b[0mcreate_block_manager_from_blocks\u001b[0m\u001b[1;33m(\u001b[0m\u001b[0mblock_values\u001b[0m\u001b[1;33m,\u001b[0m \u001b[1;33m[\u001b[0m\u001b[0mcolumns\u001b[0m\u001b[1;33m,\u001b[0m \u001b[0mindex\u001b[0m\u001b[1;33m]\u001b[0m\u001b[1;33m)\u001b[0m\u001b[1;33m\u001b[0m\u001b[1;33m\u001b[0m\u001b[0m\n\u001b[0m\u001b[0;32m    235\u001b[0m \u001b[1;33m\u001b[0m\u001b[0m\n\u001b[0;32m    236\u001b[0m \u001b[1;33m\u001b[0m\u001b[0m\n",
      "\u001b[1;32m~\\anaconda3\\envs\\learn-env\\lib\\site-packages\\pandas\\core\\internals\\managers.py\u001b[0m in \u001b[0;36mcreate_block_manager_from_blocks\u001b[1;34m(blocks, axes)\u001b[0m\n\u001b[0;32m   1670\u001b[0m         \u001b[0mblocks\u001b[0m \u001b[1;33m=\u001b[0m \u001b[1;33m[\u001b[0m\u001b[0mgetattr\u001b[0m\u001b[1;33m(\u001b[0m\u001b[0mb\u001b[0m\u001b[1;33m,\u001b[0m \u001b[1;34m\"values\"\u001b[0m\u001b[1;33m,\u001b[0m \u001b[0mb\u001b[0m\u001b[1;33m)\u001b[0m \u001b[1;32mfor\u001b[0m \u001b[0mb\u001b[0m \u001b[1;32min\u001b[0m \u001b[0mblocks\u001b[0m\u001b[1;33m]\u001b[0m\u001b[1;33m\u001b[0m\u001b[1;33m\u001b[0m\u001b[0m\n\u001b[0;32m   1671\u001b[0m         \u001b[0mtot_items\u001b[0m \u001b[1;33m=\u001b[0m \u001b[0msum\u001b[0m\u001b[1;33m(\u001b[0m\u001b[0mb\u001b[0m\u001b[1;33m.\u001b[0m\u001b[0mshape\u001b[0m\u001b[1;33m[\u001b[0m\u001b[1;36m0\u001b[0m\u001b[1;33m]\u001b[0m \u001b[1;32mfor\u001b[0m \u001b[0mb\u001b[0m \u001b[1;32min\u001b[0m \u001b[0mblocks\u001b[0m\u001b[1;33m)\u001b[0m\u001b[1;33m\u001b[0m\u001b[1;33m\u001b[0m\u001b[0m\n\u001b[1;32m-> 1672\u001b[1;33m         \u001b[1;32mraise\u001b[0m \u001b[0mconstruction_error\u001b[0m\u001b[1;33m(\u001b[0m\u001b[0mtot_items\u001b[0m\u001b[1;33m,\u001b[0m \u001b[0mblocks\u001b[0m\u001b[1;33m[\u001b[0m\u001b[1;36m0\u001b[0m\u001b[1;33m]\u001b[0m\u001b[1;33m.\u001b[0m\u001b[0mshape\u001b[0m\u001b[1;33m[\u001b[0m\u001b[1;36m1\u001b[0m\u001b[1;33m:\u001b[0m\u001b[1;33m]\u001b[0m\u001b[1;33m,\u001b[0m \u001b[0maxes\u001b[0m\u001b[1;33m,\u001b[0m \u001b[0me\u001b[0m\u001b[1;33m)\u001b[0m\u001b[1;33m\u001b[0m\u001b[1;33m\u001b[0m\u001b[0m\n\u001b[0m\u001b[0;32m   1673\u001b[0m \u001b[1;33m\u001b[0m\u001b[0m\n\u001b[0;32m   1674\u001b[0m \u001b[1;33m\u001b[0m\u001b[0m\n",
      "\u001b[1;31mValueError\u001b[0m: Shape of passed values is (71, 1), indices imply (71, 44)"
     ]
    }
   ],
   "source": [
    "ext=pd.DataFrame(extra_tree_forest.feature_importances_,columns=list(X_train.columns))\n",
    "# ext\n",
    "ext.sort_values(['extratrees'], ascending=True)"
   ]
  },
  {
   "cell_type": "code",
   "execution_count": null,
   "metadata": {},
   "outputs": [],
   "source": []
  },
  {
   "cell_type": "code",
   "execution_count": null,
   "metadata": {},
   "outputs": [],
   "source": []
  },
  {
   "cell_type": "markdown",
   "metadata": {},
   "source": [
    "## Logistic Regression"
   ]
  },
  {
   "cell_type": "code",
   "execution_count": 13,
   "metadata": {},
   "outputs": [
    {
     "name": "stdout",
     "output_type": "stream",
     "text": [
      "0.73122555\n",
      "{'logistic__C': 10, 'logistic__max_iter': 1000, 'logistic__random_state': 27, 'logistic__solver': 'sag'}\n"
     ]
    }
   ],
   "source": [
    "logpipe = Pipeline([\n",
    "    ('logistic', LogisticRegression())\n",
    "])\n",
    "\n",
    "# Parameters for the grid search\n",
    "parameters = {\n",
    "    'logistic__C': [1, 10, 100],\n",
    "    'logistic__max_iter': [1000],\n",
    "    'logistic__random_state': [27],\n",
    "    'logistic__solver': ['sag', 'saga']\n",
    "}\n",
    "\n",
    "# Perform grid search prioritizing precision\n",
    "grid_log = GridSearchCV(logpipe, param_grid=parameters, scoring='roc_auc')\n",
    "\n",
    "# Fit grid search and predict\n",
    "grid_log.fit(X_train_proc, y_train.values.ravel())\n",
    "\n",
    "print(grid_log.best_score_)\n",
    "print(grid_log.best_params_)"
   ]
  },
  {
   "cell_type": "code",
   "execution_count": 14,
   "metadata": {},
   "outputs": [
    {
     "data": {
      "image/png": "[encoded data removed]",
      "text/plain": [
       "<Figure size 432x288 with 2 Axes>"
      ]
     },
     "metadata": {
      "needs_background": "light"
     },
     "output_type": "display_data"
    }
   ],
   "source": [
    "# Confusion matrix for the logistic model\n",
    "fig, ax = plt.subplots()\n",
    "\n",
    "fig.suptitle(\"Logistic Model\")\n",
    "\n",
    "plot_confusion_matrix(grid_log, X_test_proc, y_test, ax=ax, values_format='');"
   ]
  },
  {
   "cell_type": "markdown",
   "metadata": {},
   "source": [
    "## KNNeighbors Classifier"
   ]
  },
  {
   "cell_type": "code",
   "execution_count": 15,
   "metadata": {},
   "outputs": [
    {
     "name": "stdout",
     "output_type": "stream",
     "text": [
      "0.6462462750000001\n",
      "{'knn__leaf_size': 10, 'knn__n_neighbors': 5}\n"
     ]
    }
   ],
   "source": [
    "knnpipe = Pipeline([\n",
    "    ('knn', KNeighborsClassifier())\n",
    "])\n",
    "\n",
    "# Parameters for the grid search\n",
    "parameters = {\n",
    "    'knn__n_neighbors': [5], # Tried: 2-10\n",
    "    'knn__leaf_size': [10, 15, 20, 25] # Tried: 30, 50, 100\n",
    "}\n",
    "\n",
    "# Perform grid search prioritizing precision\n",
    "grid_knn = GridSearchCV(knnpipe, param_grid=parameters, scoring='roc_auc')\n",
    "\n",
    "# Fit grid search and predict\n",
    "grid_knn.fit(X_train_proc, y_train.values.ravel())\n",
    "\n",
    "print(grid_knn.best_score_)\n",
    "print(grid_knn.best_params_)"
   ]
  },
  {
   "cell_type": "code",
   "execution_count": 16,
   "metadata": {},
   "outputs": [
    {
     "data": {
      "image/png": "[encoded data removed]",
      "text/plain": [
       "<Figure size 432x288 with 2 Axes>"
      ]
     },
     "metadata": {
      "needs_background": "light"
     },
     "output_type": "display_data"
    }
   ],
   "source": [
    "# Confusion matrix for the KNN model\n",
    "fig, ax = plt.subplots()\n",
    "\n",
    "fig.suptitle(\"KNN Model\")\n",
    "\n",
    "plot_confusion_matrix(grid_knn, X_test_proc, y_test, ax=ax, values_format='');"
   ]
  },
  {
   "cell_type": "markdown",
   "metadata": {},
   "source": [
    "## Decision Tree Classifier"
   ]
  },
  {
   "cell_type": "code",
   "execution_count": 17,
   "metadata": {},
   "outputs": [
    {
     "name": "stdout",
     "output_type": "stream",
     "text": [
      "0.7332904499999999\n",
      "{'tree__criterion': 'entropy', 'tree__max_depth': 7, 'tree__min_samples_leaf': 210, 'tree__min_samples_split': 2, 'tree__random_state': 27}\n"
     ]
    }
   ],
   "source": [
    "treepipe = Pipeline([\n",
    "    ('tree', DecisionTreeClassifier())\n",
    "])\n",
    "\n",
    "# Parameters for the grid search\n",
    "parameters = {\n",
    "    'tree__criterion': ['entropy'], # Tried: gini, log_loss\n",
    "    'tree__max_depth': [7], # Tried: 2-20\n",
    "    'tree__min_samples_split': [2], # Tried: 2-50\n",
    "    'tree__min_samples_leaf': [210], # Tried: 2-300\n",
    "    'tree__random_state': [27]\n",
    "}\n",
    "\n",
    "# Perform grid search prioritizing precision\n",
    "grid_tree = GridSearchCV(treepipe, param_grid=parameters, scoring='roc_auc')\n",
    "\n",
    "# Fit grid search and predict\n",
    "grid_tree.fit(X_train_proc, y_train.values.ravel())\n",
    "\n",
    "print(grid_tree.best_score_)\n",
    "print(grid_tree.best_params_)"
   ]
  },
  {
   "cell_type": "code",
   "execution_count": 18,
   "metadata": {},
   "outputs": [
    {
     "data": {
      "image/png": "[encoded data removed]",
      "text/plain": [
       "<Figure size 432x288 with 2 Axes>"
      ]
     },
     "metadata": {
      "needs_background": "light"
     },
     "output_type": "display_data"
    }
   ],
   "source": [
    "# Confusion matrix for the Tree model\n",
    "fig, ax = plt.subplots()\n",
    "\n",
    "fig.suptitle(\"Decision Tree Model\")\n",
    "\n",
    "plot_confusion_matrix(grid_tree, X_test_proc, y_test, ax=ax, values_format='');"
   ]
  },
  {
   "cell_type": "markdown",
   "metadata": {},
   "source": [
    "## Random Forest"
   ]
  },
  {
   "cell_type": "code",
   "execution_count": 19,
   "metadata": {},
   "outputs": [
    {
     "name": "stdout",
     "output_type": "stream",
     "text": [
      "0.7506622000000001\n",
      "{'forest__criterion': 'gini', 'forest__max_depth': 15, 'forest__min_samples_split': 6, 'forest__n_estimators': 245, 'forest__random_state': 27}\n"
     ]
    }
   ],
   "source": [
    "forestpipe = Pipeline([\n",
    "    ('forest', RandomForestClassifier())\n",
    "])\n",
    "\n",
    "# Parameters for the grid search\n",
    "parameters = {\n",
    "    'forest__n_estimators': [245], # Tried: 2-300\n",
    "    'forest__criterion': ['gini'], # Tried: entropy\n",
    "    'forest__min_samples_split': [6], # Tried: 2-20\n",
    "    'forest__max_depth': [15], # Tried: 2-50\n",
    "    'forest__random_state': [27]\n",
    "}\n",
    "\n",
    "# Perform grid search prioritizing precision\n",
    "grid_forest = GridSearchCV(forestpipe, param_grid=parameters, scoring='roc_auc')\n",
    "\n",
    "# Fit grid search and predict\n",
    "grid_forest.fit(X_train_proc, y_train.values.ravel())\n",
    "\n",
    "print(grid_forest.best_score_)\n",
    "print(grid_forest.best_params_)"
   ]
  },
  {
   "cell_type": "markdown",
   "metadata": {},
   "source": [
    "## XGBoost"
   ]
  },
  {
   "cell_type": "code",
   "execution_count": 20,
   "metadata": {},
   "outputs": [
    {
     "name": "stdout",
     "output_type": "stream",
     "text": [
      "0.7535994500000001\n",
      "{'boost__gamma': 1, 'boost__max_depth': 2, 'boost__min_child_weight': 20, 'boost__n_estimators': 65, 'boost__random_state': 27}\n"
     ]
    }
   ],
   "source": [
    "boostpipe = Pipeline([\n",
    "    ('boost', xgboost.XGBClassifier())\n",
    "])\n",
    "\n",
    "# Parameters for grid search\n",
    "parameters = {\n",
    "    'boost__max_depth': [2], # Tried: 2-5\n",
    "    'boost__min_child_weight': [20], # Tried: 1-50\n",
    "    'boost__gamma': [1], # Tried: 0.5-5\n",
    "    'boost__n_estimators': [65], # Tried: 5-75\n",
    "    'boost__random_state': [27]\n",
    "}\n",
    "\n",
    "# Grid search with boost model\n",
    "grid_boost = GridSearchCV(boostpipe, param_grid=parameters, scoring='roc_auc')\n",
    "\n",
    "# Fit model and generate predictions\n",
    "grid_boost.fit(X_train_proc, y_train.values.ravel())\n",
    "\n",
    "print(grid_boost.best_score_)\n",
    "print(grid_boost.best_params_)"
   ]
  },
  {
   "cell_type": "code",
   "execution_count": 21,
   "metadata": {},
   "outputs": [
    {
     "name": "stdout",
     "output_type": "stream",
     "text": [
      "0.5789\n",
      "0.5666666666666667\n"
     ]
    }
   ],
   "source": [
    "y_train_boost = grid_boost.predict(X_train_proc)\n",
    "print(recall_score(y_train, y_train_boost))\n",
    "\n",
    "y_test_boost = grid_boost.predict(X_test_proc)\n",
    "print(recall_score(y_test, y_test_boost))"
   ]
  },
  {
   "cell_type": "code",
   "execution_count": null,
   "metadata": {},
   "outputs": [],
   "source": []
  },
  {
   "cell_type": "code",
   "execution_count": null,
   "metadata": {},
   "outputs": [],
   "source": []
  },
  {
   "cell_type": "code",
   "execution_count": 22,
   "metadata": {},
   "outputs": [
    {
     "name": "stdout",
     "output_type": "stream",
     "text": [
      "Model score: 0.979\n"
     ]
    }
   ],
   "source": [
    "dummy_clf = Pipeline(\n",
    "    steps=[(\"preprocessor\", preprocessor), (\"classifier\", DummyClassifier(strategy='most_frequent'))]\n",
    ")\n",
    "\n",
    "dummy_clf.fit(X_train, y_train)\n",
    "print(\"Model score: %.3f\" % dummy_clf.score(X_test, y_test))"
   ]
  },
  {
   "cell_type": "code",
   "execution_count": 23,
   "metadata": {},
   "outputs": [],
   "source": [
    "y_pred_dummy = dummy_clf.predict(X_test)"
   ]
  },
  {
   "cell_type": "code",
   "execution_count": 24,
   "metadata": {},
   "outputs": [
    {
     "name": "stdout",
     "output_type": "stream",
     "text": [
      "0.0\n"
     ]
    }
   ],
   "source": [
    "print(recall_score(y_test, y_pred_dummy))"
   ]
  },
  {
   "cell_type": "code",
   "execution_count": 25,
   "metadata": {},
   "outputs": [
    {
     "data": {
      "image/png": "[encoded data removed]",
      "text/plain": [
       "<Figure size 432x288 with 2 Axes>"
      ]
     },
     "metadata": {
      "needs_background": "light"
     },
     "output_type": "display_data"
    }
   ],
   "source": [
    "# Confusion matrix for the dummy model\n",
    "fig, ax = plt.subplots()\n",
    "\n",
    "fig.suptitle(\"Dummy Model\")\n",
    "\n",
    "plot_confusion_matrix(dummy_clf, X_test, y_test, ax=ax, values_format='');\n"
   ]
  },
  {
   "cell_type": "code",
   "execution_count": 26,
   "metadata": {},
   "outputs": [
    {
     "name": "stderr",
     "output_type": "stream",
     "text": [
      "C:\\Users\\Patrick\\anaconda3\\envs\\learn-env\\lib\\site-packages\\sklearn\\utils\\validation.py:72: DataConversionWarning: A column-vector y was passed when a 1d array was expected. Please change the shape of y to (n_samples, ), for example using ravel().\n",
      "  return f(**kwargs)\n"
     ]
    },
    {
     "name": "stdout",
     "output_type": "stream",
     "text": [
      "Model score: 0.776\n"
     ]
    }
   ],
   "source": [
    "log_clf = Pipeline(\n",
    "    steps=[(\"preprocessor\", preprocessor), (\"classifier\", LogisticRegression(random_state=27, max_iter=1000))]\n",
    ")\n",
    "\n",
    "log_clf.fit(X_train, y_train)\n",
    "print(\"Model score: %.3f\" % log_clf.score(X_test, y_test))"
   ]
  },
  {
   "cell_type": "markdown",
   "metadata": {},
   "source": [
    "Business Metric: Recall"
   ]
  },
  {
   "cell_type": "code",
   "execution_count": 27,
   "metadata": {},
   "outputs": [
    {
     "name": "stdout",
     "output_type": "stream",
     "text": [
      "0.5761904761904761\n"
     ]
    }
   ],
   "source": [
    "y_pred_log = log_clf.predict(X_test)\n",
    "print(recall_score(y_test, y_pred_log))"
   ]
  },
  {
   "cell_type": "code",
   "execution_count": 28,
   "metadata": {},
   "outputs": [
    {
     "data": {
      "image/png": "[encoded data removed]",
      "text/plain": [
       "<Figure size 432x288 with 2 Axes>"
      ]
     },
     "metadata": {
      "needs_background": "light"
     },
     "output_type": "display_data"
    }
   ],
   "source": [
    "# Confusion matrix for the logistic model\n",
    "fig, ax = plt.subplots()\n",
    "\n",
    "fig.suptitle(\"Log Model\")\n",
    "\n",
    "plot_confusion_matrix(log_clf, X_test, y_test, ax=ax, values_format='');\n"
   ]
  },
  {
   "cell_type": "code",
   "execution_count": null,
   "metadata": {},
   "outputs": [],
   "source": []
  }
 ],
 "metadata": {
  "kernelspec": {
   "display_name": "Python (learn-env)",
   "language": "python",
   "name": "learn-env"
  },
  "language_info": {
   "codemirror_mode": {
    "name": "ipython",
    "version": 3
   },
   "file_extension": ".py",
   "mimetype": "text/x-python",
   "name": "python",
   "nbconvert_exporter": "python",
   "pygments_lexer": "ipython3",
   "version": "3.8.5"
  }
 },
 "nbformat": 4,
 "nbformat_minor": 4
}
